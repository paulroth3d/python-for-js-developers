{
 "cells": [
  {
   "cell_type": "markdown",
   "id": "9d8e465b-1a05-4f40-bb22-4272b28813aa",
   "metadata": {},
   "source": [
    "# Introduction to Python for JavaScript"
   ]
  },
  {
   "cell_type": "markdown",
   "id": "11994441-8c63-4ba9-8fc9-4f6bfadda808",
   "metadata": {},
   "source": [
    "This is meant for people that understand JavaScript and programming, so they can get into Python.\n",
    "\n",
    "However, it is also a bit of a love letter to Notebooks - a way of writing interspersed with running code.\n",
    "\n",
    "I personally believe [there is a power in working with examples](https://bost.ocks.org/mike/example/) and in making learning an active experience instead of a passive one.\n",
    "\n",
    "Examples are lightweight / informal, but they also can convey simple ideas that you yourself can play / change and make them your own.\n",
    "\n",
    "Please take a look at the [Try it Out section](#Try-it-Out) on how you can try running these examples yourself."
   ]
  },
  {
   "cell_type": "markdown",
   "id": "a061f2bd-244c-41ae-98d8-3fb973ca2589",
   "metadata": {},
   "source": [
    "## Internal Notes - TO REMOVE\n",
    "\n",
    "This is for people that are already familiar with Programming.\n",
    "However, I think some terms in JavaScript will need to be shown to make it clear what a topic is or why someone might care.\n",
    "\n",
    "* Why someone should care about this section should be clear\n",
    "    * Highlight JavaScript as needed only to explain why we care\n",
    "* Include TLDR at the top of each section\n",
    "* Link to all major topics in Table of Contents\n",
    "\n",
    "We'll be be following along from the brilliant material from [Valentino Gagliardi - Python for JavaScript Developers](https://www.valentinog.com/blog/python-for-js/)\n",
    "\n",
    "while also adding additional materials from [The Python Documentation - like await](https://docs.python.org/3/library/asyncio-task.html)\n",
    "\n",
    "Tables are generated from [tablesgenerator.com/markdown_tables](https://www.tablesgenerator.com/markdown_tables)\n",
    "\n",
    "!!!TODO: review [the toc2 plugin from nbextensions](https://jupyter-contrib-nbextensions.readthedocs.io/en/latest/nbextensions/toc2/README.html)"
   ]
  },
  {
   "cell_type": "markdown",
   "id": "654343ab-c027-43c9-88aa-4633ded0b325",
   "metadata": {},
   "source": [
    "### Libraries Imported"
   ]
  },
  {
   "cell_type": "code",
   "execution_count": 1,
   "id": "62202760-5b5b-4f36-94ee-252ad5f6bf28",
   "metadata": {
    "jupyter": {
     "source_hidden": true
    },
    "tags": []
   },
   "outputs": [],
   "source": [
    "## NOTE: Collapse by Default\n",
    "# (Jupyter works top down, but we don't want any unecessary confusion up front)\n",
    "\n",
    "# lets us load local files\n",
    "import os\n",
    "import sys\n",
    "# specify the path of the FOLDER to add to the path\n",
    "module_path = os.path.abspath(os.path.join('./lib'))\n",
    "if module_path not in sys.path:\n",
    "    sys.path.append(module_path)\n",
    "\n",
    "# import local modules\n",
    "from util import *\n",
    "\n",
    "# import common modules\n",
    "import decimal\n",
    "import datetime\n",
    "import re\n",
    "import json\n",
    "from string import Template\n",
    "import numpy as np\n",
    "from collections import deque"
   ]
  },
  {
   "cell_type": "markdown",
   "id": "97e8989a-81c6-4fb4-bdfe-45b1a78842dc",
   "metadata": {},
   "source": [
    "# Table of Contents\n",
    "\n",
    "* [Built in Types](#Built-in-Types)\n",
    "    * [Boolean](#Boolean)\n",
    "    * [Numeric Types](#Numeric-Types)\n",
    "* [Logic Operators](#Logic-Operators)\n",
    "* [Arithmatic Operators](#Arithmatic-Operators)"
   ]
  },
  {
   "cell_type": "markdown",
   "id": "5cd8b700-c0b0-48ad-9384-085650a573e1",
   "metadata": {},
   "source": [
    "----\n",
    "\n",
    "# Try it Out\n",
    "\n",
    "I would like to enable active learning, and would recommend you try these yourself.\n",
    "\n",
    "This document is a Jupyter Notebook, with executable code is interspersed with text written as [markdown format](https://www.markdownguide.org/basic-syntax/).\n",
    "\n",
    "This project is hosted on [mybinder](https://mybinder.org/) so you can change examples to make this more interactive.\n",
    "\n",
    "[Come Read the Document Here](https://mybinder.org/v2/gh/paulroth3d/python-for-js-developers/HEAD?filepath=p4js.ipynb)\n",
    "\n",
    "[![Binder](https://mybinder.org/badge_logo.svg)](https://mybinder.org/v2/gh/paulroth3d/python-for-js-developers/HEAD?filepath=p4js.ipynb)\n",
    "\n",
    "I've found this the best way to experiment and take notes while learning Python.\n",
    "\n",
    "Alternatively, there is also the [online Python Shell](https://www.python.org/shell/).\n",
    "\n",
    "(But please note, the online demos don't last and [Running Jupyter Locally](#Running-Jupyter-Locally) is preferred to keep your work)"
   ]
  },
  {
   "cell_type": "markdown",
   "id": "7228f33c-d3b1-40d4-a29d-d89a63eaab53",
   "metadata": {},
   "source": [
    "## Jupyter Demo\n",
    "\n",
    "Within this Jupyter Notebook, you'll notice that there are a set of cells - some with text and some with code"
   ]
  },
  {
   "cell_type": "markdown",
   "id": "5d2a30e4-ebad-485d-a7c3-87fd8c1ee23d",
   "metadata": {},
   "source": [
    "This is a Text / Markdown Cell"
   ]
  },
  {
   "cell_type": "code",
   "execution_count": 2,
   "id": "4e44bea3-2424-4898-a004-dab439414f53",
   "metadata": {},
   "outputs": [
    {
     "name": "stdout",
     "output_type": "stream",
     "text": [
      "Hello from Python\n"
     ]
    }
   ],
   "source": [
    "# This is Python Code running in a Code Cell\n",
    "print('Hello from Python')"
   ]
  },
  {
   "cell_type": "markdown",
   "id": "686d8e4b-06bc-4671-b1c8-b5a31ebe3808",
   "metadata": {},
   "source": [
    "If you double-click inside the text of a Cell / it has a cursor inside - **the cell is in Edit Mode**\n",
    "\n",
    "![Edit Mode](img/edit_mode.png)\n",
    "\n",
    "If you click to the left of the text area / the bar to the left is blue but no cursor in the text area - **the cell is in Command Mode**\n",
    "\n",
    "![Edit Mode](img/command_mode.png)\n",
    "\n",
    "The cell type selector allows you to choose whether the cell will be rendered as Markdown or as Code.\n",
    "\n",
    "![Screenshot markdown selector](img/jupyterMarkdownSelector.png)\n",
    "\n",
    "## Executing / Rendering Cells\n",
    "\n",
    "Code you enter can be executed all at once (through the Fast-Forward Button ⏩ or through `Run -> Run All Cells`)\n",
    "\n",
    "Code can also be executed one cell at a time (through the Play Button ▶️ or through `Run -> Run Selected Cells`)\n",
    "\n",
    "![Screenshot of Excecute Single](img/jupyterExecuteSingle.png)\n",
    "\n",
    "## Try Writing Markdown\n",
    "\n",
    "Within a cell, enter the following text:\n",
    "\n",
    "Then set the dropdown from `code` to `markdown` (if it isn't already)\n",
    "\n",
    "Then execute the cell by pressing the single Play button in the Toolbar."
   ]
  },
  {
   "cell_type": "raw",
   "id": "a7135636-2816-433f-8e83-647807cfab42",
   "metadata": {},
   "source": [
    "------\n",
    "\n",
    "This Cell is Currently set to RAW\n",
    "\n",
    "* Select me\n",
    "* then change the dropdown to 'Markdown' in the top of the window\n",
    "\n",
    "------"
   ]
  },
  {
   "cell_type": "markdown",
   "id": "10e8e1a7-d654-4800-9dac-c10f7bf49748",
   "metadata": {},
   "source": [
    "## Try Writing Code\n",
    "\n",
    "Press the '+' button to create a new cell.\n",
    "\n",
    "Then click on the text area (the rectangle) of the cell.\n",
    "\n",
    "Enter the following:\n",
    "\n",
    "Then set the dropdown to `code` instead of `markdown` (if it isn't already)\n",
    "\n",
    "Then execute the cell by pressing the single Play button in the toolbar."
   ]
  },
  {
   "cell_type": "raw",
   "id": "ef71ef47-4666-4c24-875e-0ee95f84a8dd",
   "metadata": {},
   "source": [
    "### This cell is set to RAW\n",
    "# \n",
    "# * Select me\n",
    "# * then change the dropdown to Code\n",
    "# * then press the Play button (to execute the currently selected cell)\n",
    "\n",
    "print('Here_is_a_message_in_python')"
   ]
  },
  {
   "cell_type": "markdown",
   "id": "83e1767b-92c6-4d18-b765-2621702d303e",
   "metadata": {},
   "source": [
    "## Keyboard Shortcuts\n",
    "\n",
    "Certain keyboard shortcuts work regardless if you are in edit or select mode:\n",
    "\n",
    "* Ctrl-Enter - run the current selected cell\n",
    "* Alt-Enter - run the current cell and insert below\n",
    "\n",
    "Other Commands ONLY occur if in Command Mode (there is no cursor in the text area)\n",
    "\n",
    "* a - insert above\n",
    "* b - insert below\n",
    "* dd - delete cell\n",
    "* etc..."
   ]
  },
  {
   "cell_type": "markdown",
   "id": "3d341135-c986-438e-af1a-47a7d214f1a3",
   "metadata": {},
   "source": [
    "## Official Jupyter Documentation\n",
    "\n",
    "[See here on more of the basics on Jupyter Notebooks](https://nbviewer.jupyter.org/github/jupyter/notebook/blob/master/docs/source/examples/Notebook/Notebook%20Basics.ipynb)\n",
    "The official Jupyter Documentation can be found [here](https://jupyter.org/documentation)"
   ]
  },
  {
   "cell_type": "markdown",
   "id": "f1caf058-070b-4f88-8ea1-d720d87826f9",
   "metadata": {},
   "source": [
    "## Jupyter Lab Demo Online\n",
    "\n",
    "Without installing anything, you can also try a [Jupyter Lab Demo with Python here](https://mybinder.org/v2/gh/jupyterlab/jupyterlab-demo/master?urlpath=lab/tree/demo)\n",
    "\n",
    "(Other languages are also available - [https://jupyter.org/try](https://jupyter.org/try))\n",
    "\n",
    "* Select `Try JupyterLab` > `Python 3`"
   ]
  },
  {
   "cell_type": "markdown",
   "id": "de44dc2b-7b57-474e-9446-89982cb690e7",
   "metadata": {},
   "source": [
    "# Running Jupyter Locally\n",
    "\n",
    "The [Nteract](#Nteract) desktop app is the simplest experience to just get Jupyter up and running.\n",
    "\n",
    "As it wraps around Jupyter to make it easier to work with, I did find it a bit constricting if I wanted to add plugins or have other apps (like Visual Studio Code) work with Jupyter.\n",
    "\n",
    "[Anaconda](#Anaconda) is is a more complete solution - providing python version management and environments, a Jupyter Lab server that other apps can connect with and other Data Science goodies.\n",
    "\n",
    "**Note that Jupyter Notebooks support [a number of languages](https://github.com/jupyter/jupyter/wiki/Jupyter-kernels), including [JavaScript](https://github.com/n-riesco/ijavascript)**"
   ]
  },
  {
   "cell_type": "markdown",
   "id": "d380c778-db6d-4a82-9536-8652ae1bf7de",
   "metadata": {},
   "source": [
    "### NTeract\n",
    "\n",
    "Nteract is meant to be a very simple way to just get Jupyter up and working and it does that very well.\n",
    "\n",
    "![Screenshot of NTeract](img/nteract.png)\n",
    "\n",
    "Just install, open the app and start a new document.\n",
    "\n",
    "(Note that on opening NTeract for the first time, you may seem stuck on a loading screen.  **Select File -> New Document to create a new Notebook**)\n",
    "\n",
    "One personal challenge I have with NTeract though - \n",
    "\n",
    "Once I wanted to extend jupyter, I had a number of challenges to do so within NTeract as it encapsulates Jupyter."
   ]
  },
  {
   "cell_type": "markdown",
   "id": "d6ba0fb3-eb65-4e7b-adfb-4e9d5d82c177",
   "metadata": {},
   "source": [
    "### Anaconda\n",
    "\n",
    "\n",
    "It will set-up python environment management tools, the Jupyter Lab environment, and a number of other Data Science goodies.\n",
    "\n",
    "![Screenshot of Anaconda](img/anaconda.png)\n",
    "\n",
    "Once you have Anaconda-Navigator setup, click on the Jupyter Lab icon and it will open in a browser.\n",
    "\n",
    "Select the language you wish to run for your notebook (each language has a Kernel program that allows Jupyter to run the code) to create a new notebook.\n",
    "\n",
    "![Screenshot of JupyterLab](img/jupyterlab.png)"
   ]
  },
  {
   "cell_type": "markdown",
   "id": "780dc95b-5c98-40b9-acbb-793d9553baed",
   "metadata": {},
   "source": [
    "### Visual Studio Code\n",
    "\n",
    "[Python works well within Visual Studio Code](https://code.visualstudio.com/docs/python/linting) and can also run [Jupyter Notebooks (*.ipynb files) natively](https://code.visualstudio.com/docs/datascience/jupyter-notebooks).\n",
    "\n",
    "![Screenshot of Jupyter in Visual Studio Code](img/jupyterInVSCode.png)\n",
    "\n",
    "It also supports linting, testing, code hints among other features. [See here for more](https://code.visualstudio.com/docs/python/linting)"
   ]
  },
  {
   "cell_type": "markdown",
   "id": "729fd5e7-7fb8-4687-856f-5a2441dd8d0d",
   "metadata": {},
   "source": [
    "### Online Python Shell\n",
    "\n",
    "If you want to just try something quickly, the [online Python Shell](https://www.python.org/shell/) works really well.\n",
    "\n",
    "Although, similar to the terminal, it can be a bit hard to read.\n",
    "\n",
    "![Screenshot of Online Python Shell](img/pythonOnlineShell.png)"
   ]
  },
  {
   "cell_type": "markdown",
   "id": "7d66e527-456a-43a2-93b1-6292061bbbb0",
   "metadata": {},
   "source": [
    "-------\n",
    "\n",
    "# Observable HQ\n",
    "\n",
    "There is a **Brilliant** project Notebook like solution that uses [JavaScript like syntax](https://observablehq.com/@observablehq/observables-not-javascript) - instead of Python - called [ObservableHQ](https://observablehq.com/explore)\n",
    "\n",
    "[Why Observable](https://observablehq.com/@observablehq/why-observable/2?collection=@observablehq/overview)\n",
    "\n",
    "![Screenshot of Observable](img/observable2.png)\n",
    "\n",
    "**If you already know JavaScript, this is a great place to start.**\n",
    "\n",
    "It was started by Mike Bostock - the creator of D3 - to really show [the power of examples](https://bost.ocks.org/mike/example/)\n",
    "\n",
    "There are some differences with Jupyter, and many of them for the better:\n",
    "\n",
    "* order of execution is not top to bottom\n",
    "* dependent cells automatically execute again\n",
    "* it is [Much More Interactive](https://observablehq.com/@observablehq/interactivity-in-observable)\n",
    "* nothing to download or embed - as it runs in JavaScript in the browser\n",
    "\n",
    "For more see [Observable for Jupyter Users](https://observablehq.com/@observablehq/observable-for-jupyter-users)\n",
    "\n",
    "**I cannot say enough good things about it.**"
   ]
  },
  {
   "cell_type": "markdown",
   "id": "0a92f76a-712c-4af8-8705-97b50f02c028",
   "metadata": {},
   "source": [
    "----\n",
    "\n",
    "# First Things First\n",
    "\n",
    "Python documentation can be found [on the python.org site](https://docs.python.org/3/)\n",
    "\n",
    "Note that there are multiple versions of python, such as Python 2 (sometimes called python 2.x to cover all minor releases), with the most recent one as Python 3.\n",
    "\n",
    "We'll be talking to Python 3.x and comparing to modern JavaScript (including ES6 through ES2021)"
   ]
  },
  {
   "cell_type": "markdown",
   "id": "c4fc40bf-c773-4c0a-a5cd-bc24b104134d",
   "metadata": {},
   "source": [
    "## High Level Differences\n",
    "\n",
    "Please note:\n",
    "\n",
    "* Python uses Spaces to identify code blocks / scopes - not curly braces\n",
    "* Python is case-sensitive\n",
    "* Statements do not end with a semi-colon\n",
    "* Python is strongly typed - there is no implicit conversion between types."
   ]
  },
  {
   "cell_type": "markdown",
   "id": "2981cffb-b609-4e7f-9c4b-394f7fe39933",
   "metadata": {},
   "source": [
    "## Simple Example\n",
    "\n",
    "The following is a very simple example:\n",
    "    \n",
    "* define a function accepting two arguments\n",
    "* declare a local variable\n",
    "* return a string message"
   ]
  },
  {
   "cell_type": "code",
   "execution_count": 3,
   "id": "ef81fc65-aa04-45a2-bcd8-94b73f9959be",
   "metadata": {},
   "outputs": [
    {
     "data": {
      "text/plain": [
       "'John shouted into a cave: Yodelayheehoo! Yodelayheehoo! Yodelayheehoo! Yodelayheehoo! '"
      ]
     },
     "execution_count": 3,
     "metadata": {},
     "output_type": "execute_result"
    }
   ],
   "source": [
    "# This is a code cell with Python running inside of it\n",
    "def shoutIntoCave(name: str, message: str, echoCount: int):\n",
    "    \"\"\"\n",
    "    First string undeclared in the function acts as documentation\n",
    "    :param: name (str) - whom is doing the shouting\n",
    "    :param: message (str) - the message they were shouting\n",
    "    :param: echoCount (int) - the number of times they heard an echo\n",
    "    \"\"\"\n",
    "    \n",
    "    # see f-strings / templates below for alternatives\n",
    "    resultMessage = name + \" shouted into a cave: \" + (message + \"! \") * echoCount\n",
    "    \n",
    "    # this line can also be omitted, but best practice to include a return for clarity\n",
    "    return resultMessage\n",
    "\n",
    "# this is not indented so the function is done\n",
    "shoutIntoCave(\"John\", \"Yodelayheehoo\", 4)"
   ]
  },
  {
   "cell_type": "markdown",
   "id": "ca2f21ea-cc16-48be-8373-3a3c1e4db6dd",
   "metadata": {},
   "source": [
    "## Getting help\n",
    "\n",
    "You can get descriptions on most functions through the global `help()` function"
   ]
  },
  {
   "cell_type": "code",
   "execution_count": 4,
   "id": "28226003-d596-4bb7-804e-c2a7ef35b447",
   "metadata": {},
   "outputs": [
    {
     "name": "stdout",
     "output_type": "stream",
     "text": [
      "Help on function shoutIntoCave in module __main__:\n",
      "\n",
      "shoutIntoCave(name: str, message: str, echoCount: int)\n",
      "    First string undeclared in the function acts as documentation\n",
      "    :param: name (str) - whom is doing the shouting\n",
      "    :param: message (str) - the message they were shouting\n",
      "    :param: echoCount (int) - the number of times they heard an echo\n",
      "\n"
     ]
    }
   ],
   "source": [
    "help(shoutIntoCave)"
   ]
  },
  {
   "cell_type": "markdown",
   "id": "f596ab8b-9b2b-439b-a2bb-3f184de1148f",
   "metadata": {},
   "source": [
    "For more on defining help for your own functions see the [JavaDoc / Help](#JavaDoc-/-Help) section below"
   ]
  },
  {
   "cell_type": "markdown",
   "id": "630dab9a-d1a5-4ced-991a-8e9f9ff38d8b",
   "metadata": {},
   "source": [
    "## Defining Variables\n",
    "\n",
    "Variables are declared within JavaScript using the [var](https://developer.mozilla.org/en-US/docs/Web/JavaScript/Reference/Statements/var) (or more modern [let](https://developer.mozilla.org/en-US/docs/Web/JavaScript/Reference/Statements/let) keyword.\n",
    "\n",
    "There is no equivalent keyword in Python. Variables are defined through assignment."
   ]
  },
  {
   "cell_type": "code",
   "execution_count": 5,
   "id": "315609dc-482d-4c11-b570-176c07d2dec6",
   "metadata": {},
   "outputs": [],
   "source": [
    "myFirstVariable = 23"
   ]
  },
  {
   "cell_type": "markdown",
   "id": "130d3150-e350-43f9-8faf-69aa7c3a55f2",
   "metadata": {},
   "source": [
    "## Scope\n",
    "\n",
    "Like JavaScript, a variable in Python is only available in the region (called **scope**) it is created."
   ]
  },
  {
   "cell_type": "code",
   "execution_count": 6,
   "id": "8a11049b-91ad-44cc-8597-f4240dbb3253",
   "metadata": {},
   "outputs": [
    {
     "name": "stdout",
     "output_type": "stream",
     "text": [
      "globalVariable='global'\n",
      "localVariable='local'\n",
      "globalDuplicateVariable='duplicate2'\n",
      "globalDuplicateVariable='duplicate' after the function\n",
      "localVariable is not available in global scopes\n"
     ]
    }
   ],
   "source": [
    "globalVariable = 'global'\n",
    "globalDuplicateVariable = 'duplicate'\n",
    "\n",
    "def demoLocalScope():\n",
    "    localVariable = 'local'\n",
    "    \n",
    "    print(f\"{globalVariable=}\") # globalVariable=global\n",
    "    print(f\"{localVariable=}\")  # localVaraible=local\n",
    "    \n",
    "    # intentionally make a variable the same name as the global variable\n",
    "    globalDuplicateVariable = 'duplicate2'\n",
    "    \n",
    "    print(f\"{globalDuplicateVariable=}\") #globalDuplicateVariable=duplicate2\n",
    "\n",
    "demoLocalScope()\n",
    "print(f\"{globalDuplicateVariable=} after the function\") # globalDuplicateVariable='duplicate' after the function\n",
    "\n",
    "try:\n",
    "    localVariable\n",
    "except NameError:\n",
    "    print('localVariable is not available in global scopes') # printed\n",
    "else:\n",
    "    print('localVariable IS available in global scopes')     # not executed"
   ]
  },
  {
   "cell_type": "markdown",
   "id": "4af53822-b34d-4f52-8508-cf86f9ca2708",
   "metadata": {},
   "source": [
    "To tie a variable to a global scope, use the `global` keyword before the variable"
   ]
  },
  {
   "cell_type": "code",
   "execution_count": 7,
   "id": "15c43db4-ff46-4781-baf7-43bfa1f9da18",
   "metadata": {},
   "outputs": [
    {
     "name": "stdout",
     "output_type": "stream",
     "text": [
      "globalDuplicateVariable='duplicate'\n",
      "globalDuplicateVariable='duplicate3'\n"
     ]
    }
   ],
   "source": [
    "def demoLocalScopeWithGlobals():\n",
    "    global globalDuplicateVariable\n",
    "    globalDuplicateVariable = 'duplicate3'\n",
    "\n",
    "globalDuplicateVariable = 'duplicate'\n",
    "print(f\"{globalDuplicateVariable=}\") # globalDuplicateVariable='duplicate'\n",
    "\n",
    "demoLocalScopeWithGlobals()\n",
    "\n",
    "print(f\"{globalDuplicateVariable=}\") # globalDuplicateVariable='duplicate3'"
   ]
  },
  {
   "cell_type": "markdown",
   "id": "4f014b53-6900-4acc-82dd-998f68a162bb",
   "metadata": {},
   "source": [
    "## Casting\n",
    "\n",
    "@TODO"
   ]
  },
  {
   "cell_type": "markdown",
   "id": "b25ab8a2-1884-487d-ac2b-2b0134dd3cc9",
   "metadata": {},
   "source": [
    "## Checking Equality\n",
    "\n",
    "JavaScript has some weird conversions that Python doesn't follow.\n",
    "\n",
    "```\n",
    "# JavaScript\n",
    "1 == '1'  // is same meaning? true\n",
    "1 === '1' // is same meaning and type? false\n",
    "\n",
    "undefined == null // have similar meaning of 'no value'\n",
    "```\n",
    "\n",
    "Python only has the equality operator `==` - meaning the same value and same type.\n",
    "\n",
    "This is roughly the same as the 'strict equality' operator `===` in JavaScript."
   ]
  },
  {
   "cell_type": "code",
   "execution_count": 8,
   "id": "c47c8991-19c4-43e1-9785-5866fed3e2c8",
   "metadata": {},
   "outputs": [
    {
     "name": "stdout",
     "output_type": "stream",
     "text": [
      "False\n",
      "True\n"
     ]
    }
   ],
   "source": [
    "print( 1 == '1' ) # false\n",
    "print( 1 == 1 )   # true"
   ]
  },
  {
   "cell_type": "markdown",
   "id": "c96717f6-9371-4df8-850d-e067f24dc42f",
   "metadata": {},
   "source": [
    "## Checking for Empty Variables\n",
    "\n",
    "In JavaScript, we typically use the checking of a similar type to tell if a variable is defined (or the browser doesn't have a feature implemented - like [es6 array.every](https://caniuse.com/mdn-javascript_builtins_array_every))\n",
    "\n",
    "```\n",
    "# JavaScript\n",
    "if (typeof Array.prototype.every === 'undefined') {\n",
    "    // set a function to Array.prototype.every so it will work as expected.\n",
    "}\n",
    "```\n",
    "\n",
    "Python doesn't have as many values for 'No Value' - like checking for undefined and null at the same time - so this isn't as much of an issue.\n",
    "\n",
    "However, you should check for Empty Variables using the `is` keyword [and for all Singletons - per Pep8](https://www.python.org/dev/peps/pep-0008/#programming-recommendations)"
   ]
  },
  {
   "cell_type": "code",
   "execution_count": 9,
   "id": "93b4baf5-07bf-4cdc-8c2f-48a1354ff0ac",
   "metadata": {},
   "outputs": [
    {
     "name": "stdout",
     "output_type": "stream",
     "text": [
      "True\n",
      "True\n"
     ]
    }
   ],
   "source": [
    "emptyVar = None\n",
    "nonEmptyVar = 1\n",
    "\n",
    "print( emptyVar is None ) # true\n",
    "print( nonEmptyVar is not None ) # true"
   ]
  },
  {
   "cell_type": "markdown",
   "id": "8ea402e5-4829-45da-9462-4cc3b5db80de",
   "metadata": {},
   "source": [
    "Although technically the following will work most of the time, there is a [Python Recommendation against it.](https://www.python.org/dev/peps/pep-0008/#programming-recommendations)"
   ]
  },
  {
   "cell_type": "code",
   "execution_count": 10,
   "id": "90646604-8e60-4534-8705-f43fd62e1753",
   "metadata": {},
   "outputs": [
    {
     "name": "stdout",
     "output_type": "stream",
     "text": [
      "True\n"
     ]
    }
   ],
   "source": [
    "print( emptyVar == None ) # true - but goes against recommendations."
   ]
  },
  {
   "cell_type": "markdown",
   "id": "3124c77d-dbf1-4e20-bddc-3e537d2a24de",
   "metadata": {},
   "source": [
    "See the [Null / None section for more](#Null)"
   ]
  },
  {
   "cell_type": "markdown",
   "id": "58978628-4feb-4052-864a-82ec432fcbf4",
   "metadata": {},
   "source": [
    "## Determining TypeOf a Variable\n",
    "\n",
    "**TLDR**\n",
    "(python has no `typeof` equivalent - because it doesn't have JavaScript's weird conversion issues. Use Python's `type(...)` function to get a type, or `isinstance(inst, class)` to verify it is that type instead`\n",
    "\n",
    "--\n",
    "\n",
    "Any time you would like to know the type of a given variable in JavaScript, `typeof` is your friend.\n",
    "\n",
    "```\n",
    "# JavaScript\n",
    "typeof 'Hello' // 'string'\n",
    "typeof 9 // 'number'\n",
    "typeof [0,1,2,3,5] // 'object'\n",
    "```\n",
    "\n",
    "There is something similar in Python called `type()`, where you pass a value and it will tell you the type:"
   ]
  },
  {
   "cell_type": "code",
   "execution_count": 11,
   "id": "6108e9b9-bce1-4be3-808a-9dde6bb2dbdd",
   "metadata": {},
   "outputs": [
    {
     "name": "stdout",
     "output_type": "stream",
     "text": [
      "<class 'str'>\n",
      "<class 'int'>\n",
      "<class 'list'>\n"
     ]
    }
   ],
   "source": [
    "print( type('Hello') )         # <class 'str'>\n",
    "print( type(9) )               # <class 'int'>\n",
    "print( type([0,1,2,3,4,5]) )   # <class 'list'>"
   ]
  },
  {
   "cell_type": "markdown",
   "id": "dcd4cd96-a5d2-4bb3-b72b-8a726b83236a",
   "metadata": {},
   "source": [
    "This is helpful, but likely in your projects you aren't often introspecting a variable to understand the type.\n",
    "\n",
    "More likely, you want to know whether your variable `is of a specific type`"
   ]
  },
  {
   "cell_type": "markdown",
   "id": "2b1abc14-e344-4876-b7cc-fa013ed11bf8",
   "metadata": {},
   "source": [
    "## Checking for a Specific Type\n",
    "\n",
    "There are times in JavaScript that `typeof` fails us a bit.\n",
    "\n",
    "```\n",
    "# JavaScript\n",
    "typeof [1,2,3] // 'object'\n",
    "typeof {name:'value'} // 'object'\n",
    "```\n",
    "\n",
    "so we use `instanceof` instead to tell if the object is the same type:\n",
    "\n",
    "```\n",
    "# JavaScript\n",
    "[1,2,3] instanceof Array // true\n",
    "({name:'value'}) instanceof Object // true\n",
    "\n",
    "function Person(first,last){\n",
    "    this.first = first;\n",
    "    this.last = last;\n",
    "    return this;\n",
    "}\n",
    "\n",
    "p = new Person('John','Doe')\n",
    "p instanceof Person // true\n",
    "```\n",
    "\n",
    "In python, you can also use the `type()` global function - similar to the `typeof` keyword in JavaScript...\n",
    "\n",
    "However, we are checking against a singleton class pointer in memory, so do not use equality '==' as there are rare cases the pointers can be different.\n",
    "\n",
    "Instead use the `is` keyword against any singleton, such as: `type(variable) is class`"
   ]
  },
  {
   "cell_type": "code",
   "execution_count": 12,
   "id": "beb850db-c7b1-4d2b-b5e7-c27216673f44",
   "metadata": {},
   "outputs": [
    {
     "name": "stdout",
     "output_type": "stream",
     "text": [
      "True\n"
     ]
    }
   ],
   "source": [
    "print( type([1,2,3]) is list )"
   ]
  },
  {
   "cell_type": "markdown",
   "id": "ae5a6020-9ba8-4bb5-b3c6-e6bed00fec51",
   "metadata": {},
   "source": [
    "Note that Empty Variables should just be checked against None"
   ]
  },
  {
   "cell_type": "code",
   "execution_count": 13,
   "id": "b55ecf3e-5d31-46e2-8210-f69dccfde8bb",
   "metadata": {},
   "outputs": [
    {
     "name": "stdout",
     "output_type": "stream",
     "text": [
      "True\n",
      "<class 'NoneType'>\n",
      "False\n"
     ]
    }
   ],
   "source": [
    "print( emptyVar is None ) # true\n",
    "\n",
    "print( type(emptyVar) ) # NoneType\n",
    "print( type(emptyVar) is None) # false - NoneType is not None"
   ]
  },
  {
   "cell_type": "markdown",
   "id": "2ae70b60-86ed-48a0-91f0-9a80f337fa84",
   "metadata": {},
   "source": [
    "----\n",
    "\n",
    "# Built in Types\n",
    "\n",
    "The List of [Built In Types supported by Python can be found here - shown for Python v3](https://docs.python.org/3/library/stdtypes.html)"
   ]
  },
  {
   "cell_type": "markdown",
   "id": "e7849a4b-7bc8-4d64-9252-e946ddbc7e45",
   "metadata": {},
   "source": [
    "# Non-Values\n",
    "\n",
    "Python doesn't have many non-value types.\n",
    "\n",
    "Unlike JavaScript and its wonderfully confusing list of `undefined` / `Null` / `NaN` and other representations of non-values.\n",
    "\n",
    "## Null\n",
    "\n",
    "Python only has the non-value of `None` (for Null)\n",
    "\n",
    "There is no concept of [undefined](https://developer.mozilla.org/en-US/docs/Web/JavaScript/Reference/Global_Objects/undefined)\n",
    "or [Symbol](https://developer.mozilla.org/en-US/docs/Web/JavaScript/Reference/Global_Objects/Symbol/search)\n",
    "\n",
    "As mentioned in [the 'Checking for Empty Variables' Section](#Checking-for-Empty-Variables), compare with `is` operator not equality."
   ]
  },
  {
   "cell_type": "code",
   "execution_count": 14,
   "id": "eaaeafbd-9562-4b5d-9a4c-218489adc64e",
   "metadata": {},
   "outputs": [
    {
     "name": "stdout",
     "output_type": "stream",
     "text": [
      "True\n",
      "True\n"
     ]
    }
   ],
   "source": [
    "print( emptyVar is None ) # true\n",
    "print( nonEmptyVar is not None ) # true"
   ]
  },
  {
   "cell_type": "markdown",
   "id": "672d0dea-541f-4a23-b230-77c281e19d49",
   "metadata": {},
   "source": [
    "## NaN\n",
    "\n",
    "Not-a-Number is available within the `Numpy` package\n",
    "\n",
    "`import numpy as np`\n",
    "\n",
    "[And it can throw a few problems](https://towardsdatascience.com/navigating-the-hell-of-nans-in-python-71b12558895b)"
   ]
  },
  {
   "cell_type": "code",
   "execution_count": 15,
   "id": "324158b6-ec37-4279-9361-46196c9e7127",
   "metadata": {},
   "outputs": [
    {
     "data": {
      "text/plain": [
       "False"
      ]
     },
     "execution_count": 15,
     "metadata": {},
     "output_type": "execute_result"
    }
   ],
   "source": [
    "np.nan == np.nan # also against recommendations"
   ]
  },
  {
   "cell_type": "markdown",
   "id": "6b886045-6689-4b4c-9f22-a7f2779807ee",
   "metadata": {},
   "source": [
    "**Use `is` when comparing NaN**"
   ]
  },
  {
   "cell_type": "code",
   "execution_count": 16,
   "id": "7f0c33d6-7db5-45f3-ada0-2ce6715e8516",
   "metadata": {},
   "outputs": [
    {
     "data": {
      "text/plain": [
       "True"
      ]
     },
     "execution_count": 16,
     "metadata": {},
     "output_type": "execute_result"
    }
   ],
   "source": [
    "np.nan is np.nan"
   ]
  },
  {
   "cell_type": "markdown",
   "id": "b3017571-1152-44b6-86ea-f97c0c6001f1",
   "metadata": {},
   "source": [
    "See the [the 'Checking for Empty Variables' Section](#Checking-for-Empty-Variables) for more."
   ]
  },
  {
   "cell_type": "markdown",
   "id": "53607687-de11-4cae-a4ec-e6b9be62337a",
   "metadata": {},
   "source": [
    "## Boolean\n",
    "\n",
    "(ex: True or False)\n",
    "\n",
    "Note that Python is case sensitive, where `True` and `False` are understood..."
   ]
  },
  {
   "cell_type": "code",
   "execution_count": 17,
   "id": "dd679672-df89-4697-823b-368e80369afa",
   "metadata": {},
   "outputs": [
    {
     "data": {
      "text/plain": [
       "True"
      ]
     },
     "execution_count": 17,
     "metadata": {},
     "output_type": "execute_result"
    }
   ],
   "source": [
    "True"
   ]
  },
  {
   "cell_type": "code",
   "execution_count": 18,
   "id": "6bbfcb36-d87b-44f9-9aad-5f730d80b9fd",
   "metadata": {},
   "outputs": [
    {
     "data": {
      "text/plain": [
       "False"
      ]
     },
     "execution_count": 18,
     "metadata": {},
     "output_type": "execute_result"
    }
   ],
   "source": [
    "False"
   ]
  },
  {
   "cell_type": "markdown",
   "id": "5ff7db6a-018b-4f9e-884b-daac002629ee",
   "metadata": {},
   "source": [
    "but `true` (and likewise - `false`) is not."
   ]
  },
  {
   "cell_type": "code",
   "execution_count": 19,
   "id": "eef18fd7-1ad0-4152-9124-5904fa42c35f",
   "metadata": {},
   "outputs": [
    {
     "name": "stdout",
     "output_type": "stream",
     "text": [
      "true is not defined\n"
     ]
    }
   ],
   "source": [
    "try:\n",
    "    true\n",
    "except NameError:\n",
    "    print('true is not defined')"
   ]
  },
  {
   "cell_type": "markdown",
   "id": "387f71b9-c57b-4931-81ea-18fd71379c72",
   "metadata": {},
   "source": [
    "### TLDR: Python vs JavaScript Truthiness\n",
    "\n",
    "* Empty Collections are FALSE in python, but TRUE in JavaScript\n",
    "* Non-Values, like `undefined`, `NaN` and `null` are TRUE in python, but FALSE in JavaScript.\n",
    "\n",
    "(We will talk more to Non-Values below)\n",
    "\n",
    "### Python Truthy\n",
    "\n",
    "[Python Truthiness](https://docs.python.org/3/library/stdtypes.html#truth-value-testing) - similar to JavaScript, values are considered `True` unless:\n",
    "    \n",
    "* The class defines a `__bool__()` method that returns `False`\n",
    "* or the class defines a `__len__()` method that returns `0` when called.\n",
    "\n",
    "additionally, the following also evaluate to `False`:\n",
    "    \n",
    "* constants `None` and `False`\n",
    "* zero of any numeric type: `0`, `0.0`, `0j`, `Decimal(0)`, `Fraction(0,1)`\n",
    "* empty sequences and collections: `''`, `()` - tuples, `[]` - lists, `{}` - sets, `set()`, `range(0)`\n",
    "    \n",
    "### JavaScript\n",
    "\n",
    "Note that [JavaScript Defines Truthiness](https://developer.mozilla.org/en-US/docs/Glossary/Truthy) slightly differently:\n",
    "    \n",
    "* constants `false`\n",
    "* zero of any numeric type: `0`, `-0`, `0n`\n",
    "* ONLY EMPTY STRING `''` (collections like [] are considered true)\n",
    "* Non-Values: `NaN`, `undefined` and `null`\n",
    "\n",
    "\n",
    "Note that this list is sligtly different from JavaScript, as JavaScript also includes `undefined` and `NaN` - as they are not supported in Python"
   ]
  },
  {
   "cell_type": "markdown",
   "id": "510cfa8a-eaee-4beb-975d-6dca32845cb7",
   "metadata": {},
   "source": [
    "## Numeric Types\n",
    "\n",
    "In JavaScript, Integers (ex: 1 or 2) and Float numbers (ex: 0.4 or 2.4) are both under the same `Number` data type.\n",
    "\n",
    "In Python, instead there are Integers or `int` and Floats or `float`"
   ]
  },
  {
   "cell_type": "code",
   "execution_count": 20,
   "id": "2bb1a952-b46d-49a2-af38-57490b0d0c34",
   "metadata": {},
   "outputs": [
    {
     "name": "stdout",
     "output_type": "stream",
     "text": [
      "<class 'int'>\n",
      "<class 'float'>\n"
     ]
    }
   ],
   "source": [
    "print(type(2))\n",
    "print(type(2.2))"
   ]
  },
  {
   "cell_type": "markdown",
   "id": "850d25cd-5446-4273-bf88-040e907b7f24",
   "metadata": {},
   "source": [
    "Similar to JavaScript, there are three types of prefixes:\n",
    "\n",
    "* `0b` + number - Binary"
   ]
  },
  {
   "cell_type": "code",
   "execution_count": 21,
   "id": "70aac207-86ef-49ae-80f2-a7677c3ebf16",
   "metadata": {},
   "outputs": [
    {
     "data": {
      "text/plain": [
       "107"
      ]
     },
     "execution_count": 21,
     "metadata": {},
     "output_type": "execute_result"
    }
   ],
   "source": [
    "0b1101011"
   ]
  },
  {
   "cell_type": "markdown",
   "id": "6b047dd5-f0c3-498d-827c-edb504793908",
   "metadata": {},
   "source": [
    "* `0o` + number - Octal"
   ]
  },
  {
   "cell_type": "code",
   "execution_count": 22,
   "id": "d31bb771-edc0-41c0-a4ac-84d838fa711c",
   "metadata": {},
   "outputs": [
    {
     "data": {
      "text/plain": [
       "13"
      ]
     },
     "execution_count": 22,
     "metadata": {},
     "output_type": "execute_result"
    }
   ],
   "source": [
    "0o15"
   ]
  },
  {
   "cell_type": "markdown",
   "id": "02be9984-239d-4855-8aee-51aceeac08b8",
   "metadata": {},
   "source": [
    "* `0x` + number - Hex"
   ]
  },
  {
   "cell_type": "code",
   "execution_count": 23,
   "id": "acfb45b4-37d7-437c-8a31-778ae2e8a7eb",
   "metadata": {},
   "outputs": [
    {
     "data": {
      "text/plain": [
       "253"
      ]
     },
     "execution_count": 23,
     "metadata": {},
     "output_type": "execute_result"
    }
   ],
   "source": [
    "0xFB + 0x2"
   ]
  },
  {
   "cell_type": "markdown",
   "id": "bb15cd09-fa83-4460-8c3a-87d4a9717ff3",
   "metadata": {},
   "source": [
    "#### Converting to Hex / etc"
   ]
  },
  {
   "cell_type": "code",
   "execution_count": 24,
   "id": "c864cf66-5a6c-42ef-9b53-59c562fa4805",
   "metadata": {},
   "outputs": [
    {
     "data": {
      "text/plain": [
       "'0xff'"
      ]
     },
     "execution_count": 24,
     "metadata": {},
     "output_type": "execute_result"
    }
   ],
   "source": [
    "# python\n",
    "hex(255)\n",
    "\n",
    "# javascript\n",
    "# (255).toString(16)"
   ]
  },
  {
   "cell_type": "markdown",
   "id": "dd970572-27f9-43e4-96a3-aff9e090248c",
   "metadata": {},
   "source": [
    "You can also convert string equivalents through the `int(value, base=)`"
   ]
  },
  {
   "cell_type": "code",
   "execution_count": 25,
   "id": "51ca8b9b-5230-446a-b069-1b934fd23cfe",
   "metadata": {},
   "outputs": [
    {
     "data": {
      "text/plain": [
       "255"
      ]
     },
     "execution_count": 25,
     "metadata": {},
     "output_type": "execute_result"
    }
   ],
   "source": [
    "# python\n",
    "int('0xFF', base=16)\n",
    "\n",
    "# javascript\n",
    "# parseInt('FF', 16)"
   ]
  },
  {
   "cell_type": "markdown",
   "id": "55867f64-4023-4fb1-89c5-0ccaefe733ca",
   "metadata": {},
   "source": [
    "### BigInt / BigNum\n",
    "\n",
    "There is also a newly created DataType in JavaScript called [BigInt](https://developer.mozilla.org/en-US/docs/Glossary/BigInt) to represent integegers of arbitrary precision format.\n",
    "\n",
    "[Python does not seem to have an integer overflow](https://www.delftstack.com/howto/python/bigint-in-python/),\n",
    "so while there used to be a separate type called `bignum` which then turned into `long`...\n",
    "\n",
    "In Python 3 and above, there is now only one `int` type that represents all types of integers regardless of size."
   ]
  },
  {
   "cell_type": "code",
   "execution_count": 26,
   "id": "d2fd398e-4fba-4e37-9eaf-57a1853653bb",
   "metadata": {},
   "outputs": [
    {
     "name": "stdout",
     "output_type": "stream",
     "text": [
      "<class 'int'>\n",
      "<class 'int'>\n"
     ]
    }
   ],
   "source": [
    "x=10\n",
    "print(type(x))\n",
    "y=1111111111111111111111111111111111111111111111111111111111111111111\n",
    "print(type(y))"
   ]
  },
  {
   "cell_type": "markdown",
   "id": "a0d48671-7dfd-4e32-bff6-b0175c999867",
   "metadata": {},
   "source": [
    "# Strings\n",
    "\n",
    "Strings in Python are immutable sequences of unicode characters\n",
    "\n",
    "They can be either single quotes `'` or double quotes `\"` similar to JavaScript. <sup><a href='https://docs.python.org/3.9/library/string.html?highlight=string#module-string'>More</a></sup>"
   ]
  },
  {
   "cell_type": "code",
   "execution_count": 27,
   "id": "7f1d92f4-cb7c-4227-9531-eac7e77a08d8",
   "metadata": {},
   "outputs": [
    {
     "name": "stdout",
     "output_type": "stream",
     "text": [
      "<class 'str'>\n",
      "<class 'str'>\n",
      "Line 1\n",
      "Line2\n"
     ]
    }
   ],
   "source": [
    "print(type('some string'))\n",
    "print(type(\"some other string\"))\n",
    "\n",
    "# note that escapes are also allowed in single quotes, unlike older versions of Java\n",
    "print('Line 1\\nLine2')"
   ]
  },
  {
   "cell_type": "markdown",
   "id": "4123855d-aa96-4c6f-9cd0-951841a64287",
   "metadata": {},
   "source": [
    "So doing an operation on a string always results in a new string, such as `Concatenation`\n",
    "\n",
    "(JavaScript have a few edit `in-place` methods on strings, and they work slightly differently in python."
   ]
  },
  {
   "cell_type": "code",
   "execution_count": 28,
   "id": "52ec8cb4-37b9-45d2-b7ac-599e6b8f0663",
   "metadata": {},
   "outputs": [
    {
     "name": "stdout",
     "output_type": "stream",
     "text": [
      "new name:Caty\n",
      "name after:caty\n"
     ]
    }
   ],
   "source": [
    "name = 'caty'\n",
    "\n",
    "print('new name:' + name.capitalize())\n",
    "print('name after:' + name)"
   ]
  },
  {
   "cell_type": "markdown",
   "id": "4d2a5c7b-ada7-4b0f-9ebf-5aee02344e89",
   "metadata": {},
   "source": [
    "## Converting to String\n",
    "\n",
    "Strings can be converted either through the [repr](https://docs.python.org/3/library/functions.html#repr) or [str](https://docs.python.org/3/library/stdtypes.html#str)\n",
    "\n",
    "The `str` method is meant to be human readible, and can be overwritten on a custom class through overriding [\\_\\_str\\_\\_](https://docs.python.org/3/reference/datamodel.html#object.__str__)\n",
    "                                                   \n",
    "the `repr` method is meant to be a string encoded / \"official\" version of the object (for serialization) and also overwritten on a class through overriding [\\_\\_repr\\_\\_](https://docs.python.org/3/reference/datamodel.html#object.__repr__)"
   ]
  },
  {
   "cell_type": "code",
   "execution_count": 29,
   "id": "bd28aa89-d9d2-48f8-9319-0fbd3d9eac16",
   "metadata": {},
   "outputs": [
    {
     "name": "stdout",
     "output_type": "stream",
     "text": [
      "2021-09-15 17:08:40.085431\n",
      "datetime.datetime(2021, 9, 15, 17, 8, 40, 85576)\n"
     ]
    }
   ],
   "source": [
    "# human readible form\n",
    "print(str(datetime.datetime.now()))   # 2021-09-15 16:39:51.514965\n",
    "\n",
    "# official serialized version of the object\n",
    "print(repr(datetime.datetime.now()))  # datetime.datetime(2021, 9, 15, 16, 39, 51, 515053)"
   ]
  },
  {
   "cell_type": "markdown",
   "id": "bd1a7424-3002-4cb8-adfa-37410a9d600d",
   "metadata": {},
   "source": [
    "## String Global Methods\n",
    "\n",
    "Some methods in JavaScript however are global functions instead in python though.\n",
    "\n",
    "[See the Common String Operations](https://docs.python.org/3/library/string.html) for more"
   ]
  },
  {
   "cell_type": "code",
   "execution_count": 30,
   "id": "ddef0147-f97a-4715-9689-b514b8840068",
   "metadata": {},
   "outputs": [
    {
     "data": {
      "text/plain": [
       "11"
      ]
     },
     "execution_count": 30,
     "metadata": {},
     "output_type": "execute_result"
    }
   ],
   "source": [
    "# python\n",
    "len('mississippi')\n",
    "\n",
    "# javascript\n",
    "# ('mississippi').length"
   ]
  },
  {
   "cell_type": "markdown",
   "id": "3ae9db69-d225-43e6-9f77-83ccd9e437ae",
   "metadata": {},
   "source": [
    "## JavaScript String Templates\n",
    "\n",
    "[JavaScript String Templates](https://developer.mozilla.org/en-US/docs/Web/JavaScript/Reference/Template_literals)\n",
    "    \n",
    "For example:\n",
    "\n",
    "```\n",
    "# javascript string template\n",
    "let adjective = 'super';\n",
    "`This is a JavaScript String Template. It is {adjective}`;\n",
    "```\n",
    "\n",
    "They are very helpful, as they provide:\n",
    "\n",
    "* Interpolating variables within the string\n",
    "* Multi-Line strings\n",
    "\n",
    "## Python String Templates\n",
    "\n",
    "Python provides `String Templates` that are imported from the string namespace\n",
    "\n",
    "`from string import Template`\n",
    "\n",
    "These are different in that they can be interpolated later, allowing for `i18n` / translations much easier.\n",
    "\n",
    "As opposed to JavaScript, that replaces it at time of definition."
   ]
  },
  {
   "cell_type": "code",
   "execution_count": 31,
   "id": "4edce088-99e0-4baa-ac04-d6b4a87ecc8f",
   "metadata": {},
   "outputs": [],
   "source": [
    "stringTemplate1 = Template('$who likes $what')"
   ]
  },
  {
   "cell_type": "code",
   "execution_count": 32,
   "id": "df240834-c1e1-4669-b3dc-b7f1624b0268",
   "metadata": {},
   "outputs": [
    {
     "data": {
      "text/plain": [
       "'Mikey likes it'"
      ]
     },
     "execution_count": 32,
     "metadata": {},
     "output_type": "execute_result"
    }
   ],
   "source": [
    "stringTemplate1.substitute(who = 'Mikey', what = 'it')"
   ]
  },
  {
   "cell_type": "markdown",
   "id": "a4e8b0bb-b723-4c5f-8c00-280e06289fed",
   "metadata": {},
   "source": [
    "## Python F-Strings\n",
    "\n",
    "[Formatted String Literals (f-strings)](https://docs.python.org/3/tutorial/inputoutput.html#tut-f-strings) are a string with an `f` or an `F` prefixing before the opening quotation.\n",
    "\n",
    "[Additional notes on string formats found here](https://docs.python.org/3/reference/lexical_analysis.html#f-strings)\n",
    "\n",
    "Inside the string, any variables can be used between an opening and closing curly-brace (`{` or `}`)"
   ]
  },
  {
   "cell_type": "code",
   "execution_count": 33,
   "id": "ff18b7b9-7847-45e2-968d-056e117025a1",
   "metadata": {},
   "outputs": [
    {
     "name": "stdout",
     "output_type": "stream",
     "text": [
      "The year is 2016 and something is wrong\n"
     ]
    }
   ],
   "source": [
    "year=2016\n",
    "event='something is wrong'\n",
    "print(f'The year is {year} and {event}')"
   ]
  },
  {
   "cell_type": "markdown",
   "id": "a7b358e4-34f8-44fd-8aba-31dcd7746e82",
   "metadata": {},
   "source": [
    "## Python String.replace\n",
    "\n",
    "Python also has a very powerful [str.format()](https://docs.python.org/3/library/stdtypes.html#str.format)\n",
    "method on strings that allow for quite a few formatting directives:\n",
    "               \n",
    "* Minimum Width / Fill characters\n",
    "* left / right / center alignment\n",
    "* number signing (ex: + or -)\n",
    "* grouping options\n",
    "* precision\n",
    "\n",
    "[See here for more on the different types of options](https://docs.python.org/3/library/string.html#format-string-syntax)"
   ]
  },
  {
   "cell_type": "code",
   "execution_count": 34,
   "id": "5cb0c090-6b75-4a96-ae2e-22b6f78a9b24",
   "metadata": {},
   "outputs": [
    {
     "name": "stdout",
     "output_type": "stream",
     "text": [
      "a, b, c\n",
      "c, b, a\n"
     ]
    }
   ],
   "source": [
    "print('{0}, {1}, {2}'.format('a', 'b', 'c'))\n",
    "# 'a, b, c'\n",
    "print('{2}, {1}, {0}'.format('a', 'b', 'c'))\n",
    "# 'c, b, a'"
   ]
  },
  {
   "cell_type": "code",
   "execution_count": 35,
   "id": "351a24ff-179e-452f-8687-900d588e14d7",
   "metadata": {},
   "outputs": [
    {
     "name": "stdout",
     "output_type": "stream",
     "text": [
      "[left aligned                  ]\n",
      "[                  left aligned]\n"
     ]
    }
   ],
   "source": [
    "print( '[' + '{:<30}'.format('left aligned') + ']')\n",
    "# 'left aligned                  '\n",
    "print( '[' + '{:>30}'.format('left aligned') + ']')\n",
    "# '                 right aligned'"
   ]
  },
  {
   "cell_type": "code",
   "execution_count": 36,
   "id": "c033f9be-75f5-4416-aceb-d27b158a19bf",
   "metadata": {},
   "outputs": [
    {
     "name": "stdout",
     "output_type": "stream",
     "text": [
      " 3.140000; -3.140000, +3.140000\n"
     ]
    }
   ],
   "source": [
    "print('{: f}; {: f}, {:+f}'.format(3.14, -3.14, 3.14))"
   ]
  },
  {
   "cell_type": "code",
   "execution_count": 37,
   "id": "aeaca155-7af2-4f86-b321-5016b13e71fb",
   "metadata": {},
   "outputs": [
    {
     "name": "stdout",
     "output_type": "stream",
     "text": [
      "1,234,567,890\n"
     ]
    }
   ],
   "source": [
    "print('{:,}'.format(1234567890))"
   ]
  },
  {
   "cell_type": "code",
   "execution_count": 38,
   "id": "12b85e1e-3440-409b-b761-ed16f258a9d4",
   "metadata": {},
   "outputs": [
    {
     "name": "stdout",
     "output_type": "stream",
     "text": [
      "Correct answers: 86.36%\n"
     ]
    }
   ],
   "source": [
    "print('Correct answers: {:.2%}'.format(19/22))"
   ]
  },
  {
   "cell_type": "markdown",
   "id": "94b912d0-cf3c-43c5-aff2-79375dedfd03",
   "metadata": {},
   "source": [
    "## Dates / Times\n",
    "\n",
    "TLDR; JavaScript has only the [Date Class](https://developer.mozilla.org/en-US/docs/Web/JavaScript/Reference/Global_Objects/Date) for working with Dates and Times.\n",
    "\n",
    "The closest object in python is the [datetime](https://docs.python.org/3/library/datetime.html#module-datetime) object, however there are [a number of objects](https://docs.python.org/3/library/datetime.html).  It is important to note that there are some 'date-ish' objects that [do not understand timezones](https://docs.python.org/3/library/datetime.html#aware-and-naive-objects).\n",
    "\n",
    "Note that many of these objects [are immutable](https://docs.python.org/3/library/datetime.html#available-types) so cloning isn't necessary when adding / subtracting times. \n",
    "\n",
    "Python has a couple objects that deal with [dates / times](https://docs.python.org/3/library/datetime.html#module-datetime):\n",
    "\n",
    "* [datetime](https://docs.python.org/3/library/datetime.html) - the most similar to JavaScript Date objects\n",
    "* [timedelta](https://docs.python.org/3/library/datetime.html#datetime.timedelta) - for time between datetimes\n",
    "* [date](https://docs.python.org/3/library/datetime.html#datetime.date) - for dealing with dates\n",
    "* [time](https://docs.python.org/3/library/time.html#module-time) - for time specific manipulation\n",
    "* [timezone](https://docs.python.org/3/library/datetime.html#timezone-objects) - represents a timzone offset of UTC\n",
    "* [and more available](https://docs.python.org/3/library/datetime.html)\n",
    "\n",
    "Some objects do not understand timezones (like date and calendar), some optionally may (like date and time). **Check the `tzinfo` property to see if they do understand timezones**.\n",
    "\n",
    "To avoid the multiple namespaces like: `datetime.datetime.now()`, you can import the specific classes at the top of your script.\n",
    "\n",
    "For example:\n",
    "\n",
    "```\n",
    "from datetime import datetime, time\n",
    "\n",
    "...\n",
    "\n",
    "now = datetime.now()\n",
    "```\n",
    "\n",
    "### DateTime\n",
    "\n",
    "The [datetime.datetime type](https://docs.python.org/3/library/datetime.html#module-datetime) object is closest to the JavaScript Date object - in that it knows the date and time of something happening.\n",
    "\n",
    "You can get the current time through `datetime.now()`"
   ]
  },
  {
   "cell_type": "code",
   "execution_count": 39,
   "id": "014bdbb8-896c-4ed1-b114-5e87aef2adb2",
   "metadata": {},
   "outputs": [
    {
     "name": "stdout",
     "output_type": "stream",
     "text": [
      "2021-09-15 17:08:40.131599\n"
     ]
    }
   ],
   "source": [
    "now = datetime.datetime.now()\n",
    "print(now)"
   ]
  },
  {
   "cell_type": "markdown",
   "id": "236b5751-55ff-407a-9263-2023de9f0a31",
   "metadata": {},
   "source": [
    "explicitly set the time"
   ]
  },
  {
   "cell_type": "code",
   "execution_count": 40,
   "id": "fe01e602-c6fc-4bc5-9a3a-51baffa69485",
   "metadata": {},
   "outputs": [
    {
     "name": "stdout",
     "output_type": "stream",
     "text": [
      "2021-09-15 10:00:00\n"
     ]
    }
   ],
   "source": [
    "then = datetime.datetime(2021,9,15,10,0,0)\n",
    "print(then)"
   ]
  },
  {
   "cell_type": "markdown",
   "id": "984e1225-74b8-416f-b971-6b9db95ae3c9",
   "metadata": {},
   "source": [
    "Or you can explicitly specify the time from a string"
   ]
  },
  {
   "cell_type": "code",
   "execution_count": 41,
   "id": "dba61c24-8082-4f90-96bc-b78a5c5643de",
   "metadata": {},
   "outputs": [
    {
     "name": "stdout",
     "output_type": "stream",
     "text": [
      "2021-09-15 09:00:00-05:00\n"
     ]
    }
   ],
   "source": [
    "then2 = datetime.datetime.fromisoformat('2021-09-15T09:00:00-05:00')\n",
    "print(then2)"
   ]
  },
  {
   "cell_type": "markdown",
   "id": "16b83e2c-348d-4c09-b75c-3b654bd0901d",
   "metadata": {},
   "source": [
    "### Adding or removing time through timedelta\n",
    "\n",
    "The [timedelta](https://docs.python.org/3/library/datetime.html#datetime.timedelta) class is the preferred way to add time to date.\n",
    "\n",
    "datetime.timedelta(weekds=, days=, hours=, minutes=, seconds=, microseconds=, milliseconds=)"
   ]
  },
  {
   "cell_type": "code",
   "execution_count": 42,
   "id": "9ab9da98-b16c-4f7e-bf87-18437020aafe",
   "metadata": {},
   "outputs": [
    {
     "name": "stdout",
     "output_type": "stream",
     "text": [
      "Oh No detected. T-minus: 1:02:03 expected at 2021-09-15 18:10:43.131599\n"
     ]
    }
   ],
   "source": [
    "# ohno is the length of time to drive home and realize you forgot something\n",
    "ohno = datetime.timedelta(hours=1,minutes=2,seconds=3)\n",
    "\n",
    "print(f'Oh No detected. T-minus: {ohno} expected at {now + ohno}')"
   ]
  },
  {
   "cell_type": "markdown",
   "id": "3c1e7af6-467c-4d36-8091-9376ee867de5",
   "metadata": {},
   "source": [
    "Operations are:\n",
    "\n",
    "* `+` - sum of times\n",
    "* `-` - difference of times\n",
    "* `*` - multiplication, ex: timeToFinish = 4 * ohno\n",
    "* `/` - number of times the timespan fits into another\n",
    "* `//` - floored number of times the timespan fits into another"
   ]
  },
  {
   "cell_type": "code",
   "execution_count": 43,
   "id": "4de96725-7c76-4261-b0c2-1bcf01244b3a",
   "metadata": {},
   "outputs": [
    {
     "name": "stdout",
     "output_type": "stream",
     "text": [
      "2021-09-15 18:10:43.131599\n",
      "2021-09-15 16:06:37.131599\n",
      "4:08:12\n",
      "0:20:41\n",
      "0:20:41\n"
     ]
    }
   ],
   "source": [
    "print(ohno + now)  # 2021-09-15 17:50:32.420098\n",
    "print(now - ohno)  # 2021-09-15 15:46:26.420098\n",
    "print(ohno * 4)    # 4:08:12\n",
    "print(ohno / 3)    # 0:20:41\n",
    "print(ohno // 3)   # 0:20:41"
   ]
  },
  {
   "cell_type": "markdown",
   "id": "2830e24b-493b-42a5-9e4c-7a9816a4df74",
   "metadata": {},
   "source": [
    "### Printing a DateTime\n",
    "\n",
    "The `strftime()` and `strptime()` methods both allow for a format string in printing a time\n",
    "\n",
    "[See here for the full list of format codes](https://docs.python.org/3/library/datetime.html#strftime-and-strptime-format-codes)"
   ]
  },
  {
   "cell_type": "code",
   "execution_count": 44,
   "id": "506b8cdb-032e-4d27-94a3-0f1378261d3e",
   "metadata": {},
   "outputs": [
    {
     "data": {
      "text/plain": [
       "'Wed September 15, 2021 @ 05:08:40 PM '"
      ]
     },
     "execution_count": 44,
     "metadata": {},
     "output_type": "execute_result"
    }
   ],
   "source": [
    "now.strftime('%a %B %d, %Y @ %I:%M:%S %p %Z')"
   ]
  },
  {
   "cell_type": "code",
   "execution_count": 45,
   "id": "a5c62e43-d527-4140-90fc-1366ce25c76a",
   "metadata": {},
   "outputs": [
    {
     "data": {
      "text/plain": [
       "'Wed Sep 15 17:08:40 2021'"
      ]
     },
     "execution_count": 45,
     "metadata": {},
     "output_type": "execute_result"
    }
   ],
   "source": [
    "# locale \n",
    "now.strftime('%c')"
   ]
  },
  {
   "cell_type": "code",
   "execution_count": 46,
   "id": "d107fa1f-5f3d-4705-b46b-796e7ace42c5",
   "metadata": {},
   "outputs": [
    {
     "data": {
      "text/plain": [
       "'2021-09-15 17:08:40.131599'"
      ]
     },
     "execution_count": 46,
     "metadata": {},
     "output_type": "execute_result"
    }
   ],
   "source": [
    "# utc time\n",
    "str(now)"
   ]
  },
  {
   "cell_type": "markdown",
   "id": "8bf00293-9e87-4aa8-a598-6adfba9f6aae",
   "metadata": {},
   "source": [
    "## Regular Expressions\n",
    "\n",
    "JavaScript includes RegularExpressions as part of the language.\n",
    "\n",
    "```\n",
    "// JavaScript\n",
    "let myRex = /name: (\\w+)/i;\n",
    "(\"name: john\").match(myRex);\n",
    "// [\"name: john\", \"john\", index: 0, input: \"name: john\", groups: undefined]\n",
    "```\n",
    "\n",
    "Python requires that we import the `re` library, ex:\n",
    "\n",
    "```\n",
    "import re\n",
    "\n",
    "regex = re.compile(r\"name: (\\w+)\")\n",
    "```"
   ]
  },
  {
   "cell_type": "code",
   "execution_count": 47,
   "id": "9c5bdb1e-1da7-4799-88f1-4d2609dc32a1",
   "metadata": {},
   "outputs": [
    {
     "data": {
      "text/plain": [
       "'John'"
      ]
     },
     "execution_count": 47,
     "metadata": {},
     "output_type": "execute_result"
    }
   ],
   "source": [
    "nameRegex = re.compile(r\"name: (\\w+)\")\n",
    "nameRegex.match(\"name: John\")[1]"
   ]
  },
  {
   "cell_type": "markdown",
   "id": "5f60a826-8e5b-4b13-839a-d813d3a5e7d1",
   "metadata": {},
   "source": [
    "Note that we use the `raw string`, so we don't get into [backslash hell](https://www.johndcook.com/blog/2019/08/31/regex-special-characters/)\n",
    "\n",
    "You don't have to use raw strings, but that means you may have to escape your characters, and escape your backslashes, etc."
   ]
  },
  {
   "cell_type": "code",
   "execution_count": 48,
   "id": "5aef1f48-fac6-445d-be9a-063d90f2d845",
   "metadata": {},
   "outputs": [
    {
     "name": "stdout",
     "output_type": "stream",
     "text": [
      "this is the string we need to compile: `name: (\\\\w+)`\n"
     ]
    }
   ],
   "source": [
    "print(\"this is the string we need to compile: `name: (\\\\\\\\w+)`\")"
   ]
  },
  {
   "cell_type": "markdown",
   "id": "0b0040c9-8424-4bbd-bf52-6a993cb8d12e",
   "metadata": {},
   "source": [
    "----\n",
    "\n",
    "# Collections\n",
    "\n",
    "Collections of items can either be sequenced / ordered: such as Arrays\n",
    "\n",
    "Or they can be unordered, where the order of definition doesn't matter as much: such as Sets / Maps"
   ]
  },
  {
   "cell_type": "markdown",
   "id": "653218b1-0996-48fe-b50f-f695b5719ec1",
   "metadata": {},
   "source": [
    "## Lists\n",
    "\n",
    "JavaScript Arrays are defined through opening and closing hard brackets `[]`\n",
    "\n",
    "Python Lists are created the similar way:"
   ]
  },
  {
   "cell_type": "code",
   "execution_count": 49,
   "id": "361699cb-7b1b-47a2-82c3-8f57ec2e04a2",
   "metadata": {},
   "outputs": [],
   "source": [
    "list1 = ['apple','orange','pear','orange']"
   ]
  },
  {
   "cell_type": "markdown",
   "id": "d752824a-c81a-4aa7-a3fb-394595953f16",
   "metadata": {},
   "source": [
    "Items within the list can also be accessed through hard brackets, similar to JavaScript"
   ]
  },
  {
   "cell_type": "code",
   "execution_count": 50,
   "id": "9be2c1f7-fad0-42f1-9a70-5b96e1d2fd01",
   "metadata": {},
   "outputs": [
    {
     "data": {
      "text/plain": [
       "'apple'"
      ]
     },
     "execution_count": 50,
     "metadata": {},
     "output_type": "execute_result"
    }
   ],
   "source": [
    "list1[0]"
   ]
  },
  {
   "cell_type": "markdown",
   "id": "9fa10d72-f462-4217-9c38-d4fe98d4d819",
   "metadata": {},
   "source": [
    "### List Global methods\n",
    "\n",
    "Similar to string, some methods are global and not methods <sup><a href='https://docs.python.org/3/library/stdtypes.html?highlight=tuple#common-sequence-operations'>More</a></sup>"
   ]
  },
  {
   "cell_type": "code",
   "execution_count": 51,
   "id": "bdcdfe54-48a9-4cca-bbad-542fd58fd8b4",
   "metadata": {},
   "outputs": [
    {
     "data": {
      "text/plain": [
       "4"
      ]
     },
     "execution_count": 51,
     "metadata": {},
     "output_type": "execute_result"
    }
   ],
   "source": [
    "len(list1)"
   ]
  },
  {
   "cell_type": "code",
   "execution_count": 52,
   "id": "22dfcea6-deb3-4fc1-87ff-af800a9d1f9f",
   "metadata": {},
   "outputs": [
    {
     "data": {
      "text/plain": [
       "'apple'"
      ]
     },
     "execution_count": 52,
     "metadata": {},
     "output_type": "execute_result"
    }
   ],
   "source": [
    "min(list1)"
   ]
  },
  {
   "cell_type": "code",
   "execution_count": 53,
   "id": "c0a49f37-95f9-4a44-ae95-83d0ef2417f3",
   "metadata": {},
   "outputs": [
    {
     "data": {
      "text/plain": [
       "'pear'"
      ]
     },
     "execution_count": 53,
     "metadata": {},
     "output_type": "execute_result"
    }
   ],
   "source": [
    "max(list1)"
   ]
  },
  {
   "cell_type": "markdown",
   "id": "b3ac92cd-e095-421c-b567-c1a4d1f1d5a8",
   "metadata": {},
   "source": [
    "### Stack / Queue Methods\n",
    "\n",
    "Similar to JavaScript, the Stack / Queue methods are also available, but called by different names\n",
    "\n",
    "|                             | JavaScript           | Python                     |\n",
    "|-----------------------------|----------------------|----------------------------|\n",
    "| Add to beginning            | list1.unshift()      | N/A                        |\n",
    "| Add to end                  | list1.push(v)        | list1.append(v)            |\n",
    "| Remove first                | list1.shift()        | list[1:]                   |\n",
    "| Remove last                 | list1.pop()          | list[:-1]                  |\n",
    "| combine arrays              | [...list1, ...list2] | list1.extend(list2)        |\n",
    "| clone                       | [...list1]           | list1.clone()              |\n",
    "| remove all items (in place) | N/A                  | list1.clear() del list1[:] |\n",
    "| Reverse array               | list1.reverse()      | list1.reverse()            |\n"
   ]
  },
  {
   "cell_type": "code",
   "execution_count": 54,
   "id": "d9330d3e-add6-4939-bc8b-691f0789b516",
   "metadata": {},
   "outputs": [],
   "source": [
    "list2 = ['apple','pear','banana']"
   ]
  },
  {
   "cell_type": "code",
   "execution_count": 55,
   "id": "b244b169-91aa-483c-92b4-6064da2d1486",
   "metadata": {},
   "outputs": [
    {
     "data": {
      "text/plain": [
       "['pear', 'banana']"
      ]
     },
     "execution_count": 55,
     "metadata": {},
     "output_type": "execute_result"
    }
   ],
   "source": [
    "list2[1:]"
   ]
  },
  {
   "cell_type": "code",
   "execution_count": 56,
   "id": "0324a2c5-9d51-457d-99a4-95ccddaad935",
   "metadata": {},
   "outputs": [
    {
     "data": {
      "text/plain": [
       "'banana'"
      ]
     },
     "execution_count": 56,
     "metadata": {},
     "output_type": "execute_result"
    }
   ],
   "source": [
    "list2.copy().pop()"
   ]
  },
  {
   "cell_type": "code",
   "execution_count": 57,
   "id": "0c066ec2-83c7-4b08-b7bb-57cb9f4b4863",
   "metadata": {},
   "outputs": [
    {
     "data": {
      "text/plain": [
       "['apple', 'pear', 'banana', 'cuca']"
      ]
     },
     "execution_count": 57,
     "metadata": {},
     "output_type": "execute_result"
    }
   ],
   "source": [
    "list2.append('cuca')\n",
    "list2"
   ]
  },
  {
   "cell_type": "markdown",
   "id": "e0b369bf-edef-4414-862a-8e157ab96f4b",
   "metadata": {},
   "source": [
    "### Additional List Methods\n",
    "\n",
    "There are additional methods that are not available in JavaScript though:"
   ]
  },
  {
   "cell_type": "code",
   "execution_count": 58,
   "id": "0954b863-517a-4060-b3e3-190650e0109a",
   "metadata": {},
   "outputs": [
    {
     "name": "stdout",
     "output_type": "stream",
     "text": [
      "True\n",
      "False\n",
      "True\n"
     ]
    }
   ],
   "source": [
    "print('apple' in list1)\n",
    "# True\n",
    "print('pineapple' in list1)\n",
    "# False\n",
    "print('pineapple' not in list1)\n",
    "# True"
   ]
  },
  {
   "cell_type": "code",
   "execution_count": 59,
   "id": "8bd16206-3571-4190-86f1-1c6a29d0f770",
   "metadata": {},
   "outputs": [
    {
     "data": {
      "text/plain": [
       "[1, 2, 3, 1, 2, 3]"
      ]
     },
     "execution_count": 59,
     "metadata": {},
     "output_type": "execute_result"
    }
   ],
   "source": [
    "[1,2,3] * 2"
   ]
  },
  {
   "cell_type": "code",
   "execution_count": 60,
   "id": "ae40298c-efdf-41d6-934c-c10af1c4b061",
   "metadata": {},
   "outputs": [
    {
     "data": {
      "text/plain": [
       "['apple', 'orange', 'guava']"
      ]
     },
     "execution_count": 60,
     "metadata": {},
     "output_type": "execute_result"
    }
   ],
   "source": [
    "list2 = ['apple','orange']\n",
    "list2.append('guava')\n",
    "list2"
   ]
  },
  {
   "cell_type": "markdown",
   "id": "e4b62936-4758-4fa5-8f16-dcc19af0dda4",
   "metadata": {},
   "source": [
    "## Deque\n",
    "\n",
    "Unlike JavaScript, there is a separate class for Queues, instead of trying to fit them within lists.\n",
    "\n",
    "It does have to be imported to be used though:\n",
    "    \n",
    "```\n",
    "from collections import deque\n",
    "```\n",
    "\n",
    "[collections.deque documentation](https://docs.python.org/3/library/collections.html#collections.deque)"
   ]
  },
  {
   "cell_type": "code",
   "execution_count": 61,
   "id": "d49a9105-b898-432b-a511-e55025c6a124",
   "metadata": {},
   "outputs": [],
   "source": [
    "queue1 = deque(['apple','orange','pear'])"
   ]
  },
  {
   "cell_type": "code",
   "execution_count": 62,
   "id": "b01cda01-aba2-4c0d-82cb-d44c9a28c8e0",
   "metadata": {},
   "outputs": [],
   "source": [
    "queue1.append('pineapple')"
   ]
  },
  {
   "cell_type": "code",
   "execution_count": 63,
   "id": "cebc74e6-4427-4744-a30e-678ddb6fb77a",
   "metadata": {},
   "outputs": [
    {
     "data": {
      "text/plain": [
       "deque(['apple', 'orange', 'pear', 'pineapple'])"
      ]
     },
     "execution_count": 63,
     "metadata": {},
     "output_type": "execute_result"
    }
   ],
   "source": [
    "queue1"
   ]
  },
  {
   "cell_type": "code",
   "execution_count": 64,
   "id": "0d1f7bf7-1c08-420a-987a-6421a6b19d92",
   "metadata": {},
   "outputs": [
    {
     "data": {
      "text/plain": [
       "'apple'"
      ]
     },
     "execution_count": 64,
     "metadata": {},
     "output_type": "execute_result"
    }
   ],
   "source": [
    "queue1.popleft()"
   ]
  },
  {
   "cell_type": "code",
   "execution_count": 65,
   "id": "58194b51-43af-41d3-92b0-1ae713bd8d15",
   "metadata": {},
   "outputs": [
    {
     "data": {
      "text/plain": [
       "deque(['orange', 'pear', 'pineapple'])"
      ]
     },
     "execution_count": 65,
     "metadata": {},
     "output_type": "execute_result"
    }
   ],
   "source": [
    "queue1"
   ]
  },
  {
   "cell_type": "markdown",
   "id": "af7fd0d6-0452-4161-bd69-a850559e720b",
   "metadata": {},
   "source": [
    "## Immutable Tuples\n",
    "\n",
    "[Tuples](https://docs.python.org/3/library/stdtypes.html?highlight=tuple#immutable-sequence-types)\n",
    "are not in JavaScript and can be thought of as immutable lists.\n",
    "\n",
    "One thing it does allow for is the `hash()` built in method, allowing for indexing - making it very helpful for dicts.\n",
    "\n",
    "They are initialized through parentheses `()`"
   ]
  },
  {
   "cell_type": "code",
   "execution_count": 66,
   "id": "0902180e-a28f-4bc2-a164-ae2c11a84c3e",
   "metadata": {},
   "outputs": [],
   "source": [
    "tuple1 = ('apple','orange','pear','orange')"
   ]
  },
  {
   "cell_type": "code",
   "execution_count": 67,
   "id": "baf97580-6e2d-4180-96bf-1169165e3e04",
   "metadata": {},
   "outputs": [
    {
     "data": {
      "text/plain": [
       "2"
      ]
     },
     "execution_count": 67,
     "metadata": {},
     "output_type": "execute_result"
    }
   ],
   "source": [
    "tuple1.count('orange')"
   ]
  },
  {
   "cell_type": "code",
   "execution_count": 68,
   "id": "273354dc-cb9e-433c-b6f9-064df30d06a4",
   "metadata": {},
   "outputs": [
    {
     "data": {
      "text/plain": [
       "2"
      ]
     },
     "execution_count": 68,
     "metadata": {},
     "output_type": "execute_result"
    }
   ],
   "source": [
    "tuple1.index('pear')"
   ]
  },
  {
   "cell_type": "code",
   "execution_count": 69,
   "id": "0e455e10-2c60-40dc-8d2e-4684ff37f0b8",
   "metadata": {},
   "outputs": [
    {
     "data": {
      "text/plain": [
       "'apple'"
      ]
     },
     "execution_count": 69,
     "metadata": {},
     "output_type": "execute_result"
    }
   ],
   "source": [
    "tuple1[0]"
   ]
  },
  {
   "cell_type": "markdown",
   "id": "a2d3af6b-fe32-4f77-8935-6537c232d6e6",
   "metadata": {},
   "source": [
    "## Range\n",
    "\n",
    "Ranges in Python are a built in List Generator that can generate a list based on:\n",
    "    \n",
    "* starting number\n",
    "* ending number (exclusive)\n",
    "* step size"
   ]
  },
  {
   "cell_type": "code",
   "execution_count": 70,
   "id": "0e74ae70-ba3a-4453-81c5-f68ca4ec8bf6",
   "metadata": {},
   "outputs": [
    {
     "data": {
      "text/plain": [
       "range(0, 5)"
      ]
     },
     "execution_count": 70,
     "metadata": {},
     "output_type": "execute_result"
    }
   ],
   "source": [
    "range1 = range(5)\n",
    "range1"
   ]
  },
  {
   "cell_type": "code",
   "execution_count": 71,
   "id": "3ce77eae-452c-499c-a92e-3cf70aa046f2",
   "metadata": {},
   "outputs": [
    {
     "name": "stdout",
     "output_type": "stream",
     "text": [
      "0\n",
      "1\n",
      "2\n",
      "3\n",
      "4\n"
     ]
    }
   ],
   "source": [
    "for x in range1:\n",
    "    print(x)"
   ]
  },
  {
   "cell_type": "code",
   "execution_count": 72,
   "id": "a94b824d-dd5c-43b3-93c4-b6c7d426f3f5",
   "metadata": {},
   "outputs": [],
   "source": [
    "# we will talk to functions later\n",
    "def explicitRange(r):\n",
    "    baseList=[]\n",
    "    baseList.extend(r)\n",
    "    return baseList"
   ]
  },
  {
   "cell_type": "code",
   "execution_count": 73,
   "id": "772d0444-46a5-4fe1-b0d7-15c0f887383d",
   "metadata": {},
   "outputs": [
    {
     "data": {
      "text/plain": [
       "[0, 1, 2, 3, 4]"
      ]
     },
     "execution_count": 73,
     "metadata": {},
     "output_type": "execute_result"
    }
   ],
   "source": [
    "explicitRange(range(5))"
   ]
  },
  {
   "cell_type": "code",
   "execution_count": 74,
   "id": "4cb4be5a-b0d0-4978-b1b5-d3ff09f8dc07",
   "metadata": {},
   "outputs": [
    {
     "data": {
      "text/plain": [
       "[10, 11, 12, 13, 14, 15, 16, 17, 18, 19]"
      ]
     },
     "execution_count": 74,
     "metadata": {},
     "output_type": "execute_result"
    }
   ],
   "source": [
    "explicitRange(range(10,20))"
   ]
  },
  {
   "cell_type": "code",
   "execution_count": 75,
   "id": "a6baaa7b-a6d0-4c1c-9ea9-94db83789d65",
   "metadata": {},
   "outputs": [
    {
     "data": {
      "text/plain": [
       "[10, 12, 14, 16, 18]"
      ]
     },
     "execution_count": 75,
     "metadata": {},
     "output_type": "execute_result"
    }
   ],
   "source": [
    "explicitRange(range(10,20,2))"
   ]
  },
  {
   "cell_type": "markdown",
   "id": "5f4faa62-5fdb-4ecb-bc1b-d23925190f84",
   "metadata": {},
   "source": [
    "# Sets / FrozenSets\n",
    "\n",
    "[Sets](https://docs.python.org/3/library/stdtypes.html#set-types-set-frozenset)\n",
    "are an unordered collection of values.\n",
    "       \n",
    "The difference between Sets and FrozenSets are whether they are mutable vs immutable respectively.\n",
    "\n",
    "Note that unlike Lists, Sets must have elements that must be [hashable](https://docs.python.org/3/glossary.html#term-hashable) so they can be accessed on average in O(1) time.\n",
    "\n",
    "Sets are defined through opening and closing curlybraces `{}`"
   ]
  },
  {
   "cell_type": "code",
   "execution_count": 76,
   "id": "499b42eb-b6aa-4395-bb00-0835ee4a356c",
   "metadata": {},
   "outputs": [],
   "source": [
    "set1 = {'apple','orange','pear'}"
   ]
  },
  {
   "cell_type": "code",
   "execution_count": 77,
   "id": "b296c1b9-14f1-4828-8fe5-53572246e5a8",
   "metadata": {},
   "outputs": [
    {
     "data": {
      "text/plain": [
       "{'apple', 'orange', 'pear', 'pineapple'}"
      ]
     },
     "execution_count": 77,
     "metadata": {},
     "output_type": "execute_result"
    }
   ],
   "source": [
    "set1.add('pineapple')\n",
    "set1"
   ]
  },
  {
   "cell_type": "code",
   "execution_count": 78,
   "id": "f07b73f7-d2ce-410b-ad3f-573039c6d51a",
   "metadata": {},
   "outputs": [],
   "source": [
    "set2 = { 'blueberry', 'raspberry', 'pear', 'peach' }"
   ]
  },
  {
   "cell_type": "code",
   "execution_count": 79,
   "id": "382e6fbf-de32-4574-9bc2-fe1a8c6bc227",
   "metadata": {},
   "outputs": [],
   "source": [
    "setDisjoint = { 'blue', 'red' }"
   ]
  },
  {
   "cell_type": "code",
   "execution_count": 80,
   "id": "a7beefc7-b0f9-4b85-99e4-71ff422a42d3",
   "metadata": {},
   "outputs": [],
   "source": [
    "setSubset = {'pear'}"
   ]
  },
  {
   "cell_type": "code",
   "execution_count": 81,
   "id": "543ce116-8c15-4124-8504-80d5e3010aa3",
   "metadata": {},
   "outputs": [],
   "source": [
    "setClone = set1.copy()"
   ]
  },
  {
   "cell_type": "markdown",
   "id": "2f00eb7d-143a-4a91-9478-71a9e6dd2a52",
   "metadata": {},
   "source": [
    "## Set Collection Methods"
   ]
  },
  {
   "cell_type": "code",
   "execution_count": 82,
   "id": "1e32bfc6-1eb3-44da-a297-9a3cc11e4fe9",
   "metadata": {},
   "outputs": [
    {
     "name": "stdout",
     "output_type": "stream",
     "text": [
      "False\n",
      "True\n",
      "True\n"
     ]
    }
   ],
   "source": [
    "print('guava' in set1)\n",
    "# False\n",
    "print('apple' in set1)\n",
    "# True\n",
    "print('guava' not in set1)\n",
    "# True"
   ]
  },
  {
   "cell_type": "code",
   "execution_count": 83,
   "id": "cdd89c8a-e09d-42c6-94fc-fa50d4dc99a6",
   "metadata": {},
   "outputs": [
    {
     "name": "stdout",
     "output_type": "stream",
     "text": [
      "True\n",
      "True\n",
      "True\n",
      "True\n"
     ]
    }
   ],
   "source": [
    "# whether the sets are different\n",
    "print(setDisjoint.isdisjoint(set1))\n",
    "# True\n",
    "\n",
    "# whether the sets contains another\n",
    "print(setSubset.issubset(set1))\n",
    "# True\n",
    "print(setSubset < set1)\n",
    "# True\n",
    "print(setSubset <= set1)\n",
    "# True"
   ]
  },
  {
   "cell_type": "code",
   "execution_count": 84,
   "id": "53afa61d-c557-4777-b728-7a4a146d4ea1",
   "metadata": {},
   "outputs": [
    {
     "name": "stdout",
     "output_type": "stream",
     "text": [
      "True\n",
      "True\n",
      "False\n"
     ]
    }
   ],
   "source": [
    "print(set1 <= setClone)\n",
    "# True\n",
    "print(set1 >= setClone)\n",
    "# True\n",
    "print(set1 != setClone)\n",
    "# False"
   ]
  },
  {
   "cell_type": "code",
   "execution_count": 85,
   "id": "ce02d75e-3a46-4c38-8d1b-bff9103b9eb0",
   "metadata": {},
   "outputs": [
    {
     "name": "stdout",
     "output_type": "stream",
     "text": [
      "{'orange', 'blueberry', 'raspberry', 'peach', 'pineapple', 'apple', 'pear'}\n",
      "{'orange', 'blueberry', 'raspberry', 'peach', 'pineapple', 'apple', 'pear'}\n",
      "{'pear'}\n",
      "{'pear'}\n",
      "{'apple', 'orange', 'pineapple'}\n",
      "{'apple', 'orange', 'pineapple'}\n",
      "{'orange', 'blueberry', 'raspberry', 'peach', 'pineapple', 'apple'}\n",
      "{'orange', 'blueberry', 'raspberry', 'peach', 'pineapple', 'apple'}\n"
     ]
    }
   ],
   "source": [
    "print(set1.union(set2))\n",
    "print(set1 | set2)\n",
    "# {'raspberry', 'orange', 'pineapple', 'blueberry', 'pear', 'apple', 'peach'}\n",
    "\n",
    "print(set1.intersection(set2))\n",
    "print(set1 & set2)\n",
    "# {'pear'}\n",
    "\n",
    "print(set1.difference(set2))\n",
    "print(set1 - set2)\n",
    "# {'apple', 'pineapple', 'orange'}\n",
    "\n",
    "print(set1.symmetric_difference(set2))\n",
    "print(set1 ^ set2) # xor\n",
    "# {'raspberry', 'orange', 'pineapple', 'blueberry', 'apple', 'peach'}"
   ]
  },
  {
   "cell_type": "markdown",
   "id": "caca4525-035d-445b-95bb-bedcf946f423",
   "metadata": {},
   "source": [
    "**Note** the following operators are also allowed, and work similar to the above:\n",
    "    \n",
    "* `|=` - update the set adding all others\n",
    "* `&=` - update the set keeping only the items found in both sets\n",
    "* `-=` - update the set REMOVING items found in others\n",
    "* `^=` - update the set keeping only the items found in either set but not both"
   ]
  },
  {
   "cell_type": "markdown",
   "id": "c785d7c7-633e-4fa7-9488-c505213acdb8",
   "metadata": {},
   "source": [
    "## Map / Dictionaries\n",
    "\n",
    "JavaScript Map Objects can either be done through standard objects or through the standard [Map](https://developer.mozilla.org/en-US/docs/Web/JavaScript/Reference/Global_Objects/Map) object.\n",
    "\n",
    "Python has the [Dict](https://docs.python.org/3/library/stdtypes.html#mapping-types-dict) object"
   ]
  },
  {
   "cell_type": "code",
   "execution_count": 86,
   "id": "25336f18-7ff9-4082-b8dc-5ba786a48413",
   "metadata": {},
   "outputs": [],
   "source": [
    "# define through kwargs\n",
    "dict1 = dict(one=1, two=2, three=3)"
   ]
  },
  {
   "cell_type": "code",
   "execution_count": 87,
   "id": "5571a2bb-4fa6-4915-908a-eae6945e1479",
   "metadata": {},
   "outputs": [],
   "source": [
    "# explicit initialization\n",
    "dict2 = {'one':1, 'two':2, 'three':3}"
   ]
  },
  {
   "cell_type": "code",
   "execution_count": 88,
   "id": "10a03997-f176-4e3a-98e4-1e59723de6aa",
   "metadata": {},
   "outputs": [],
   "source": [
    "# array of Tuples\n",
    "dict3 = dict([('one', 1), ('two', 2), ('three',3)])"
   ]
  },
  {
   "cell_type": "code",
   "execution_count": 89,
   "id": "27c8720f-317f-4b47-957b-0d95cfea9f4e",
   "metadata": {},
   "outputs": [],
   "source": [
    "# initialize dictionary from a dictionary\n",
    "dict4 = dict({'one':1, 'two': 2, 'three':3})"
   ]
  },
  {
   "cell_type": "markdown",
   "id": "86ac36f1-6ba1-4021-a9a3-c8b0e7d22d39",
   "metadata": {},
   "source": [
    "Setting and getting values are similar to JavaScript"
   ]
  },
  {
   "cell_type": "code",
   "execution_count": 90,
   "id": "a4f18c31-2d85-4045-9e92-0f06659ff309",
   "metadata": {},
   "outputs": [
    {
     "name": "stdout",
     "output_type": "stream",
     "text": [
      "1\n",
      "{'one': 1, 'two': 2, 'three': 3, 'nine': 9}\n"
     ]
    }
   ],
   "source": [
    "print(dict1['one'])\n",
    "dict1['nine'] = 9\n",
    "print(dict1)"
   ]
  },
  {
   "cell_type": "markdown",
   "id": "ef862356-9cb9-452b-8469-6b48bb5b2fc7",
   "metadata": {},
   "source": [
    "Getting and setting keys are similar to JavaScript"
   ]
  },
  {
   "cell_type": "code",
   "execution_count": 91,
   "id": "5f97b40a-d973-4bfe-ba5c-c22e2c1322ca",
   "metadata": {},
   "outputs": [
    {
     "name": "stdout",
     "output_type": "stream",
     "text": [
      "dict_keys(['one', 'two', 'three', 'nine'])\n"
     ]
    }
   ],
   "source": [
    "print(dict1.keys())"
   ]
  },
  {
   "cell_type": "code",
   "execution_count": 92,
   "id": "dc9ac26c-f8e5-4882-bc2d-91e2b1abe9df",
   "metadata": {},
   "outputs": [
    {
     "name": "stdout",
     "output_type": "stream",
     "text": [
      "dict_values([1, 2, 3, 9])\n"
     ]
    }
   ],
   "source": [
    "print(dict1.values())"
   ]
  },
  {
   "cell_type": "markdown",
   "id": "bba3ce9a-728c-44f3-96db-bdeb2930fe48",
   "metadata": {},
   "source": [
    "## Global Map Methods\n",
    "\n",
    "Keep a list of oly the keys used in dict"
   ]
  },
  {
   "cell_type": "code",
   "execution_count": 93,
   "id": "08f9c096-cf6e-49c8-abc0-7a8dc7612d70",
   "metadata": {},
   "outputs": [
    {
     "data": {
      "text/plain": [
       "4"
      ]
     },
     "execution_count": 93,
     "metadata": {},
     "output_type": "execute_result"
    }
   ],
   "source": [
    "# python\n",
    "len(dict1)"
   ]
  },
  {
   "cell_type": "code",
   "execution_count": 94,
   "id": "d2e63785-6ab1-42b6-977a-7249f4c9a88b",
   "metadata": {},
   "outputs": [
    {
     "data": {
      "text/plain": [
       "{'one': 1, 'two': 2, 'three': 3}"
      ]
     },
     "execution_count": 94,
     "metadata": {},
     "output_type": "execute_result"
    }
   ],
   "source": [
    "if 'nine' in dict1:\n",
    "    del dict1['nine']\n",
    "dict1"
   ]
  },
  {
   "cell_type": "markdown",
   "id": "882991b0-543a-4bca-b478-76f34e1f13e5",
   "metadata": {},
   "source": [
    "Union is also the only other operator supported"
   ]
  },
  {
   "cell_type": "code",
   "execution_count": 95,
   "id": "880968a9-4b5d-4924-8a21-24f6f6500989",
   "metadata": {
    "tags": []
   },
   "outputs": [
    {
     "data": {
      "text/plain": [
       "{'one': 1, 'two': 2, 'three': 3, 'four': 4, 'five': 5}"
      ]
     },
     "execution_count": 95,
     "metadata": {},
     "output_type": "execute_result"
    }
   ],
   "source": [
    "dictNew = {'three':3, 'four':4, 'five':5}\n",
    "{**dict1, **dictNew}"
   ]
  },
  {
   "cell_type": "markdown",
   "id": "aac9ec64-c27c-40f0-b868-a6e27fdafbb2",
   "metadata": {},
   "source": [
    "----\n",
    "\n",
    "# JSON\n",
    "\n",
    "Python supports JSON objects natively, only through the separate `json` library\n",
    "\n",
    "## Load JSON String to Python\n",
    "\n",
    "```\n",
    "import json\n",
    "```"
   ]
  },
  {
   "cell_type": "code",
   "execution_count": 96,
   "id": "b5fbb8fd-6aee-42b1-9311-29da58d02135",
   "metadata": {},
   "outputs": [
    {
     "name": "stdout",
     "output_type": "stream",
     "text": [
      "30\n"
     ]
    }
   ],
   "source": [
    "# some JSON:\n",
    "x =  '{ \"name\":\"John\", \"age\":30, \"city\":\"New York\"}'\n",
    "\n",
    "# parse x:\n",
    "y = json.loads(x)\n",
    "\n",
    "# the result is a Python dictionary:\n",
    "print(y[\"age\"])"
   ]
  },
  {
   "cell_type": "markdown",
   "id": "d9cd7fb5-c9b6-4ee8-bb68-ec628e1a8fba",
   "metadata": {},
   "source": [
    "## Convert Python to JSON"
   ]
  },
  {
   "cell_type": "code",
   "execution_count": 97,
   "id": "18299502-c375-4826-9d7d-6ca0f9c73554",
   "metadata": {},
   "outputs": [
    {
     "name": "stdout",
     "output_type": "stream",
     "text": [
      "{\"name\": \"John\", \"age\": 30, \"city\": \"New York\"}\n"
     ]
    }
   ],
   "source": [
    "# a Python object (dict):\n",
    "x = {\n",
    "  \"name\": \"John\",\n",
    "  \"age\": 30,\n",
    "  \"city\": \"New York\"\n",
    "}\n",
    "\n",
    "# convert into JSON:\n",
    "y = json.dumps(x)\n",
    "\n",
    "# the result is a JSON string:\n",
    "print(y)\n"
   ]
  },
  {
   "cell_type": "markdown",
   "id": "64e677ad-5f09-451a-8db1-fbde556b0b22",
   "metadata": {},
   "source": [
    "------"
   ]
  },
  {
   "cell_type": "markdown",
   "id": "31edbb7e-0ee1-42dd-9183-76a0fd494602",
   "metadata": {},
   "source": [
    "# Operators\n",
    "\n",
    "\n",
    "\n",
    "# Logic Operators\n",
    "\n",
    "Logic operators are mostly similar between Python and JavaScript\n",
    "\n",
    "| OPERATOR         | PYTHON | JAVASCRIPT |\n",
    "|------------------|--------|------------|\n",
    "| logical and      | and    | &&         |\n",
    "| logical or       | or     | \\|\\|       |\n",
    "| logical negation | not    | !          |\n",
    "\n",
    "## Fast Fail And\n",
    "\n",
    "This works very similar to JavaScript, where it will only compute the second part if the first part is **True**."
   ]
  },
  {
   "cell_type": "code",
   "execution_count": 98,
   "id": "caff4958-39eb-4253-a375-84894ec0a8d8",
   "metadata": {},
   "outputs": [
    {
     "name": "stdout",
     "output_type": "stream",
     "text": [
      "This will print\n"
     ]
    }
   ],
   "source": [
    "2021 > 2019 and print('This will print')"
   ]
  },
  {
   "cell_type": "code",
   "execution_count": 99,
   "id": "e357de07-74f5-473a-a600-ce1597c6f055",
   "metadata": {},
   "outputs": [
    {
     "data": {
      "text/plain": [
       "False"
      ]
     },
     "execution_count": 99,
     "metadata": {},
     "output_type": "execute_result"
    }
   ],
   "source": [
    "2019 > 2021 and print('This will be FALSE and not evaluate the print')"
   ]
  },
  {
   "cell_type": "markdown",
   "id": "645c3067-d9c5-4455-b46c-42bcdf896e05",
   "metadata": {},
   "source": [
    "## Fast Fail OR\n",
    "\n",
    "This works similar to JavaScript, where the second part will be computed if the first part is **False**"
   ]
  },
  {
   "cell_type": "code",
   "execution_count": 100,
   "id": "a647ff83-94f3-4faa-a147-0a8f6f42ea65",
   "metadata": {},
   "outputs": [
    {
     "data": {
      "text/plain": [
       "True"
      ]
     },
     "execution_count": 100,
     "metadata": {},
     "output_type": "execute_result"
    }
   ],
   "source": [
    "2021 > 2019 or print('This will be TRUE and not print anything')"
   ]
  },
  {
   "cell_type": "code",
   "execution_count": 101,
   "id": "d6d00cd7-0e0e-4b2b-9f12-cd90ad2a886f",
   "metadata": {},
   "outputs": [
    {
     "name": "stdout",
     "output_type": "stream",
     "text": [
      "This will print\n"
     ]
    }
   ],
   "source": [
    "2019 > 2021 or print('This will print')"
   ]
  },
  {
   "cell_type": "markdown",
   "id": "7dbb39f4-1335-443a-8c2c-459975196e96",
   "metadata": {},
   "source": [
    "## Negation\n",
    "\n",
    "Negation uses the keyword `not` instead of the javascript 'bang' `!`"
   ]
  },
  {
   "cell_type": "code",
   "execution_count": 102,
   "id": "5f73f017-cff7-4313-b271-fcdac24d6eaf",
   "metadata": {},
   "outputs": [
    {
     "name": "stdout",
     "output_type": "stream",
     "text": [
      "This will print\n"
     ]
    }
   ],
   "source": [
    "not 2019 > 2021 and print('This will print')\n",
    "\n",
    "# equivalent to javascript: `!(2019 > 2021) && console.log('This will print')`"
   ]
  },
  {
   "cell_type": "markdown",
   "id": "f3488826-3672-4753-a8d3-2081607db778",
   "metadata": {},
   "source": [
    "# Arithmatic Operators\n",
    "\n",
    "Python and JavaScript have (more or less) the same arithmatic operators, with a few changes."
   ]
  },
  {
   "cell_type": "markdown",
   "id": "8433eade-ee40-412d-892c-bc76161659bf",
   "metadata": {},
   "source": [
    "| OPERATOR       | PYTHON | JAVASCRIPT |   |   |\n",
    "|----------------|--------|------------|---|---|\n",
    "| addition       | +      | +          |   |   |\n",
    "| subtraction    | -      | -          |   |   |\n",
    "| multiplication | *      | *          |   |   |\n",
    "| exponent       | **     | **         |   |   |\n",
    "| division       | /      | /          |   |   |\n",
    "| floor division | //     | n/a        |   |   |\n",
    "| modulo         | %      | %          |   |   |"
   ]
  },
  {
   "cell_type": "markdown",
   "id": "90f37f33-f01e-4ca5-8bae-b52b281d5458",
   "metadata": {},
   "source": [
    "**Floor Division** is essentially the division to the nearest (floored) integer.\n",
    "\n",
    "(This is similar to Java, where 5/2 = 2 as opposed to 5.0/2 = 2.5)"
   ]
  },
  {
   "cell_type": "code",
   "execution_count": 103,
   "id": "a483a9fe-2be4-45bf-ac2f-bf20a1106660",
   "metadata": {},
   "outputs": [
    {
     "data": {
      "text/plain": [
       "2"
      ]
     },
     "execution_count": 103,
     "metadata": {},
     "output_type": "execute_result"
    }
   ],
   "source": [
    "5 // 2\n",
    "\n",
    "# javascript: Math.floor(5/2)"
   ]
  },
  {
   "cell_type": "markdown",
   "id": "2b988f8d-036b-4d0d-93f5-c4053511af4b",
   "metadata": {},
   "source": [
    "# Assignment Operators\n",
    "\n",
    "Note that You can calculate a value and assign the value in the same operation, similar to JavaScript with one simple difference, there is no inline increment.\n",
    "\n",
    "| OPERATOR         | PYTHON | JAVASCRIPT |\n",
    "|------------------|--------|------------|\n",
    "| inline increment | n/a    | ++         |\n",
    "| inline decrement | n/a    | --         |\n",
    "| add assign       | +=     | +=         |\n",
    "| subtract assign  | -=     | -=         |\n",
    "| multiply assign  | *=     | *=         |\n",
    "| divide assign    | /=     | /=         |\n",
    "| etc...           |        |            |\n",
    "\n",
    "## Inline Increments\n",
    "\n",
    "JavaScript supports pre increments (++value) where the value is incremented by 1 before the statement is done.\n",
    "\n",
    "It also supports post increment (value++) where the value is incremented by 1 after the statement.\n",
    "\n",
    "Similar as-well for decrements\n",
    "\n",
    "ex:\n",
    "\n",
    "```\n",
    "value = 2\n",
    "console.log(++value)\n",
    "// 3\n",
    "console.log(value)\n",
    "// 3\n",
    "\n",
    "\n",
    "value = 2\n",
    "console.log(value++)\n",
    "// 2\n",
    "console.log(value)\n",
    "// 3\n",
    "\n",
    "value = 2\n",
    "console.log(value--)\n",
    "// 2\n",
    "console.log(value)\n",
    "// 1\n",
    "\n",
    "...\n",
    "\n",
    "```"
   ]
  },
  {
   "cell_type": "markdown",
   "id": "68e9eb68-38c9-49e7-addd-9864fdd7b60b",
   "metadata": {},
   "source": [
    "**Python instead requires you to use the assignment operator instead**"
   ]
  },
  {
   "cell_type": "code",
   "execution_count": 104,
   "id": "e946c48c-d290-42dd-82e0-c40a66984abd",
   "metadata": {},
   "outputs": [],
   "source": [
    "decrementVariable = 2\n",
    "decrementVariable -= 1"
   ]
  },
  {
   "cell_type": "markdown",
   "id": "17c0f288-94a5-4575-b403-d3aa2738ae2d",
   "metadata": {},
   "source": [
    "# Comparison Operators\n",
    "\n",
    "The biggest difference between Python and JavaScript is that there is no `strict-equality` operator or `===`\n",
    "\n",
    "This is mostly because Python doesn't follow the same weird coersion rules that JavaScript does, since python considers `'9' != 9`\n",
    "\n",
    "| OPERATOR              | PYTHON | JAVASCRIPT |\n",
    "|-----------------------|--------|------------|\n",
    "| greater than          | >      | >          |\n",
    "| less than             | <      | <          |\n",
    "| greater or equal than | >=     | >=         |\n",
    "| less or equal than    | <=     | <=         |\n",
    "| equal                 | ==     | ==         |\n",
    "| strict (triple) equal | n/a    | ===        |\n",
    "| not equal             | !=     | !=         |\n",
    "| strict not equal      | n/a    | !==        |"
   ]
  },
  {
   "cell_type": "markdown",
   "id": "2268192a-de59-4c16-bcef-20a8f7f7a41c",
   "metadata": {},
   "source": [
    "## String Concatenation\n",
    "\n",
    "Python Supports String concatenation also through the `+` operator"
   ]
  },
  {
   "cell_type": "code",
   "execution_count": 105,
   "id": "65437f99-e332-42f1-bb5c-4dc6068cdfc2",
   "metadata": {},
   "outputs": [
    {
     "data": {
      "text/plain": [
       "'aaa'"
      ]
     },
     "execution_count": 105,
     "metadata": {},
     "output_type": "execute_result"
    }
   ],
   "source": [
    "'a' + 'aa'"
   ]
  },
  {
   "cell_type": "markdown",
   "id": "327e8594-4896-40b1-b9bf-96acb9275ea8",
   "metadata": {},
   "source": [
    "**HOWEVER** you cannot concatenate strings to non-strings, as you will get a TypeError"
   ]
  },
  {
   "cell_type": "code",
   "execution_count": 106,
   "id": "0f93a7e9-534b-43c9-9769-47be2c7a68ad",
   "metadata": {},
   "outputs": [
    {
     "data": {
      "text/html": [
       "\n",
       "<div><pre style='background-color:rgb(255,221,221);'>\n",
       "---------------------------------------------------------------------------\n",
       "<span style='color:rgb(231,92,88);'>ErrorType: TypeError</span>\n",
       "Message: can only concatenate str (not \"int\") to str\n",
       "Stack trace:\n",
       "[\"File: <ipython-input-106-b7ba2585f7e2>, Line: 2, Func: <module>, Message: 'a:' + 9\"]\n",
       "---------------------------------------------------------------------------\n",
       "</pre></div>\n"
      ],
      "text/plain": [
       "<IPython.core.display.HTML object>"
      ]
     },
     "metadata": {},
     "output_type": "display_data"
    }
   ],
   "source": [
    "try:\n",
    "    'a:' + 9\n",
    "except BaseException:\n",
    "    printError()\n",
    "else:\n",
    "    print('No error found')"
   ]
  },
  {
   "cell_type": "code",
   "execution_count": 107,
   "id": "955aa243-84f7-449b-8a0d-2a7f60e90b6e",
   "metadata": {},
   "outputs": [
    {
     "name": "stdout",
     "output_type": "stream",
     "text": [
      "there was an error\n"
     ]
    }
   ],
   "source": [
    "try:\n",
    "    'a:' + 9\n",
    "except TypeError:\n",
    "    print(\"there was an error\") # print instead a html cell with bcack"
   ]
  },
  {
   "cell_type": "markdown",
   "id": "161869cb-9b19-4a0c-b06a-6540726eeb14",
   "metadata": {},
   "source": [
    "This must be done by casting the number to string instead"
   ]
  },
  {
   "cell_type": "code",
   "execution_count": 108,
   "id": "691e5e8c-3674-41e3-bcfe-e161dac0e6e0",
   "metadata": {},
   "outputs": [
    {
     "data": {
      "text/plain": [
       "'a:9'"
      ]
     },
     "execution_count": 108,
     "metadata": {},
     "output_type": "execute_result"
    }
   ],
   "source": [
    "'a:' + str(9)"
   ]
  },
  {
   "cell_type": "markdown",
   "id": "cccbcaa8-296f-4994-9e9e-ea9494149ea1",
   "metadata": {},
   "source": [
    "## Arithmatic on Strings\n",
    "\n",
    "Python supports arithmatic on strings in ways that JavaScript does not.\n",
    "\n",
    "For example, you can make a string 10 characters long by multiplying it:"
   ]
  },
  {
   "cell_type": "code",
   "execution_count": 109,
   "id": "a80d34ac-277d-46b3-b453-7261780d1c9a",
   "metadata": {},
   "outputs": [
    {
     "data": {
      "text/plain": [
       "'----------'"
      ]
     },
     "execution_count": 109,
     "metadata": {},
     "output_type": "execute_result"
    }
   ],
   "source": [
    "'-' * 10"
   ]
  },
  {
   "cell_type": "markdown",
   "id": "40ff3255-2d91-4f78-aeb8-9f6e58be2ae8",
   "metadata": {},
   "source": [
    "Arithmatic that doesn't make sense, such as dividing a string also throws an error.\n",
    "\n",
    "Unlike the mess you have with JavaScript - where it doesn't throw an error but instead gives a Not-a-Number (NaN)"
   ]
  },
  {
   "cell_type": "code",
   "execution_count": 110,
   "id": "d065a87c-71a1-40b2-9d21-f08fc769382f",
   "metadata": {},
   "outputs": [
    {
     "data": {
      "text/html": [
       "\n",
       "<div><pre style='background-color:rgb(255,221,221);'>\n",
       "---------------------------------------------------------------------------\n",
       "<span style='color:rgb(231,92,88);'>ErrorType: TypeError</span>\n",
       "Message: unsupported operand type(s) for /: 'str' and 'int'\n",
       "Stack trace:\n",
       "[\"File: <ipython-input-110-316f91fbad7e>, Line: 2, Func: <module>, Message: 'a' / 9\"]\n",
       "---------------------------------------------------------------------------\n",
       "</pre></div>\n"
      ],
      "text/plain": [
       "<IPython.core.display.HTML object>"
      ]
     },
     "metadata": {},
     "output_type": "display_data"
    }
   ],
   "source": [
    "try:\n",
    "    'a' / 9\n",
    "except BaseException:\n",
    "    printError()\n",
    "else:\n",
    "    print('No error found')"
   ]
  },
  {
   "cell_type": "markdown",
   "id": "263d331c-7cd1-4472-be40-237f89fb2554",
   "metadata": {},
   "source": [
    "## Arithmatic on Arrays\n",
    "\n",
    "You can also do arithmatic on Arrays"
   ]
  },
  {
   "cell_type": "code",
   "execution_count": 111,
   "id": "95372fc4-0fef-41af-b8e7-975deb47c6f4",
   "metadata": {},
   "outputs": [
    {
     "data": {
      "text/plain": [
       "[1, 2, 3, 1, 2, 3, 1, 2, 3]"
      ]
     },
     "execution_count": 111,
     "metadata": {},
     "output_type": "execute_result"
    }
   ],
   "source": [
    "[1,2,3] * 3"
   ]
  },
  {
   "cell_type": "markdown",
   "id": "cbcbd6d8-f713-4150-b4a9-5e714f2941b1",
   "metadata": {},
   "source": [
    "# Custom Operators\n",
    "\n",
    "You can implement custom operators on classes, each operator has a special method name that the compiler looks for:\n",
    "    \n",
    "Such as by adding the `__add__` method to your class, to support something like this:\n",
    "\n",
    "```\n",
    "balance = customDebitInstance + customCreditInstance\n",
    "print(balance) # 22.23\n",
    "```\n",
    "\n",
    "[See the Custom Operator Support section for more](#Custom-Operator-Support)"
   ]
  },
  {
   "cell_type": "markdown",
   "id": "4a88316f-7d17-4404-83f0-451b2d0b8525",
   "metadata": {},
   "source": [
    "----\n",
    "\n",
    "# Logic"
   ]
  },
  {
   "cell_type": "markdown",
   "id": "871f3096-dbfa-4ac8-80d8-902b7e464784",
   "metadata": {},
   "source": [
    "## Pass\n",
    "\n",
    "Because Python uses whitespace for code blocks...\n",
    "\n",
    "the way you represent an empty block is through the `pass` command"
   ]
  },
  {
   "cell_type": "code",
   "execution_count": 136,
   "id": "8e5b396d-a3a5-43bf-841e-ab1321a54600",
   "metadata": {},
   "outputs": [],
   "source": [
    "# nothing will print\n",
    "if 2 < 1:\n",
    "    pass"
   ]
  },
  {
   "cell_type": "markdown",
   "id": "e1a4d80d-c9d3-406b-9872-348e0834206f",
   "metadata": {},
   "source": [
    "## If Then ElseIf\n",
    "\n",
    "Python uses indentation for scopes, without curly braces:"
   ]
  },
  {
   "cell_type": "code",
   "execution_count": 112,
   "id": "74759404-1e1e-4d69-bb52-253a20483a4a",
   "metadata": {},
   "outputs": [
    {
     "name": "stdout",
     "output_type": "stream",
     "text": [
      "a and b are equal\n"
     ]
    }
   ],
   "source": [
    "a = 33\n",
    "b = 33\n",
    "if b > a:\n",
    "  print(\"b is greater than a\")\n",
    "elif a == b:\n",
    "  print(\"a and b are equal\")\n",
    "else:\n",
    "    print(\"a is greater than b\")"
   ]
  },
  {
   "cell_type": "markdown",
   "id": "3770c299-c004-416f-a7d8-2068ebeeaab9",
   "metadata": {},
   "source": [
    "## IF Else Shorthand\n",
    "\n",
    "Like JavaScript ternary statements, you can use inline `if ... else ...` statements"
   ]
  },
  {
   "cell_type": "code",
   "execution_count": 113,
   "id": "39fc8cad-6613-4fe4-b5c6-a0506a5cfe52",
   "metadata": {},
   "outputs": [
    {
     "name": "stdout",
     "output_type": "stream",
     "text": [
      "B\n"
     ]
    }
   ],
   "source": [
    "a = 2\n",
    "b = 330\n",
    "print(\"A\") if a > b else print(\"B\")"
   ]
  },
  {
   "cell_type": "markdown",
   "id": "df12a1d0-e0da-4c20-8d57-8b5ecb0bad42",
   "metadata": {},
   "source": [
    "This can be a couple levels deep"
   ]
  },
  {
   "cell_type": "code",
   "execution_count": 114,
   "id": "9fa523c2-f785-46ef-972a-5b3e33519423",
   "metadata": {},
   "outputs": [
    {
     "name": "stdout",
     "output_type": "stream",
     "text": [
      "=\n"
     ]
    }
   ],
   "source": [
    "a = 330\n",
    "b = 330\n",
    "print(\"A\") if a > b else print(\"=\") if a == b else print(\"B\")"
   ]
  },
  {
   "cell_type": "markdown",
   "id": "c3c7490a-df29-46e4-aed6-050a07444331",
   "metadata": {},
   "source": [
    "Note that Python uses the `and` keyword instead of `&&`, and `or` keywords instead of `||`"
   ]
  },
  {
   "cell_type": "code",
   "execution_count": 115,
   "id": "77e85179-e1a6-461f-9260-3cbdc75e770b",
   "metadata": {},
   "outputs": [
    {
     "name": "stdout",
     "output_type": "stream",
     "text": [
      "a > b > c\n"
     ]
    }
   ],
   "source": [
    "a = 500\n",
    "b = 200\n",
    "c = 30\n",
    "if a > b and b > c:\n",
    "    print(\"a > b > c\")"
   ]
  },
  {
   "cell_type": "markdown",
   "id": "4a946342-8559-47be-94a2-86d560f0e2aa",
   "metadata": {},
   "source": [
    "See [Logic Operators](#Logic-Operators) for more"
   ]
  },
  {
   "cell_type": "markdown",
   "id": "81c17ae0-8399-4005-b51b-e8e4da93f0f4",
   "metadata": {},
   "source": [
    "## No Switch\n",
    "\n",
    "TLDR; There is no **switch** statement in Python like in JavaScript, but Dict objects are a bit more powerful to help\n",
    "\n",
    "```\n",
    "// JavaScript\n",
    "function getUrlConf(host) {\n",
    "  switch (host) {\n",
    "    case \"www.example-a.dev\":\n",
    "      return \"firstApp.urls\";\n",
    "    case \"www-example-b.dev\":\n",
    "      return \"secondApp.urls\";\n",
    "    case \"www.example-c.dev\":\n",
    "      return \"thirdApp.urls\";\n",
    "    default:\n",
    "      return \"Sorry, no match\";\n",
    "  }\n",
    "}\n",
    "\n",
    "getUrlConf(\"www-example-b.dev\");\n",
    "```\n",
    "\n",
    "Within Python, we can do something else:"
   ]
  },
  {
   "cell_type": "code",
   "execution_count": 116,
   "id": "c07861b5-22a1-4d1c-a5ee-d69e462e8b4a",
   "metadata": {},
   "outputs": [
    {
     "data": {
      "text/plain": [
       "'secondApp.urls'"
      ]
     },
     "execution_count": 116,
     "metadata": {},
     "output_type": "execute_result"
    }
   ],
   "source": [
    "def getUrlConf(host:str):\n",
    "    mapping = {\n",
    "        \"www.example-a.dev\": \"firstApp.urls\",\n",
    "        \"www-example-b.dev\": \"secondApp.urls\",\n",
    "        \"www.example-c.dev\": \"thirdApp.urls\"\n",
    "    }\n",
    "    \n",
    "    if (host in mapping):\n",
    "        return mapping.get(host)\n",
    "    else:\n",
    "        return 'Sorry, no match'\n",
    "\n",
    "getUrlConf(\"www-example-b.dev\")"
   ]
  },
  {
   "cell_type": "markdown",
   "id": "d2e544b7-465a-49dc-8932-764ffb2164fe",
   "metadata": {},
   "source": [
    "Note you can also use lambdas a bit as-well, but you might as well just look into if-then-else"
   ]
  },
  {
   "cell_type": "code",
   "execution_count": 117,
   "id": "dbfb9c3d-e06d-4d9f-8174-76fcd50b5b84",
   "metadata": {},
   "outputs": [
    {
     "data": {
      "text/plain": [
       "'adam tells a joke to eve'"
      ]
     },
     "execution_count": 117,
     "metadata": {},
     "output_type": "execute_result"
    }
   ],
   "source": [
    "def sayMessageLambda(messageType, fromPerson, toPerson):\n",
    "    mLambda = {\n",
    "        'joke': lambda p1,p2: f\"{fromPerson} tells a joke to {toPerson}\",\n",
    "        'sadStory': lambda p1,p2: f\"{fromPerson} tells a sad story to {toPerson}\",\n",
    "        'compliment': lambda p1,p2: f\"{fromPerson} pays a compliment to {toPerson}\"\n",
    "    }.get(messageType, lambda: 'Unknown message type')\n",
    "    \n",
    "    return mLambda(fromPerson, toPerson)\n",
    "\n",
    "sayMessageLambda('joke', 'adam', 'eve')\n",
    "    "
   ]
  },
  {
   "cell_type": "markdown",
   "id": "0b25b092-b9cc-4226-a80c-699422fe1b70",
   "metadata": {},
   "source": [
    "----\n",
    "\n",
    "# Loops"
   ]
  },
  {
   "cell_type": "markdown",
   "id": "f4fbf8ac-37cb-4e63-8c56-5467575e2ac7",
   "metadata": {},
   "source": [
    "## For Loops\n",
    "\n",
    "**TLDR; python is very similar to javascript (for-in, iterators, generators,etc) but there is no `for(i;i<0;i++)`, it uses `range`s instead**"
   ]
  },
  {
   "cell_type": "code",
   "execution_count": 128,
   "id": "f3cdd8eb-081a-43db-b50c-71ef6988a9b1",
   "metadata": {},
   "outputs": [
    {
     "data": {
      "text/plain": [
       "['apple', 'orange', 'pear', 'orange']"
      ]
     },
     "execution_count": 128,
     "metadata": {},
     "output_type": "execute_result"
    }
   ],
   "source": [
    "list1"
   ]
  },
  {
   "cell_type": "code",
   "execution_count": 129,
   "id": "de22f36f-fff9-4735-a085-abf45a6b814d",
   "metadata": {},
   "outputs": [
    {
     "name": "stdout",
     "output_type": "stream",
     "text": [
      "apple\n",
      "orange\n",
      "pear\n",
      "orange\n"
     ]
    }
   ],
   "source": [
    "for fruit in list1:\n",
    "    print(fruit)"
   ]
  },
  {
   "cell_type": "markdown",
   "id": "3bc3e658-85a8-485a-b92f-75d090f2a893",
   "metadata": {},
   "source": [
    "### Range\n",
    "\n",
    "As mentioned, there is no equivalent of javascript's for i loops:\n",
    "\n",
    "```\n",
    "// javascript\n",
    "for (let i = 0; i < 10; i++) {\n",
    "    console.log(i);\n",
    "}\n",
    "\n",
    "Instead, Python uses the [range](https://docs.python.org/3/tutorial/controlflow.html?highlight=range#the-range-function) function.\n",
    "\n",
    "**NOTE: this creates a long list IN MEMORY, unlike a [Generator](#Generator)**\n",
    "\n",
    "If you are simply going from 0 to a max number, the default `range(max)` will work"
   ]
  },
  {
   "cell_type": "code",
   "execution_count": 134,
   "id": "6d747a94-4bd9-42bd-8cbd-7d3b86d65055",
   "metadata": {},
   "outputs": [
    {
     "name": "stdout",
     "output_type": "stream",
     "text": [
      "0\n",
      "1\n",
      "2\n",
      "3\n",
      "4\n"
     ]
    }
   ],
   "source": [
    "for exampleNumber in range(5):\n",
    "    print(exampleNumber)"
   ]
  },
  {
   "cell_type": "markdown",
   "id": "7eb3704b-0e4f-4d28-89b0-9046b606e710",
   "metadata": {},
   "source": [
    "Otherwise, you can print with a starting number, ending number and increment\n",
    "\n",
    "ex: range(start, endExclusive, incrementation)"
   ]
  },
  {
   "cell_type": "code",
   "execution_count": 133,
   "id": "2c7d8d8a-d8a1-4653-82dd-03ab95742598",
   "metadata": {},
   "outputs": [
    {
     "name": "stdout",
     "output_type": "stream",
     "text": [
      "10\n",
      "15\n",
      "20\n",
      "25\n",
      "30\n",
      "35\n"
     ]
    }
   ],
   "source": [
    "# print from 5 to just before 11, skipping by 5s\n",
    "for exampleNumber in range(10, 40, 5):\n",
    "    print(exampleNumber)"
   ]
  },
  {
   "cell_type": "markdown",
   "id": "bfc7375d-cce3-4b59-883d-b74d6694d6d4",
   "metadata": {},
   "source": [
    "Note that only the first number is required"
   ]
  },
  {
   "cell_type": "markdown",
   "id": "22633a71-d96c-4899-baa5-7cc998fa9cbb",
   "metadata": {},
   "source": [
    "## Break / Continue are the Same\n",
    "\n",
    "... But should you really be using it? Hrm?"
   ]
  },
  {
   "cell_type": "code",
   "execution_count": 138,
   "id": "bc9c96d1-b9bc-4ac3-834b-8c43c4828ca0",
   "metadata": {},
   "outputs": [
    {
     "name": "stdout",
     "output_type": "stream",
     "text": [
      "2 is an even number\n",
      "3 is an odd number\n",
      "4 is an even number\n",
      "5 is an odd number\n",
      "6 is an even number\n",
      "7 is an odd number\n",
      "8 is an even number\n",
      "9 is an odd number\n"
     ]
    }
   ],
   "source": [
    "for num in range(2,10):\n",
    "    if num % 2 == 0:\n",
    "        print(f\"{num} is an even number\")\n",
    "        continue\n",
    "    print(f\"{num} is an odd number\")"
   ]
  },
  {
   "cell_type": "markdown",
   "id": "2c9be3e6-f84d-4a4c-877d-fd352d9524eb",
   "metadata": {},
   "source": [
    "## Generator\n",
    "\n",
    "Generators are very similar to JavaScript.\n",
    "\n",
    "They are a function that when called returns an iterator.\n",
    "\n",
    "(See [Functions](#Functions) section below)"
   ]
  },
  {
   "cell_type": "code",
   "execution_count": 157,
   "id": "e62498e0-8484-4a55-87ba-85570a96685c",
   "metadata": {},
   "outputs": [],
   "source": [
    "# Generator that returns every even number in a range\n",
    "def evenRange(start, end):\n",
    "    num = start\n",
    "    while num < end:\n",
    "        if num % 2 == 0:\n",
    "            yield num\n",
    "        num += 1\n",
    "    return end\n",
    "\n",
    "evenIterator = evenRange(0, 10)"
   ]
  },
  {
   "cell_type": "markdown",
   "id": "57a9fe8f-fd6c-47a0-9b02-61620a106411",
   "metadata": {},
   "source": [
    "Likely accessible through a `for in`:"
   ]
  },
  {
   "cell_type": "code",
   "execution_count": 163,
   "id": "ce88995f-8f77-487c-851f-4e4b9dacf0f4",
   "metadata": {},
   "outputs": [
    {
     "name": "stdout",
     "output_type": "stream",
     "text": [
      "0\n",
      "2\n",
      "4\n",
      "6\n",
      "8\n"
     ]
    }
   ],
   "source": [
    "for evenNumber in evenRange(0,10):\n",
    "    print(evenNumber)"
   ]
  },
  {
   "cell_type": "markdown",
   "id": "397fd5bd-47de-4146-9a88-eb6acfb56011",
   "metadata": {},
   "source": [
    "**NOTE: THIS DOES NOT CREATE A MASSIVE LIST IN MEMORY, and can be better than Range**"
   ]
  },
  {
   "cell_type": "markdown",
   "id": "8148f686-e199-4781-9895-c3a8cc0487d1",
   "metadata": {},
   "source": [
    "----"
   ]
  },
  {
   "cell_type": "markdown",
   "id": "9346573b-5795-47fa-97a4-521b178f31ea",
   "metadata": {},
   "source": [
    "# ES6+ in Python\n",
    "\n",
    "@TODO"
   ]
  },
  {
   "cell_type": "markdown",
   "id": "0deabf33-00c9-4958-92d3-edb3fec1d8b0",
   "metadata": {},
   "source": [
    "# Map\n",
    "\n",
    "@TODO"
   ]
  },
  {
   "cell_type": "markdown",
   "id": "a6ad2fba-a240-4f73-a44f-13c0e65b7e28",
   "metadata": {},
   "source": [
    "# Variable Destructuring\n",
    "\n",
    "@TODO"
   ]
  },
  {
   "cell_type": "markdown",
   "id": "54b365f6-cf8d-4620-9c07-639dc7aa0b1d",
   "metadata": {},
   "source": [
    "----\n",
    "\n",
    "# Logic\n",
    "\n",
    "@TODO"
   ]
  },
  {
   "cell_type": "markdown",
   "id": "26b68d49-e9f3-4e53-8116-56501515055b",
   "metadata": {},
   "source": [
    "--------\n",
    "\n",
    "# Handling Errors / Exceptions\n",
    "\n",
    "Errors handled during execution of the interpreter are called [Exceptions](https://docs.python.org/3/tutorial/errors.html)\n",
    "\n",
    "Unlike JavaScript, it is much harder for Exceptions to be [silently thrown and the program continues as normal](https://developer.mozilla.org/en-US/docs/Web/JavaScript/Reference/Strict_mode).\n",
    "\n",
    "This can be thought of as always running in [JavaScript Strict Mode](https://developer.mozilla.org/en-US/docs/Web/JavaScript/Reference/Strict_mode)...\n",
    "\n",
    "([So no changes in how you've normally been working, right? ... Right?](https://knowyourmeme.com/memes/for-the-better-right))\n",
    "\n",
    "Chaining Exceptions (such as having a `caught Exception` throw another exception, works similar to JavaScript.\n",
    "\n",
    "**More on Exceptions can be found in the [Python Documentation on Exceptions](https://docs.python.org/3/tutorial/errors.html)**"
   ]
  },
  {
   "cell_type": "markdown",
   "id": "277e7ef7-e533-47e6-aff8-3ed9400e16c2",
   "metadata": {},
   "source": [
    "## Try Throw Catch\n",
    "\n",
    "TLDR;  Python has a similar logic to 'Try ... Catch' called 'Try... Except` \n",
    "\n",
    "Python uses similar logic to the JavaScript Try Throw Catch:\n",
    "    \n",
    "```\n",
    "JavaScript:\n",
    "try {\n",
    "    1/0\n",
    "} catch (err) {\n",
    "    if (err instanceof ZeroDivisionError) {\n",
    "        console.log(`Error occurred: {err.message}`);\n",
    "    } else if (err instanceof RuntimeError) {\n",
    "        console.log(...)\n",
    "    } else if (err instanceof Error) { // all exceptions extend Error\n",
    "        console.log(\n",
    "    }\n",
    "}\n",
    "```\n",
    "\n",
    "Python is quite similar using `Try ... Except`:"
   ]
  },
  {
   "cell_type": "code",
   "execution_count": 118,
   "id": "cad303d1-137e-463c-a654-e8b7f074afb3",
   "metadata": {},
   "outputs": [
    {
     "name": "stdout",
     "output_type": "stream",
     "text": [
      "ZeroDivisionError\n"
     ]
    },
    {
     "data": {
      "text/html": [
       "\n",
       "<div><pre style='background-color:rgb(255,221,221);'>\n",
       "---------------------------------------------------------------------------\n",
       "<span style='color:rgb(231,92,88);'>ErrorType: ZeroDivisionError</span>\n",
       "Message: division by zero\n",
       "Stack trace:\n",
       "['File: <ipython-input-118-d0be2b141aca>, Line: 5, Func: <module>, Message: 1/0']\n",
       "---------------------------------------------------------------------------\n",
       "</pre></div>\n"
      ],
      "text/plain": [
       "<IPython.core.display.HTML object>"
      ]
     },
     "metadata": {},
     "output_type": "display_data"
    },
    {
     "name": "stdout",
     "output_type": "stream",
     "text": [
      "Everything is done\n"
     ]
    }
   ],
   "source": [
    "class CustomException(Exception):\n",
    "    pass\n",
    "\n",
    "try:\n",
    "    1/0\n",
    "except (ZeroDivisionError, RuntimeError) as err:\n",
    "    # do something with it.\n",
    "    # for now, we will just print the error safely\n",
    "    print('ZeroDivisionError')\n",
    "    printError()\n",
    "except BaseException as err:\n",
    "    # Run if no other Exception matches\n",
    "    printError()\n",
    "else:\n",
    "    print('No Errors')\n",
    "finally:\n",
    "    print('Everything is done')"
   ]
  },
  {
   "cell_type": "markdown",
   "id": "0bbc5b5f-371f-4517-b273-e4a2ce119fa1",
   "metadata": {},
   "source": [
    "* Exceptions (not Errors) are checked.\n",
    "* Exceptions can match base on the Type of Error, instead of using `instanceof` logic"
   ]
  },
  {
   "cell_type": "markdown",
   "id": "adc52ce3-11a4-4120-82e2-13f80d1c78b6",
   "metadata": {},
   "source": [
    "## Custom Exceptions\n",
    "\n",
    "Custom Errors extend `Exception`\n",
    "(instead of 'Error' in JavaScript)\n",
    "\n",
    "We catch the Exceptions through the `raise` command\n",
    "(instead of 'throw' as in JavaScript)"
   ]
  },
  {
   "cell_type": "code",
   "execution_count": 119,
   "id": "491e6fc1-4898-46f1-882e-664d4be7769c",
   "metadata": {},
   "outputs": [
    {
     "data": {
      "text/html": [
       "\n",
       "<div><pre style='background-color:rgb(255,221,221);'>\n",
       "---------------------------------------------------------------------------\n",
       "<span style='color:rgb(231,92,88);'>ErrorType: CustomException</span>\n",
       "Message: Message\n",
       "Stack trace:\n",
       "[\"File: <ipython-input-119-b00051b0558e>, Line: 8, Func: <module>, Message: raise CustomException('Message')\"]\n",
       "---------------------------------------------------------------------------\n",
       "</pre></div>\n"
      ],
      "text/plain": [
       "<IPython.core.display.HTML object>"
      ]
     },
     "metadata": {},
     "output_type": "display_data"
    },
    {
     "name": "stdout",
     "output_type": "stream",
     "text": [
      "Everything is done\n"
     ]
    }
   ],
   "source": [
    "# 'Custom Errors' extend Exception and are 'raised' not 'throw'n\n",
    "\n",
    "class CustomException(Exception):\n",
    "    \"\"\"Custom Exception for this module\"\"\"\n",
    "    pass\n",
    "\n",
    "try:\n",
    "    raise CustomException('Message')\n",
    "except (ZeroDivisionError, RuntimeError) as err:\n",
    "    # do something with it.\n",
    "    # for now, we will just print the error safely\n",
    "    print('ZeroDivisionError')\n",
    "    printError()\n",
    "except BaseException as err:\n",
    "    # Run if no other Exception matches\n",
    "    printError()\n",
    "else:\n",
    "    print('Everything is fine')\n",
    "finally:\n",
    "    print('Everything is done')"
   ]
  },
  {
   "cell_type": "markdown",
   "id": "786e4698-6a27-4635-8b36-5d6b762787d8",
   "metadata": {},
   "source": [
    "----\n",
    "\n",
    "# Functions\n",
    "\n",
    "@TODO"
   ]
  },
  {
   "cell_type": "markdown",
   "id": "a43a69ca-49a5-416b-93f0-c642b1f09ea4",
   "metadata": {},
   "source": [
    "----\n",
    "\n",
    "# Math\n",
    "\n",
    "Python has a Math Library - but you need to import it\n",
    "\n",
    "`import math`\n",
    "\n",
    "[See all Math methods](https://www.w3schools.com/python/module_math.asp)"
   ]
  },
  {
   "cell_type": "markdown",
   "id": "34e0c193-7282-484e-a423-677958feb3b5",
   "metadata": {},
   "source": [
    "-----\n",
    "\n",
    "# Object Oriented Programming"
   ]
  },
  {
   "cell_type": "markdown",
   "id": "66dcf761-e010-457f-99eb-57b1505afcb9",
   "metadata": {},
   "source": [
    "## Class Modules\n",
    "\n",
    "You can define a class through:..."
   ]
  },
  {
   "cell_type": "markdown",
   "id": "859f0343-bd3e-47bb-b822-0f5b0ad84516",
   "metadata": {},
   "source": [
    "## JavaDoc / Help"
   ]
  },
  {
   "cell_type": "markdown",
   "id": "47fbffb3-38e5-4a3c-83b9-733c46fefb83",
   "metadata": {},
   "source": [
    "TLDR; - Look at [reST or ReStructuredText](https://docutils.sourceforge.io/rst.html)\n",
    "as this is closest to JavaDoc / JavaScriptDoc formats, but are used by the [Sphynx - python documentation generator](https://www.sphinx-doc.org/en/master/)"
   ]
  },
  {
   "cell_type": "markdown",
   "id": "f6db0e4a-1476-4111-a2ec-3bbe1eeb6b7c",
   "metadata": {},
   "source": [
    "Note that you can asking for help on any function through the `help()` function.`"
   ]
  },
  {
   "cell_type": "code",
   "execution_count": 120,
   "id": "37796ab2-31b1-4532-9398-c6c0d205b057",
   "metadata": {
    "scrolled": true,
    "tags": []
   },
   "outputs": [
    {
     "name": "stdout",
     "output_type": "stream",
     "text": [
      "Help on built-in function len in module builtins:\n",
      "\n",
      "len(obj, /)\n",
      "    Return the number of items in a container.\n",
      "\n"
     ]
    }
   ],
   "source": [
    "help(len)"
   ]
  },
  {
   "cell_type": "markdown",
   "id": "e7c60442-e303-4bfb-8723-d2a59f39dc01",
   "metadata": {},
   "source": [
    "To allow for support for your custom functions and methods, the first string you put within a function is used."
   ]
  },
  {
   "cell_type": "code",
   "execution_count": 121,
   "id": "c8ebab15-6ad8-4e1b-adf6-9716c8b89f3c",
   "metadata": {},
   "outputs": [],
   "source": [
    "def someCustomFunction():\n",
    "    \"\"\"Replaces template placeholder with values.\n",
    "    \n",
    "    :param timestamp: formatted date to display\n",
    "    :param priority: priority number\n",
    "    :param priority_name: priority name\n",
    "    :param message: message to display\n",
    "    :returns: formatted string\n",
    "    \"\"\"\n",
    "    return 'Some value to be provided'"
   ]
  },
  {
   "cell_type": "code",
   "execution_count": 122,
   "id": "b9503f6a-8f5e-4508-816e-1b1ef2da22cc",
   "metadata": {},
   "outputs": [
    {
     "name": "stdout",
     "output_type": "stream",
     "text": [
      "Help on function someCustomFunction in module __main__:\n",
      "\n",
      "someCustomFunction()\n",
      "    Replaces template placeholder with values.\n",
      "    \n",
      "    :param timestamp: formatted date to display\n",
      "    :param priority: priority number\n",
      "    :param priority_name: priority name\n",
      "    :param message: message to display\n",
      "    :returns: formatted string\n",
      "\n"
     ]
    }
   ],
   "source": [
    "help(someCustomFunction)"
   ]
  },
  {
   "cell_type": "code",
   "execution_count": 123,
   "id": "fd2c2172-6fa8-461c-8b08-1819b36a2c15",
   "metadata": {},
   "outputs": [
    {
     "data": {
      "text/plain": [
       "'Some value to be provided'"
      ]
     },
     "execution_count": 123,
     "metadata": {},
     "output_type": "execute_result"
    }
   ],
   "source": [
    "someCustomFunction()"
   ]
  },
  {
   "cell_type": "markdown",
   "id": "fd977d7d-426a-4800-8d4c-3643bf486104",
   "metadata": {},
   "source": [
    "**Note: Python will always be dynamically typed, but with Pep484, parameter type hints are now supported**"
   ]
  },
  {
   "cell_type": "code",
   "execution_count": 124,
   "id": "d7a390d2-269c-4ff8-b3af-d9b4e7ab4f8e",
   "metadata": {},
   "outputs": [
    {
     "data": {
      "text/plain": [
       "'Echo! Echo! Echo! Echo! '"
      ]
     },
     "execution_count": 124,
     "metadata": {},
     "output_type": "execute_result"
    }
   ],
   "source": [
    "# parameter: type, ...\n",
    "def string_repeater(string: str, count:int = 4 ):\n",
    "    return string * count\n",
    "\n",
    "string_repeater('Echo! ', 4)"
   ]
  },
  {
   "cell_type": "markdown",
   "id": "ca1def48-0835-409f-a866-0c4a7f58a0a2",
   "metadata": {},
   "source": [
    "See the [Dynamically Typed](#Dynamically-Typed) section for more"
   ]
  },
  {
   "cell_type": "markdown",
   "id": "743c92d5-8a2b-4f85-a707-0248b717996d",
   "metadata": {},
   "source": [
    "## Special Method Names\n",
    "\n",
    "### constructors\n",
    "\n",
    "Python looks for a specific method called [__init__(...)](https://docs.python.org/3/reference/datamodel.html#object.__init__) when creating a new instance of a class.\n",
    "\n",
    "### Inherited Constructor\n",
    "\n",
    "Python has a special method that it looks for on the parent class called [__new__()](https://docs.python.org/3/reference/datamodel.html#object.__new__)\n",
    "\n",
    "### Destructors\n",
    "\n",
    "[__del__(self)](https://docs.python.org/3/reference/datamodel.html#object.__del__)\n",
    "\n",
    "### String Represtation\n",
    "\n",
    "[__repr__(self)](https://docs.python.org/3/reference/datamodel.html#object.__repr__)\n",
    "is the 'official' string representation of the object\n",
    "\n",
    "[__str__(self)](https://docs.python.org/3/reference/datamodel.html#object.__str__)\n",
    "is the 'informal' string representation used in format and print\n",
    "\n",
    "### Byte string representation (serialize)\n",
    "\n",
    "[__bytes__(self)](https://docs.python.org/3/reference/datamodel.html#object.__bytes__)\n",
    "Called by bytes to compute a byte-string representation of an object. This should return a bytes object.\\\n",
    "\n",
    "### Formatted String Literal\n",
    "\n",
    "[__format__(self)](https://docs.python.org/3/reference/datamodel.html#object.__format__)\n",
    "\n",
    "### Hash to support Sets\n",
    "\n",
    "[__set__(self)](https://docs.python.org/3/reference/datamodel.html#object.__hash__)\n",
    "Called by built-in function hash() and for operations on members of hashed collections including set, frozenset, and dict.\n",
    "\n",
    "It should return an integer.\n",
    "\n",
    "### Boolean or Truthy Support\n",
    "\n",
    "[__bool__(self)](https://docs.python.org/3/reference/datamodel.html#object.__bool__)\n",
    "Allows for truthy statements, like `if (instance): ...`\n",
    "\n",
    "## Custom Operator Support\n",
    "\n",
    "Python supports overloading operators to work with Objects, so for example we can support the addition operator `+` on custom object instances:\n",
    "\n",
    "```\n",
    "balance = customDebitInstance + customCreditInstance\n",
    "print(balance) # 22.23\n",
    "```\n",
    "\n",
    "@TODO: create a table to convert the overrides from [this page](https://docs.python.org/3/reference/expressions.html)\n",
    "\n",
    "[See this document for more](https://realpython.com/operator-function-overloading/)\n",
    "\n",
    "with the full list of all operators under [the Python Expressions section](https://docs.python.org/3/reference/expressions.html)"
   ]
  },
  {
   "cell_type": "markdown",
   "id": "35087f8e-4e7d-4bbb-b3bc-23b19db0b652",
   "metadata": {},
   "source": [
    "----\n",
    "\n",
    "# Tools"
   ]
  },
  {
   "cell_type": "markdown",
   "id": "5a96c275-0fc7-401f-8804-5f18b5d98302",
   "metadata": {},
   "source": [
    "# Python Editors / IDEs\n",
    "\n",
    "There are a number of places you can run Python, such as this one - a Jupyter Lab Notebook.\n",
    "\n",
    "[List of Editors from Real Python](https://realpython.com/python-ides-code-editors-guide/)\n",
    "[Python.org's list of IDEs](https://wiki.python.org/moin/IntegratedDevelopmentEnvironments)"
   ]
  },
  {
   "cell_type": "markdown",
   "id": "9511feca-7c7c-43ba-91ab-8da3412bb199",
   "metadata": {},
   "source": [
    "## PyCharm\n",
    "\n",
    "[PyCharm](https://www.jetbrains.com/pycharm/) is a brilliant IDE dedicated for Python by JetBrains.\n",
    "\n",
    "It does require a purchase to use, but it works very well."
   ]
  },
  {
   "cell_type": "markdown",
   "id": "ae599704-c159-4743-87f4-dc865804f2a2",
   "metadata": {},
   "source": [
    "# Type Checker / Linting\n",
    "\n",
    "* Linting is where you are validating the syntax of the file (and possibly style of the code)\n",
    "* Static Typing is where you define the types of variables at definition, and they cannot change.\n",
    "\n",
    "The most common tool for checking syntax in JavaScript is [ESLint](https://eslint.org)\n",
    "The most common tool for checking static typing JavaScript is [TypeScript](https://www.typescriptlang.org/)\n",
    "\n",
    "Python has other options:\n",
    "\n",
    "| Linter      | Category            | Description                                                                  |\n",
    "|-------------|---------------------|------------------------------------------------------------------------------|\n",
    "| Pylint      | Logical & Stylistic | Checks for errors, tries to enforce a coding standard, looks for code smells |\n",
    "| Flake8      | Logical & Stylistic | Checks for errors, tries to enforce a coding standard, looks for code smells |\n",
    "| PyFlakes    | Logical             | Analyzes programs and detects various errors                                 |\n",
    "| Bandit      | Security / Logical  | Analyzes code to find common security issues                                 |\n",
    "| MyPy        | Logical             | Checks for optionally-enforced static types                                  |\n",
    "| pycodestyle | Stylistic           | Checks against some of the style conventions in PEP 8                        |\n",
    "| pydocstyle  | Stylistic           | Checks compliance with Python docstring conventions                          |\n",
    "\n",
    "[More about each can be found here](https://realpython.com/python-code-quality/)\n",
    "\n",
    "[You can also run Linters within Jupyter Notebooks through nbQA](https://github.com/nbQA-dev/nbQA)"
   ]
  },
  {
   "cell_type": "markdown",
   "id": "ace15ed5-eced-4085-88dd-bd0ca298df28",
   "metadata": {},
   "source": [
    "## Dynamically Typed\n",
    "\n",
    "[JavaScript and Python are both Dynamically Typed languages](https://realpython.com/python-type-checking/) - where the interpreters do type checking as code runs, and variables can allow for nearly any value.\n",
    "\n",
    "JavaScript can allow any value into any variable.\n",
    "\n",
    "```\n",
    "#JavaScript\n",
    "let myName = 'John';\n",
    "myName = 23; // No error\n",
    "```\n",
    "\n",
    "[Python will always remain a dynamically typed language](https://www.python.org/dev/peps/pep-0484/#non-goals).\n",
    "\n",
    "[Pep484](https://www.python.org/dev/peps/pep-0484/) introduced type hints, so you can specify the type it should be, however it isn't enforced by itself.\n",
    "\n",
    "(Note that this appears to only occur for parameters and not definitions of variables)"
   ]
  },
  {
   "cell_type": "code",
   "execution_count": 125,
   "id": "c0ad6945-2d5e-49bc-99a8-50fe5e6844b6",
   "metadata": {},
   "outputs": [
    {
     "data": {
      "text/plain": [
       "'Echo! Echo! Echo! Echo! '"
      ]
     },
     "execution_count": 125,
     "metadata": {},
     "output_type": "execute_result"
    }
   ],
   "source": [
    "# parameter: type, ...\n",
    "def string_repeat(string: str, count:int = 4 ):\n",
    "    return string * count\n",
    "\n",
    "string_repeat('Echo! ', 4)"
   ]
  },
  {
   "cell_type": "markdown",
   "id": "d104d1d2-b385-4ba0-8703-35507d81217e",
   "metadata": {},
   "source": [
    "In [terms of style](https://realpython.com/python-pep8/), [PEP 8](https://www.python.org/dev/peps/pep-0008/#other-recommendations) recommends the following:\n",
    "\n",
    "* Use normal rules for colons, that is, no space before and one space after a colon: text: str.\n",
    "* Use spaces around the = sign when combining an argument annotation with a default value: align: bool = True.\n",
    "* Use spaces around the -> arrow: def headline(...) -> str."
   ]
  },
  {
   "cell_type": "markdown",
   "id": "23a48e68-be7b-4b16-98a6-e9ae86b3f5af",
   "metadata": {},
   "source": [
    "See the [JavaDoc / Help section](#JavaDoc-/-Help) section for more"
   ]
  },
  {
   "cell_type": "markdown",
   "id": "c6ba2091-6b1b-4c69-8c24-c1295527dd4a",
   "metadata": {},
   "source": [
    "### MyPy\n",
    "\n",
    "Python has [MyPy](http://mypy-lang.org/) that checks for optionally enforced static types.\n",
    "\n",
    "Given the following code:\n",
    "\n",
    "```\n",
    "# Python\n",
    "# headlines.py\n",
    "\n",
    "def headline(text: str, align: bool = True) -> str:\n",
    "    if align:\n",
    "        return f\"{text.title()}\\n{'-' * len(text)}\"\n",
    "    else:\n",
    "        return f\" {text.title()} \".center(50, \"o\")\n",
    "\n",
    "print(headline(\"python type checking\"))\n",
    "print(headline(\"use mypy\", align=\"center\"))\n",
    "```\n",
    "\n",
    "Running mypy gives the following:\n",
    "```\n",
    "$ mypy headlines.py\n",
    "headlines.py:10: error: Argument \"align\" to \"headline\" has incompatible\n",
    "                        type \"str\"; expected \"bool\"\n",
    "```\n",
    "\n"
   ]
  },
  {
   "cell_type": "code",
   "execution_count": 126,
   "id": "d30ab899-32a9-487f-896d-aa8987a55678",
   "metadata": {},
   "outputs": [
    {
     "data": {
      "text/plain": [
       "'unsafeVariable=23'"
      ]
     },
     "execution_count": 126,
     "metadata": {},
     "output_type": "execute_result"
    }
   ],
   "source": [
    "unsafeVariable = 'John'\n",
    "unsafeVariable = 23 # no error\n",
    "f'{unsafeVariable=}'"
   ]
  },
  {
   "cell_type": "markdown",
   "id": "74879c5a-5492-4f93-a389-3769bb89bfe5",
   "metadata": {},
   "source": [
    "## nbQA\n",
    "\n",
    "[nbQA](https://github.com/nbQA-dev/nbQA) allows running isort, pyupgrade, mypy, pylint, flake8 and more on Jupyter Notebooks."
   ]
  },
  {
   "cell_type": "markdown",
   "id": "651f9945-6174-4a90-bf42-ee5d217e3d5f",
   "metadata": {},
   "source": [
    "### Pylint\n",
    "\n",
    "[PyLint](https://pylint.org/) is a stylistic and logic linter.\n",
    "\n",
    "It supports docstring support out of the box.\n",
    "\n",
    "Similar to [Flake8](#Flake8)"
   ]
  },
  {
   "cell_type": "markdown",
   "id": "66808e7b-cb4a-4d35-a83e-7a3a701a7e0a",
   "metadata": {},
   "source": [
    "### Flake8\n",
    "\n",
    "[Flake8](https://flake8.pycqa.org/en/latest/#) is the closer side to eslint - it does both logical and stylistic linting.\n",
    "\n",
    "Note that it also supports plugins, like [flake8-docstrings](https://pypi.org/project/flake8-docstrings/) to support pydocstyle support for checking docstrings.\n",
    "\n",
    "Similar to [Pylint](#Pylint)"
   ]
  },
  {
   "cell_type": "markdown",
   "id": "5b7474b5-201a-4abe-a33a-ec642199ac73",
   "metadata": {},
   "source": [
    "### Bandit\n",
    "\n",
    "[Bandit](https://github.com/PyCQA/bandit) is a security linter from PyCQA.\n",
    "\n",
    "Bandit is a tool designed to find common security issues in Python code. To do this Bandit processes each file, builds an AST from it, and runs appropriate plugins against the AST nodes. Once Bandit has finished scanning all the files it generates a report."
   ]
  },
  {
   "cell_type": "markdown",
   "id": "7de514f7-3882-46ec-b676-311c52a0ce18",
   "metadata": {},
   "source": [
    "### Pyflakes\n",
    "\n",
    "Pyflakes makes a simple promise: it will never complain about style, and it will try very, very hard to never emit false positives.\n",
    "    \n",
    "Pyflakes is also faster than [Pylint](#Pylint). This is largely because Pyflakes only examines the syntax tree of each file individually. As a consequence, Pyflakes is more limited in the types of things it can check.\n",
    "\n",
    "If you like Pyflakes but also want stylistic checks, you want [Flake8](#Flake8), which combines Pyflakes with style checks against PEP 8 and adds per-project configuration ability."
   ]
  },
  {
   "cell_type": "markdown",
   "id": "78fbceca-695a-4027-8241-360a608cf02d",
   "metadata": {},
   "source": [
    "### Pydocstyle\n",
    "\n",
    "[Pydocstyle](https://github.com/PyCQA/pydocstyle) is a static analysis tool for checking compliance with Python docstring conventions.\n",
    "\n",
    "pydocstyle supports most of PEP 257 out of the box, but it should not be considered a reference implementation.\n",
    "\n",
    "pydocstyle supports Python 3.6, 3.7, 3.8 and 3.9."
   ]
  },
  {
   "cell_type": "markdown",
   "id": "f522191d-01ca-451a-88f4-9359f575d660",
   "metadata": {},
   "source": [
    "JavaScript has [TypeScript - a language of its own](https://www.valentinog.com/blog/typescript/) that compiles to JavaScript.\n"
   ]
  },
  {
   "cell_type": "markdown",
   "id": "78e7d16f-ca9c-4611-af0f-606a222428b7",
   "metadata": {},
   "source": [
    "(Note that [Babel](https://babeljs.io/) is a transpiler that can do something similar, but works more with shims and polyfills to fix gaps in JavaScript implementations and doesn't handle type handling)\n",
    "\n",
    "([Webpack])"
   ]
  },
  {
   "cell_type": "code",
   "execution_count": null,
   "id": "f2a32503-c60c-4f88-b91b-0c96fa4b3a0c",
   "metadata": {},
   "outputs": [],
   "source": []
  },
  {
   "cell_type": "code",
   "execution_count": 127,
   "id": "0045bf53-6461-4196-a4af-0d7b2401d27f",
   "metadata": {},
   "outputs": [
    {
     "data": {
      "text/plain": [
       "'hello! hello! hello! hello! '"
      ]
     },
     "execution_count": 127,
     "metadata": {},
     "output_type": "execute_result"
    }
   ],
   "source": [
    "string_repeat('hello! ', 4)"
   ]
  },
  {
   "cell_type": "markdown",
   "id": "31c9736c-97b5-4251-9630-a73839d6fed7",
   "metadata": {},
   "source": [
    "-----\n",
    "\n",
    "# Package Manager\n",
    "\n",
    "Python has a number of package managers.\n",
    "\n",
    "@TODO"
   ]
  },
  {
   "cell_type": "markdown",
   "id": "528cc938-589c-4db7-b1b0-3768cbb1b4a2",
   "metadata": {},
   "source": [
    "------\n",
    "\n",
    "# Thread Management\n",
    "\n",
    "@TODO"
   ]
  },
  {
   "cell_type": "markdown",
   "id": "e8e0551c-e588-4569-b4d4-4276609972ce",
   "metadata": {},
   "source": [
    "--------\n",
    "\n",
    "# File Reading / Writing\n",
    "\n",
    "@TODO\n",
    "\n"
   ]
  }
 ],
 "metadata": {
  "kernelspec": {
   "display_name": "Python 3",
   "language": "python",
   "name": "python3"
  },
  "language_info": {
   "codemirror_mode": {
    "name": "ipython",
    "version": 3
   },
   "file_extension": ".py",
   "mimetype": "text/x-python",
   "name": "python",
   "nbconvert_exporter": "python",
   "pygments_lexer": "ipython3",
   "version": "3.8.8"
  }
 },
 "nbformat": 4,
 "nbformat_minor": 5
}
