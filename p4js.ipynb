{
 "cells": [
  {
   "cell_type": "markdown",
   "id": "11994441-8c63-4ba9-8fc9-4f6bfadda808",
   "metadata": {},
   "source": [
    "\n",
    "<div align=\"center\">\n",
    "    <h1>Python for JavaScript Developers</h1>\n",
    "    <img src=\"img/pythonJavaScript.png\" />\n",
    "</div>\n",
    "<br />\n",
    "<!-- YAY for HTML in markdown... Isn't there any better way? -->\n",
    "\n",
    "This is meant for people that understand JavaScript and programming, so they can get into Python.\n",
    "\n",
    "However, it is also a bit of a love letter to Notebooks (most are in Python) - as a way of writing interspersed with running code.\n",
    "\n",
    "[This document is running in Binder]((https://mybinder.org/v2/gh/paulroth3d/python-for-js-developers/HEAD?filepath=p4js.ipynb), and is an interactive document you can experiment with and fiddle with examples - without installing anything.\n",
    "\n",
    "Please give it a try as you are reading, or see the [Try It Out](#Try-It-Out) section on how you can run it locally.\n",
    "\n",
    "Send any questions or comments as issues on the [Github Repository](https://github.com/paulroth3d/python-for-js-developers), and we always appreciate pull requests."
   ]
  },
  {
   "cell_type": "markdown",
   "id": "2bc13a28-d31e-432d-a486-e4f7003e6025",
   "metadata": {},
   "source": [
    "----\n",
    "\n",
    "Please take a look at the [Try it Out section](#Try-it-Out) on how to use Jupyter and update the examples yourself."
   ]
  },
  {
   "cell_type": "markdown",
   "id": "654343ab-c027-43c9-88aa-4633ded0b325",
   "metadata": {},
   "source": [
    "### Libraries Imported"
   ]
  },
  {
   "cell_type": "code",
   "execution_count": 1,
   "id": "62202760-5b5b-4f36-94ee-252ad5f6bf28",
   "metadata": {
    "jupyter": {
     "source_hidden": true
    },
    "tags": []
   },
   "outputs": [],
   "source": [
    "## NOTE: Collapse by Default\n",
    "# (Jupyter works top down, but we don't want any unecessary confusion up front)\n",
    "\n",
    "# lets us load local files\n",
    "## gives information about the current operating system\n",
    "import os\n",
    "## System Utilities\n",
    "import sys\n",
    "\n",
    "# specify the path of the FOLDER to add to the path\n",
    "module_path = os.path.abspath(os.path.join('./lib'))\n",
    "if module_path not in sys.path:\n",
    "    sys.path.append(module_path)\n",
    "\n",
    "# import local modules\n",
    "from util import *\n",
    "\n",
    "# import common modules\n",
    "## allow for async methods and threading - like await\n",
    "import asyncio\n",
    "## utility collection objects\n",
    "from collections import deque, namedtuple\n",
    "## Functional programming tools\n",
    "import functools\n",
    "## standard types\n",
    "import decimal\n",
    "import datetime\n",
    "import re\n",
    "import json\n",
    "import csv\n",
    "from string import Template\n",
    "import time\n",
    "\n",
    "# numpy lists\n",
    "import numpy as np"
   ]
  },
  {
   "cell_type": "markdown",
   "id": "97e8989a-81c6-4fb4-bdfe-45b1a78842dc",
   "metadata": {},
   "source": [
    "# Table of Contents\n",
    "\n",
    "* [ES6+ in Python](#ES6+-in-Python)\n",
    "* [Try it Out](#Try-it-Out)\n",
    "\t* [Jupyter Overview](#Jupyter-Overview)\n",
    "        * [Executing / Rendering Cells](#Executing-/-Rendering-Cells)\n",
    "        * [Try Writing Markdown](#Try-Writing-Markdown)\n",
    "        * [Try Writing Code](#Try-Writing-Code)\n",
    "        * [Keyboard Shortcuts](#Keyboard-Shortcuts)\n",
    "        * [Step-by-Step Tutorial](#Step-by-Step-Tutorial)\n",
    "        * [Official Jupyter Documentation](#Official-Jupyter-Documentation)\n",
    "        * [Continue to the Docs](#Continue-to-the-Docs)\n",
    "    * [Other Options for Running Notebooks](#Other-Options-for-Running-Notebooks)\n",
    "        * [Jupyter Lab Demo Online](#Jupyter-Lab-Demo-Online)\n",
    "        * [Observable HQ](#Observable-HQ)\n",
    "    * [Running Jupyter Locally](#Running-Jupyter-Locally)\n",
    "        * [NTeract](#NTeract)\n",
    "        * [Anaconda](#Anaconda)\n",
    "        * [Visual Studio Code](#Visual-Studio-Code)\n",
    "* [First Things First](#First-Things-First)\n",
    "\t* [High Level Python Differences](#High-Level-Python-Differences)\n",
    "\t* [Simple Example](#Simple-Example)\n",
    "\t* [Getting help](#Getting-help)\n",
    "\t* [Declaring Variables](#Declaring-Variables)\n",
    "\t* [Printing a Value](#Printing-a-Value)\n",
    "\t* [Scope](#Scope)\n",
    "\t* [Global Variables](#Global-Variables)\n",
    "    * [NonLocal Variables](#NonLocal-Variables)\n",
    "\t* [Constants](#Constants)\n",
    "\t* [Destructuring Assignments](#Destructuring-Assignments)\n",
    "\t* [Walrus Operators](#Walrus-Operators)\n",
    "\t* [Casting](#Casting)\n",
    "\t* [Checking Equality](#Checking-Equality)\n",
    "\t* [Checking for Empty Variables](#Checking-for-Empty-Variables)\n",
    "\t* [Determining TypeOf a Variable](#Determining-TypeOf-a-Variable)\n",
    "\t* [Checking for a Specific Type](#Checking-for-a-Specific-Type)\n",
    "    * [Multi-Line Chaining Statements](#Multi-Line-Chaining-Statements)\n",
    "* [Built in Types](#Built-in-Types)\n",
    "    * [Non-Values](#Non-Values)\n",
    "\t* [Boolean](#Boolean)\n",
    "\t* [Numeric Types](#Numeric-Types)\n",
    "    * [Strings](#Strings)\n",
    "    * [String Formatting](#String-Formatting)\n",
    "        * [String Templates](#String-Templates)\n",
    "        * [Python F-Strings](#Python-F-Strings)\n",
    "        * [Python String.replace](#Python-String.replace)\n",
    "\t* [Dates / Times](#Dates-/-Times)\n",
    "\t\t* [DateTime](#DateTime)\n",
    "\t\t* [Adding or removing time through timedelta](#Adding-or-removing-time-through-timedelta)\n",
    "\t\t* [Printing a DateTime](#Printing-a-DateTime)\n",
    "\t* [Regular Expressions](#Regular-Expressions)\n",
    "        * [Regex Match Command](#Regex-Match-Command)\n",
    "        * [Regex Substitution](#Regex-Substitution)\n",
    "        * [Regex Flags](#Regex-Flags)\n",
    "* [Collections](#Collections)\n",
    "\t* [Lists](#Lists)\n",
    "\t* [Deque](#Deque)\n",
    "\t* [Immutable Tuples](#Immutable-Tuples)\n",
    "\t* [Range](#Range)\n",
    "    * [Sets / FrozenSets](#Sets-/-FrozenSets)\n",
    "\t* [Dictionaries](#Dictionaries)\n",
    "\t* [Named Tuples](#Named-Tuples)\n",
    "* [JSON](#JSON)\n",
    "* [CSV](#CSV)\n",
    "* [Operators](#Operators)\n",
    "    * [Logic Operators](#Logic-Operators)\n",
    "        * [Fast Fail And](#Fast-Fail-And)\n",
    "        * [Fast Fail OR](#Fast-Fail-OR)\n",
    "        * [Negation](#Negation)\n",
    "    * [Arithmatic Operators](#Arithmatic-Operators)\n",
    "    * [Assignment Operators](#Assignment-Operators)\n",
    "        * [Inline Increments](#Inline-Increments)\n",
    "    * [Comparison Operators](#Comparison-Operators)\n",
    "        * [String Concatenation](#String-Concatenation)\n",
    "        * [Arithmatic on Strings](#Arithmatic-on-Strings)\n",
    "        * [Arithmatic on Arrays](#Arithmatic-on-Arrays)\n",
    "    * [Custom Operators](#Custom-Operators)\n",
    "        * [Elvis Operator or Null Coalescing](#Elvis-Operator-or-Null-Coalescing)\n",
    "        * [Chained Access](#Chained-Access)\n",
    "* [Logic](#Logic)\n",
    "\t* [Pass](#Pass)\n",
    "\t* [If Then ElseIf](#If-Then-ElseIf)\n",
    "\t* [Ternary or Inline If Statements](#Ternary-or-Inline-If-Statements)\n",
    "\t* [No Switch](#No-Switch)\n",
    "\t* [In Operator](#In-Operator)\n",
    "\t* [Async Await](#Async-Await)\n",
    "\t\t* [Awaitables](#Awaitables)\n",
    "\t\t* [Coroutines](#Coroutines)\n",
    "\t\t* [Tasks](#Tasks)\n",
    "\t\t* [Futures](#Futures)\n",
    "* [Handling Errors / Exceptions](#Handling-Errors-/-Exceptions)\n",
    "\t* [Try Throw Catch](#Try-Throw-Catch)\n",
    "\t* [Custom Exceptions](#Custom-Exceptions)\n",
    "* [Functions](#Functions)\n",
    "\t* [Function DocStrings](#Function-DocStrings)\n",
    "\t* [Help on Python Libraries](#Help-on-Python-Libraries)\n",
    "\t* [Function Argument Types](#Function-Argument-Types)\n",
    "\t* [Arguments](#Arguments)\n",
    "\t* [Kwargs](#Kwargs)\n",
    "\t* [Rest Parameters](#Rest-Parameters)\n",
    "\t* [Default Parameters](#Default-Parameters)\n",
    "\t* [Lambda Functions](#Lambda-Functions)\n",
    "\t* [Passing Functions as Arguments](#Passing-Functions-as-Arguments)\n",
    "\t* [Memoize](#Memoize)\n",
    "* [Loops](#Loops)\n",
    "\t* [For In Loops](#For-In-Loops)\n",
    "\t\t* [Range](#Range)\n",
    "\t* [Break / Continue are the Same](#Break-/-Continue-are-the-Same)\n",
    "\t* [Iterators](#Iterators)\n",
    "\t* [Generator](#Generator)\n",
    "    * [No hasNext in Python](#No-hasNext-in-Python)\n",
    "\t* [Python Comprehensions](#Python-Comprehensions)\n",
    "    * [Map](#Map)\n",
    "    * [Filter](#Filter)\n",
    "\t* [Reduce](#Reduce)\n",
    "    * [Chaining Map / Filter / Reduce](#Chaining-Map-/-Filter-/-Reduce)\n",
    "* [Object Oriented Programming](#Object-Oriented-Programming)\n",
    "\t* [Inheritance](#Inheritance)\n",
    "\t* [Multiple Inheritance](#Multiple-Inheritance)\n",
    "\t* [Python Namespaces](#Python-Namespaces)\n",
    "\t* [Importing Modules](#Importing-Modules)\n",
    "\t* [JavaDoc / Help\"](#JavaDoc-/-Help\")\n",
    "\t* [Special Method Names](#Special-Method-Names)\n",
    "\t* [Custom Operator Support](#Custom-Operator-Support)\n",
    "\t* [Object.Keys](#Object.Keys)\n",
    "* [Tools](#Tools)\n",
    "* [Python Editors / IDEs](#Python-Editors-/-IDEs)\n",
    "* [Type Checker / Linting](#Type-Checker-/-Linting)\n",
    "\t* [Dynamically Typed](#Dynamically-Typed)\n",
    "* [Package Manager](#Package-Manager)\n",
    "    * [PyPI](#PyPI)\n",
    "    * [Pip](#Pip)\n",
    "    * [Poetry](#Poetry)\n",
    "    * [Conda](#Conda)\n",
    "    * [pipx](#pipx)\n",
    "    * [PyEnv](#PyEnv)\n",
    "* [File Reading / Writing](#File-Reading-/-Writing)\n",
    "    * [os.path](#os.path)\n",
    "    * [Use With for Files](#Use-With-for-Files)\n",
    "    * [Writing Files](#Writing-Files)\n",
    "    * [shutil](#shutil)"
   ]
  },
  {
   "cell_type": "markdown",
   "id": "8148f686-e199-4781-9895-c3a8cc0487d1",
   "metadata": {},
   "source": [
    "----"
   ]
  },
  {
   "cell_type": "markdown",
   "id": "9346573b-5795-47fa-97a4-521b178f31ea",
   "metadata": {},
   "source": [
    "# ES6+ in Python\n",
    "\n",
    "* ES6\n",
    "    * [Const and Let](#Declaring-Variables) - Python always performed variables similar to `let`\n",
    "    * [Arrow Functions](#Lambda) - Python has no explicit arrow function support, but do support [Lambda Functions](#Lambda-Functions)\n",
    "    * Template Literals - Python has [F-Strings](#F-Strings) as a similar feature\n",
    "    * Default Parameters - Python supports [#Default Parameters](#Default-Parameters)\n",
    "    * Destructuring - Python supports [Destructuring Assignments](#Destructuring-Assignments)\n",
    "    * Rest Parameter - Python supports [Rest Parameters](#Rest Parameters)\n",
    "    * Imports - Python supports [Importing Modules](#Importing-Modules)\n",
    "    * Collections - [Collections](#Collections)\n",
    "    * Map - [Python Map](#Map) and also [Python Comprehensions](#Python-Comprehensions)\n",
    "    * Filter - [Filter](#Filter)\n",
    "    * Reduce - [Reduce](#Reduce)\n",
    "        * also [Chaining Map / Filter / Reduce](#Chaining-Map-/-Filter-/-Reduce)\n",
    "    * Generators - [Generator](#Generator)\n",
    "    * Promises - Python only supports promises through an external library PyPi, but does support [Async Awaits](#Async-Await)\n",
    "* [ES7 / ES8 (2017/2018)](https://medium.com/edge-coders/whats-new-in-es2017-or-es8-for-javascript-40352b089780)\n",
    "    * Async - Python does support [Async Awaits](#Async-Await)\n",
    "    * Object.keys - Python does not have an Object.keys, but does have a similar function called [Dir](#Object.keys)\n",
    "* [ES2020](https://www.freecodecamp.org/news/javascript-new-features-es2020/)\n",
    "    * BigInt - Python already supported a large integer object for [BigInt](#BigInt)\n",
    "    * Coalescing / Elvis Operator - [There is no support for the Coalescing / Elvis Operator](#Elvis-Operator-or-Null-Coalescing)\n",
    "    * Chained Access for null safe operations [has not been accepted yet within Python](https://www.python.org/dev/peps/pep-0505/)"
   ]
  },
  {
   "cell_type": "markdown",
   "id": "5cd8b700-c0b0-48ad-9384-085650a573e1",
   "metadata": {},
   "source": [
    "<br /><br /><br /><br /><br /><br /><br /><br /><br /><br /><br /><br /><br /><br /><br /><br /><br /><br /><br /><br /><br /><br /><br /><br /><hr />\n",
    "<div style='height:20px;width:100%;background-color:#d6eeff'>&nbsp;</div>\n",
    "\n",
    "# Try it Out\n",
    "\n",
    "I would like to enable active learning, and would recommend you try these yourself.\n",
    "\n",
    "This document is a Jupyter Notebook, with executable code is interspersed with text written as [markdown format](https://www.markdownguide.org/basic-syntax/).\n",
    "\n",
    "This project is hosted on [mybinder](https://mybinder.org/) so you can change examples to make this more interactive.\n",
    "\n",
    "[Come Read the Document Here](https://mybinder.org/v2/gh/paulroth3d/python-for-js-developers/HEAD?filepath=p4js.ipynb), if you aren't already on mybinder already...\n",
    "\n",
    "[![Binder](https://mybinder.org/badge_logo.svg)](https://mybinder.org/v2/gh/paulroth3d/python-for-js-developers/HEAD?filepath=p4js.ipynb)\n",
    "\n",
    "I've found this the best way to [provide examples](https://bost.ocks.org/mike/example/), experiment and take notes while learning Python.\n",
    "\n",
    "Alternatively, there is also the [online Python Shell](https://www.python.org/shell/).\n",
    "\n",
    "(But please note, the online demos don't last and [Running Jupyter Locally](#Running-Jupyter-Locally) is preferred to keep your work)"
   ]
  },
  {
   "cell_type": "markdown",
   "id": "7228f33c-d3b1-40d4-a29d-d89a63eaab53",
   "metadata": {},
   "source": [
    "## Jupyter Overview\n",
    "\n",
    "Within this Jupyter Notebook, you'll notice that there are a set of cells - some with text and some with code"
   ]
  },
  {
   "cell_type": "markdown",
   "id": "5d2a30e4-ebad-485d-a7c3-87fd8c1ee23d",
   "metadata": {},
   "source": [
    "This is a Text / Markdown Cell"
   ]
  },
  {
   "cell_type": "code",
   "execution_count": 2,
   "id": "4e44bea3-2424-4898-a004-dab439414f53",
   "metadata": {},
   "outputs": [
    {
     "name": "stdout",
     "output_type": "stream",
     "text": [
      "Hello Tim, this is Python\n"
     ]
    }
   ],
   "source": [
    "# This is Python Code running in a Code Cell\n",
    "print('Hello Tim, this is Python')"
   ]
  },
  {
   "cell_type": "markdown",
   "id": "686d8e4b-06bc-4671-b1c8-b5a31ebe3808",
   "metadata": {},
   "source": [
    "If you double-click inside the text of a Cell / it has a cursor inside - **the cell is in Edit Mode**\n",
    "\n",
    "![Edit Mode](img/edit_mode.png)\n",
    "\n",
    "If you click to the left of the text area / the bar to the left is blue but no cursor in the text area - **the cell is in Command Mode**\n",
    "\n",
    "![Edit Mode](img/command_mode.png)\n",
    "\n",
    "The cell type selector allows you to choose whether the cell will be rendered as Markdown or as Code.\n",
    "\n",
    "![Screenshot markdown selector](img/jupyterMarkdownSelector.png)\n",
    "\n",
    "## Executing / Rendering Cells\n",
    "\n",
    "Code you enter can be executed all at once (through the Fast-Forward Button ⏩ or through `Run -> Run All Cells`)\n",
    "\n",
    "Code can also be executed one cell at a time (through the Play Button ▶️ or through `Run -> Run Selected Cells`)\n",
    "\n",
    "![Screenshot of Excecute Single](img/jupyterExecuteSingle.png)\n",
    "\n",
    "## Try Writing Markdown\n",
    "\n",
    "Within a cell, enter the following text:\n",
    "\n",
    "Then set the dropdown from `code` to `markdown` (if it isn't already)\n",
    "\n",
    "Then execute the cell by pressing the Play Button ▶️ or through `Run -> Run Selected Cells`"
   ]
  },
  {
   "cell_type": "raw",
   "id": "a7135636-2816-433f-8e83-647807cfab42",
   "metadata": {},
   "source": [
    "------\n",
    "\n",
    "This Cell is Currently set to RAW\n",
    "\n",
    "* Select me\n",
    "* then change the dropdown to 'Markdown' in the top of the window\n",
    "\n",
    "------"
   ]
  },
  {
   "cell_type": "markdown",
   "id": "10e8e1a7-d654-4800-9dac-c10f7bf49748",
   "metadata": {},
   "source": [
    "## Try Writing Code\n",
    "\n",
    "Press the '+' button to create a new cell.\n",
    "\n",
    "Then click on the text area (the rectangle) of the cell.\n",
    "\n",
    "Enter the following:\n",
    "\n",
    "Then set the dropdown to `code` instead of `markdown` (if it isn't already)\n",
    "\n",
    "Then execute the cell by pressing the Play Button ▶️ or through `Run -> Run Selected Cells`"
   ]
  },
  {
   "cell_type": "raw",
   "id": "ef71ef47-4666-4c24-875e-0ee95f84a8dd",
   "metadata": {},
   "source": [
    "### This cell is set to RAW\n",
    "# \n",
    "# * Select me\n",
    "# * then change the dropdown to Code\n",
    "# * then press the Play button (to execute the currently selected cell)\n",
    "\n",
    "print('Here_is_a_message_in_python')"
   ]
  },
  {
   "cell_type": "markdown",
   "id": "83e1767b-92c6-4d18-b765-2621702d303e",
   "metadata": {},
   "source": [
    "## Keyboard Shortcuts\n",
    "\n",
    "Certain keyboard shortcuts work regardless if you are in edit or select mode:\n",
    "\n",
    "* Ctrl-Enter - run the current selected cell\n",
    "* Alt-Enter - run the current cell and insert below\n",
    "\n",
    "Other Commands ONLY occur if in Command Mode (there is no cursor in the text area)\n",
    "\n",
    "* a - insert above\n",
    "* b - insert below\n",
    "* dd - delete cell\n",
    "* etc...\n",
    "\n",
    "## Step-by-Step Tutorial\n",
    "\n",
    "* Click directly in the text of the cell below. You selected a cell and are in **edit mode** - as it has a cursor.\n",
    "![Command Mode](img/edit_mode.png)\n",
    "* Press the `Esc` key to switch to **command mode**, where the cell is selected but has no cursor.\n",
    "![Command Mode](img/command_mode.png)\n",
    "\n",
    "* Press the `b` key once, to insert a cell below.\n",
    "* Press the `Enter` key to switch to **edit mode**\n",
    "* Update the cell with text, such as `This is [Markdown](https://www.markdownguide.org/basic-syntax/)`\n",
    "* Change the dropdown in the toolbar to say `markdown`\n",
    "* With the cell still editable, press the `Ctrl` + `Enter` key to render the markdown."
   ]
  },
  {
   "cell_type": "raw",
   "id": "c4a357ab-fcd6-4950-9621-0ad4325b072d",
   "metadata": {},
   "source": [
    "-------\n",
    "\n",
    "Example Cell to Play with\n",
    "\n",
    "-------"
   ]
  },
  {
   "cell_type": "markdown",
   "id": "3d341135-c986-438e-af1a-47a7d214f1a3",
   "metadata": {},
   "source": [
    "## Official Jupyter Documentation\n",
    "\n",
    "[See here on more of the basics on Jupyter Notebooks](https://nbviewer.jupyter.org/github/jupyter/notebook/blob/master/docs/source/examples/Notebook/Notebook%20Basics.ipynb)\n",
    "The official Jupyter Documentation can be found [here](https://jupyter.org/documentation)"
   ]
  },
  {
   "cell_type": "markdown",
   "id": "17933dd5-45da-45b6-8574-f00d31b65f3c",
   "metadata": {},
   "source": [
    "## Continue to the Docs\n",
    "\n",
    "**If you are all set, visit [the Start of the Content here](#First-Things-First)**"
   ]
  },
  {
   "cell_type": "markdown",
   "id": "f1caf058-070b-4f88-8ea1-d720d87826f9",
   "metadata": {},
   "source": [
    "<br /><br /><br /><br /><br /><br /><br /><br /><br /><br /><br /><br /><br /><br /><br /><br /><br /><br /><br /><br /><br /><br /><br /><br /><hr />\n",
    "\n",
    "# Other Options for Running Notebooks\n",
    "## Jupyter Lab Demo Online\n",
    "\n",
    "Without installing anything, you can also try a [Jupyter Lab Demo with Python here](https://mybinder.org/v2/gh/jupyterlab/jupyterlab-demo/master?urlpath=lab/tree/demo)\n",
    "\n",
    "(Other languages are also available - [https://jupyter.org/try](https://jupyter.org/try))\n",
    "\n",
    "* Select `Try JupyterLab` > `Python 3`"
   ]
  },
  {
   "cell_type": "markdown",
   "id": "7d66e527-456a-43a2-93b1-6292061bbbb0",
   "metadata": {},
   "source": [
    "## Observable HQ\n",
    "\n",
    "While it isn't Python, [ObservableHQ](https://observablehq.com/@observablehq/why-observable/2?collection=@observablehq/overview) uses [JavaScript like syntax](https://observablehq.com/@observablehq/observables-not-javascript), and it would be a miss in not mentioning it.\n",
    "\n",
    "![Screenshot of Observable](img/observable2.png)\n",
    "\n",
    "**If you already know JavaScript, this is a great place to start Notebooking.**\n",
    "\n",
    "It was started by Mike Bostock - the creator of D3 - to really show [the power of examples](https://bost.ocks.org/mike/example/)\n",
    "\n",
    "There are some differences with Jupyter, and many of them for the better:\n",
    "\n",
    "* order of execution is not top to bottom\n",
    "* dependent cells automatically execute again\n",
    "* it is [Much More Interactive](https://observablehq.com/@observablehq/interactivity-in-observable)\n",
    "* nothing to download or embed - as it runs in JavaScript in the browser\n",
    "\n",
    "For more see [Observable for Jupyter Users](https://observablehq.com/@observablehq/observable-for-jupyter-users)\n",
    "\n",
    "**I cannot say enough good things about it.**"
   ]
  },
  {
   "cell_type": "markdown",
   "id": "729fd5e7-7fb8-4687-856f-5a2441dd8d0d",
   "metadata": {},
   "source": [
    "## Online Python Shell\n",
    "\n",
    "If you want to just try something quickly, the [online Python Shell](https://www.python.org/shell/) works really well.\n",
    "\n",
    "Although, similar to the terminal, it can be a bit hard to read.\n",
    "\n",
    "![Screenshot of Online Python Shell](img/pythonOnlineShell.png)"
   ]
  },
  {
   "cell_type": "markdown",
   "id": "de44dc2b-7b57-474e-9446-89982cb690e7",
   "metadata": {},
   "source": [
    "# Running Jupyter Locally\n",
    "\n",
    "If you are interested in running this locally, download the `*.ipynb` from the [Github Repository](https://github.com/paulroth3d/python-for-js-developers)\n",
    "\n",
    "You can then run the file through one of the different Jupyter style applications down below:\n",
    "\n",
    "* **The [Nteract](#Nteract) desktop app is the simplest experience to just get Jupyter up and running.**\n",
    "\n",
    "As it wraps around Jupyter to make it easier to work with, I did find it a bit constricting if I wanted to add plugins or have other apps (like Visual Studio Code) work with Jupyter.\n",
    "\n",
    "* **[Anaconda](#Anaconda) is is a more complete solution** - providing python version management and environments, a Jupyter Lab server that other apps can connect with and other Data Science goodies.\n",
    "\n",
    "PLEASE NOTE: Jupyter Notebooks support [a number of languages](https://github.com/jupyter/jupyter/wiki/Jupyter-kernels), including [JavaScript](https://github.com/n-riesco/ijavascript)"
   ]
  },
  {
   "cell_type": "markdown",
   "id": "d380c778-db6d-4a82-9536-8652ae1bf7de",
   "metadata": {},
   "source": [
    "## NTeract\n",
    "\n",
    "Nteract is meant to be a very simple way to just get Jupyter up and working and it does that very well.\n",
    "\n",
    "![Screenshot of NTeract](img/nteract.png)\n",
    "\n",
    "Just install, open the app and start a new document.\n",
    "\n",
    "(Note that on opening NTeract for the first time, you may seem stuck on a loading screen.  **Select File -> New Document to create a new Notebook**)\n",
    "\n",
    "One personal challenge I have with NTeract though - \n",
    "\n",
    "Once I wanted to extend jupyter, I had a number of challenges to do so within NTeract as it encapsulates Jupyter."
   ]
  },
  {
   "cell_type": "markdown",
   "id": "d6ba0fb3-eb65-4e7b-adfb-4e9d5d82c177",
   "metadata": {},
   "source": [
    "## Anaconda\n",
    "\n",
    "\n",
    "It will set-up python environment management tools, the Jupyter Lab environment, and a number of other Data Science goodies.\n",
    "\n",
    "(This also includes the [conda](#conda) package manager, and python environments - so it gives everything needed for a beginner)\n",
    "\n",
    "![Screenshot of Anaconda](img/anaconda.png)\n",
    "\n",
    "Once you have Anaconda-Navigator setup, click on the Jupyter Lab icon and it will open in a browser.\n",
    "\n",
    "Select the language you wish to run for your notebook (each language has a Kernel program that allows Jupyter to run the code) to create a new notebook.\n",
    "\n",
    "[Screenshot of JupyterLab](img/jupyterlab.png)"
   ]
  },
  {
   "cell_type": "markdown",
   "id": "780dc95b-5c98-40b9-acbb-793d9553baed",
   "metadata": {},
   "source": [
    "## Visual Studio Code\n",
    "\n",
    "[Python works well within Visual Studio Code](https://code.visualstudio.com/docs/python/linting) and can also run [Jupyter Notebooks (*.ipynb files) natively](https://code.visualstudio.com/docs/datascience/jupyter-notebooks).\n",
    "\n",
    "![Screenshot of Jupyter in Visual Studio Code](img/jupyterInVSCode.png)\n",
    "\n",
    "It also supports linting, testing, code hints among other features. [See here for more](https://code.visualstudio.com/docs/python/linting)"
   ]
  },
  {
   "cell_type": "markdown",
   "id": "0a92f76a-712c-4af8-8705-97b50f02c028",
   "metadata": {},
   "source": [
    "<br /><br /><br /><br /><br /><br /><br /><br /><br /><br /><br /><br /><br /><br /><br /><br /><br /><br /><br /><br /><br /><br /><br /><br /><hr />\n",
    "<div style='height:20px;width:100%;background-color:#d6eeff'>&nbsp;</div>\n",
    "\n",
    "# First Things First\n",
    "\n",
    "Python documentation can be found [on the python.org site](https://docs.python.org/3/)\n",
    "\n",
    "Note that there are multiple versions of python, such as Python 2 (sometimes called python 2.x to cover all minor releases), with the most recent one as Python 3.\n",
    "\n",
    "We'll be talking to Python 3.x and comparing to modern JavaScript (including ES6 through ES2021)"
   ]
  },
  {
   "cell_type": "markdown",
   "id": "c4fc40bf-c773-4c0a-a5cd-bc24b104134d",
   "metadata": {},
   "source": [
    "## High Level Python Differences\n",
    "\n",
    "Please note:\n",
    "\n",
    "* Python uses Spaces to identify code blocks / scopes - not curly braces\n",
    "* Python is case-sensitive\n",
    "* Statements do not end with a semi-colon\n",
    "* Python is strongly typed - there is no implicit conversion between types.\n",
    "* A number of methods on objects in JavaScript are [global built-in functions](https://docs.python.org/3/library/functions.html)\n",
    "    * (ex: len('str') in python instead of 'str'.len())"
   ]
  },
  {
   "cell_type": "markdown",
   "id": "2981cffb-b609-4e7f-9c4b-394f7fe39933",
   "metadata": {},
   "source": [
    "## Simple Example\n",
    "\n",
    "The following is a very simple example:\n",
    "    \n",
    "* define a function accepting two arguments\n",
    "* declare a local variable\n",
    "* return a string message\n",
    "\n",
    "**Note, that this method defines the types of arguments and variables, eg `name:str`.  These are not enforced [without linting](#Linting)**\n",
    "\n",
    "see the [Static Typing](#Static-Typing) section for more"
   ]
  },
  {
   "cell_type": "code",
   "execution_count": 3,
   "id": "ef81fc65-aa04-45a2-bcd8-94b73f9959be",
   "metadata": {},
   "outputs": [
    {
     "data": {
      "text/plain": [
       "'John shouted into a cave: Yodelayheehoo! Yodelayheehoo! Yodelayheehoo! Yodelayheehoo! '"
      ]
     },
     "execution_count": 3,
     "metadata": {},
     "output_type": "execute_result"
    }
   ],
   "source": [
    "# This is a code cell with Python running inside of it\n",
    "\n",
    "# Python function\n",
    "def shoutIntoCave(name: str, message: str, echoCount: int):\n",
    "    # DocType Strings similar to JSDoc\n",
    "    \"\"\"\n",
    "    First string undeclared in the function acts as documentation\n",
    "    :param: name (str) - whom is doing the shouting\n",
    "    :param: message (str) - the message they were shouting\n",
    "    :param: echoCount (int) - the number of times they heard an echo\n",
    "    \"\"\"\n",
    "    \n",
    "    # see f-strings / templates below for alternatives\n",
    "    resultMessage = name + \" shouted into a cave: \" + (message + \"! \") * echoCount\n",
    "    \n",
    "    # this line can also be omitted, but best practice to include a return for clarity\n",
    "    return resultMessage\n",
    "\n",
    "# this is not indented so the function scope is closed\n",
    "shoutIntoCave(\"John\", \"Yodelayheehoo\", 4)"
   ]
  },
  {
   "cell_type": "markdown",
   "id": "ca2f21ea-cc16-48be-8373-3a3c1e4db6dd",
   "metadata": {},
   "source": [
    "## Getting help\n",
    "\n",
    "You can get descriptions on most functions through the global `help()` function"
   ]
  },
  {
   "cell_type": "code",
   "execution_count": 4,
   "id": "28226003-d596-4bb7-804e-c2a7ef35b447",
   "metadata": {},
   "outputs": [
    {
     "name": "stdout",
     "output_type": "stream",
     "text": [
      "Help on function shoutIntoCave in module __main__:\n",
      "\n",
      "shoutIntoCave(name: str, message: str, echoCount: int)\n",
      "    First string undeclared in the function acts as documentation\n",
      "    :param: name (str) - whom is doing the shouting\n",
      "    :param: message (str) - the message they were shouting\n",
      "    :param: echoCount (int) - the number of times they heard an echo\n",
      "\n"
     ]
    }
   ],
   "source": [
    "help(shoutIntoCave)"
   ]
  },
  {
   "cell_type": "markdown",
   "id": "f596ab8b-9b2b-439b-a2bb-3f184de1148f",
   "metadata": {},
   "source": [
    "For more on defining help for your own functions see the [JavaDoc / Help](#JavaDoc-/-Help) section below"
   ]
  },
  {
   "cell_type": "markdown",
   "id": "630dab9a-d1a5-4ced-991a-8e9f9ff38d8b",
   "metadata": {},
   "source": [
    "## Declaring Variables\n",
    "\n",
    "Variables are declared within JavaScript using the [var](https://developer.mozilla.org/en-US/docs/Web/JavaScript/Reference/Statements/var) (or more modern [let](https://developer.mozilla.org/en-US/docs/Web/JavaScript/Reference/Statements/let) keyword.\n",
    "\n",
    "Python does not use any declaration keyword, simply assign a value.\n",
    "\n",
    "(With a slight exception inside functions for [global variables](#Global-Variables) and \n",
    "\n",
    "As we will discuss in the [Scope section](#Scope), python variables are always scope bound - similar to JavaScript `let`\n",
    "\n",
    "With Python 3, you can specify the type of a variable, but this is not enforced without linting."
   ]
  },
  {
   "cell_type": "code",
   "execution_count": 5,
   "id": "315609dc-482d-4c11-b570-176c07d2dec6",
   "metadata": {},
   "outputs": [],
   "source": [
    "myFirstVariable = 23"
   ]
  },
  {
   "cell_type": "markdown",
   "id": "193ef615-9884-4066-982c-c6d82256bbb0",
   "metadata": {},
   "source": [
    "[Python 3.5 included change request: Pep484](https://www.python.org/dev/peps/pep-0484/) - introducing type hints, so you can specify the type a variable should be.\n",
    "\n",
    "**Note that this is not enforced without [Linters](#Linters)**"
   ]
  },
  {
   "cell_type": "code",
   "execution_count": 6,
   "id": "2ea1e19c-bb9c-4b46-bd3c-2f8b3f389e68",
   "metadata": {},
   "outputs": [],
   "source": [
    "declaredVar : int = 23"
   ]
  },
  {
   "cell_type": "code",
   "execution_count": 7,
   "id": "198895d8-eed5-4ab1-9f55-2016c5e49407",
   "metadata": {},
   "outputs": [],
   "source": [
    "declaredVar2 : str = 23"
   ]
  },
  {
   "cell_type": "markdown",
   "id": "31c9cde6-f701-441f-8d02-f005306cc2ae",
   "metadata": {},
   "source": [
    "## Printing a Value\n",
    "\n",
    "Within Jupyter, simply end a code block with a variable to see the value"
   ]
  },
  {
   "cell_type": "code",
   "execution_count": 8,
   "id": "461e088f-bd6f-407f-9e1e-5c7babd0ff7e",
   "metadata": {},
   "outputs": [
    {
     "data": {
      "text/plain": [
       "23"
      ]
     },
     "execution_count": 8,
     "metadata": {},
     "output_type": "execute_result"
    }
   ],
   "source": [
    "myFirstVariable"
   ]
  },
  {
   "cell_type": "markdown",
   "id": "bdcb292b-9d63-4892-a9e9-e5574fe9e1ef",
   "metadata": {},
   "source": [
    "Or you can use the `print(...)` function:"
   ]
  },
  {
   "cell_type": "code",
   "execution_count": 9,
   "id": "4a4ec301-a86a-46b3-803b-a3bb91df441a",
   "metadata": {},
   "outputs": [
    {
     "name": "stdout",
     "output_type": "stream",
     "text": [
      "23\n",
      "46\n"
     ]
    }
   ],
   "source": [
    "print(myFirstVariable)\n",
    "print(myFirstVariable + myFirstVariable)"
   ]
  },
  {
   "cell_type": "markdown",
   "id": "f8c78916-6966-49e9-a874-1383f7dd8d4b",
   "metadata": {},
   "source": [
    "## Scope\n",
    "\n",
    "Python does not use curly braces to define code regions (called **scope**) like JavaScript.  **It uses whitespace instead**"
   ]
  },
  {
   "cell_type": "code",
   "execution_count": 10,
   "id": "e919c95d-98ac-4dfd-9afa-a9b54909af68",
   "metadata": {},
   "outputs": [
    {
     "name": "stdout",
     "output_type": "stream",
     "text": [
      "myFirstVariable is 2 or greater\n"
     ]
    }
   ],
   "source": [
    "if myFirstVariable < 2:\n",
    "    print('myFirstVariable is less than 2')\n",
    "else:\n",
    "    print('myFirstVariable is 2 or greater')"
   ]
  },
  {
   "cell_type": "markdown",
   "id": "130d3150-e350-43f9-8faf-69aa7c3a55f2",
   "metadata": {},
   "source": [
    "Like JavaScript, a variable in Python is only available in the region (called **scope**) it is created.\n",
    "\n",
    "```\n",
    "// javascript\n",
    "defineLocalVariable() {\n",
    "    let someLocalVariable = 'hello'\n",
    "    console.log(`someLocalVariable is defined: {someLocalVariable}`)\n",
    "}\n",
    "console.log('scope block is closed')\n",
    "\n",
    "defineLocalVariable()\n",
    "\n",
    "console.log(someLocalVariable ? 'someLocalVariable is not defined outside of the block' : 'someLocalVariable IS defined outside of the block');\n",
    "```"
   ]
  },
  {
   "cell_type": "code",
   "execution_count": 11,
   "id": "96f7b204-da3a-4c6b-ac5c-979da5accfd4",
   "metadata": {},
   "outputs": [
    {
     "name": "stdout",
     "output_type": "stream",
     "text": [
      "scope block is closed\n",
      "someLocalVariable is defined:hello\n",
      "someLocalVariable is not defined outside of the block\n"
     ]
    }
   ],
   "source": [
    "# Python\n",
    "def defineLocalVariable():\n",
    "    someLocalVariable = 'hello'\n",
    "    print('someLocalVariable is defined:' + someLocalVariable)\n",
    "\n",
    "# end of indentation, so the if block is done here\n",
    "print('scope block is closed')\n",
    "\n",
    "defineLocalVariable()\n",
    "\n",
    "print('someLocalVariable is not defined outside of the block' if 'someLocalVariable' not in globals() else 'someLocalVariable IS defined outside of the block')"
   ]
  },
  {
   "cell_type": "markdown",
   "id": "254f4bae-cd6f-4ead-a809-bb966b8664c3",
   "metadata": {},
   "source": [
    "## Global Variables\n",
    "\n",
    "Any variables defined outside of a module or function are global in scope.\n",
    "\n",
    "Variables defined within are then local in scope.\n",
    "\n",
    "Similar to JavaScript, they are then available within that same scope or scopes contained therein.\n",
    "\n",
    "The only exception is if a `local variable` is prefixed with the `global` keyword, then they are tied to the global scope."
   ]
  },
  {
   "cell_type": "code",
   "execution_count": 12,
   "id": "15c43db4-ff46-4781-baf7-43bfa1f9da18",
   "metadata": {},
   "outputs": [
    {
     "name": "stdout",
     "output_type": "stream",
     "text": [
      "globalDuplicateVariable='duplicate'\n",
      "globalDuplicateVariable='duplicate'\n",
      "globalDuplicateVariable='duplicate3'\n",
      "someLocalVariable is not accessible outside of the block\n"
     ]
    }
   ],
   "source": [
    "globalDuplicateVariable = 'duplicate'\n",
    "print(f\"{globalDuplicateVariable=}\") # globalDuplicateVariable='duplicate'\n",
    "\n",
    "def demoLocalScopeWithGlobals():\n",
    "    global globalDuplicateVariable\n",
    "    someLocalVariable = 'local'\n",
    "    globalDuplicateVariable = 'duplicate3'\n",
    "\n",
    "# function is not executed yet, so it is still duplicate\n",
    "print(f\"{globalDuplicateVariable=}\") # globalDuplicateVariable='duplicate'\n",
    "\n",
    "# call the function\n",
    "demoLocalScopeWithGlobals()\n",
    "\n",
    "# see the function update the global variable\n",
    "print(f\"{globalDuplicateVariable=}\") # globalDuplicateVariable='duplicate3'\n",
    "\n",
    "# see the local variable is still not accessible\n",
    "print('someLocalVariable is not accessible outside of the block' if 'someLocalVariable' not in globals() else 'someLocalVariable IS accessible outside of the block')"
   ]
  },
  {
   "cell_type": "markdown",
   "id": "209b145c-68e1-4c3a-aa5c-297cd3bc92d0",
   "metadata": {},
   "source": [
    "## NonLocal Variables\n",
    "\n",
    "**TLDR; nonlocal allows variables in enclosing scopes to be used**\n",
    "\n",
    "In JavaScript, variables defined within parent scopes are available within children scopes.\n",
    "\n",
    "```\n",
    "// JavaScript\n",
    "function outerFn(start, end):\n",
    "    let outerVariable = start;\n",
    "    const makeStatement = function(){\n",
    "        //-- use the outerVariable\n",
    "        const message = `message:${outerVariable}`;\n",
    "        return message;\n",
    "    }\n",
    "    ...\n",
    "}\n",
    "```\n",
    "\n",
    "In Python, the variables were only available **globaly** or **locally**, not leaving room for enclosing scopes."
   ]
  },
  {
   "cell_type": "markdown",
   "id": "78910a96-9a98-40fe-b113-f640bf8769d9",
   "metadata": {},
   "source": [
    "Defining a variable `nonlocal` means it should check locally, or in the parent scopes up to global."
   ]
  },
  {
   "cell_type": "code",
   "execution_count": 13,
   "id": "d41062b5-5f98-4c28-a5cb-4e075088215e",
   "metadata": {},
   "outputs": [
    {
     "data": {
      "text/plain": [
       "11"
      ]
     },
     "execution_count": 13,
     "metadata": {},
     "output_type": "execute_result"
    }
   ],
   "source": [
    "def outerLocal():\n",
    "    outerVariable = 10\n",
    "    def innerLocal():\n",
    "        nonlocal outerVariable\n",
    "        return outerVariable + 1\n",
    "    return innerLocal()\n",
    "\n",
    "outerLocal()"
   ]
  },
  {
   "cell_type": "markdown",
   "id": "46546eb9-b078-44e9-af44-ba2aca97b210",
   "metadata": {},
   "source": [
    "For more, [see PEP 3104](https://www.python.org/dev/peps/pep-3104/)"
   ]
  },
  {
   "cell_type": "markdown",
   "id": "261b5293-d05c-4d90-9a8d-49ca12e043e5",
   "metadata": {},
   "source": [
    "## Constants\n",
    "\n",
    "There is no keyword for constants within Python.\n",
    "\n",
    "By convention, all constants should be in UPPERCASE and Underscore.  They are not validated at runtime, and are checked only by some [Linters](#Linters)"
   ]
  },
  {
   "cell_type": "markdown",
   "id": "738f4030-9c80-4fb6-b538-3e39d6e0bd7b",
   "metadata": {},
   "source": [
    "## Destructuring Assignments\n",
    "\n",
    "JavaScript supports [Destructuring Assignments](https://developer.mozilla.org/en-US/docs/Web/JavaScript/Reference/Operators/Destructuring_assignment) to unpack values from arrays or objects.\n",
    "\n",
    "```\n",
    "// JavaScript\n",
    "let (a, b, c) = [1,2,3];\n",
    "console.log(`a:${a}, b:${b}, c:${c}`); // a:1, b:2, c:3\n",
    "```\n",
    "\n",
    "Python supports destructuring very similarly:"
   ]
  },
  {
   "cell_type": "code",
   "execution_count": 14,
   "id": "e6202a8e-86dd-4ec3-99b4-b4e61321fb91",
   "metadata": {},
   "outputs": [
    {
     "name": "stdout",
     "output_type": "stream",
     "text": [
      "dest1=1, dest2=2, dest3=3\n"
     ]
    }
   ],
   "source": [
    "dest1, dest2, dest3 = [1,2,3]\n",
    "print(f\"dest1={dest1}, dest2={dest2}, dest3={dest3}\")"
   ]
  },
  {
   "cell_type": "markdown",
   "id": "4311230c-15c2-45b8-95ef-6379dd31575c",
   "metadata": {},
   "source": [
    "### Destructuring Rest\n",
    "\n",
    "JavaScript also allows for destructuring a list of items of unknown length through the `...` or `rest` operator\n",
    "\n",
    "```\n",
    "// JavaScript\n",
    "let (head, ...rest) = [1,2,3,4,5];\n",
    "console.log(head); // 1\n",
    "console.log(rest); // [2,3,4,5]\n",
    "```\n",
    "\n",
    "Python instead uses the `*` as the rest operator"
   ]
  },
  {
   "cell_type": "code",
   "execution_count": 15,
   "id": "5dc5c329-e09c-4dcb-95fd-c30fc9f0268e",
   "metadata": {},
   "outputs": [
    {
     "name": "stdout",
     "output_type": "stream",
     "text": [
      "1\n",
      "[2, 3, 4, 5]\n"
     ]
    }
   ],
   "source": [
    "head, *tail = [1,2,3,4,5]\n",
    "print(head) # 1\n",
    "print(tail) # [2,3,4,5]"
   ]
  },
  {
   "cell_type": "markdown",
   "id": "91a0d9f1-f05a-4e8c-b863-0f455e8d9ecc",
   "metadata": {},
   "source": [
    "### Ignore Operator\n",
    "\n",
    "Python supports a destructure operator that does not exist in JavaScript: the `_` or ignore operator.\n",
    "\n",
    "This essentially means you no longer have to create throwaway variables for destructuring."
   ]
  },
  {
   "cell_type": "code",
   "execution_count": 16,
   "id": "cf3e73cd-5ebc-4727-b343-b129cc210d8e",
   "metadata": {},
   "outputs": [
    {
     "name": "stdout",
     "output_type": "stream",
     "text": [
      "head=1, b=2, d=4\n"
     ]
    }
   ],
   "source": [
    "head, b, _, d, *_ = [1,2,3,4,5,6,7]\n",
    "print(f\"head={head}, b={b}, d={d}\")"
   ]
  },
  {
   "cell_type": "markdown",
   "id": "ed03dd33-fff9-485b-bc54-4e163557c1d4",
   "metadata": {},
   "source": [
    "## Walrus Operators\n",
    "\n",
    "JavaScript allows for assigning variables within a statement\n",
    "\n",
    "```\n",
    "// JavaScript\n",
    "if ((let block = readNext()) != '') {\n",
    "    process(block)\n",
    "}\n",
    "```\n",
    "\n",
    "With the new [Pep572](https://www.python.org/dev/peps/pep-0572), this is now supported in python with the [Walrus Operator or `:=`](https://docs.python.org/3/whatsnew/3.8.html#assignment-expressions)\n",
    "\n",
    "Did they really call it the Walrus Operator because `:=` looks like eyes and tusks? Yes. Yes they did.\n",
    "                                                                                                                                    \n",
    "ex: `if (block := readnext()) != '': ...`"
   ]
  },
  {
   "cell_type": "markdown",
   "id": "4f014b53-6900-4acc-82dd-998f68a162bb",
   "metadata": {},
   "source": [
    "## Casting\n",
    "\n",
    "**TLDR; Python does not do implicit conversions similar to JavaScript. Use constructors to cast variables**\n",
    "\n",
    "* `int(...)` - to create an Integer (ex: 2)\n",
    "* `float(...)` - to create a Floating point number (ex: 2.8)\n",
    "* `str(...)` - to create a String (ex: 'hello')"
   ]
  },
  {
   "cell_type": "code",
   "execution_count": 17,
   "id": "812968f3-6807-47e1-8b97-3b8a00286666",
   "metadata": {},
   "outputs": [
    {
     "name": "stdout",
     "output_type": "stream",
     "text": [
      "<class 'str'>:2.8\n",
      "<class 'str'>:2\n",
      "<class 'str'>:2\n",
      "<class 'int'>:2\n",
      "<class 'int'>:2\n",
      "<class 'int'>:2\n",
      "<class 'float'>:2.8\n",
      "<class 'float'>:2.0\n",
      "<class 'float'>:2.0\n"
     ]
    }
   ],
   "source": [
    "printTypeVal = lambda val: print(f'{type(val)}:{val}')\n",
    "\n",
    "printTypeVal(  str(2.8)  ) # str\n",
    "printTypeVal(  str(2)    ) # str\n",
    "printTypeVal(  str('2')  ) # str\n",
    "\n",
    "printTypeVal(  int(2.8)  ) # int\n",
    "printTypeVal(  int(2)    ) # int\n",
    "printTypeVal(  int('2')  ) # int\n",
    "\n",
    "printTypeVal(  float(2.8)  ) # float\n",
    "printTypeVal(  float(2)    ) # float\n",
    "printTypeVal(  float('2')  ) # float"
   ]
  },
  {
   "cell_type": "markdown",
   "id": "b25ab8a2-1884-487d-ac2b-2b0134dd3cc9",
   "metadata": {},
   "source": [
    "## Checking Equality\n",
    "\n",
    "JavaScript has some weird conversions that Python doesn't follow.\n",
    "\n",
    "```\n",
    "# JavaScript\n",
    "1 == '1'  // is same meaning? true\n",
    "1 === '1' // is same meaning and type? false\n",
    "\n",
    "undefined == null // have similar meaning of 'no value'\n",
    "```\n",
    "\n",
    "Python only has the equality operator `==` - meaning the same value and same type.\n",
    "\n",
    "This is roughly the same as the 'strict equality' operator `===` in JavaScript."
   ]
  },
  {
   "cell_type": "code",
   "execution_count": 18,
   "id": "c47c8991-19c4-43e1-9785-5866fed3e2c8",
   "metadata": {},
   "outputs": [
    {
     "name": "stdout",
     "output_type": "stream",
     "text": [
      "False\n",
      "True\n"
     ]
    }
   ],
   "source": [
    "print( 1 == '1' ) # false\n",
    "print( 1 == 1 )   # true"
   ]
  },
  {
   "cell_type": "markdown",
   "id": "c96717f6-9371-4df8-850d-e067f24dc42f",
   "metadata": {},
   "source": [
    "## Checking for Empty Variables\n",
    "\n",
    "In JavaScript, we typically use the checking of a similar type to tell if a variable is defined (or the browser doesn't have a feature implemented - like [es6 array.every](https://caniuse.com/mdn-javascript_builtins_array_every))\n",
    "\n",
    "```\n",
    "# JavaScript\n",
    "if (typeof Array.prototype.every === 'undefined') {\n",
    "    // set a function to Array.prototype.every so it will work as expected.\n",
    "}\n",
    "```\n",
    "\n",
    "Python doesn't have as many values for 'No Value' - like checking for undefined and null at the same time - so this isn't as much of an issue.\n",
    "\n",
    "However, you should check for Empty Variables using the `is` keyword [and for all Singletons - per Pep8](https://www.python.org/dev/peps/pep-0008/#programming-recommendations)"
   ]
  },
  {
   "cell_type": "code",
   "execution_count": 19,
   "id": "93b4baf5-07bf-4cdc-8c2f-48a1354ff0ac",
   "metadata": {},
   "outputs": [
    {
     "name": "stdout",
     "output_type": "stream",
     "text": [
      "True\n",
      "True\n"
     ]
    }
   ],
   "source": [
    "emptyVar = None\n",
    "nonEmptyVar = 1\n",
    "\n",
    "print( emptyVar is None ) # true\n",
    "print( nonEmptyVar is not None ) # true"
   ]
  },
  {
   "cell_type": "markdown",
   "id": "8ea402e5-4829-45da-9462-4cc3b5db80de",
   "metadata": {},
   "source": [
    "Although technically the following will work most of the time, there is a [Python Recommendation against it.](https://www.python.org/dev/peps/pep-0008/#programming-recommendations)"
   ]
  },
  {
   "cell_type": "code",
   "execution_count": 20,
   "id": "90646604-8e60-4534-8705-f43fd62e1753",
   "metadata": {},
   "outputs": [
    {
     "name": "stdout",
     "output_type": "stream",
     "text": [
      "True\n"
     ]
    }
   ],
   "source": [
    "print( emptyVar == None ) # true - but goes against recommendations."
   ]
  },
  {
   "cell_type": "markdown",
   "id": "3124c77d-dbf1-4e20-bddc-3e537d2a24de",
   "metadata": {},
   "source": [
    "See the [Null / None section for more](#Null)"
   ]
  },
  {
   "cell_type": "markdown",
   "id": "58978628-4feb-4052-864a-82ec432fcbf4",
   "metadata": {},
   "source": [
    "## Determining TypeOf a Variable\n",
    "\n",
    "**TLDR**\n",
    "(python has no `typeof` equivalent - because it doesn't have JavaScript's weird conversion issues. Use Python's `type(...)` function to get a type, or `isinstance(inst, class)` to verify it is that type instead`\n",
    "\n",
    "--\n",
    "\n",
    "Any time you would like to know the type of a given variable in JavaScript, `typeof` is your friend.\n",
    "\n",
    "```\n",
    "# JavaScript\n",
    "typeof 'Hello' // 'string'\n",
    "typeof 9 // 'number'\n",
    "typeof [0,1,2,3,5] // 'object'\n",
    "```\n",
    "\n",
    "There is something similar in Python called `type()`, where you pass a value and it will tell you the type:"
   ]
  },
  {
   "cell_type": "code",
   "execution_count": 21,
   "id": "6108e9b9-bce1-4be3-808a-9dde6bb2dbdd",
   "metadata": {},
   "outputs": [
    {
     "name": "stdout",
     "output_type": "stream",
     "text": [
      "<class 'str'>\n",
      "<class 'int'>\n",
      "<class 'list'>\n"
     ]
    }
   ],
   "source": [
    "print( type('Hello') )         # <class 'str'>\n",
    "print( type(9) )               # <class 'int'>\n",
    "print( type([0,1,2,3,4,5]) )   # <class 'list'>"
   ]
  },
  {
   "cell_type": "markdown",
   "id": "dcd4cd96-a5d2-4bb3-b72b-8a726b83236a",
   "metadata": {},
   "source": [
    "This is helpful, but likely in your projects you aren't often introspecting a variable to understand the type.\n",
    "\n",
    "More likely, you want to know whether your variable `is of a specific type`"
   ]
  },
  {
   "cell_type": "markdown",
   "id": "2b1abc14-e344-4876-b7cc-fa013ed11bf8",
   "metadata": {},
   "source": [
    "## Checking for a Specific Type\n",
    "\n",
    "There are times in JavaScript that `typeof` fails us a bit.\n",
    "\n",
    "```\n",
    "# JavaScript\n",
    "typeof [1,2,3] // 'object'\n",
    "typeof {name:'value'} // 'object'\n",
    "```\n",
    "\n",
    "so we use `instanceof` instead to tell if the object is the same type:\n",
    "\n",
    "```\n",
    "# JavaScript\n",
    "[1,2,3] instanceof Array // true\n",
    "({name:'value'}) instanceof Object // true\n",
    "\n",
    "function Person(first,last){\n",
    "    this.first = first;\n",
    "    this.last = last;\n",
    "    return this;\n",
    "}\n",
    "\n",
    "p = new Person('John','Doe')\n",
    "p instanceof Person // true\n",
    "```\n",
    "\n",
    "In python, you can also use the `type()` global function - similar to the `typeof` keyword in JavaScript...\n",
    "\n",
    "However, we are checking against a singleton class pointer in memory, so do not use equality '==' as there are rare cases the pointers can be different.\n",
    "\n",
    "Instead use the `is` keyword against any singleton, such as: `type(variable) is class`"
   ]
  },
  {
   "cell_type": "code",
   "execution_count": 22,
   "id": "beb850db-c7b1-4d2b-b5e7-c27216673f44",
   "metadata": {},
   "outputs": [
    {
     "name": "stdout",
     "output_type": "stream",
     "text": [
      "True\n"
     ]
    }
   ],
   "source": [
    "print( type([1,2,3]) is list )"
   ]
  },
  {
   "cell_type": "markdown",
   "id": "ae5a6020-9ba8-4bb5-b3c6-e6bed00fec51",
   "metadata": {},
   "source": [
    "Note that Empty Variables should just be checked against None"
   ]
  },
  {
   "cell_type": "code",
   "execution_count": 23,
   "id": "b55ecf3e-5d31-46e2-8210-f69dccfde8bb",
   "metadata": {},
   "outputs": [
    {
     "name": "stdout",
     "output_type": "stream",
     "text": [
      "True\n",
      "<class 'NoneType'>\n",
      "False\n"
     ]
    }
   ],
   "source": [
    "print( emptyVar is None ) # true\n",
    "\n",
    "print( type(emptyVar) ) # NoneType\n",
    "print( type(emptyVar) is None) # false - NoneType is not None"
   ]
  },
  {
   "cell_type": "markdown",
   "id": "15d3275e-2e20-4f25-9f5a-385e31334ab1",
   "metadata": {},
   "source": [
    "## Multi-Line Chaining Statements\n",
    "\n",
    "In JavaScript, operators can be used to allow a statement to continue to the next line.\n",
    "\n",
    "This can help with legibility of the code\n",
    "\n",
    "```\n",
    "// JavaScript\n",
    "myList.filter( r => r ? true : false )\n",
    "    .map( r => r.Name = r.First + r.Last )\n",
    "    ...\n",
    "```\n",
    "\n",
    "In Python, the end of the line is most often the end of the statement.\n",
    "\n",
    "However, you can use a backslash `/` at the newline, to continue to the next line"
   ]
  },
  {
   "cell_type": "code",
   "execution_count": 24,
   "id": "57371e9e-7bdf-4f11-8609-88f6990d577a",
   "metadata": {},
   "outputs": [
    {
     "name": "stdout",
     "output_type": "stream",
     "text": [
      "some junky string\n"
     ]
    }
   ],
   "source": [
    "multiLineValue = '   some junky string  ' \\\n",
    "    .lstrip() \\\n",
    "    .rstrip()\n",
    "print(multiLineValue)"
   ]
  },
  {
   "cell_type": "markdown",
   "id": "dc00698c-c32b-48bc-85ca-82d1e056d024",
   "metadata": {},
   "source": [
    "**Alternatively**, you can wrap the entire statement with an opening parenthesis"
   ]
  },
  {
   "cell_type": "code",
   "execution_count": 25,
   "id": "e97e1525-8191-4343-96b0-85305f3aa685",
   "metadata": {},
   "outputs": [
    {
     "name": "stdout",
     "output_type": "stream",
     "text": [
      "some junky string\n"
     ]
    }
   ],
   "source": [
    "multiLineValue = ('    some junky string '\n",
    "        .lstrip()\n",
    "        .rstrip()\n",
    "    )\n",
    "print(multiLineValue)"
   ]
  },
  {
   "cell_type": "markdown",
   "id": "2ae70b60-86ed-48a0-91f0-9a80f337fa84",
   "metadata": {},
   "source": [
    "<br /><br /><br /><br /><br /><br /><br /><br /><br /><br /><br /><br /><br /><br /><br /><br /><br /><br /><br /><br /><br /><br /><br /><br /><hr />\n",
    "<div style='height:20px;width:100%;background-color:#d6eeff'>&nbsp;</div>\n",
    "\n",
    "# Built in Types\n",
    "\n",
    "The List of [Built In Types supported by Python can be found here - shown for Python v3](https://docs.python.org/3/library/stdtypes.html)"
   ]
  },
  {
   "cell_type": "markdown",
   "id": "e7849a4b-7bc8-4d64-9252-e946ddbc7e45",
   "metadata": {},
   "source": [
    "## Non-Values\n",
    "\n",
    "Python doesn't have many non-value types.\n",
    "\n",
    "Unlike JavaScript and its wonderfully confusing list of `undefined` / `Null` / `NaN` and other representations of non-values.\n",
    "\n",
    "### Null\n",
    "\n",
    "Python only has the non-value of `None` (for Null)\n",
    "\n",
    "There is no concept of [undefined](https://developer.mozilla.org/en-US/docs/Web/JavaScript/Reference/Global_Objects/undefined)\n",
    "or [Symbol](https://developer.mozilla.org/en-US/docs/Web/JavaScript/Reference/Global_Objects/Symbol/search)\n",
    "\n",
    "As mentioned in [the 'Checking for Empty Variables' Section](#Checking-for-Empty-Variables), compare with `is` operator not equality."
   ]
  },
  {
   "cell_type": "code",
   "execution_count": 26,
   "id": "eaaeafbd-9562-4b5d-9a4c-218489adc64e",
   "metadata": {},
   "outputs": [
    {
     "name": "stdout",
     "output_type": "stream",
     "text": [
      "True\n",
      "True\n"
     ]
    }
   ],
   "source": [
    "print( emptyVar is None ) # true\n",
    "print( nonEmptyVar is not None ) # true"
   ]
  },
  {
   "cell_type": "markdown",
   "id": "672d0dea-541f-4a23-b230-77c281e19d49",
   "metadata": {},
   "source": [
    "### NaN\n",
    "\n",
    "Not-a-Number is available within the `Numpy` package\n",
    "\n",
    "`import numpy as np`\n",
    "\n",
    "[And it can throw a few problems](https://towardsdatascience.com/navigating-the-hell-of-nans-in-python-71b12558895b)"
   ]
  },
  {
   "cell_type": "code",
   "execution_count": 27,
   "id": "324158b6-ec37-4279-9361-46196c9e7127",
   "metadata": {},
   "outputs": [
    {
     "data": {
      "text/plain": [
       "False"
      ]
     },
     "execution_count": 27,
     "metadata": {},
     "output_type": "execute_result"
    }
   ],
   "source": [
    "np.nan == np.nan # also against recommendations"
   ]
  },
  {
   "cell_type": "markdown",
   "id": "6b886045-6689-4b4c-9f22-a7f2779807ee",
   "metadata": {},
   "source": [
    "**Use `is` when comparing NaN**"
   ]
  },
  {
   "cell_type": "code",
   "execution_count": 28,
   "id": "7f0c33d6-7db5-45f3-ada0-2ce6715e8516",
   "metadata": {},
   "outputs": [
    {
     "data": {
      "text/plain": [
       "True"
      ]
     },
     "execution_count": 28,
     "metadata": {},
     "output_type": "execute_result"
    }
   ],
   "source": [
    "np.nan is np.nan"
   ]
  },
  {
   "cell_type": "markdown",
   "id": "b3017571-1152-44b6-86ea-f97c0c6001f1",
   "metadata": {},
   "source": [
    "See the [the 'Checking for Empty Variables' Section](#Checking-for-Empty-Variables) for more."
   ]
  },
  {
   "cell_type": "markdown",
   "id": "53607687-de11-4cae-a4ec-e6b9be62337a",
   "metadata": {},
   "source": [
    "## Boolean\n",
    "\n",
    "(ex: True or False)\n",
    "\n",
    "Note that Python is case sensitive, where `True` and `False` are understood..."
   ]
  },
  {
   "cell_type": "code",
   "execution_count": 29,
   "id": "dd679672-df89-4697-823b-368e80369afa",
   "metadata": {},
   "outputs": [
    {
     "data": {
      "text/plain": [
       "True"
      ]
     },
     "execution_count": 29,
     "metadata": {},
     "output_type": "execute_result"
    }
   ],
   "source": [
    "True"
   ]
  },
  {
   "cell_type": "code",
   "execution_count": 30,
   "id": "6bbfcb36-d87b-44f9-9aad-5f730d80b9fd",
   "metadata": {},
   "outputs": [
    {
     "data": {
      "text/plain": [
       "False"
      ]
     },
     "execution_count": 30,
     "metadata": {},
     "output_type": "execute_result"
    }
   ],
   "source": [
    "False"
   ]
  },
  {
   "cell_type": "markdown",
   "id": "5ff7db6a-018b-4f9e-884b-daac002629ee",
   "metadata": {},
   "source": [
    "but `true` (and likewise - `false`) is not."
   ]
  },
  {
   "cell_type": "code",
   "execution_count": 31,
   "id": "eef18fd7-1ad0-4152-9124-5904fa42c35f",
   "metadata": {},
   "outputs": [
    {
     "name": "stdout",
     "output_type": "stream",
     "text": [
      "true is not defined\n"
     ]
    }
   ],
   "source": [
    "try:\n",
    "    true\n",
    "except NameError:\n",
    "    print('true is not defined')"
   ]
  },
  {
   "cell_type": "markdown",
   "id": "387f71b9-c57b-4931-81ea-18fd71379c72",
   "metadata": {},
   "source": [
    "### Python vs JavaScript Truthiness\n",
    "\n",
    "* Empty Collections are FALSE in python, but TRUE in JavaScript\n",
    "* Non-Values, like `undefined`, `NaN` and `null` are TRUE in python, but FALSE in JavaScript.\n",
    "\n",
    "(We will talk more in the [Checking for Emtpy Variables](#Checking-for-Empty-Variables) section below)\n",
    "\n",
    "[Python Truthiness](https://docs.python.org/3/library/stdtypes.html#truth-value-testing) - similar to JavaScript, values are considered `True` unless:\n",
    "    \n",
    "* The class defines a `__bool__()` method that returns `False`\n",
    "* or the class defines a `__len__()` method that returns `0` when called.\n",
    "\n",
    "additionally, the following also evaluate to `False`:\n",
    "    \n",
    "* constants `None` and `False`\n",
    "* zero of any numeric type: `0`, `0.0`, `0j`, `Decimal(0)`, `Fraction(0,1)`\n",
    "* empty sequences and collections: `''`, `()` - tuples, `[]` - lists, `{}` - sets, `set()`, `range(0)`\n",
    "    \n",
    "### JavaScript\n",
    "\n",
    "Note that [JavaScript Defines Truthiness](https://developer.mozilla.org/en-US/docs/Glossary/Truthy) slightly differently:\n",
    "    \n",
    "* constants `false`\n",
    "* zero of any numeric type: `0`, `-0`, `0n`\n",
    "* ONLY EMPTY STRING `''` (collections like [] are considered true)\n",
    "* Non-Values: `NaN`, `undefined` and `null`\n",
    "\n",
    "\n",
    "Note that this list is sligtly different from JavaScript, as JavaScript also includes `undefined` and `NaN` - as they are not supported in Python"
   ]
  },
  {
   "cell_type": "markdown",
   "id": "510cfa8a-eaee-4beb-975d-6dca32845cb7",
   "metadata": {},
   "source": [
    "## Numeric Types\n",
    "\n",
    "In JavaScript, Integers (ex: 1 or 2) and Float numbers (ex: 0.4 or 2.4) are both under the same `Number` data type.\n",
    "\n",
    "In Python, instead there are Integers or `int` and Floats or `float`"
   ]
  },
  {
   "cell_type": "code",
   "execution_count": 32,
   "id": "2bb1a952-b46d-49a2-af38-57490b0d0c34",
   "metadata": {},
   "outputs": [
    {
     "name": "stdout",
     "output_type": "stream",
     "text": [
      "<class 'int'>\n",
      "<class 'float'>\n"
     ]
    }
   ],
   "source": [
    "print(type(2))\n",
    "print(type(2.2))"
   ]
  },
  {
   "cell_type": "markdown",
   "id": "850d25cd-5446-4273-bf88-040e907b7f24",
   "metadata": {},
   "source": [
    "Similar to JavaScript, there are three types of prefixes:\n",
    "\n",
    "* `0b` + number - Binary"
   ]
  },
  {
   "cell_type": "code",
   "execution_count": 33,
   "id": "70aac207-86ef-49ae-80f2-a7677c3ebf16",
   "metadata": {},
   "outputs": [
    {
     "data": {
      "text/plain": [
       "107"
      ]
     },
     "execution_count": 33,
     "metadata": {},
     "output_type": "execute_result"
    }
   ],
   "source": [
    "0b1101011"
   ]
  },
  {
   "cell_type": "markdown",
   "id": "6b047dd5-f0c3-498d-827c-edb504793908",
   "metadata": {},
   "source": [
    "* `0o` + number - Octal"
   ]
  },
  {
   "cell_type": "code",
   "execution_count": 34,
   "id": "d31bb771-edc0-41c0-a4ac-84d838fa711c",
   "metadata": {},
   "outputs": [
    {
     "data": {
      "text/plain": [
       "13"
      ]
     },
     "execution_count": 34,
     "metadata": {},
     "output_type": "execute_result"
    }
   ],
   "source": [
    "0o15"
   ]
  },
  {
   "cell_type": "markdown",
   "id": "02be9984-239d-4855-8aee-51aceeac08b8",
   "metadata": {},
   "source": [
    "* `0x` + number - Hex"
   ]
  },
  {
   "cell_type": "code",
   "execution_count": 35,
   "id": "acfb45b4-37d7-437c-8a31-778ae2e8a7eb",
   "metadata": {},
   "outputs": [
    {
     "data": {
      "text/plain": [
       "253"
      ]
     },
     "execution_count": 35,
     "metadata": {},
     "output_type": "execute_result"
    }
   ],
   "source": [
    "0xFB + 0x2"
   ]
  },
  {
   "cell_type": "markdown",
   "id": "bb15cd09-fa83-4460-8c3a-87d4a9717ff3",
   "metadata": {},
   "source": [
    "#### Converting to Hex"
   ]
  },
  {
   "cell_type": "code",
   "execution_count": 36,
   "id": "c864cf66-5a6c-42ef-9b53-59c562fa4805",
   "metadata": {},
   "outputs": [
    {
     "data": {
      "text/plain": [
       "'0xff'"
      ]
     },
     "execution_count": 36,
     "metadata": {},
     "output_type": "execute_result"
    }
   ],
   "source": [
    "# python\n",
    "hex(255)\n",
    "\n",
    "# javascript\n",
    "# (255).toString(16)"
   ]
  },
  {
   "cell_type": "markdown",
   "id": "dd970572-27f9-43e4-96a3-aff9e090248c",
   "metadata": {},
   "source": [
    "You can also convert string equivalents through the `int(value, base=)`"
   ]
  },
  {
   "cell_type": "code",
   "execution_count": 37,
   "id": "51ca8b9b-5230-446a-b069-1b934fd23cfe",
   "metadata": {},
   "outputs": [
    {
     "data": {
      "text/plain": [
       "255"
      ]
     },
     "execution_count": 37,
     "metadata": {},
     "output_type": "execute_result"
    }
   ],
   "source": [
    "# python\n",
    "int('0xFF', base=16)\n",
    "\n",
    "# javascript\n",
    "# parseInt('FF', 16)"
   ]
  },
  {
   "cell_type": "markdown",
   "id": "55867f64-4023-4fb1-89c5-0ccaefe733ca",
   "metadata": {},
   "source": [
    "### BigInt / BigNum\n",
    "\n",
    "There is also a newly created DataType in JavaScript called [BigInt](https://developer.mozilla.org/en-US/docs/Glossary/BigInt) to represent integegers of arbitrary precision format.\n",
    "\n",
    "[Python does not seem to have an integer overflow](https://www.delftstack.com/howto/python/bigint-in-python/),\n",
    "so while there used to be a separate type called `bignum` which then turned into `long`...\n",
    "\n",
    "In Python 3 and above, there is now only one `int` type that represents all types of integers regardless of size."
   ]
  },
  {
   "cell_type": "code",
   "execution_count": 38,
   "id": "d2fd398e-4fba-4e37-9eaf-57a1853653bb",
   "metadata": {},
   "outputs": [
    {
     "name": "stdout",
     "output_type": "stream",
     "text": [
      "<class 'int'>\n",
      "<class 'int'>\n"
     ]
    }
   ],
   "source": [
    "x=10\n",
    "print(type(x))\n",
    "y=1111111111111111111111111111111111111111111111111111111111111111111\n",
    "print(type(y))"
   ]
  },
  {
   "cell_type": "markdown",
   "id": "a0d48671-7dfd-4e32-bff6-b0175c999867",
   "metadata": {},
   "source": [
    "## Strings\n",
    "\n",
    "Strings in Python are immutable sequences of unicode characters\n",
    "\n",
    "They can be either single quotes `'` or double quotes `\"` similar to JavaScript. <sup><a href='https://docs.python.org/3.9/library/string.html?highlight=string#module-string'>More</a></sup>"
   ]
  },
  {
   "cell_type": "code",
   "execution_count": 39,
   "id": "7f1d92f4-cb7c-4227-9531-eac7e77a08d8",
   "metadata": {},
   "outputs": [
    {
     "name": "stdout",
     "output_type": "stream",
     "text": [
      "<class 'str'>\n",
      "<class 'str'>\n",
      "Line 1\n",
      "Line2\n"
     ]
    }
   ],
   "source": [
    "print(type('some string'))\n",
    "print(type(\"some other string\"))\n",
    "\n",
    "# note that escapes are also allowed in single quotes, unlike older versions of Java\n",
    "print('Line 1\\nLine2')"
   ]
  },
  {
   "cell_type": "markdown",
   "id": "4123855d-aa96-4c6f-9cd0-951841a64287",
   "metadata": {},
   "source": [
    "So doing an operation on a string always results in a new string, such as `Concatenation`\n",
    "\n",
    "(JavaScript have a few edit `in-place` methods on strings, and they work slightly differently in python."
   ]
  },
  {
   "cell_type": "code",
   "execution_count": 40,
   "id": "52ec8cb4-37b9-45d2-b7ac-599e6b8f0663",
   "metadata": {},
   "outputs": [
    {
     "name": "stdout",
     "output_type": "stream",
     "text": [
      "new name:Caty\n",
      "name after:caty\n"
     ]
    }
   ],
   "source": [
    "name = 'caty'\n",
    "\n",
    "print('new name:' + name.capitalize())\n",
    "print('name after:' + name)"
   ]
  },
  {
   "cell_type": "markdown",
   "id": "4d2a5c7b-ada7-4b0f-9ebf-5aee02344e89",
   "metadata": {},
   "source": [
    "### Converting to String\n",
    "\n",
    "Strings can be converted either through the [repr](https://docs.python.org/3/library/functions.html#repr) or [str](https://docs.python.org/3/library/stdtypes.html#str)\n",
    "\n",
    "The `str` method is meant to be human readible, and can be overwritten on a custom class through overriding [\\_\\_str\\_\\_](https://docs.python.org/3/reference/datamodel.html#object.__str__)\n",
    "                                                   \n",
    "the `repr` method is meant to be a string encoded / \"official\" version of the object (for serialization) and also overwritten on a class through overriding [\\_\\_repr\\_\\_](https://docs.python.org/3/reference/datamodel.html#object.__repr__)"
   ]
  },
  {
   "cell_type": "code",
   "execution_count": 41,
   "id": "bd28aa89-d9d2-48f8-9319-0fbd3d9eac16",
   "metadata": {},
   "outputs": [
    {
     "name": "stdout",
     "output_type": "stream",
     "text": [
      "2021-09-23 22:55:09.128910\n",
      "datetime.datetime(2021, 9, 23, 22, 55, 9, 129032)\n"
     ]
    }
   ],
   "source": [
    "# human readible form\n",
    "print(str(datetime.datetime.now()))   # 2021-09-15 16:39:51.514965\n",
    "\n",
    "# official serialized version of the object\n",
    "print(repr(datetime.datetime.now()))  # datetime.datetime(2021, 9, 15, 16, 39, 51, 515053)"
   ]
  },
  {
   "cell_type": "markdown",
   "id": "bd1a7424-3002-4cb8-adfa-37410a9d600d",
   "metadata": {},
   "source": [
    "### String Global Methods\n",
    "\n",
    "Some methods in JavaScript however are global functions instead in python though.\n",
    "\n",
    "[See the Common String Operations](https://docs.python.org/3/library/string.html) for more"
   ]
  },
  {
   "cell_type": "code",
   "execution_count": 42,
   "id": "ddef0147-f97a-4715-9689-b514b8840068",
   "metadata": {},
   "outputs": [
    {
     "data": {
      "text/plain": [
       "11"
      ]
     },
     "execution_count": 42,
     "metadata": {},
     "output_type": "execute_result"
    }
   ],
   "source": [
    "# python\n",
    "len('mississippi')\n",
    "\n",
    "# javascript\n",
    "# ('mississippi').length"
   ]
  },
  {
   "cell_type": "markdown",
   "id": "3ae9db69-d225-43e6-9f77-83ccd9e437ae",
   "metadata": {},
   "source": [
    "## String Formatting\n",
    "\n",
    "### String Templates\n",
    "\n",
    "[JavaScript String Templates](https://developer.mozilla.org/en-US/docs/Web/JavaScript/Reference/Template_literals)\n",
    "    \n",
    "For example:\n",
    "\n",
    "```\n",
    "# javascript string template\n",
    "let adjective = 'super';\n",
    "`This is a JavaScript String Template. It is {adjective}`;\n",
    "```\n",
    "\n",
    "They are very helpful, as they provide:\n",
    "\n",
    "* Interpolating variables within the string\n",
    "* Multi-Line strings\n",
    "\n",
    "**Python String Templates**\n",
    "\n",
    "Python provides `String Templates` that are imported from the string namespace\n",
    "\n",
    "`from string import Template`\n",
    "\n",
    "These are different in that they can be interpolated later, allowing for `i18n` / translations much easier.\n",
    "\n",
    "As opposed to JavaScript, that replaces it at time of definition."
   ]
  },
  {
   "cell_type": "code",
   "execution_count": 43,
   "id": "4edce088-99e0-4baa-ac04-d6b4a87ecc8f",
   "metadata": {},
   "outputs": [],
   "source": [
    "stringTemplate1 = Template('$who likes $what')"
   ]
  },
  {
   "cell_type": "code",
   "execution_count": 44,
   "id": "df240834-c1e1-4669-b3dc-b7f1624b0268",
   "metadata": {},
   "outputs": [
    {
     "data": {
      "text/plain": [
       "'Mikey likes it'"
      ]
     },
     "execution_count": 44,
     "metadata": {},
     "output_type": "execute_result"
    }
   ],
   "source": [
    "stringTemplate1.substitute(who = 'Mikey', what = 'it')"
   ]
  },
  {
   "cell_type": "markdown",
   "id": "a4e8b0bb-b723-4c5f-8c00-280e06289fed",
   "metadata": {},
   "source": [
    "### Python F-Strings\n",
    "\n",
    "[Formatted String Literals (f-strings)](https://docs.python.org/3/tutorial/inputoutput.html#tut-f-strings) are a string with an `f` or an `F` prefixing before the opening quotation.\n",
    "\n",
    "[Additional notes on string formats found here](https://docs.python.org/3/reference/lexical_analysis.html#f-strings)\n",
    "\n",
    "Inside the string, any variables can be used between an opening and closing curly-brace (`{` or `}`)"
   ]
  },
  {
   "cell_type": "code",
   "execution_count": 45,
   "id": "ff18b7b9-7847-45e2-968d-056e117025a1",
   "metadata": {},
   "outputs": [
    {
     "name": "stdout",
     "output_type": "stream",
     "text": [
      "The year is 2016 and something is wrong\n"
     ]
    }
   ],
   "source": [
    "year=2016\n",
    "event='something is wrong'\n",
    "print(f'The year is {year} and {event}')"
   ]
  },
  {
   "cell_type": "markdown",
   "id": "a7b358e4-34f8-44fd-8aba-31dcd7746e82",
   "metadata": {},
   "source": [
    "### Python String.replace\n",
    "\n",
    "Python also has a very powerful [str.format()](https://docs.python.org/3/library/stdtypes.html#str.format)\n",
    "method on strings that allow for quite a few formatting directives:\n",
    "               \n",
    "* Minimum Width / Fill characters\n",
    "* left / right / center alignment\n",
    "* number signing (ex: + or -)\n",
    "* grouping options\n",
    "* precision\n",
    "\n",
    "[See here for more on the different types of options](https://docs.python.org/3/library/string.html#format-string-syntax)"
   ]
  },
  {
   "cell_type": "code",
   "execution_count": 46,
   "id": "5cb0c090-6b75-4a96-ae2e-22b6f78a9b24",
   "metadata": {},
   "outputs": [
    {
     "name": "stdout",
     "output_type": "stream",
     "text": [
      "a, b, c\n",
      "c, b, a\n"
     ]
    }
   ],
   "source": [
    "print('{0}, {1}, {2}'.format('a', 'b', 'c'))\n",
    "# 'a, b, c'\n",
    "print('{2}, {1}, {0}'.format('a', 'b', 'c'))\n",
    "# 'c, b, a'"
   ]
  },
  {
   "cell_type": "code",
   "execution_count": 47,
   "id": "351a24ff-179e-452f-8687-900d588e14d7",
   "metadata": {},
   "outputs": [
    {
     "name": "stdout",
     "output_type": "stream",
     "text": [
      "[left aligned                  ]\n",
      "[                  left aligned]\n"
     ]
    }
   ],
   "source": [
    "print( '[' + '{:<30}'.format('left aligned') + ']')\n",
    "# 'left aligned                  '\n",
    "print( '[' + '{:>30}'.format('left aligned') + ']')\n",
    "# '                 right aligned'"
   ]
  },
  {
   "cell_type": "code",
   "execution_count": 48,
   "id": "c033f9be-75f5-4416-aceb-d27b158a19bf",
   "metadata": {},
   "outputs": [
    {
     "name": "stdout",
     "output_type": "stream",
     "text": [
      " 3.140000; -3.140000, +3.140000\n"
     ]
    }
   ],
   "source": [
    "print('{: f}; {: f}, {:+f}'.format(3.14, -3.14, 3.14))"
   ]
  },
  {
   "cell_type": "code",
   "execution_count": 49,
   "id": "aeaca155-7af2-4f86-b321-5016b13e71fb",
   "metadata": {},
   "outputs": [
    {
     "name": "stdout",
     "output_type": "stream",
     "text": [
      "1,234,567,890\n"
     ]
    }
   ],
   "source": [
    "print('{:,}'.format(1234567890))"
   ]
  },
  {
   "cell_type": "code",
   "execution_count": 50,
   "id": "12b85e1e-3440-409b-b761-ed16f258a9d4",
   "metadata": {},
   "outputs": [
    {
     "name": "stdout",
     "output_type": "stream",
     "text": [
      "Correct answers: 86.36%\n"
     ]
    }
   ],
   "source": [
    "print('Correct answers: {:.2%}'.format(19/22))"
   ]
  },
  {
   "cell_type": "markdown",
   "id": "94b912d0-cf3c-43c5-aff2-79375dedfd03",
   "metadata": {},
   "source": [
    "## Dates / Times\n",
    "\n",
    "TLDR; JavaScript has only the [Date Class](https://developer.mozilla.org/en-US/docs/Web/JavaScript/Reference/Global_Objects/Date) for working with Dates and Times.\n",
    "\n",
    "The closest object in python is the [datetime](https://docs.python.org/3/library/datetime.html#module-datetime) object, however there are [a number of objects](https://docs.python.org/3/library/datetime.html).  It is important to note that there are some 'date-ish' objects that [do not understand timezones](https://docs.python.org/3/library/datetime.html#aware-and-naive-objects).\n",
    "\n",
    "Note that many of these objects [are immutable](https://docs.python.org/3/library/datetime.html#available-types) so cloning isn't necessary when adding / subtracting times. \n",
    "\n",
    "Python has a couple objects that deal with [dates / times](https://docs.python.org/3/library/datetime.html#module-datetime):\n",
    "\n",
    "* [datetime](https://docs.python.org/3/library/datetime.html) - the most similar to JavaScript Date objects\n",
    "* [timedelta](https://docs.python.org/3/library/datetime.html#datetime.timedelta) - for time between datetimes\n",
    "* [date](https://docs.python.org/3/library/datetime.html#datetime.date) - for dealing with dates\n",
    "* [time](https://docs.python.org/3/library/time.html#module-time) - for time specific manipulation\n",
    "* [timezone](https://docs.python.org/3/library/datetime.html#timezone-objects) - represents a timzone offset of UTC\n",
    "* [and more available](https://docs.python.org/3/library/datetime.html)\n",
    "\n",
    "Some objects do not understand timezones (like date and calendar), some optionally may (like date and time). **Check the `tzinfo` property to see if they do understand timezones**.\n",
    "\n",
    "To avoid the multiple namespaces like: `datetime.datetime.now()`, you can import the specific classes at the top of your script.\n",
    "\n",
    "For example:\n",
    "\n",
    "```\n",
    "from datetime import datetime, time\n",
    "\n",
    "...\n",
    "\n",
    "now = datetime.now()\n",
    "```\n",
    "\n",
    "### DateTime\n",
    "\n",
    "The [datetime.datetime type](https://docs.python.org/3/library/datetime.html#module-datetime) object is closest to the JavaScript Date object - in that it knows the date and time of something happening.\n",
    "\n",
    "You can get the current time through `datetime.now()`"
   ]
  },
  {
   "cell_type": "code",
   "execution_count": 51,
   "id": "014bdbb8-896c-4ed1-b114-5e87aef2adb2",
   "metadata": {},
   "outputs": [
    {
     "name": "stdout",
     "output_type": "stream",
     "text": [
      "2021-09-23 22:55:09.176717\n"
     ]
    }
   ],
   "source": [
    "now = datetime.datetime.now()\n",
    "print(now)"
   ]
  },
  {
   "cell_type": "markdown",
   "id": "236b5751-55ff-407a-9263-2023de9f0a31",
   "metadata": {},
   "source": [
    "explicitly set the time"
   ]
  },
  {
   "cell_type": "code",
   "execution_count": 52,
   "id": "fe01e602-c6fc-4bc5-9a3a-51baffa69485",
   "metadata": {},
   "outputs": [
    {
     "name": "stdout",
     "output_type": "stream",
     "text": [
      "2021-09-15 10:00:00\n"
     ]
    }
   ],
   "source": [
    "then = datetime.datetime(2021,9,15,10,0,0)\n",
    "print(then)"
   ]
  },
  {
   "cell_type": "markdown",
   "id": "984e1225-74b8-416f-b971-6b9db95ae3c9",
   "metadata": {},
   "source": [
    "Or you can explicitly specify the time from a string"
   ]
  },
  {
   "cell_type": "code",
   "execution_count": 53,
   "id": "dba61c24-8082-4f90-96bc-b78a5c5643de",
   "metadata": {},
   "outputs": [
    {
     "name": "stdout",
     "output_type": "stream",
     "text": [
      "2021-09-15 09:00:00-05:00\n"
     ]
    }
   ],
   "source": [
    "then2 = datetime.datetime.fromisoformat('2021-09-15T09:00:00-05:00')\n",
    "print(then2)"
   ]
  },
  {
   "cell_type": "markdown",
   "id": "16b83e2c-348d-4c09-b75c-3b654bd0901d",
   "metadata": {},
   "source": [
    "### Adding or removing time through timedelta\n",
    "\n",
    "The [timedelta](https://docs.python.org/3/library/datetime.html#datetime.timedelta) class is the preferred way to add time to date.\n",
    "\n",
    "datetime.timedelta(weekds=, days=, hours=, minutes=, seconds=, microseconds=, milliseconds=)"
   ]
  },
  {
   "cell_type": "code",
   "execution_count": 54,
   "id": "9ab9da98-b16c-4f7e-bf87-18437020aafe",
   "metadata": {},
   "outputs": [
    {
     "name": "stdout",
     "output_type": "stream",
     "text": [
      "Oh No detected. T-minus: 1:02:03 expected at 2021-09-23 23:57:12.176717\n"
     ]
    }
   ],
   "source": [
    "# ohno is the length of time to drive home and realize you forgot something\n",
    "ohno = datetime.timedelta(hours=1,minutes=2,seconds=3)\n",
    "\n",
    "print(f'Oh No detected. T-minus: {ohno} expected at {now + ohno}')"
   ]
  },
  {
   "cell_type": "markdown",
   "id": "3c1e7af6-467c-4d36-8091-9376ee867de5",
   "metadata": {},
   "source": [
    "Operations are:\n",
    "\n",
    "* `+` - sum of times\n",
    "* `-` - difference of times\n",
    "* `*` - multiplication, ex: timeToFinish = 4 * ohno\n",
    "* `/` - number of times the timespan fits into another\n",
    "* `//` - floored number of times the timespan fits into another"
   ]
  },
  {
   "cell_type": "code",
   "execution_count": 55,
   "id": "4de96725-7c76-4261-b0c2-1bcf01244b3a",
   "metadata": {},
   "outputs": [
    {
     "name": "stdout",
     "output_type": "stream",
     "text": [
      "2021-09-23 23:57:12.176717\n",
      "2021-09-23 21:53:06.176717\n",
      "4:08:12\n",
      "0:20:41\n",
      "0:20:41\n"
     ]
    }
   ],
   "source": [
    "print(ohno + now)  # 2021-09-15 17:50:32.420098\n",
    "print(now - ohno)  # 2021-09-15 15:46:26.420098\n",
    "print(ohno * 4)    # 4:08:12\n",
    "print(ohno / 3)    # 0:20:41\n",
    "print(ohno // 3)   # 0:20:41"
   ]
  },
  {
   "cell_type": "markdown",
   "id": "2830e24b-493b-42a5-9e4c-7a9816a4df74",
   "metadata": {},
   "source": [
    "### Printing a DateTime\n",
    "\n",
    "The `strftime()` and `strptime()` methods both allow for a format string in printing a time\n",
    "\n",
    "[See here for the full list of format codes](https://docs.python.org/3/library/datetime.html#strftime-and-strptime-format-codes)"
   ]
  },
  {
   "cell_type": "code",
   "execution_count": 56,
   "id": "506b8cdb-032e-4d27-94a3-0f1378261d3e",
   "metadata": {},
   "outputs": [
    {
     "data": {
      "text/plain": [
       "'Thu September 23, 2021 @ 10:55:09 PM '"
      ]
     },
     "execution_count": 56,
     "metadata": {},
     "output_type": "execute_result"
    }
   ],
   "source": [
    "now.strftime('%a %B %d, %Y @ %I:%M:%S %p %Z')"
   ]
  },
  {
   "cell_type": "code",
   "execution_count": 57,
   "id": "a5c62e43-d527-4140-90fc-1366ce25c76a",
   "metadata": {},
   "outputs": [
    {
     "data": {
      "text/plain": [
       "'Thu Sep 23 22:55:09 2021'"
      ]
     },
     "execution_count": 57,
     "metadata": {},
     "output_type": "execute_result"
    }
   ],
   "source": [
    "# locale \n",
    "now.strftime('%c')"
   ]
  },
  {
   "cell_type": "code",
   "execution_count": 58,
   "id": "d107fa1f-5f3d-4705-b46b-796e7ace42c5",
   "metadata": {},
   "outputs": [
    {
     "data": {
      "text/plain": [
       "'2021-09-23 22:55:09.176717'"
      ]
     },
     "execution_count": 58,
     "metadata": {},
     "output_type": "execute_result"
    }
   ],
   "source": [
    "# utc time\n",
    "str(now)"
   ]
  },
  {
   "cell_type": "markdown",
   "id": "8bf00293-9e87-4aa8-a598-6adfba9f6aae",
   "metadata": {},
   "source": [
    "## Regular Expressions\n",
    "\n",
    "**TLDR; Python handles Regular Expressions similar to Python with the external `re` library, but handles flags differently and can separate out compilation.**\n",
    "\n",
    "JavaScript includes RegularExpressions as part of the language, however it handles it differently in how flags and compilation is handled**\n",
    "\n",
    "```\n",
    "// JavaScript\n",
    "let myRex = /name: (\\w+)/i;\n",
    "(\"name: john\").match(myRex);\n",
    "// [\"name: john\", \"john\", index: 0, input: \"name: john\", groups: undefined]\n",
    "```\n",
    "\n",
    "Python requires that we import the `re` library, ex:\n",
    "\n",
    "```\n",
    "import re\n",
    "\n",
    "regex = re.compile(r\"name: (\\w+)\")\n",
    "```\n",
    "\n",
    "Note that we use the `raw string`, so we don't get into [backslash hell](https://www.johndcook.com/blog/2019/08/31/regex-special-characters/)\n",
    "\n",
    "You don't have to use raw strings, but that means you may have to escape your characters, and escape your backslashes, etc.\n",
    "\n",
    "print(\"this is the string we need to compile: `name: (\\\\\\\\w+)`\")"
   ]
  },
  {
   "cell_type": "code",
   "execution_count": 59,
   "id": "86d832b8-e877-4a31-9935-9a3e28494316",
   "metadata": {},
   "outputs": [
    {
     "name": "stdout",
     "output_type": "stream",
     "text": [
      "this is the string we need to compile: `name: (\\\\w+)`\n"
     ]
    }
   ],
   "source": [
    "print(\"this is the string we need to compile: `name: (\\\\\\\\w+)`\")"
   ]
  },
  {
   "cell_type": "markdown",
   "id": "e5355beb-bf4e-4860-9506-483eff8a5d74",
   "metadata": {},
   "source": [
    "### Regex Match Command\n",
    "\n",
    "* [compiled.match() or re.match()](https://docs.python.org/3/library/re.html#re.match) - whether the string is matched (by default entire string"
   ]
  },
  {
   "cell_type": "code",
   "execution_count": 60,
   "id": "9c5bdb1e-1da7-4799-88f1-4d2609dc32a1",
   "metadata": {},
   "outputs": [
    {
     "data": {
      "text/plain": [
       "'John'"
      ]
     },
     "execution_count": 60,
     "metadata": {},
     "output_type": "execute_result"
    }
   ],
   "source": [
    "nameRegex = re.compile(r\"name: (\\w+)\")\n",
    "nameRegex.match(\"name: John\")[1]"
   ]
  },
  {
   "cell_type": "markdown",
   "id": "0e7c6e1c-bdf2-4036-9032-10f7fb603b7d",
   "metadata": {},
   "source": [
    "**NOTE: there are static versions of these methods as-well, see the [Compile and Run Regex section below](#Compile-and-Run-Regex)**\n",
    "\n",
    "These will internally cache the results from the compile methods, so it is minimized (but not not identical) when running in a loop.\n",
    "\n",
    "https://docs.python.org/3/library/re.html#re.match"
   ]
  },
  {
   "cell_type": "code",
   "execution_count": 61,
   "id": "2dd93ea3-c157-4233-acb9-aa7e8e74a706",
   "metadata": {},
   "outputs": [
    {
     "name": "stdout",
     "output_type": "stream",
     "text": [
      "no match\n"
     ]
    }
   ],
   "source": [
    "# does not find a match because it is matching against the entire string (see flags)\n",
    "print(\"no match\" if not nameRegex.match(\"my name: John\") else \"match\")"
   ]
  },
  {
   "cell_type": "code",
   "execution_count": 62,
   "id": "7c1555d5-db1b-4427-8064-b98b05abde8d",
   "metadata": {},
   "outputs": [
    {
     "name": "stdout",
     "output_type": "stream",
     "text": [
      "<re.Match object; span=(0, 10), match='name: John'>\n",
      "None\n"
     ]
    }
   ],
   "source": [
    "print(re.match(r\"name: (\\w+)\", \"name: John\"))     # match\n",
    "print(re.match(r\"name: (\\w+)\", \"my name: John\"))  # None"
   ]
  },
  {
   "cell_type": "markdown",
   "id": "291a1452-7bcd-4315-9cc6-96628a39b048",
   "metadata": {},
   "source": [
    "* [search()](https://docs.python.org/3/library/re.html#re.search) - searches for any examples of a match within the string"
   ]
  },
  {
   "cell_type": "code",
   "execution_count": 63,
   "id": "b7566d2e-3ce4-4d4e-85c4-88b942c2a5d1",
   "metadata": {},
   "outputs": [
    {
     "name": "stdout",
     "output_type": "stream",
     "text": [
      "<re.Match object; span=(0, 10), match='name: John'>\n",
      "<re.Match object; span=(3, 13), match='name: John'>\n"
     ]
    }
   ],
   "source": [
    "print(re.search(r\"name: (\\w+)\", \"name: John\"))     # match\n",
    "print(re.search(r\"name: (\\w+)\", \"my name: John\"))  # match"
   ]
  },
  {
   "cell_type": "markdown",
   "id": "f3bed207-123d-4e94-81d1-d262eb6c1432",
   "metadata": {},
   "source": [
    "* [findall()](https://docs.python.org/3/library/re.html#re.findall) - finds all instances within the string"
   ]
  },
  {
   "cell_type": "code",
   "execution_count": 64,
   "id": "a9550ef3-f70f-4dc1-b7db-2e2789fd6def",
   "metadata": {},
   "outputs": [
    {
     "name": "stdout",
     "output_type": "stream",
     "text": [
      "['name: John', 'name: Wanda', 'name: Amy']\n"
     ]
    }
   ],
   "source": [
    "print(re.findall(r\"name: \\w+\", \"\"\"\n",
    "name: John,\n",
    "name: Wanda\n",
    "name: Amy\n",
    "\"\"\"))"
   ]
  },
  {
   "cell_type": "markdown",
   "id": "2b100c8d-694e-43be-afe4-a97994db4545",
   "metadata": {},
   "source": [
    "* [sub()](https://docs.python.org/3/library/re.html#re.sub) - Replaces all instances\n",
    "\n",
    "`sub(pattern, replacement, str [, flags]?)`\n",
    "\n",
    "Where \\1-9... references a pattern group `()` within a regex, or \\0 matches the entire string"
   ]
  },
  {
   "cell_type": "code",
   "execution_count": 65,
   "id": "846e288a-e903-4ad0-b9f1-c35ef4351c4b",
   "metadata": {},
   "outputs": [
    {
     "name": "stdout",
     "output_type": "stream",
     "text": [
      "my name was OriginalName but now is NewName\n"
     ]
    }
   ],
   "source": [
    "print(re.sub(r\"name: (\\w+)\", r\"name was \\1 but now is NewName\", \"my name: OriginalName\"))"
   ]
  },
  {
   "cell_type": "markdown",
   "id": "607b2f90-c86c-46bf-ab75-e62c60f24f5f",
   "metadata": {},
   "source": [
    "### Regex Substitution\n",
    "\n",
    "Diving into [sub()](https://docs.python.org/3/library/re.html#re.sub) a bit further, there are differences with JavaScript:\n",
    "\n",
    "* You will need to send the replace also as a `raw string` - ex: `r\"name\\s+(\\w+)\"`\n",
    "* `\\1 \\2 \\3` ... matches the captured groups \"regex (1) (2) (3)\" respectively\n",
    "  * best practice however is to use \\g<1> \\g<2> \\g<3> etc. to avoid confusion\n",
    "* `\\0` does not work as expected, instead use `\\g<0>`"
   ]
  },
  {
   "cell_type": "code",
   "execution_count": 66,
   "id": "78fa217e-4a4d-4492-9024-2ded95a87b3c",
   "metadata": {},
   "outputs": [
    {
     "data": {
      "text/plain": [
       "'the brown quick fox jumped over the dog that was lazy'"
      ]
     },
     "execution_count": 66,
     "metadata": {},
     "output_type": "execute_result"
    }
   ],
   "source": [
    "re.sub(r\"the (.+) (.+) (.+) jumped over the (.+) (.+)\", \\\n",
    "       r\"the \\2 \\1 \\3 jumped over the \\5 that was \\4\", \\\n",
    "       \"the quick brown fox jumped over the lazy dog\")"
   ]
  },
  {
   "cell_type": "code",
   "execution_count": 67,
   "id": "bd487a4c-711c-44b5-a4af-fdd00a05ffe4",
   "metadata": {},
   "outputs": [
    {
     "data": {
      "text/plain": [
       "'originally the quick brown fox jumped over the lazy dogthe brown quick fox jumped over the dog that was lazy'"
      ]
     },
     "execution_count": 67,
     "metadata": {},
     "output_type": "execute_result"
    }
   ],
   "source": [
    "re.sub(r\"the (.+) (.+) (.+) jumped over the (.+) (.+)\", \\\n",
    "       r\"originally \\g<0>the \\g<2> \\g<1> \\g<3> jumped over the \\g<5> that was \\g<4>\", \\\n",
    "       \"the quick brown fox jumped over the lazy dog\")"
   ]
  },
  {
   "cell_type": "markdown",
   "id": "6ecfcdbf-c4b4-4907-9947-c948d2d942f5",
   "metadata": {},
   "source": [
    "**Note: if sub is passed a function, it is evaluated for each match**"
   ]
  },
  {
   "cell_type": "code",
   "execution_count": 68,
   "id": "19c46127-e46d-4f31-bc28-1c2750d34fc7",
   "metadata": {},
   "outputs": [
    {
     "data": {
      "text/plain": [
       "'the amounts are debit of 20$, 40$, debit of 60$'"
      ]
     },
     "execution_count": 68,
     "metadata": {},
     "output_type": "execute_result"
    }
   ],
   "source": [
    "positiveNegativeAmt = lambda m: \"debit of \" + m.group(2) if m.group(1) == \"-\" else m.group(2)\n",
    "re.sub(r\"([-+]*)(\\d)\", positiveNegativeAmt, \"the amounts are -20$, 40$, -60$\")"
   ]
  },
  {
   "cell_type": "markdown",
   "id": "5f60a826-8e5b-4b13-839a-d813d3a5e7d1",
   "metadata": {},
   "source": [
    "Note that we use the `raw string`, so we don't get into [backslash hell](https://www.johndcook.com/blog/2019/08/31/regex-special-characters/)\n",
    "\n",
    "You don't have to use raw strings, but that means you may have to escape your characters, and escape your backslashes, etc."
   ]
  },
  {
   "cell_type": "code",
   "execution_count": 69,
   "id": "5aef1f48-fac6-445d-be9a-063d90f2d845",
   "metadata": {},
   "outputs": [
    {
     "name": "stdout",
     "output_type": "stream",
     "text": [
      "this is the string we need to compile: `name: (\\\\w+)`\n"
     ]
    }
   ],
   "source": [
    "print(\"this is the string we need to compile: `name: (\\\\\\\\w+)`\")"
   ]
  },
  {
   "cell_type": "markdown",
   "id": "2e9abf90-ea68-47c1-94f8-aafaf8d0e085",
   "metadata": {},
   "source": [
    "### Regex Flags\n",
    "\n",
    "To work with flags, provide the flags at the end of either the `re.compile(pattern, flags)` or static method call like `re.match(pattern, string, flags)`\n",
    "\n",
    "* re.A or re.ASCII - Make \\w, \\W, \\b, \\B, \\d, \\D, \\s and \\S perform ASCII-only matching instead of full Unicode matching.\n",
    "* re.DEBUG - display debug information about the compiled expression\n",
    "* re.I or re.IGNORECASE - make the search pattern case insensitive\n",
    "* re.L or re.LOCALE - make \\w \\W \\b \\B and case insensitive matching dependent on the current locale.\n",
    "* re.M or re.MULTILINE - allow '^' to also match each newline, and '$' to also match the end of each line. (By default, '^' only matches the beginning of the string)\n",
    "* re.S or re.DOTALL - make the '.' character mathc any character at all, including the newline. Without this flag '.' will match everything EXCEPT newlines.\n",
    "* re.X or re.VERBOSE - allow for '#' comments in patterns and newlines\n",
    "\n",
    "The patterns can also be combined through the `|` operator, ex: `re.I | re.M` to allow for both flags."
   ]
  },
  {
   "cell_type": "code",
   "execution_count": 70,
   "id": "d40d6caf-3a0c-430a-a5fb-ea68740f58a0",
   "metadata": {},
   "outputs": [
    {
     "data": {
      "text/plain": [
       "'You SAID:\\nFirst Line\\nSecond Line\\nThird Line'"
      ]
     },
     "execution_count": 70,
     "metadata": {},
     "output_type": "execute_result"
    }
   ],
   "source": [
    "re.search(r\"you said:\\s*(.+)\", \"\"\"\n",
    "You SAID:\n",
    "First Line\n",
    "Second Line\n",
    "Third Line\"\"\", re.I | re.S)[0]"
   ]
  },
  {
   "cell_type": "markdown",
   "id": "755b1382-5223-4014-967c-6be0a5b87664",
   "metadata": {},
   "source": [
    "<br /><br /><br /><br /><br /><br /><br /><br /><br /><br /><br /><br /><br /><br /><br /><br /><br /><br /><br /><br /><br /><br /><br /><br /><hr />\n",
    "<div style='height:20px;width:100%;background-color:#d6eeff'>&nbsp;</div>"
   ]
  },
  {
   "cell_type": "markdown",
   "id": "0b0040c9-8424-4bbd-bf52-6a993cb8d12e",
   "metadata": {},
   "source": [
    "# Collections\n",
    "\n",
    "Collections of items can either be sequenced / ordered: such as Arrays\n",
    "\n",
    "Or they can be unordered, where the order of definition doesn't matter as much: such as Sets / Maps"
   ]
  },
  {
   "cell_type": "markdown",
   "id": "653218b1-0996-48fe-b50f-f695b5719ec1",
   "metadata": {},
   "source": [
    "## Lists\n",
    "\n",
    "JavaScript Arrays are defined through opening and closing hard brackets `[]`\n",
    "\n",
    "Python Lists are created the similar way:"
   ]
  },
  {
   "cell_type": "code",
   "execution_count": 71,
   "id": "361699cb-7b1b-47a2-82c3-8f57ec2e04a2",
   "metadata": {},
   "outputs": [],
   "source": [
    "list1 = ['apple','orange','pear','orange']"
   ]
  },
  {
   "cell_type": "markdown",
   "id": "d752824a-c81a-4aa7-a3fb-394595953f16",
   "metadata": {},
   "source": [
    "Items within the list can also be accessed through hard brackets, similar to JavaScript"
   ]
  },
  {
   "cell_type": "code",
   "execution_count": 72,
   "id": "9be2c1f7-fad0-42f1-9a70-5b96e1d2fd01",
   "metadata": {},
   "outputs": [
    {
     "data": {
      "text/plain": [
       "'apple'"
      ]
     },
     "execution_count": 72,
     "metadata": {},
     "output_type": "execute_result"
    }
   ],
   "source": [
    "list1[0]"
   ]
  },
  {
   "cell_type": "markdown",
   "id": "9fa10d72-f462-4217-9c38-d4fe98d4d819",
   "metadata": {},
   "source": [
    "### List Global methods\n",
    "\n",
    "Similar to string, some methods are global and not methods <sup><a href='https://docs.python.org/3/library/stdtypes.html?highlight=tuple#common-sequence-operations'>More</a></sup>"
   ]
  },
  {
   "cell_type": "code",
   "execution_count": 73,
   "id": "bdcdfe54-48a9-4cca-bbad-542fd58fd8b4",
   "metadata": {},
   "outputs": [
    {
     "data": {
      "text/plain": [
       "4"
      ]
     },
     "execution_count": 73,
     "metadata": {},
     "output_type": "execute_result"
    }
   ],
   "source": [
    "len(list1)"
   ]
  },
  {
   "cell_type": "code",
   "execution_count": 74,
   "id": "22dfcea6-deb3-4fc1-87ff-af800a9d1f9f",
   "metadata": {},
   "outputs": [
    {
     "data": {
      "text/plain": [
       "'apple'"
      ]
     },
     "execution_count": 74,
     "metadata": {},
     "output_type": "execute_result"
    }
   ],
   "source": [
    "min(list1)"
   ]
  },
  {
   "cell_type": "code",
   "execution_count": 75,
   "id": "c0a49f37-95f9-4a44-ae95-83d0ef2417f3",
   "metadata": {},
   "outputs": [
    {
     "data": {
      "text/plain": [
       "'pear'"
      ]
     },
     "execution_count": 75,
     "metadata": {},
     "output_type": "execute_result"
    }
   ],
   "source": [
    "max(list1)"
   ]
  },
  {
   "cell_type": "markdown",
   "id": "d4fe5d78-2e8c-42e4-8212-8f08914cc1cc",
   "metadata": {},
   "source": [
    "### Joining List Items\n",
    "\n",
    "Use [string.join()](https://docs.python.org/3/library/stdtypes.html#str.join) method to join list values together."
   ]
  },
  {
   "cell_type": "code",
   "execution_count": 76,
   "id": "a252f97c-dd97-4939-b333-58d88010fa48",
   "metadata": {},
   "outputs": [
    {
     "data": {
      "text/plain": [
       "'apple, orange, pear, orange'"
      ]
     },
     "execution_count": 76,
     "metadata": {},
     "output_type": "execute_result"
    }
   ],
   "source": [
    "', '.join(list1)"
   ]
  },
  {
   "cell_type": "markdown",
   "id": "b3ac92cd-e095-421c-b567-c1a4d1f1d5a8",
   "metadata": {},
   "source": [
    "### Stack / Queue Methods\n",
    "\n",
    "Similar to JavaScript, the Stack / Queue methods are also available, but called by different names\n",
    "\n",
    "|                             | JavaScript           | Python                     |\n",
    "|-----------------------------|----------------------|----------------------------|\n",
    "| Add to beginning            | list1.unshift()      | N/A                        |\n",
    "| Add to end                  | list1.push(v)        | list1.append(v)            |\n",
    "| Remove first                | list1.shift()        | list[1:]                   |\n",
    "| Remove last                 | list1.pop()          | list[:-1]                  |\n",
    "| combine arrays              | [...list1, ...list2] | list1.extend(list2)        |\n",
    "| clone                       | [...list1]           | list1.clone()              |\n",
    "| remove all items (in place) | N/A                  | list1.clear() del list1[:] |\n",
    "| Reverse array               | list1.reverse()      | list1.reverse()            |\n"
   ]
  },
  {
   "cell_type": "code",
   "execution_count": 77,
   "id": "d9330d3e-add6-4939-bc8b-691f0789b516",
   "metadata": {},
   "outputs": [],
   "source": [
    "list2 = ['apple','pear','banana']"
   ]
  },
  {
   "cell_type": "code",
   "execution_count": 78,
   "id": "b244b169-91aa-483c-92b4-6064da2d1486",
   "metadata": {},
   "outputs": [
    {
     "data": {
      "text/plain": [
       "['pear', 'banana']"
      ]
     },
     "execution_count": 78,
     "metadata": {},
     "output_type": "execute_result"
    }
   ],
   "source": [
    "list2[1:]"
   ]
  },
  {
   "cell_type": "code",
   "execution_count": 79,
   "id": "0324a2c5-9d51-457d-99a4-95ccddaad935",
   "metadata": {},
   "outputs": [
    {
     "data": {
      "text/plain": [
       "'banana'"
      ]
     },
     "execution_count": 79,
     "metadata": {},
     "output_type": "execute_result"
    }
   ],
   "source": [
    "list2.copy().pop()"
   ]
  },
  {
   "cell_type": "code",
   "execution_count": 80,
   "id": "0c066ec2-83c7-4b08-b7bb-57cb9f4b4863",
   "metadata": {},
   "outputs": [
    {
     "data": {
      "text/plain": [
       "['apple', 'pear', 'banana', 'cuca']"
      ]
     },
     "execution_count": 80,
     "metadata": {},
     "output_type": "execute_result"
    }
   ],
   "source": [
    "list2.append('cuca')\n",
    "list2"
   ]
  },
  {
   "cell_type": "markdown",
   "id": "e0b369bf-edef-4414-862a-8e157ab96f4b",
   "metadata": {},
   "source": [
    "### Additional List Methods\n",
    "\n",
    "There are additional methods that are not available in JavaScript though:"
   ]
  },
  {
   "cell_type": "code",
   "execution_count": 81,
   "id": "0954b863-517a-4060-b3e3-190650e0109a",
   "metadata": {},
   "outputs": [
    {
     "name": "stdout",
     "output_type": "stream",
     "text": [
      "True\n",
      "False\n",
      "True\n"
     ]
    }
   ],
   "source": [
    "print('apple' in list1)\n",
    "# True\n",
    "print('pineapple' in list1)\n",
    "# False\n",
    "print('pineapple' not in list1)\n",
    "# True"
   ]
  },
  {
   "cell_type": "code",
   "execution_count": 82,
   "id": "8bd16206-3571-4190-86f1-1c6a29d0f770",
   "metadata": {},
   "outputs": [
    {
     "data": {
      "text/plain": [
       "[1, 2, 3, 1, 2, 3]"
      ]
     },
     "execution_count": 82,
     "metadata": {},
     "output_type": "execute_result"
    }
   ],
   "source": [
    "[1,2,3] * 2"
   ]
  },
  {
   "cell_type": "code",
   "execution_count": 83,
   "id": "ae40298c-efdf-41d6-934c-c10af1c4b061",
   "metadata": {},
   "outputs": [
    {
     "data": {
      "text/plain": [
       "['apple', 'orange', 'guava']"
      ]
     },
     "execution_count": 83,
     "metadata": {},
     "output_type": "execute_result"
    }
   ],
   "source": [
    "list2 = ['apple','orange']\n",
    "list2.append('guava')\n",
    "list2"
   ]
  },
  {
   "cell_type": "markdown",
   "id": "e4b62936-4758-4fa5-8f16-dcc19af0dda4",
   "metadata": {},
   "source": [
    "## Deque\n",
    "\n",
    "Unlike JavaScript, there is a separate class for Queues, instead of trying to fit them within lists.\n",
    "\n",
    "It does have to be imported to be used though:\n",
    "    \n",
    "```\n",
    "from collections import deque\n",
    "```\n",
    "\n",
    "[collections.deque documentation](https://docs.python.org/3/library/collections.html#collections.deque)"
   ]
  },
  {
   "cell_type": "code",
   "execution_count": 84,
   "id": "d49a9105-b898-432b-a511-e55025c6a124",
   "metadata": {},
   "outputs": [],
   "source": [
    "queue1 = deque(['apple','orange','pear'])"
   ]
  },
  {
   "cell_type": "code",
   "execution_count": 85,
   "id": "b01cda01-aba2-4c0d-82cb-d44c9a28c8e0",
   "metadata": {},
   "outputs": [],
   "source": [
    "queue1.append('pineapple')"
   ]
  },
  {
   "cell_type": "code",
   "execution_count": 86,
   "id": "cebc74e6-4427-4744-a30e-678ddb6fb77a",
   "metadata": {},
   "outputs": [
    {
     "data": {
      "text/plain": [
       "deque(['apple', 'orange', 'pear', 'pineapple'])"
      ]
     },
     "execution_count": 86,
     "metadata": {},
     "output_type": "execute_result"
    }
   ],
   "source": [
    "queue1"
   ]
  },
  {
   "cell_type": "code",
   "execution_count": 87,
   "id": "0d1f7bf7-1c08-420a-987a-6421a6b19d92",
   "metadata": {},
   "outputs": [
    {
     "data": {
      "text/plain": [
       "'apple'"
      ]
     },
     "execution_count": 87,
     "metadata": {},
     "output_type": "execute_result"
    }
   ],
   "source": [
    "queue1.popleft()"
   ]
  },
  {
   "cell_type": "code",
   "execution_count": 88,
   "id": "58194b51-43af-41d3-92b0-1ae713bd8d15",
   "metadata": {},
   "outputs": [
    {
     "data": {
      "text/plain": [
       "deque(['orange', 'pear', 'pineapple'])"
      ]
     },
     "execution_count": 88,
     "metadata": {},
     "output_type": "execute_result"
    }
   ],
   "source": [
    "queue1"
   ]
  },
  {
   "cell_type": "markdown",
   "id": "af7fd0d6-0452-4161-bd69-a850559e720b",
   "metadata": {},
   "source": [
    "## Immutable Tuples\n",
    "\n",
    "[Tuples](https://docs.python.org/3/library/stdtypes.html?highlight=tuple#immutable-sequence-types)\n",
    "are not in JavaScript and can be thought of as immutable lists.\n",
    "\n",
    "One thing it does allow for is the `hash()` built in method, allowing for indexing - making it very helpful for dicts.\n",
    "\n",
    "They are initialized through parentheses `()`"
   ]
  },
  {
   "cell_type": "code",
   "execution_count": 89,
   "id": "0902180e-a28f-4bc2-a164-ae2c11a84c3e",
   "metadata": {},
   "outputs": [],
   "source": [
    "tuple1 = ('apple','orange','pear','orange')"
   ]
  },
  {
   "cell_type": "code",
   "execution_count": 90,
   "id": "baf97580-6e2d-4180-96bf-1169165e3e04",
   "metadata": {},
   "outputs": [
    {
     "data": {
      "text/plain": [
       "2"
      ]
     },
     "execution_count": 90,
     "metadata": {},
     "output_type": "execute_result"
    }
   ],
   "source": [
    "tuple1.count('orange')"
   ]
  },
  {
   "cell_type": "code",
   "execution_count": 91,
   "id": "273354dc-cb9e-433c-b6f9-064df30d06a4",
   "metadata": {},
   "outputs": [
    {
     "data": {
      "text/plain": [
       "2"
      ]
     },
     "execution_count": 91,
     "metadata": {},
     "output_type": "execute_result"
    }
   ],
   "source": [
    "tuple1.index('pear')"
   ]
  },
  {
   "cell_type": "code",
   "execution_count": 92,
   "id": "0e455e10-2c60-40dc-8d2e-4684ff37f0b8",
   "metadata": {},
   "outputs": [
    {
     "data": {
      "text/plain": [
       "'apple'"
      ]
     },
     "execution_count": 92,
     "metadata": {},
     "output_type": "execute_result"
    }
   ],
   "source": [
    "tuple1[0]"
   ]
  },
  {
   "cell_type": "markdown",
   "id": "a2d3af6b-fe32-4f77-8935-6537c232d6e6",
   "metadata": {},
   "source": [
    "## Range\n",
    "\n",
    "Ranges in Python are a built in List Generator that can generate a list based on:\n",
    "    \n",
    "* starting number\n",
    "* ending number (exclusive)\n",
    "* step size"
   ]
  },
  {
   "cell_type": "code",
   "execution_count": 93,
   "id": "0e74ae70-ba3a-4453-81c5-f68ca4ec8bf6",
   "metadata": {},
   "outputs": [
    {
     "data": {
      "text/plain": [
       "range(0, 5)"
      ]
     },
     "execution_count": 93,
     "metadata": {},
     "output_type": "execute_result"
    }
   ],
   "source": [
    "range1 = range(5)\n",
    "range1"
   ]
  },
  {
   "cell_type": "code",
   "execution_count": 94,
   "id": "3ce77eae-452c-499c-a92e-3cf70aa046f2",
   "metadata": {},
   "outputs": [
    {
     "name": "stdout",
     "output_type": "stream",
     "text": [
      "0\n",
      "1\n",
      "2\n",
      "3\n",
      "4\n"
     ]
    }
   ],
   "source": [
    "for x in range1:\n",
    "    print(x)"
   ]
  },
  {
   "cell_type": "code",
   "execution_count": 95,
   "id": "a94b824d-dd5c-43b3-93c4-b6c7d426f3f5",
   "metadata": {},
   "outputs": [],
   "source": [
    "# we will talk to functions later\n",
    "def explicitRange(r):\n",
    "    baseList=[]\n",
    "    baseList.extend(r)\n",
    "    return baseList"
   ]
  },
  {
   "cell_type": "code",
   "execution_count": 96,
   "id": "772d0444-46a5-4fe1-b0d7-15c0f887383d",
   "metadata": {},
   "outputs": [
    {
     "data": {
      "text/plain": [
       "[0, 1, 2, 3, 4]"
      ]
     },
     "execution_count": 96,
     "metadata": {},
     "output_type": "execute_result"
    }
   ],
   "source": [
    "explicitRange(range(5))"
   ]
  },
  {
   "cell_type": "code",
   "execution_count": 97,
   "id": "4cb4be5a-b0d0-4978-b1b5-d3ff09f8dc07",
   "metadata": {},
   "outputs": [
    {
     "data": {
      "text/plain": [
       "[10, 11, 12, 13, 14, 15, 16, 17, 18, 19]"
      ]
     },
     "execution_count": 97,
     "metadata": {},
     "output_type": "execute_result"
    }
   ],
   "source": [
    "explicitRange(range(10,20))"
   ]
  },
  {
   "cell_type": "code",
   "execution_count": 98,
   "id": "a6baaa7b-a6d0-4c1c-9ea9-94db83789d65",
   "metadata": {},
   "outputs": [
    {
     "data": {
      "text/plain": [
       "[10, 12, 14, 16, 18]"
      ]
     },
     "execution_count": 98,
     "metadata": {},
     "output_type": "execute_result"
    }
   ],
   "source": [
    "explicitRange(range(10,20,2))"
   ]
  },
  {
   "cell_type": "markdown",
   "id": "5f4faa62-5fdb-4ecb-bc1b-d23925190f84",
   "metadata": {},
   "source": [
    "## Sets / FrozenSets\n",
    "\n",
    "[Sets](https://docs.python.org/3/library/stdtypes.html#set-types-set-frozenset)\n",
    "are an unordered collection of values.\n",
    "       \n",
    "The difference between Sets and FrozenSets are whether they are mutable vs immutable respectively.\n",
    "\n",
    "Note that unlike Lists, Sets must have elements that must be [hashable](https://docs.python.org/3/glossary.html#term-hashable) so they can be accessed on average in O(1) time.\n",
    "\n",
    "Sets are defined through opening and closing curlybraces `{}`"
   ]
  },
  {
   "cell_type": "code",
   "execution_count": 99,
   "id": "499b42eb-b6aa-4395-bb00-0835ee4a356c",
   "metadata": {},
   "outputs": [],
   "source": [
    "set1 = {'apple','orange','pear'}"
   ]
  },
  {
   "cell_type": "code",
   "execution_count": 100,
   "id": "b296c1b9-14f1-4828-8fe5-53572246e5a8",
   "metadata": {},
   "outputs": [
    {
     "data": {
      "text/plain": [
       "{'apple', 'orange', 'pear', 'pineapple'}"
      ]
     },
     "execution_count": 100,
     "metadata": {},
     "output_type": "execute_result"
    }
   ],
   "source": [
    "set1.add('pineapple')\n",
    "set1"
   ]
  },
  {
   "cell_type": "code",
   "execution_count": 101,
   "id": "f07b73f7-d2ce-410b-ad3f-573039c6d51a",
   "metadata": {},
   "outputs": [],
   "source": [
    "set2 = { 'blueberry', 'raspberry', 'pear', 'peach' }"
   ]
  },
  {
   "cell_type": "code",
   "execution_count": 102,
   "id": "382e6fbf-de32-4574-9bc2-fe1a8c6bc227",
   "metadata": {},
   "outputs": [],
   "source": [
    "setDisjoint = { 'blue', 'red' }"
   ]
  },
  {
   "cell_type": "code",
   "execution_count": 103,
   "id": "a7beefc7-b0f9-4b85-99e4-71ff422a42d3",
   "metadata": {},
   "outputs": [],
   "source": [
    "setSubset = {'pear'}"
   ]
  },
  {
   "cell_type": "code",
   "execution_count": 104,
   "id": "543ce116-8c15-4124-8504-80d5e3010aa3",
   "metadata": {},
   "outputs": [],
   "source": [
    "setClone = set1.copy()"
   ]
  },
  {
   "cell_type": "markdown",
   "id": "2f00eb7d-143a-4a91-9478-71a9e6dd2a52",
   "metadata": {},
   "source": [
    "## Set Collection Methods"
   ]
  },
  {
   "cell_type": "code",
   "execution_count": 105,
   "id": "1e32bfc6-1eb3-44da-a297-9a3cc11e4fe9",
   "metadata": {},
   "outputs": [
    {
     "name": "stdout",
     "output_type": "stream",
     "text": [
      "False\n",
      "True\n",
      "True\n"
     ]
    }
   ],
   "source": [
    "print('guava' in set1)\n",
    "# False\n",
    "print('apple' in set1)\n",
    "# True\n",
    "print('guava' not in set1)\n",
    "# True"
   ]
  },
  {
   "cell_type": "code",
   "execution_count": 106,
   "id": "cdd89c8a-e09d-42c6-94fc-fa50d4dc99a6",
   "metadata": {},
   "outputs": [
    {
     "name": "stdout",
     "output_type": "stream",
     "text": [
      "True\n",
      "True\n",
      "True\n",
      "True\n"
     ]
    }
   ],
   "source": [
    "# whether the sets are different\n",
    "print(setDisjoint.isdisjoint(set1))\n",
    "# True\n",
    "\n",
    "# whether the sets contains another\n",
    "print(setSubset.issubset(set1))\n",
    "# True\n",
    "print(setSubset < set1)\n",
    "# True\n",
    "print(setSubset <= set1)\n",
    "# True"
   ]
  },
  {
   "cell_type": "code",
   "execution_count": 107,
   "id": "53afa61d-c557-4777-b728-7a4a146d4ea1",
   "metadata": {},
   "outputs": [
    {
     "name": "stdout",
     "output_type": "stream",
     "text": [
      "True\n",
      "True\n",
      "False\n"
     ]
    }
   ],
   "source": [
    "print(set1 <= setClone)\n",
    "# True\n",
    "print(set1 >= setClone)\n",
    "# True\n",
    "print(set1 != setClone)\n",
    "# False"
   ]
  },
  {
   "cell_type": "code",
   "execution_count": 108,
   "id": "ce02d75e-3a46-4c38-8d1b-bff9103b9eb0",
   "metadata": {},
   "outputs": [
    {
     "name": "stdout",
     "output_type": "stream",
     "text": [
      "{'pineapple', 'apple', 'orange', 'raspberry', 'blueberry', 'pear', 'peach'}\n",
      "{'pineapple', 'apple', 'orange', 'raspberry', 'blueberry', 'pear', 'peach'}\n",
      "{'pear'}\n",
      "{'pear'}\n",
      "{'orange', 'pineapple', 'apple'}\n",
      "{'orange', 'pineapple', 'apple'}\n",
      "{'pineapple', 'apple', 'orange', 'raspberry', 'blueberry', 'peach'}\n",
      "{'pineapple', 'apple', 'orange', 'raspberry', 'blueberry', 'peach'}\n"
     ]
    }
   ],
   "source": [
    "print(set1.union(set2))\n",
    "print(set1 | set2)\n",
    "# {'raspberry', 'orange', 'pineapple', 'blueberry', 'pear', 'apple', 'peach'}\n",
    "\n",
    "print(set1.intersection(set2))\n",
    "print(set1 & set2)\n",
    "# {'pear'}\n",
    "\n",
    "print(set1.difference(set2))\n",
    "print(set1 - set2)\n",
    "# {'apple', 'pineapple', 'orange'}\n",
    "\n",
    "print(set1.symmetric_difference(set2))\n",
    "print(set1 ^ set2) # xor\n",
    "# {'raspberry', 'orange', 'pineapple', 'blueberry', 'apple', 'peach'}"
   ]
  },
  {
   "cell_type": "markdown",
   "id": "caca4525-035d-445b-95bb-bedcf946f423",
   "metadata": {},
   "source": [
    "**Note** the following operators are also allowed, and work similar to the above:\n",
    "    \n",
    "* `|=` - update the set adding all others\n",
    "* `&=` - update the set keeping only the items found in both sets\n",
    "* `-=` - update the set REMOVING items found in others\n",
    "* `^=` - update the set keeping only the items found in either set but not both"
   ]
  },
  {
   "cell_type": "markdown",
   "id": "c785d7c7-633e-4fa7-9488-c505213acdb8",
   "metadata": {},
   "source": [
    "## Dictionaries\n",
    "\n",
    "**TLDR; Python Dictionaries / Dicts provide the closest approprimation to JavaScript Maps**\n",
    "\n",
    "[JavaScript Map Objects](https://developer.mozilla.org/en-US/docs/Web/JavaScript/Reference/Global_Objects/Map) allow storing of key:value pairs to provide quick access to known keys at a later time.\n",
    "\n",
    "Historically, [Objects were also used](https://developer.mozilla.org/en-US/docs/Web/JavaScript/Reference/Global_Objects/Map#objects_vs._maps) to set values by a key, detect the key, retrieve the value and remove keys - because there were no built-in alternatives prior to Map.  [There are important differences between Objects and Maps though.](https://developer.mozilla.org/en-US/docs/Web/JavaScript/Reference/Global_Objects/Map#objects_vs._maps)\n",
    "\n",
    "### Python Dict\n",
    "\n",
    "Python has the [Dict](https://docs.python.org/3/library/stdtypes.html#mapping-types-dict) object.\n",
    "\n",
    "Note that Dicts can be declared similar to JavaScript POJO / Object format:"
   ]
  },
  {
   "cell_type": "code",
   "execution_count": 109,
   "id": "25336f18-7ff9-4082-b8dc-5ba786a48413",
   "metadata": {},
   "outputs": [],
   "source": [
    "# define through kwargs\n",
    "dict1 = dict(one=1, two=2, three=3)"
   ]
  },
  {
   "cell_type": "markdown",
   "id": "048cc582-080d-413d-b5fd-50a058f33023",
   "metadata": {},
   "source": [
    "They can also be declared through [kwargs](#Kwargs) (i.e. not string keys) with a `Dict` constructor."
   ]
  },
  {
   "cell_type": "code",
   "execution_count": 110,
   "id": "5571a2bb-4fa6-4915-908a-eae6945e1479",
   "metadata": {},
   "outputs": [],
   "source": [
    "# explicit initialization\n",
    "dict2 = {'one':1, 'two':2, 'three':3}"
   ]
  },
  {
   "cell_type": "code",
   "execution_count": 111,
   "id": "10a03997-f176-4e3a-98e4-1e59723de6aa",
   "metadata": {},
   "outputs": [],
   "source": [
    "# array of Tuples\n",
    "dict3 = dict([('one', 1), ('two', 2), ('three',3)])"
   ]
  },
  {
   "cell_type": "code",
   "execution_count": 112,
   "id": "27c8720f-317f-4b47-957b-0d95cfea9f4e",
   "metadata": {},
   "outputs": [],
   "source": [
    "# initialize dictionary from a dictionary\n",
    "dict4 = dict({'one':1, 'two': 2, 'three':3})"
   ]
  },
  {
   "cell_type": "markdown",
   "id": "33b95ddd-6f18-4e92-ba1d-064b5f6a28b1",
   "metadata": {},
   "source": [
    "The only major differences of note are:\n",
    "\n",
    "* Python Dicts can only store keys with literal values or objects that are [hashable or implement the \\_\\_hash\\_\\_() method](https://docs.python.org/3/reference/datamodel.html#object.__hash__)\n",
    "    * In reality, this will not come into play often if you typically use strings for keys.\n",
    "    * Other objects, like [Named Tuple](#Named-Tuple) do not have this requirement.\n",
    "    * See the [Custom Operator Support section](#Custom-Operator-Support) for more\n",
    "* Some Dict commands are global functions, and not methods\n",
    "    * ex: len(myDictionaryInstance)"
   ]
  },
  {
   "cell_type": "markdown",
   "id": "86ac36f1-6ba1-4021-a9a3-c8b0e7d22d39",
   "metadata": {},
   "source": [
    "### Getting / Setting Dictionary Values\n",
    "\n",
    "Setting and getting values are similar to JavaScript"
   ]
  },
  {
   "cell_type": "code",
   "execution_count": 113,
   "id": "a4f18c31-2d85-4045-9e92-0f06659ff309",
   "metadata": {},
   "outputs": [
    {
     "name": "stdout",
     "output_type": "stream",
     "text": [
      "1\n",
      "{'one': 1, 'two': 2, 'three': 3, 'nine': 9}\n"
     ]
    }
   ],
   "source": [
    "print(dict1['one'])\n",
    "dict1['nine'] = 9\n",
    "print(dict1)"
   ]
  },
  {
   "cell_type": "markdown",
   "id": "ef862356-9cb9-452b-8469-6b48bb5b2fc7",
   "metadata": {},
   "source": [
    "Getting and setting keys are similar to JavaScript"
   ]
  },
  {
   "cell_type": "code",
   "execution_count": 114,
   "id": "5f97b40a-d973-4bfe-ba5c-c22e2c1322ca",
   "metadata": {},
   "outputs": [
    {
     "name": "stdout",
     "output_type": "stream",
     "text": [
      "dict_keys(['one', 'two', 'three', 'nine'])\n"
     ]
    }
   ],
   "source": [
    "print(dict1.keys())"
   ]
  },
  {
   "cell_type": "code",
   "execution_count": 115,
   "id": "dc9ac26c-f8e5-4882-bc2d-91e2b1abe9df",
   "metadata": {},
   "outputs": [
    {
     "name": "stdout",
     "output_type": "stream",
     "text": [
      "dict_values([1, 2, 3, 9])\n"
     ]
    }
   ],
   "source": [
    "print(dict1.values())"
   ]
  },
  {
   "cell_type": "markdown",
   "id": "483dc299-7a69-4299-abdc-861e65f24f28",
   "metadata": {},
   "source": [
    "### Verifying Dictionary Key Exists\n",
    "\n",
    "Note that the traditional JavaScript way of checking if a key exists won't work in python."
   ]
  },
  {
   "cell_type": "code",
   "execution_count": 116,
   "id": "a80514e3-eee5-462c-a8ee-cfc2a62d7b84",
   "metadata": {},
   "outputs": [
    {
     "data": {
      "text/html": [
       "\n",
       "<div><pre style='background-color:rgb(255,221,221);'>\n",
       "---------------------------------------------------------------------------\n",
       "<span style='color:rgb(231,92,88);'>ErrorType: KeyError</span>\n",
       "Message: 'Some-Unknown-Key'\n",
       "Stack trace:\n",
       "[\"File: <ipython-input-116-50e249828c71>, Line: 2, Func: <module>, Message: print('some unknown key was found' if dict1['Some-Unknown-Key'] else 'unknown key not found')\"]\n",
       "---------------------------------------------------------------------------\n",
       "</pre></div>\n"
      ],
      "text/plain": [
       "<IPython.core.display.HTML object>"
      ]
     },
     "metadata": {},
     "output_type": "display_data"
    }
   ],
   "source": [
    "try:\n",
    "    print('some unknown key was found' if dict1['Some-Unknown-Key'] else 'unknown key not found')\n",
    "except BaseException:\n",
    "    printError()"
   ]
  },
  {
   "cell_type": "markdown",
   "id": "c502f891-d88d-451b-9131-5402a09aeb5f",
   "metadata": {},
   "source": [
    "Instead, use the [in operator](#In-Operator): "
   ]
  },
  {
   "cell_type": "code",
   "execution_count": 117,
   "id": "cefadbf8-8109-4729-926f-96efa84b726a",
   "metadata": {},
   "outputs": [
    {
     "name": "stdout",
     "output_type": "stream",
     "text": [
      "one was found\n"
     ]
    }
   ],
   "source": [
    "if 'one' in dict1:\n",
    "    print('one was found')"
   ]
  },
  {
   "cell_type": "markdown",
   "id": "939a97da-4f6e-400e-9246-d31c4dc42da7",
   "metadata": {},
   "source": [
    "### Deleting Keys from Dictionaries\n",
    "\n",
    "Use the `del` global operator to remove a key from a dictionary."
   ]
  },
  {
   "cell_type": "code",
   "execution_count": 118,
   "id": "60e0e24f-f234-4697-a8d9-30cfa4907224",
   "metadata": {},
   "outputs": [
    {
     "name": "stdout",
     "output_type": "stream",
     "text": [
      "contains pears\n",
      "no pears\n"
     ]
    }
   ],
   "source": [
    "dictionaryDeleteKeys = {'apple':1, 'orange':2, 'pears':3}\n",
    "print('contains pears' if 'pears' in dictionaryDeleteKeys else 'no pears') # contains pears\n",
    "\n",
    "del dictionaryDeleteKeys['pears']\n",
    "\n",
    "print('contains pears' if 'pears' in dictionaryDeleteKeys else 'no pears') # no pears"
   ]
  },
  {
   "cell_type": "markdown",
   "id": "bba3ce9a-728c-44f3-96db-bdeb2930fe48",
   "metadata": {},
   "source": [
    "### Additional Dictionary Functionality\n",
    "\n",
    "Determine the number of items in a Dictionary:"
   ]
  },
  {
   "cell_type": "code",
   "execution_count": 119,
   "id": "08f9c096-cf6e-49c8-abc0-7a8dc7612d70",
   "metadata": {},
   "outputs": [
    {
     "data": {
      "text/plain": [
       "4"
      ]
     },
     "execution_count": 119,
     "metadata": {},
     "output_type": "execute_result"
    }
   ],
   "source": [
    "# python\n",
    "len(dict1)"
   ]
  },
  {
   "cell_type": "markdown",
   "id": "882991b0-543a-4bca-b478-76f34e1f13e5",
   "metadata": {},
   "source": [
    "Use [Destructuring Assignments](#Destructuring-Assignments) to merge dictionaries."
   ]
  },
  {
   "cell_type": "code",
   "execution_count": 120,
   "id": "880968a9-4b5d-4924-8a21-24f6f6500989",
   "metadata": {
    "tags": []
   },
   "outputs": [
    {
     "data": {
      "text/plain": [
       "{'one': 1, 'two': 2, 'three': 3, 'nine': 9, 'four': 4, 'five': 5}"
      ]
     },
     "execution_count": 120,
     "metadata": {},
     "output_type": "execute_result"
    }
   ],
   "source": [
    "dictNew = {'three':3, 'four':4, 'five':5}\n",
    "{**dict1, **dictNew}\n",
    "\n",
    "# the `|` or merge operand is supported in Python 3.9+\n",
    "# dict1 | {'three':3, 'four': 4}"
   ]
  },
  {
   "cell_type": "markdown",
   "id": "8480bcfe-699c-41ef-ac2e-ede4d578f9ba",
   "metadata": {},
   "source": [
    "## Named Tuples\n",
    "\n",
    "Python has a similar object to dictionaries called [Named Tuples]()\n",
    "\n",
    "Using [Kwargs](#Kwargs) - as described in the [Functions](#Functions) section, it allows you to define label values similar to Dictionaries"
   ]
  },
  {
   "cell_type": "code",
   "execution_count": 121,
   "id": "9f9e82e1-f476-4854-9508-4bdfcd44e8cd",
   "metadata": {},
   "outputs": [
    {
     "name": "stdout",
     "output_type": "stream",
     "text": [
      "{'first': 'john', 'last': 'doe'}\n",
      "{'first': 'jane', 'last': 'doe'}\n",
      "{'first': 'jimmy', 'last': 'dough'}\n",
      "john\n"
     ]
    }
   ],
   "source": [
    "dictPerson1 = {'first': 'john', 'last': 'doe'}\n",
    "\n",
    "print({'first': 'john', 'last': 'doe'})\n",
    "print({'first': 'jane', 'last': 'doe'})\n",
    "print({'first': 'jimmy', 'last': 'dough'})\n",
    "\n",
    "print(dictPerson1['first'])"
   ]
  },
  {
   "cell_type": "markdown",
   "id": "9f825a1c-c2bd-4316-95c9-36e72bba547b",
   "metadata": {},
   "source": [
    "Since these are all similar in structure, Named Tuples could be used instead:\n",
    "\n",
    "* They **take up much less memory** than Dictionaries as a Tuple\n",
    "* **More legible than standard tuples**, with keys assigned to indexes\n",
    "* They work best when dictionaries have similar structures (similar to a Class)\n",
    "\n",
    "However:\n",
    "    \n",
    "* Named tuples can only accept Strings as their keys, unlike Dictionaries that can use anything `hashable`\n",
    "* They do are not as flexible as dictionaries to add additional keys\n",
    "* **Tuples are Immutable** where dicts are not."
   ]
  },
  {
   "cell_type": "code",
   "execution_count": 122,
   "id": "c413b413-245a-4255-909c-48f1dc05f19f",
   "metadata": {},
   "outputs": [
    {
     "name": "stdout",
     "output_type": "stream",
     "text": [
      "Person(first='john', last='doe')\n",
      "Person(first='jane', last='doe')\n",
      "Person(first='jimmy', last='dough')\n",
      "john\n"
     ]
    }
   ],
   "source": [
    "PersonTuple = namedtuple('Person', ['first', 'last'])\n",
    "tuplePerson1 = PersonTuple('john', 'doe')\n",
    "\n",
    "print(PersonTuple('john', 'doe'))\n",
    "print(PersonTuple('jane', 'doe'))\n",
    "print(PersonTuple('jimmy', 'dough'))\n",
    "\n",
    "print(tuplePerson1.first)"
   ]
  },
  {
   "cell_type": "markdown",
   "id": "63d69497-22da-499c-a4e5-fad198d5ecf3",
   "metadata": {},
   "source": [
    "<br /><br /><br /><br /><br /><br /><br /><br /><br /><br /><br /><br /><br /><br /><br /><br /><br /><br /><br /><br /><br /><br /><br /><br /><hr />\n",
    "<div style='height:20px;width:100%;background-color:#d6eeff'>&nbsp;</div>"
   ]
  },
  {
   "cell_type": "markdown",
   "id": "aac9ec64-c27c-40f0-b868-a6e27fdafbb2",
   "metadata": {},
   "source": [
    "# JSON\n",
    "\n",
    "Python supports JSON objects natively, only through the separate [json library](https://docs.python.org/3/library/json.html)\n",
    "\n",
    "```\n",
    "import json\n",
    "```\n",
    "\n",
    "Note that JSON is a subset of YAML, and there is additional support there as-well.\n",
    "\n",
    "[See the JSON module for more](https://docs.python.org/3/library/json.html)\n",
    "\n",
    "## Load JSON String to Python\n",
    "\n",
    "Use the [json.loads](https://docs.python.org/3/library/json.html#json.loads) method to parse a byte array or string.\n",
    "\n",
    "(**This is separate from [json.load](https://docs.python.org/3/library/json.html#json.load) used in reading files**)"
   ]
  },
  {
   "cell_type": "code",
   "execution_count": 123,
   "id": "b5fbb8fd-6aee-42b1-9311-29da58d02135",
   "metadata": {},
   "outputs": [
    {
     "name": "stdout",
     "output_type": "stream",
     "text": [
      "30\n"
     ]
    }
   ],
   "source": [
    "# some JSON:\n",
    "x =  '{ \"name\":\"John\", \"age\":30, \"city\":\"New York\"}'\n",
    "\n",
    "# parse x:\n",
    "y = json.loads(x)\n",
    "\n",
    "# the result is a Python dictionary:\n",
    "print(y[\"age\"])"
   ]
  },
  {
   "cell_type": "markdown",
   "id": "8bfc8484-1a4e-4c93-ada5-7a5e320fe451",
   "metadata": {},
   "source": [
    "## Reading a JSON File\n",
    "\n",
    "Reading a file within Python means opening up a [File Iterator](#File-Iterator) and load the JSON into memory.\n",
    "\n",
    "Here we use the [json.load](https://docs.python.org/3/library/json.html#json.load) from the [python json library](https://docs.python.org/3/library/json.html)\n",
    "\n",
    "This will convert various types of data into the JSON equivalent types:\n",
    "\n",
    "| JSON OBJECT   | PYTHON OBJECT |\n",
    "|---------------|---------------|\n",
    "| object        | dict          |\n",
    "| array         | list          |\n",
    "| string        | str           |\n",
    "| null          | None          |\n",
    "| number (int)  | int           |\n",
    "| number (real) | float         |\n",
    "| true          | True          |\n",
    "| false         | False         |\n",
    "\n",
    "**Note that this may load the entire file into memory instead of allowing for chunking**"
   ]
  },
  {
   "cell_type": "code",
   "execution_count": 124,
   "id": "fba629c8-b9a6-43b0-a852-bc31de496cba",
   "metadata": {},
   "outputs": [
    {
     "name": "stdout",
     "output_type": "stream",
     "text": [
      "[{'id': 1, 'first_name': 'Phillipe', 'last_name': 'Castano', 'email': 'pcastano0@virginia.edu', 'gender': 'Bigender', 'ip_address': '13.234.76.97'}, {'id': 2, 'first_name': 'Aggy', 'last_name': 'Sainte Paul', 'email': 'asaintepaul1@slashdot.org', 'gender': 'Bigender', 'ip_address': '229.30.233.138'}, {'id': 3, 'first_name': 'Devin', 'last_name': 'Stapford', 'email': 'dstapford2@cpanel.net', 'gender': 'Non-binary', 'ip_address': '36.123.86.249'}, {'id': 4, 'first_name': 'Blondy', 'last_name': 'Pozzi', 'email': 'bpozzi3@comcast.net', 'gender': 'Male', 'ip_address': '36.139.229.209'}, {'id': 5, 'first_name': 'Lois', 'last_name': 'Elfe', 'email': 'lelfe4@moonfruit.com', 'gender': 'Polygender', 'ip_address': '62.51.58.77'}]\n"
     ]
    }
   ],
   "source": [
    "with open('./data/people.json') as peopleFile:\n",
    "    peopleJSON = json.load(peopleFile)\n",
    "\n",
    "print(peopleJSON)"
   ]
  },
  {
   "cell_type": "markdown",
   "id": "d9cd7fb5-c9b6-4ee8-bb68-ec628e1a8fba",
   "metadata": {},
   "source": [
    "## Convert Python to JSON\n",
    "\n",
    "Similar to JavaScript's use of [JSON.stringify](https://developer.mozilla.org/en-US/docs/Web/JavaScript/Reference/Global_Objects/JSON/stringify)...\n",
    "\n",
    "Use [json.dumps](https://docs.python.org/3/library/json.html#json.dumps) from the [python json library](https://docs.python.org/3/library/json.html) to serialize an object."
   ]
  },
  {
   "cell_type": "code",
   "execution_count": 125,
   "id": "18299502-c375-4826-9d7d-6ca0f9c73554",
   "metadata": {},
   "outputs": [
    {
     "name": "stdout",
     "output_type": "stream",
     "text": [
      "{\"name\": \"John\", \"age\": 30, \"city\": \"New York\"}\n"
     ]
    }
   ],
   "source": [
    "# a Python object (dict):\n",
    "x = {\n",
    "  \"name\": \"John\",\n",
    "  \"age\": 30,\n",
    "  \"city\": \"New York\"\n",
    "}\n",
    "\n",
    "# convert into JSON:\n",
    "y = json.dumps(x)\n",
    "\n",
    "# the result is a JSON string:\n",
    "print(y)\n"
   ]
  },
  {
   "cell_type": "markdown",
   "id": "ad45e2bc-1513-4880-bb50-cade18613b11",
   "metadata": {},
   "source": [
    "## Pretty Printing a JSON File\n",
    "\n",
    "json.dumps also lets you pretty-print / indentify the results (similar to JSON.stringify)"
   ]
  },
  {
   "cell_type": "code",
   "execution_count": 126,
   "id": "8a4f645f-8f3f-48c7-8b9f-8efcd6279edb",
   "metadata": {},
   "outputs": [
    {
     "name": "stdout",
     "output_type": "stream",
     "text": [
      "[\n",
      "    {\n",
      "        \"email\": \"asaintepaul1@slashdot.org\",\n",
      "        \"first_name\": \"Aggy\",\n",
      "        \"gender\": \"Bigender\",\n",
      "        \"id\": 2,\n",
      "        \"ip_address\": \"229.30.233.138\",\n",
      "        \"last_name\": \"Sainte Paul\"\n",
      "    },\n",
      "    {\n",
      "        \"email\": \"dstapford2@cpanel.net\",\n",
      "        \"first_name\": \"Devin\",\n",
      "        \"gender\": \"Non-binary\",\n",
      "        \"id\": 3,\n",
      "        \"ip_address\": \"36.123.86.249\",\n",
      "        \"last_name\": \"Stapford\"\n",
      "    },\n",
      "    {\n",
      "        \"email\": \"bpozzi3@comcast.net\",\n",
      "        \"first_name\": \"Blondy\",\n",
      "        \"gender\": \"Male\",\n",
      "        \"id\": 4,\n",
      "        \"ip_address\": \"36.139.229.209\",\n",
      "        \"last_name\": \"Pozzi\"\n",
      "    }\n",
      "]\n"
     ]
    }
   ],
   "source": [
    "print(json.dumps(peopleJSON[1:4], indent=4, sort_keys=True))"
   ]
  },
  {
   "cell_type": "markdown",
   "id": "61687a44-c0b0-46a6-8249-917fac6b5de2",
   "metadata": {},
   "source": [
    "## Writing JSON to a File\n",
    "\n",
    "Writing JSON to a file also uses the [json.dump](https://docs.python.org/3/library/json.html#json.dump) command, only also pass the file as-well"
   ]
  },
  {
   "cell_type": "raw",
   "id": "72d8f92a-8bfb-45cf-ba93-ce2e1f2c05e0",
   "metadata": {},
   "source": [
    "person_dict = {\"name\": \"Bob\",\n",
    "\"languages\": [\"English\", \"Fench\"],\n",
    "\"married\": True,\n",
    "\"age\": 32\n",
    "}\n",
    "\n",
    "with open('person.txt', 'w') as json_file:\n",
    "  json.dump(person_dict, json_file)"
   ]
  },
  {
   "cell_type": "markdown",
   "id": "64e677ad-5f09-451a-8db1-fbde556b0b22",
   "metadata": {},
   "source": [
    "See the [File Reading / Writing](#File-Reading-/-Writing) section for more."
   ]
  },
  {
   "cell_type": "markdown",
   "id": "8a7bbb65-e8a5-4261-b80c-e5a717d1331c",
   "metadata": {},
   "source": [
    "<br /><br /><br /><br /><br /><br /><br /><br /><br /><br /><br /><br /><br /><br /><br /><br /><br /><br /><br /><br /><br /><br /><br /><br /><hr />\n",
    "<div style='height:20px;width:100%;background-color:#d6eeff'>&nbsp;</div>"
   ]
  },
  {
   "cell_type": "markdown",
   "id": "dd7e1910-62e2-4b71-bc8b-aa11841482c0",
   "metadata": {},
   "source": [
    "# CSV\n",
    "\n",
    "Comma-Separated-Values is a very common format for data, and Python supports it since [Pep 305](https://www.python.org/dev/peps/pep-0305)\n",
    "\n",
    "To work with CSV however, you must import the [CSV Module](https://docs.python.org/3/library/csv.html)\n",
    "\n",
    "```\n",
    "import csv\n",
    "```\n",
    "\n",
    "See the [Python CSV Module](https://docs.python.org/3/library/csv.html) for more."
   ]
  },
  {
   "cell_type": "markdown",
   "id": "87267274-b8af-426a-b89a-592c30ccb6a4",
   "metadata": {},
   "source": [
    "## Loading CSV Strings in Python\n",
    "\n",
    "If given a CSV formatted string, use [csv.reader](https://docs.python.org/3/library/csv.html#csv.reader)\n",
    "\n",
    "Unlike writing a CSV, you can easily read in a csv formatted string without writing to a file first.\n",
    "\n",
    "```\n",
    "csv.reader( csvStr.split('\\n'), delimiter=',', quotechar='\"')\n",
    "```"
   ]
  },
  {
   "cell_type": "code",
   "execution_count": 127,
   "id": "f7ec63a3-4979-4622-8139-b2dce8fbb0fb",
   "metadata": {},
   "outputs": [
    {
     "name": "stdout",
     "output_type": "stream",
     "text": [
      "[]\n",
      "['1', 'Phillipe', 'Castano', 'pcastano0@virginia.edu', 'Bigender', '13.234.76.97']\n",
      "['2', 'Aggy', 'Sainte Paul', 'asaintepaul1@slashdot.org', 'Bigender', '229.30.233.138']\n",
      "['3', 'Devin', 'Stapford', 'dstapford2@cpanel.net', 'Non-binary', ' \"36.123.86.249\"']\n",
      "['4', 'Blondy', 'Pozzi', 'bpozzi3@comcast.net', 'Male', '36.139.229.209']\n",
      "['5', 'Lois', 'Elfe', 'lelfe4@moonfruit.com', 'Polygender', '62.51.58.77']\n",
      "[]\n"
     ]
    }
   ],
   "source": [
    "csvStr = \"\"\"\n",
    "\"1\",\"Phillipe\",\"Castano\",\"pcastano0@virginia.edu\",\"Bigender\",\"13.234.76.97\"\n",
    "\"2\",\"Aggy\",\"Sainte Paul\",\"asaintepaul1@slashdot.org\",\"Bigender\",\"229.30.233.138\"\n",
    "\"3\",\"Devin\",\"Stapford\",\"dstapford2@cpanel.net\",\"Non-binary\", \"36.123.86.249\"\n",
    "\"4\",\"Blondy\",\"Pozzi\",\"bpozzi3@comcast.net\",\"Male\",\"36.139.229.209\"\n",
    "\"5\",\"Lois\",\"Elfe\",\"lelfe4@moonfruit.com\",\"Polygender\",\"62.51.58.77\"\n",
    "\"\"\"\n",
    "\n",
    "csvReader = csv.reader(csvStr.split('\\n'), delimiter=',', quotechar='\"')\n",
    "for row in csvReader:\n",
    "    print(row)"
   ]
  },
  {
   "cell_type": "code",
   "execution_count": 128,
   "id": "70565a92-3ef8-4697-95b6-38945195dd84",
   "metadata": {},
   "outputs": [],
   "source": [
    "strVal=' \"cuca\"    '"
   ]
  },
  {
   "cell_type": "code",
   "execution_count": 129,
   "id": "7e014ad9-6c9a-41cf-ac22-8436f8914420",
   "metadata": {},
   "outputs": [
    {
     "data": {
      "text/plain": [
       "'\"cuca\"'"
      ]
     },
     "execution_count": 129,
     "metadata": {},
     "output_type": "execute_result"
    }
   ],
   "source": [
    "strVal.strip()"
   ]
  },
  {
   "cell_type": "markdown",
   "id": "1faa5ef7-069b-40b9-aded-b3ba79d75a34",
   "metadata": {},
   "source": [
    "## Reading a CSV File\n",
    "\n",
    "To read a CSV file in python, use a [File Iterator]() and load the CSV into memory.\n",
    "\n",
    "Here we use [csv.reader](https://docs.python.org/3/library/csv.html#csv.reader) command from the [csv library](https://docs.python.org/3/library/csv.html)\n",
    "\n",
    "**Note, unlike [JSON](#JSON), this can allow for row chunking so the entire file is not loaded into memory**"
   ]
  },
  {
   "cell_type": "code",
   "execution_count": 130,
   "id": "0add8888-29ad-4086-8026-b02572074680",
   "metadata": {},
   "outputs": [
    {
     "data": {
      "text/plain": [
       "[['id', 'first_name', 'last_name', 'email', 'gender', 'ip_address'],\n",
       " ['1',\n",
       "  'Phillipe',\n",
       "  'Castano',\n",
       "  'pcastano0@virginia.edu',\n",
       "  'Bigender',\n",
       "  '13.234.76.97'],\n",
       " ['2',\n",
       "  'Aggy',\n",
       "  'Sainte Paul',\n",
       "  'asaintepaul1@slashdot.org',\n",
       "  'Bigender',\n",
       "  '229.30.233.138'],\n",
       " ['3',\n",
       "  'Devin',\n",
       "  'Stapford',\n",
       "  'dstapford2@cpanel.net',\n",
       "  'Non-binary',\n",
       "  '36.123.86.249'],\n",
       " ['4', 'Blondy', 'Pozzi', 'bpozzi3@comcast.net', 'Male', '36.139.229.209'],\n",
       " ['5', 'Lois', 'Elfe', 'lelfe4@moonfruit.com', 'Polygender', '62.51.58.77']]"
      ]
     },
     "execution_count": 130,
     "metadata": {},
     "output_type": "execute_result"
    }
   ],
   "source": [
    "with open('./data/people.csv') as peopleCsvFile:\n",
    "    peopleCSV = csv.reader(peopleCsvFile, delimiter=',', quotechar='\"')\n",
    "    peopleCSV_Data = []\n",
    "    for row in peopleCSV:\n",
    "        # do something with that row.\n",
    "        # print(f'row in csv: {\",\".join(row)})')\n",
    "        peopleCSV_Data.append(row)\n",
    "peopleCSV_Data"
   ]
  },
  {
   "cell_type": "markdown",
   "id": "02452dd6-e48d-4a6d-a786-91616281581f",
   "metadata": {},
   "source": [
    "Alternatively, we can use the [csv.DictReader](https://docs.python.org/3/library/csv.html#csv.DictReader) to return a list of Dictionary entries"
   ]
  },
  {
   "cell_type": "code",
   "execution_count": 131,
   "id": "43a00f40-549f-4788-a7e0-79a31f819b2f",
   "metadata": {},
   "outputs": [
    {
     "data": {
      "text/plain": [
       "[{'id': '1',\n",
       "  'first_name': 'Phillipe',\n",
       "  'last_name': 'Castano',\n",
       "  'email': 'pcastano0@virginia.edu',\n",
       "  'gender': 'Bigender',\n",
       "  'ip_address': '13.234.76.97'},\n",
       " {'id': '2',\n",
       "  'first_name': 'Aggy',\n",
       "  'last_name': 'Sainte Paul',\n",
       "  'email': 'asaintepaul1@slashdot.org',\n",
       "  'gender': 'Bigender',\n",
       "  'ip_address': '229.30.233.138'},\n",
       " {'id': '3',\n",
       "  'first_name': 'Devin',\n",
       "  'last_name': 'Stapford',\n",
       "  'email': 'dstapford2@cpanel.net',\n",
       "  'gender': 'Non-binary',\n",
       "  'ip_address': '36.123.86.249'},\n",
       " {'id': '4',\n",
       "  'first_name': 'Blondy',\n",
       "  'last_name': 'Pozzi',\n",
       "  'email': 'bpozzi3@comcast.net',\n",
       "  'gender': 'Male',\n",
       "  'ip_address': '36.139.229.209'},\n",
       " {'id': '5',\n",
       "  'first_name': 'Lois',\n",
       "  'last_name': 'Elfe',\n",
       "  'email': 'lelfe4@moonfruit.com',\n",
       "  'gender': 'Polygender',\n",
       "  'ip_address': '62.51.58.77'}]"
      ]
     },
     "execution_count": 131,
     "metadata": {},
     "output_type": "execute_result"
    }
   ],
   "source": [
    "with open('./data/people.csv') as peopleCsvFile:\n",
    "    peopleCSV = csv.DictReader(peopleCsvFile)\n",
    "    peopleCSV_Data = []\n",
    "    for row in peopleCSV:\n",
    "        # do something with that row\n",
    "        # print(f'row:{row}')\n",
    "        peopleCSV_Data.append(row)\n",
    "peopleCSV_Data"
   ]
  },
  {
   "cell_type": "markdown",
   "id": "77cd90b8-054f-4bfd-a680-3f3bcae2111c",
   "metadata": {},
   "source": [
    "## Rendering Python to CSV formatted Text\n",
    "\n",
    "Unfortunately there is no simple method to write out CSV Formatted text as the [csv.DictWriter](https://docs.python.org/3/library/csv.html#csv.DictWriter) class requires a file.\n",
    "\n",
    "Instead, we can write our own list through custom python.\n",
    "\n",
    "* [Lambda](#Lambda)\n",
    "* [Python Comprehensions](#Python-Comprehensions)\n",
    "* [Joining List Items](#Joining-List-Items)"
   ]
  },
  {
   "cell_type": "code",
   "execution_count": 132,
   "id": "f6f5cd12-d588-46ad-8943-c9ce4356872f",
   "metadata": {},
   "outputs": [
    {
     "data": {
      "text/plain": [
       "dict_keys(['id', 'first_name', 'last_name', 'email', 'gender', 'ip_address'])"
      ]
     },
     "execution_count": 132,
     "metadata": {},
     "output_type": "execute_result"
    }
   ],
   "source": [
    "peopleFields = peopleJSON[0].keys()\n",
    "# alternatively, if it is a proper object\n",
    "# peopleFields = dir(peopleJSON[0])\n",
    "\n",
    "peopleFields"
   ]
  },
  {
   "cell_type": "code",
   "execution_count": 133,
   "id": "aa1054a7-e5ed-42aa-8102-debb15db55b9",
   "metadata": {},
   "outputs": [],
   "source": [
    "quotify = lambda x: f'\"{str(x)}\"'\n",
    "peopleFieldValue = lambda person, field: quotify(person.get(field))\n",
    "peopleCsvRow = lambda person: ', '.join([peopleFieldValue(person, field) for field in peopleFields])"
   ]
  },
  {
   "cell_type": "code",
   "execution_count": 134,
   "id": "55853332-ce91-4431-ad6f-7b6251b58ef8",
   "metadata": {},
   "outputs": [
    {
     "data": {
      "text/plain": [
       "'\"1\", \"Phillipe\", \"Castano\", \"pcastano0@virginia.edu\", \"Bigender\", \"13.234.76.97\"'"
      ]
     },
     "execution_count": 134,
     "metadata": {},
     "output_type": "execute_result"
    }
   ],
   "source": [
    "peopleCsvRow(peopleJSON[0])"
   ]
  },
  {
   "cell_type": "code",
   "execution_count": 135,
   "id": "e1830508-9ad7-474d-81a8-cffab94e2407",
   "metadata": {},
   "outputs": [
    {
     "name": "stdout",
     "output_type": "stream",
     "text": [
      "\"1\", \"Phillipe\", \"Castano\", \"pcastano0@virginia.edu\", \"Bigender\", \"13.234.76.97\"\n",
      "\"2\", \"Aggy\", \"Sainte Paul\", \"asaintepaul1@slashdot.org\", \"Bigender\", \"229.30.233.138\"\n",
      "\"3\", \"Devin\", \"Stapford\", \"dstapford2@cpanel.net\", \"Non-binary\", \"36.123.86.249\"\n",
      "\"4\", \"Blondy\", \"Pozzi\", \"bpozzi3@comcast.net\", \"Male\", \"36.139.229.209\"\n",
      "\"5\", \"Lois\", \"Elfe\", \"lelfe4@moonfruit.com\", \"Polygender\", \"62.51.58.77\"\n"
     ]
    }
   ],
   "source": [
    "peopleCsvStr = '\\n'.join([peopleCsvRow(person) for person in peopleJSON])\n",
    "print(peopleCsvStr)"
   ]
  },
  {
   "cell_type": "markdown",
   "id": "f57d7cde-6125-4756-980e-c1bb67e52f87",
   "metadata": {},
   "source": [
    "**This could be written all in one line, but that isn't very legible though...**"
   ]
  },
  {
   "cell_type": "code",
   "execution_count": 136,
   "id": "689bb6eb-02a4-4aa5-925a-5f2b736f96c5",
   "metadata": {},
   "outputs": [
    {
     "name": "stdout",
     "output_type": "stream",
     "text": [
      "\"1\", \"Phillipe\", \"Castano\", \"pcastano0@virginia.edu\", \"Bigender\", \"13.234.76.97\"\n",
      "\"2\", \"Aggy\", \"Sainte Paul\", \"asaintepaul1@slashdot.org\", \"Bigender\", \"229.30.233.138\"\n",
      "\"3\", \"Devin\", \"Stapford\", \"dstapford2@cpanel.net\", \"Non-binary\", \"36.123.86.249\"\n",
      "\"4\", \"Blondy\", \"Pozzi\", \"bpozzi3@comcast.net\", \"Male\", \"36.139.229.209\"\n",
      "\"5\", \"Lois\", \"Elfe\", \"lelfe4@moonfruit.com\", \"Polygender\", \"62.51.58.77\"\n"
     ]
    }
   ],
   "source": [
    "# note: we use a backslash before the newline to allow the code to be multi-line\n",
    "print(\\\n",
    "    '\\n'.join([ \\\n",
    "        ', '.join([ \\\n",
    "            quotify(person.get(field)) for field in peopleFields \\\n",
    "        ]) for person in peopleJSON \\\n",
    "    ]) \\\n",
    ")"
   ]
  },
  {
   "cell_type": "markdown",
   "id": "3930c6d9-f7e7-4b2b-987c-8b45a2727fe5",
   "metadata": {},
   "source": [
    "## Writing CSV File\n",
    "\n",
    "Use the [csv.DictWriter](https://docs.python.org/3/library/csv.html#csv.DictWriter) class to write a CSV.\n",
    "\n",
    "Note that we want to specify which fields to include, as we may not want all fields.\n",
    "\n",
    "So, we get the list of all the fields using the `.keys()` method from the list of Objects. (And optionally remove some if desired)\n",
    "\n",
    "Then pass the list to create the DictWriter, then write the column headers and then data rows."
   ]
  },
  {
   "cell_type": "raw",
   "id": "d46f29cf-2bcd-4cc0-928d-9dfe5794f588",
   "metadata": {},
   "source": [
    "with open('./data/people.csv', 'w') as peopleCsvFile:\n",
    "    # create a dict writer object\n",
    "    writer = csv.DictWriter(peopleCsvFile, fieldnames=peopleFields)\n",
    "    \n",
    "    # write the column headers\n",
    "    writer.writeheader()\n",
    "    \n",
    "    # write the data rows\n",
    "    writer.writerows(peopleJSON)"
   ]
  },
  {
   "cell_type": "markdown",
   "id": "fa3ffc1a-e1d2-46e1-9f1d-502afadf1c1e",
   "metadata": {},
   "source": [
    "<br /><br /><br /><br /><br /><br /><br /><br /><br /><br /><br /><br /><br /><br /><br /><br /><br /><br /><br /><br /><br /><br /><br /><br /><hr />\n",
    "<div style='height:20px;width:100%;background-color:#d6eeff'>&nbsp;</div>"
   ]
  },
  {
   "cell_type": "markdown",
   "id": "31edbb7e-0ee1-42dd-9183-76a0fd494602",
   "metadata": {},
   "source": [
    "# Operators\n",
    "\n",
    "\n",
    "\n",
    "# Logic Operators\n",
    "\n",
    "Logic operators are mostly similar between Python and JavaScript\n",
    "\n",
    "| OPERATOR         | PYTHON | JAVASCRIPT |\n",
    "|------------------|--------|------------|\n",
    "| logical and      | and    | &&         |\n",
    "| logical or       | or     | \\|\\|       |\n",
    "| logical negation | not    | !          |\n",
    "\n",
    "## Fast Fail And\n",
    "\n",
    "This works very similar to JavaScript, where it will only compute the second part if the first part is **True**."
   ]
  },
  {
   "cell_type": "code",
   "execution_count": 137,
   "id": "caff4958-39eb-4253-a375-84894ec0a8d8",
   "metadata": {},
   "outputs": [
    {
     "name": "stdout",
     "output_type": "stream",
     "text": [
      "This will print\n"
     ]
    }
   ],
   "source": [
    "2021 > 2019 and print('This will print')"
   ]
  },
  {
   "cell_type": "code",
   "execution_count": 138,
   "id": "e357de07-74f5-473a-a600-ce1597c6f055",
   "metadata": {},
   "outputs": [
    {
     "data": {
      "text/plain": [
       "False"
      ]
     },
     "execution_count": 138,
     "metadata": {},
     "output_type": "execute_result"
    }
   ],
   "source": [
    "2019 > 2021 and print('This will be FALSE and not evaluate the print')"
   ]
  },
  {
   "cell_type": "markdown",
   "id": "645c3067-d9c5-4455-b46c-42bcdf896e05",
   "metadata": {},
   "source": [
    "## Fast Fail OR\n",
    "\n",
    "This works similar to JavaScript, where the second part will be computed if the first part is **False**"
   ]
  },
  {
   "cell_type": "code",
   "execution_count": 139,
   "id": "a647ff83-94f3-4faa-a147-0a8f6f42ea65",
   "metadata": {},
   "outputs": [
    {
     "data": {
      "text/plain": [
       "True"
      ]
     },
     "execution_count": 139,
     "metadata": {},
     "output_type": "execute_result"
    }
   ],
   "source": [
    "2021 > 2019 or print('This will be TRUE and not print anything')"
   ]
  },
  {
   "cell_type": "code",
   "execution_count": 140,
   "id": "d6d00cd7-0e0e-4b2b-9f12-cd90ad2a886f",
   "metadata": {},
   "outputs": [
    {
     "name": "stdout",
     "output_type": "stream",
     "text": [
      "This will print\n"
     ]
    }
   ],
   "source": [
    "2019 > 2021 or print('This will print')"
   ]
  },
  {
   "cell_type": "markdown",
   "id": "7dbb39f4-1335-443a-8c2c-459975196e96",
   "metadata": {},
   "source": [
    "## Negation\n",
    "\n",
    "Negation uses the keyword `not` instead of the javascript 'bang' `!`"
   ]
  },
  {
   "cell_type": "code",
   "execution_count": 141,
   "id": "5f73f017-cff7-4313-b271-fcdac24d6eaf",
   "metadata": {},
   "outputs": [
    {
     "name": "stdout",
     "output_type": "stream",
     "text": [
      "This will print\n"
     ]
    }
   ],
   "source": [
    "not 2019 > 2021 and print('This will print')\n",
    "\n",
    "# equivalent to javascript: `!(2019 > 2021) && console.log('This will print')`"
   ]
  },
  {
   "cell_type": "markdown",
   "id": "f3488826-3672-4753-a8d3-2081607db778",
   "metadata": {},
   "source": [
    "# Arithmatic Operators\n",
    "\n",
    "Python and JavaScript have (more or less) the same arithmatic operators, with a few changes."
   ]
  },
  {
   "cell_type": "markdown",
   "id": "8433eade-ee40-412d-892c-bc76161659bf",
   "metadata": {},
   "source": [
    "| OPERATOR       | PYTHON | JAVASCRIPT |   |   |\n",
    "|----------------|--------|------------|---|---|\n",
    "| addition       | +      | +          |   |   |\n",
    "| subtraction    | -      | -          |   |   |\n",
    "| multiplication | *      | *          |   |   |\n",
    "| exponent       | **     | **         |   |   |\n",
    "| division       | /      | /          |   |   |\n",
    "| floor division | //     | n/a        |   |   |\n",
    "| modulo         | %      | %          |   |   |"
   ]
  },
  {
   "cell_type": "markdown",
   "id": "90f37f33-f01e-4ca5-8bae-b52b281d5458",
   "metadata": {},
   "source": [
    "**Floor Division** is essentially the division to the nearest (floored) integer.\n",
    "\n",
    "(This is similar to Java, where 5/2 = 2 as opposed to 5.0/2 = 2.5)"
   ]
  },
  {
   "cell_type": "code",
   "execution_count": 142,
   "id": "a483a9fe-2be4-45bf-ac2f-bf20a1106660",
   "metadata": {},
   "outputs": [
    {
     "data": {
      "text/plain": [
       "2"
      ]
     },
     "execution_count": 142,
     "metadata": {},
     "output_type": "execute_result"
    }
   ],
   "source": [
    "5 // 2\n",
    "\n",
    "# javascript: Math.floor(5/2)"
   ]
  },
  {
   "cell_type": "markdown",
   "id": "2b988f8d-036b-4d0d-93f5-c4053511af4b",
   "metadata": {},
   "source": [
    "# Assignment Operators\n",
    "\n",
    "Note that You can calculate a value and assign the value in the same operation, similar to JavaScript with one simple difference, there is no inline increment.\n",
    "\n",
    "| OPERATOR         | PYTHON | JAVASCRIPT |\n",
    "|------------------|--------|------------|\n",
    "| inline increment | n/a    | ++         |\n",
    "| inline decrement | n/a    | --         |\n",
    "| add assign       | +=     | +=         |\n",
    "| subtract assign  | -=     | -=         |\n",
    "| multiply assign  | *=     | *=         |\n",
    "| divide assign    | /=     | /=         |\n",
    "| etc...           |        |            |\n",
    "\n",
    "## Inline Increments\n",
    "\n",
    "JavaScript supports pre increments (++value) where the value is incremented by 1 before the statement is done.\n",
    "\n",
    "It also supports post increment (value++) where the value is incremented by 1 after the statement.\n",
    "\n",
    "Similar as-well for decrements\n",
    "\n",
    "ex:\n",
    "\n",
    "```\n",
    "value = 2\n",
    "console.log(++value)\n",
    "// 3\n",
    "console.log(value)\n",
    "// 3\n",
    "\n",
    "\n",
    "value = 2\n",
    "console.log(value++)\n",
    "// 2\n",
    "console.log(value)\n",
    "// 3\n",
    "\n",
    "value = 2\n",
    "console.log(value--)\n",
    "// 2\n",
    "console.log(value)\n",
    "// 1\n",
    "\n",
    "...\n",
    "\n",
    "```"
   ]
  },
  {
   "cell_type": "markdown",
   "id": "68e9eb68-38c9-49e7-addd-9864fdd7b60b",
   "metadata": {},
   "source": [
    "**Python instead requires you to use the assignment operator instead**"
   ]
  },
  {
   "cell_type": "code",
   "execution_count": 143,
   "id": "e946c48c-d290-42dd-82e0-c40a66984abd",
   "metadata": {},
   "outputs": [],
   "source": [
    "decrementVariable = 2\n",
    "decrementVariable -= 1"
   ]
  },
  {
   "cell_type": "markdown",
   "id": "17c0f288-94a5-4575-b403-d3aa2738ae2d",
   "metadata": {},
   "source": [
    "# Comparison Operators\n",
    "\n",
    "The biggest difference between Python and JavaScript is that there is no `strict-equality` operator or `===`\n",
    "\n",
    "This is mostly because Python doesn't follow the same weird coersion rules that JavaScript does, since python considers `'9' != 9`\n",
    "\n",
    "| OPERATOR              | PYTHON | JAVASCRIPT |\n",
    "|-----------------------|--------|------------|\n",
    "| greater than          | >      | >          |\n",
    "| less than             | <      | <          |\n",
    "| greater or equal than | >=     | >=         |\n",
    "| less or equal than    | <=     | <=         |\n",
    "| equal                 | ==     | ==         |\n",
    "| strict (triple) equal | n/a    | ===        |\n",
    "| not equal             | !=     | !=         |\n",
    "| strict not equal      | n/a    | !==        |"
   ]
  },
  {
   "cell_type": "markdown",
   "id": "2268192a-de59-4c16-bcef-20a8f7f7a41c",
   "metadata": {},
   "source": [
    "## String Concatenation\n",
    "\n",
    "Python Supports String concatenation also through the `+` operator"
   ]
  },
  {
   "cell_type": "code",
   "execution_count": 144,
   "id": "65437f99-e332-42f1-bb5c-4dc6068cdfc2",
   "metadata": {},
   "outputs": [
    {
     "data": {
      "text/plain": [
       "'aaa'"
      ]
     },
     "execution_count": 144,
     "metadata": {},
     "output_type": "execute_result"
    }
   ],
   "source": [
    "'a' + 'aa'"
   ]
  },
  {
   "cell_type": "markdown",
   "id": "327e8594-4896-40b1-b9bf-96acb9275ea8",
   "metadata": {},
   "source": [
    "**HOWEVER** you cannot concatenate strings to non-strings, as you will get a TypeError"
   ]
  },
  {
   "cell_type": "code",
   "execution_count": 145,
   "id": "0f93a7e9-534b-43c9-9769-47be2c7a68ad",
   "metadata": {},
   "outputs": [
    {
     "data": {
      "text/html": [
       "\n",
       "<div><pre style='background-color:rgb(255,221,221);'>\n",
       "---------------------------------------------------------------------------\n",
       "<span style='color:rgb(231,92,88);'>ErrorType: TypeError</span>\n",
       "Message: can only concatenate str (not \"int\") to str\n",
       "Stack trace:\n",
       "[\"File: <ipython-input-145-b7ba2585f7e2>, Line: 2, Func: <module>, Message: 'a:' + 9\"]\n",
       "---------------------------------------------------------------------------\n",
       "</pre></div>\n"
      ],
      "text/plain": [
       "<IPython.core.display.HTML object>"
      ]
     },
     "metadata": {},
     "output_type": "display_data"
    }
   ],
   "source": [
    "try:\n",
    "    'a:' + 9\n",
    "except BaseException:\n",
    "    printError()\n",
    "else:\n",
    "    print('No error found')"
   ]
  },
  {
   "cell_type": "code",
   "execution_count": 146,
   "id": "955aa243-84f7-449b-8a0d-2a7f60e90b6e",
   "metadata": {},
   "outputs": [
    {
     "name": "stdout",
     "output_type": "stream",
     "text": [
      "there was an error\n"
     ]
    }
   ],
   "source": [
    "try:\n",
    "    'a:' + 9\n",
    "except TypeError:\n",
    "    print(\"there was an error\") # print instead a html cell with bcack"
   ]
  },
  {
   "cell_type": "markdown",
   "id": "161869cb-9b19-4a0c-b06a-6540726eeb14",
   "metadata": {},
   "source": [
    "This must be done by casting the number to string instead"
   ]
  },
  {
   "cell_type": "code",
   "execution_count": 147,
   "id": "691e5e8c-3674-41e3-bcfe-e161dac0e6e0",
   "metadata": {},
   "outputs": [
    {
     "data": {
      "text/plain": [
       "'a:9'"
      ]
     },
     "execution_count": 147,
     "metadata": {},
     "output_type": "execute_result"
    }
   ],
   "source": [
    "'a:' + str(9)"
   ]
  },
  {
   "cell_type": "markdown",
   "id": "cccbcaa8-296f-4994-9e9e-ea9494149ea1",
   "metadata": {},
   "source": [
    "## Arithmatic on Strings\n",
    "\n",
    "Python supports arithmatic on strings in ways that JavaScript does not.\n",
    "\n",
    "For example, you can make a string 10 characters long by multiplying it:"
   ]
  },
  {
   "cell_type": "code",
   "execution_count": 148,
   "id": "a80d34ac-277d-46b3-b453-7261780d1c9a",
   "metadata": {},
   "outputs": [
    {
     "data": {
      "text/plain": [
       "'----------'"
      ]
     },
     "execution_count": 148,
     "metadata": {},
     "output_type": "execute_result"
    }
   ],
   "source": [
    "'-' * 10"
   ]
  },
  {
   "cell_type": "markdown",
   "id": "40ff3255-2d91-4f78-aeb8-9f6e58be2ae8",
   "metadata": {},
   "source": [
    "Arithmatic that doesn't make sense, such as dividing a string also throws an error.\n",
    "\n",
    "Unlike the mess you have with JavaScript - where it doesn't throw an error but instead gives a Not-a-Number (NaN)"
   ]
  },
  {
   "cell_type": "code",
   "execution_count": 149,
   "id": "d065a87c-71a1-40b2-9d21-f08fc769382f",
   "metadata": {},
   "outputs": [
    {
     "data": {
      "text/html": [
       "\n",
       "<div><pre style='background-color:rgb(255,221,221);'>\n",
       "---------------------------------------------------------------------------\n",
       "<span style='color:rgb(231,92,88);'>ErrorType: TypeError</span>\n",
       "Message: unsupported operand type(s) for /: 'str' and 'int'\n",
       "Stack trace:\n",
       "[\"File: <ipython-input-149-316f91fbad7e>, Line: 2, Func: <module>, Message: 'a' / 9\"]\n",
       "---------------------------------------------------------------------------\n",
       "</pre></div>\n"
      ],
      "text/plain": [
       "<IPython.core.display.HTML object>"
      ]
     },
     "metadata": {},
     "output_type": "display_data"
    }
   ],
   "source": [
    "try:\n",
    "    'a' / 9\n",
    "except BaseException:\n",
    "    printError()\n",
    "else:\n",
    "    print('No error found')"
   ]
  },
  {
   "cell_type": "markdown",
   "id": "263d331c-7cd1-4472-be40-237f89fb2554",
   "metadata": {},
   "source": [
    "## Arithmatic on Arrays\n",
    "\n",
    "You can also do arithmatic on Arrays"
   ]
  },
  {
   "cell_type": "code",
   "execution_count": 150,
   "id": "95372fc4-0fef-41af-b8e7-975deb47c6f4",
   "metadata": {},
   "outputs": [
    {
     "data": {
      "text/plain": [
       "[1, 2, 3, 1, 2, 3, 1, 2, 3]"
      ]
     },
     "execution_count": 150,
     "metadata": {},
     "output_type": "execute_result"
    }
   ],
   "source": [
    "[1,2,3] * 3"
   ]
  },
  {
   "cell_type": "markdown",
   "id": "cbcbd6d8-f713-4150-b4a9-5e714f2941b1",
   "metadata": {},
   "source": [
    "# Custom Operators\n",
    "\n",
    "You can implement custom operators on classes, each operator has a special method name that the compiler looks for:\n",
    "    \n",
    "Such as by adding the `__add__` method to your class, to support something like this:\n",
    "\n",
    "```\n",
    "balance = customDebitInstance + customCreditInstance\n",
    "print(balance) # 22.23\n",
    "```\n",
    "\n",
    "[See the Custom Operator Support section for more](#Custom-Operator-Support)"
   ]
  },
  {
   "cell_type": "markdown",
   "id": "1c1d4e05-4f58-4b58-ba79-e7aba770160c",
   "metadata": {},
   "source": [
    "## Elvis Operator or Null Coalescing\n",
    "\n",
    "**TLDR: There is no null-coalescing/elvis operator in Python**\n",
    "\n",
    "[Python has PEP505 for none-aware operators](https://www.python.org/dev/peps/pep-0505/)\n",
    "\n",
    "This seems to have been deferred.\n",
    "\n",
    "Many instead point to ternary - or inline if statements"
   ]
  },
  {
   "cell_type": "code",
   "execution_count": 151,
   "id": "e9b577f8-1a0a-4187-aaef-c9896cb4c9f4",
   "metadata": {},
   "outputs": [
    {
     "name": "stdout",
     "output_type": "stream",
     "text": [
      "less\n"
     ]
    }
   ],
   "source": [
    "print('greater' if 1 > 2 else 'less')"
   ]
  },
  {
   "cell_type": "markdown",
   "id": "b2b8ef5a-03db-4107-8bad-86f4ea63708f",
   "metadata": {},
   "source": [
    "## Chained Access\n",
    "\n",
    "JavaScript supports chained access to only access properties if the value is not null\n",
    "\n",
    "```\n",
    "// JavaScript\n",
    "console.log(doSomething().?somethingElse().?onlyIfNotNull())\n",
    "```\n",
    "\n",
    "[There is a PEP 505 Change Request but it has not been accepted](https://www.python.org/dev/peps/pep-0505/)"
   ]
  },
  {
   "cell_type": "markdown",
   "id": "c9d96544-2df1-4a6b-a172-e3244ad826d9",
   "metadata": {},
   "source": [
    "<br /><br /><br /><br /><br /><br /><br /><br /><br /><br /><br /><br /><br /><br /><br /><br /><br /><br /><br /><br /><br /><br /><br /><br /><hr />\n",
    "<div style='height:20px;width:100%;background-color:#d6eeff'>&nbsp;</div>"
   ]
  },
  {
   "cell_type": "markdown",
   "id": "4a88316f-7d17-4404-83f0-451b2d0b8525",
   "metadata": {},
   "source": [
    "# Logic"
   ]
  },
  {
   "cell_type": "markdown",
   "id": "871f3096-dbfa-4ac8-80d8-902b7e464784",
   "metadata": {},
   "source": [
    "## Pass\n",
    "\n",
    "Because Python uses whitespace for code blocks...\n",
    "\n",
    "the way you represent an empty block is through the `pass` command"
   ]
  },
  {
   "cell_type": "code",
   "execution_count": 152,
   "id": "8e5b396d-a3a5-43bf-841e-ab1321a54600",
   "metadata": {},
   "outputs": [],
   "source": [
    "# nothing will print\n",
    "if 2 < 1:\n",
    "    pass"
   ]
  },
  {
   "cell_type": "markdown",
   "id": "e1a4d80d-c9d3-406b-9872-348e0834206f",
   "metadata": {},
   "source": [
    "## If Then ElseIf\n",
    "\n",
    "Python uses indentation for scopes, without curly braces:"
   ]
  },
  {
   "cell_type": "code",
   "execution_count": 153,
   "id": "74759404-1e1e-4d69-bb52-253a20483a4a",
   "metadata": {},
   "outputs": [
    {
     "name": "stdout",
     "output_type": "stream",
     "text": [
      "a and b are equal\n"
     ]
    }
   ],
   "source": [
    "a = 33\n",
    "b = 33\n",
    "if b > a:\n",
    "  print(\"b is greater than a\")\n",
    "elif a == b:\n",
    "  print(\"a and b are equal\")\n",
    "else:\n",
    "    print(\"a is greater than b\")"
   ]
  },
  {
   "cell_type": "markdown",
   "id": "3770c299-c004-416f-a7d8-2068ebeeaab9",
   "metadata": {},
   "source": [
    "## Ternary or Inline If Statements\n",
    "\n",
    "Like JavaScript ternary statements, you can use inline `if ... else ...` statements"
   ]
  },
  {
   "cell_type": "code",
   "execution_count": 154,
   "id": "39fc8cad-6613-4fe4-b5c6-a0506a5cfe52",
   "metadata": {},
   "outputs": [
    {
     "name": "stdout",
     "output_type": "stream",
     "text": [
      "B\n"
     ]
    }
   ],
   "source": [
    "a = 2\n",
    "b = 330\n",
    "print(\"A\") if a > b else print(\"B\")"
   ]
  },
  {
   "cell_type": "markdown",
   "id": "df12a1d0-e0da-4c20-8d57-8b5ecb0bad42",
   "metadata": {},
   "source": [
    "This can be a couple levels deep"
   ]
  },
  {
   "cell_type": "code",
   "execution_count": 155,
   "id": "9fa523c2-f785-46ef-972a-5b3e33519423",
   "metadata": {},
   "outputs": [
    {
     "name": "stdout",
     "output_type": "stream",
     "text": [
      "=\n"
     ]
    }
   ],
   "source": [
    "a = 330\n",
    "b = 330\n",
    "print(\"A\") if a > b else print(\"=\") if a == b else print(\"B\")"
   ]
  },
  {
   "cell_type": "markdown",
   "id": "c3c7490a-df29-46e4-aed6-050a07444331",
   "metadata": {},
   "source": [
    "Note that Python uses the `and` keyword instead of `&&`, and `or` keywords instead of `||`"
   ]
  },
  {
   "cell_type": "code",
   "execution_count": 156,
   "id": "77e85179-e1a6-461f-9260-3cbdc75e770b",
   "metadata": {},
   "outputs": [
    {
     "name": "stdout",
     "output_type": "stream",
     "text": [
      "a > b > c\n"
     ]
    }
   ],
   "source": [
    "a = 500\n",
    "b = 200\n",
    "c = 30\n",
    "if a > b and b > c:\n",
    "    print(\"a > b > c\")"
   ]
  },
  {
   "cell_type": "markdown",
   "id": "4a946342-8559-47be-94a2-86d560f0e2aa",
   "metadata": {},
   "source": [
    "See [Logic Operators](#Logic-Operators) for more"
   ]
  },
  {
   "cell_type": "markdown",
   "id": "81c17ae0-8399-4005-b51b-e8e4da93f0f4",
   "metadata": {},
   "source": [
    "## No Switch\n",
    "\n",
    "TLDR; There is no **switch** statement in Python like in JavaScript, but Dict objects are a bit more powerful to help\n",
    "\n",
    "```\n",
    "// JavaScript\n",
    "function getUrlConf(host) {\n",
    "  switch (host) {\n",
    "    case \"www.example-a.dev\":\n",
    "      return \"firstApp.urls\";\n",
    "    case \"www-example-b.dev\":\n",
    "      return \"secondApp.urls\";\n",
    "    case \"www.example-c.dev\":\n",
    "      return \"thirdApp.urls\";\n",
    "    default:\n",
    "      return \"Sorry, no match\";\n",
    "  }\n",
    "}\n",
    "\n",
    "getUrlConf(\"www-example-b.dev\");\n",
    "```\n",
    "\n",
    "Within Python, we can do something else:"
   ]
  },
  {
   "cell_type": "code",
   "execution_count": 157,
   "id": "c07861b5-22a1-4d1c-a5ee-d69e462e8b4a",
   "metadata": {},
   "outputs": [
    {
     "data": {
      "text/plain": [
       "'secondApp.urls'"
      ]
     },
     "execution_count": 157,
     "metadata": {},
     "output_type": "execute_result"
    }
   ],
   "source": [
    "def getUrlConf(host:str):\n",
    "    mapping = {\n",
    "        \"www.example-a.dev\": \"firstApp.urls\",\n",
    "        \"www-example-b.dev\": \"secondApp.urls\",\n",
    "        \"www.example-c.dev\": \"thirdApp.urls\"\n",
    "    }\n",
    "    \n",
    "    if (host in mapping):\n",
    "        return mapping.get(host)\n",
    "    else:\n",
    "        return 'Sorry, no match'\n",
    "\n",
    "getUrlConf(\"www-example-b.dev\")"
   ]
  },
  {
   "cell_type": "markdown",
   "id": "d2e544b7-465a-49dc-8932-764ffb2164fe",
   "metadata": {},
   "source": [
    "Note you can also use lambdas a bit as-well, but you might as well just look into if-then-else"
   ]
  },
  {
   "cell_type": "code",
   "execution_count": 158,
   "id": "dbfb9c3d-e06d-4d9f-8174-76fcd50b5b84",
   "metadata": {},
   "outputs": [
    {
     "data": {
      "text/plain": [
       "'adam tells a joke to eve'"
      ]
     },
     "execution_count": 158,
     "metadata": {},
     "output_type": "execute_result"
    }
   ],
   "source": [
    "def sayMessageLambda(messageType, fromPerson, toPerson):\n",
    "    mLambda = {\n",
    "        'joke': lambda p1,p2: f\"{fromPerson} tells a joke to {toPerson}\",\n",
    "        'sadStory': lambda p1,p2: f\"{fromPerson} tells a sad story to {toPerson}\",\n",
    "        'compliment': lambda p1,p2: f\"{fromPerson} pays a compliment to {toPerson}\"\n",
    "    }.get(messageType, lambda: 'Unknown message type')\n",
    "    \n",
    "    return mLambda(fromPerson, toPerson)\n",
    "\n",
    "sayMessageLambda('joke', 'adam', 'eve')\n",
    "    "
   ]
  },
  {
   "cell_type": "markdown",
   "id": "795fef8c-8582-4c77-b643-4fdf39a5a785",
   "metadata": {},
   "source": [
    "## In Operator\n",
    "\n",
    "Python includes an `in` operator to verify a value is within a collection. "
   ]
  },
  {
   "cell_type": "code",
   "execution_count": 159,
   "id": "2881328b-f7ba-4d61-b004-474fba49b89d",
   "metadata": {},
   "outputs": [
    {
     "data": {
      "text/plain": [
       "True"
      ]
     },
     "execution_count": 159,
     "metadata": {},
     "output_type": "execute_result"
    }
   ],
   "source": [
    "'one' in dict1"
   ]
  },
  {
   "cell_type": "code",
   "execution_count": 160,
   "id": "03fa0469-3ebd-4fa3-9fae-44f98fa94b3f",
   "metadata": {},
   "outputs": [
    {
     "data": {
      "text/plain": [
       "False"
      ]
     },
     "execution_count": 160,
     "metadata": {},
     "output_type": "execute_result"
    }
   ],
   "source": [
    "'something-else' in dict1"
   ]
  },
  {
   "cell_type": "markdown",
   "id": "9db763ea-9b50-4db1-9145-ba58e0280852",
   "metadata": {},
   "source": [
    "(This is separate from the `for ... in` statements)\n",
    "\n",
    "**NOTE:** custom classes implement `in` behavior for custom classes by overriding [__contains__](https://docs.python.org/3/reference/datamodel.html#object.__contains__) method. See the [Overriding Standard Operators](#Overriding-Standard-Operators) section below."
   ]
  },
  {
   "cell_type": "markdown",
   "id": "e171df95-e9ca-4897-a295-582afc99e4ec",
   "metadata": {},
   "source": [
    "## Async Await\n",
    "\n",
    "**TLDR; Python does not have a built in class for Promises, but does support Async Await similar to JavaScript**\n",
    "\n",
    "There is no support for Promises within the standard Python Library.  [However the PyPi library does have a Promises implementation](https://pypi.org/project/promise/)\n",
    "\n",
    "Python does however have [Coroutines]() through  and [Awaitables]() that are similar to JavaScript Async Await through the [Asyncio Library](https://docs.python.org/3/library/asyncio-task.html)\n",
    "\n",
    "However, the method must be called from `asyncio.run(...)` -- **Jupyter Notebooks already are running in that context**"
   ]
  },
  {
   "cell_type": "code",
   "execution_count": 161,
   "id": "ccb8b316-540a-4db5-90ab-a93e77991e2e",
   "metadata": {},
   "outputs": [
    {
     "name": "stdout",
     "output_type": "stream",
     "text": [
      "count one\n",
      "count two\n",
      "count three\n",
      "count four\n",
      "count five\n",
      "count six\n",
      "Script executed in 1.00 seconds.\n"
     ]
    }
   ],
   "source": [
    "async def count():\n",
    "    print(\"count one\")\n",
    "    await asyncio.sleep(1)\n",
    "    print(\"count four\")\n",
    "\n",
    "async def count_further():\n",
    "    print(\"count two\")\n",
    "    await asyncio.sleep(1)\n",
    "    print(\"count five\")\n",
    "\n",
    "async def count_even_further():\n",
    "    print(\"count three\")\n",
    "    await asyncio.sleep(1)\n",
    "    print(\"count six\")\n",
    "\n",
    "async def main():\n",
    "    await asyncio.gather(count(), count_further(), count_even_further())\n",
    "\n",
    "s = time.perf_counter()\n",
    "await main()\n",
    "elapsed = time.perf_counter() - s\n",
    "print(f\"Script executed in {elapsed:0.2f} seconds.\")"
   ]
  },
  {
   "cell_type": "markdown",
   "id": "55b3b096-9dcc-4a63-ab0b-ba6ec40d50bf",
   "metadata": {},
   "source": [
    "### Awaitables\n",
    "Note that just like JavaScript, Python requires `await` to occur within an `async` method.  These items that await can use are called [Awaitables](https://docs.python.org/3/library/asyncio-task.html#awaitables)\n",
    "\n",
    "There are three types of Awaitables:\n",
    "\n",
    "* [Coroutines](#Coroutines)\n",
    "* [Futures](#Futures)\n",
    "* [Tasks](#Tasks)\n",
    "\n",
    "### Coroutines\n",
    "\n",
    "Coroutines are Awaitable Functions (like the one above) or Coroutine Objects.\n",
    "    \n",
    "Coroutine Objects are objects returned by calling a Coroutine Function\n",
    "\n",
    "### Tasks\n",
    "\n",
    "[Coroutine Tasks](https://docs.python.org/3/library/asyncio-task.html#running-tasks-concurrently) allow you to schedule Coroutines **CONCURRENTLY**\n",
    "\n",
    "They are defined by wrapping a Coroutine with the `asyncio.create_task()` method.\n",
    "\n",
    "### Futures\n",
    "\n",
    "[Futures](https://docs.python.org/3/library/asyncio-task.html#id1) are a low level object - instead of a co-routine - that represents an eventual result.\n",
    "          \n",
    "They are traditionally returned from some of the different asyncio methods, such as [asyncio.gather() or asyncio.wait()](https://stackoverflow.com/questions/42231161/asyncio-gather-vs-asyncio-wait)\n",
    "          \n",
    "[See here for more](https://docs.python.org/3/library/asyncio-future.html#asyncio.Future)"
   ]
  },
  {
   "cell_type": "markdown",
   "id": "5c014ad5-5801-41bd-a477-77ddfbd23ce0",
   "metadata": {},
   "source": [
    "**If you don't wrap the map method with list...**,\n",
    "\n",
    "you'll get an unhelpful map pointer that hasn't executed anything yet."
   ]
  },
  {
   "cell_type": "markdown",
   "id": "124dbf26-4ba5-4656-b6bf-237dc42d7adb",
   "metadata": {},
   "source": [
    "<br /><br /><br /><br /><br /><br /><br /><br /><br /><br /><br /><br /><br /><br /><br /><br /><br /><br /><br /><br /><br /><br /><br /><br /><hr />\n",
    "<div style='height:20px;width:100%;background-color:#d6eeff'>&nbsp;</div>"
   ]
  },
  {
   "cell_type": "markdown",
   "id": "26b68d49-e9f3-4e53-8116-56501515055b",
   "metadata": {},
   "source": [
    "# Handling Errors / Exceptions\n",
    "\n",
    "Errors handled during execution of the interpreter are called [Exceptions](https://docs.python.org/3/tutorial/errors.html)\n",
    "\n",
    "Unlike JavaScript, it is much harder for Exceptions to be [silently thrown and the program continues as normal](https://developer.mozilla.org/en-US/docs/Web/JavaScript/Reference/Strict_mode).\n",
    "\n",
    "This can be thought of as always running in [JavaScript Strict Mode](https://developer.mozilla.org/en-US/docs/Web/JavaScript/Reference/Strict_mode)...\n",
    "\n",
    "([So no changes in how you've normally been working, right? ... Right?](https://knowyourmeme.com/memes/for-the-better-right))\n",
    "\n",
    "Chaining Exceptions (such as having a `caught Exception` throw another exception, works similar to JavaScript.\n",
    "\n",
    "**More on Exceptions can be found in the [Python Documentation on Exceptions](https://docs.python.org/3/tutorial/errors.html)**"
   ]
  },
  {
   "cell_type": "markdown",
   "id": "277e7ef7-e533-47e6-aff8-3ed9400e16c2",
   "metadata": {},
   "source": [
    "## Try Throw Catch\n",
    "\n",
    "TLDR;  Python has a similar logic to 'Try ... Catch' called 'Try... Except` \n",
    "\n",
    "Python uses similar logic to the JavaScript Try Throw Catch:\n",
    "    \n",
    "```\n",
    "JavaScript:\n",
    "try {\n",
    "    1/0\n",
    "} catch (err) {\n",
    "    if (err instanceof ZeroDivisionError) {\n",
    "        console.log(`Error occurred: {err.message}`);\n",
    "    } else if (err instanceof RuntimeError) {\n",
    "        console.log(...)\n",
    "    } else if (err instanceof Error) { // all exceptions extend Error\n",
    "        console.log(\n",
    "    }\n",
    "}\n",
    "```\n",
    "\n",
    "Python is quite similar using `Try ... Except`:"
   ]
  },
  {
   "cell_type": "code",
   "execution_count": 162,
   "id": "cad303d1-137e-463c-a654-e8b7f074afb3",
   "metadata": {},
   "outputs": [
    {
     "name": "stdout",
     "output_type": "stream",
     "text": [
      "ZeroDivisionError\n"
     ]
    },
    {
     "data": {
      "text/html": [
       "\n",
       "<div><pre style='background-color:rgb(255,221,221);'>\n",
       "---------------------------------------------------------------------------\n",
       "<span style='color:rgb(231,92,88);'>ErrorType: ZeroDivisionError</span>\n",
       "Message: division by zero\n",
       "Stack trace:\n",
       "['File: <ipython-input-162-d0be2b141aca>, Line: 5, Func: <module>, Message: 1/0']\n",
       "---------------------------------------------------------------------------\n",
       "</pre></div>\n"
      ],
      "text/plain": [
       "<IPython.core.display.HTML object>"
      ]
     },
     "metadata": {},
     "output_type": "display_data"
    },
    {
     "name": "stdout",
     "output_type": "stream",
     "text": [
      "Everything is done\n"
     ]
    }
   ],
   "source": [
    "class CustomException(Exception):\n",
    "    pass\n",
    "\n",
    "try:\n",
    "    1/0\n",
    "except (ZeroDivisionError, RuntimeError) as err:\n",
    "    # do something with it.\n",
    "    # for now, we will just print the error safely\n",
    "    print('ZeroDivisionError')\n",
    "    printError()\n",
    "except BaseException as err:\n",
    "    # Run if no other Exception matches\n",
    "    printError()\n",
    "else:\n",
    "    print('No Errors')\n",
    "finally:\n",
    "    print('Everything is done')"
   ]
  },
  {
   "cell_type": "markdown",
   "id": "0bbc5b5f-371f-4517-b273-e4a2ce119fa1",
   "metadata": {},
   "source": [
    "* Exceptions (not Errors) are checked.\n",
    "* Exceptions can match base on the Type of Error, instead of using `instanceof` logic"
   ]
  },
  {
   "cell_type": "markdown",
   "id": "adc52ce3-11a4-4120-82e2-13f80d1c78b6",
   "metadata": {},
   "source": [
    "## Custom Exceptions\n",
    "\n",
    "Custom Errors extend `Exception`\n",
    "(instead of 'Error' in JavaScript)\n",
    "\n",
    "We catch the Exceptions through the `raise` command\n",
    "(instead of 'throw' as in JavaScript)"
   ]
  },
  {
   "cell_type": "code",
   "execution_count": 163,
   "id": "491e6fc1-4898-46f1-882e-664d4be7769c",
   "metadata": {},
   "outputs": [
    {
     "data": {
      "text/html": [
       "\n",
       "<div><pre style='background-color:rgb(255,221,221);'>\n",
       "---------------------------------------------------------------------------\n",
       "<span style='color:rgb(231,92,88);'>ErrorType: CustomException</span>\n",
       "Message: Message\n",
       "Stack trace:\n",
       "[\"File: <ipython-input-163-b00051b0558e>, Line: 8, Func: <module>, Message: raise CustomException('Message')\"]\n",
       "---------------------------------------------------------------------------\n",
       "</pre></div>\n"
      ],
      "text/plain": [
       "<IPython.core.display.HTML object>"
      ]
     },
     "metadata": {},
     "output_type": "display_data"
    },
    {
     "name": "stdout",
     "output_type": "stream",
     "text": [
      "Everything is done\n"
     ]
    }
   ],
   "source": [
    "# 'Custom Errors' extend Exception and are 'raised' not 'throw'n\n",
    "\n",
    "class CustomException(Exception):\n",
    "    \"\"\"Custom Exception for this module\"\"\"\n",
    "    pass\n",
    "\n",
    "try:\n",
    "    raise CustomException('Message')\n",
    "except (ZeroDivisionError, RuntimeError) as err:\n",
    "    # do something with it.\n",
    "    # for now, we will just print the error safely\n",
    "    print('ZeroDivisionError')\n",
    "    printError()\n",
    "except BaseException as err:\n",
    "    # Run if no other Exception matches\n",
    "    printError()\n",
    "else:\n",
    "    print('Everything is fine')\n",
    "finally:\n",
    "    print('Everything is done')"
   ]
  },
  {
   "cell_type": "markdown",
   "id": "28a3742c-58e3-4259-97d8-d45bfec5ca53",
   "metadata": {},
   "source": [
    "<br /><br /><br /><br /><br /><br /><br /><br /><br /><br /><br /><br /><br /><br /><br /><br /><br /><br /><br /><br /><br /><br /><br /><br /><hr />\n",
    "<div style='height:20px;width:100%;background-color:#d6eeff'>&nbsp;</div>"
   ]
  },
  {
   "cell_type": "markdown",
   "id": "d9c3b7e7-1a45-4cbf-b21f-60af555725a0",
   "metadata": {},
   "source": [
    "# Functions\n",
    "\n",
    "Functions are defined using `def` keyword, and use whitespace to indicate [scope](#Scope)\n",
    "\n",
    "(see the [Python Doc - Defining Functions](https://docs.python.org/3/tutorial/controlflow.html#defining-functions) for more detail)"
   ]
  },
  {
   "cell_type": "markdown",
   "id": "089ebb27-707e-41a6-a75d-79478323cd8a",
   "metadata": {},
   "source": [
    "Functions are similar to JavaScript:\n",
    "\n",
    "* variables created within the scope of the function are local to that function\n",
    "    * [see Scope section](#Scope)\n",
    "* functions can be passed as arguments\n",
    "    * [see Passing Functions as Arguments](#Passing-Functions-as-Arguments)\n",
    "* Functions can be introspected to get list of arguments\n",
    "    * [see Function DocStrings](#Function-DocStrings)\n",
    "    \n",
    "There are a few differences:\n",
    "    \n",
    "* Python will complain if a function is called without the correct number of arguments.\n",
    "    * Note that variable arguments - like *rest, etc. are supported\n",
    "* Python supports additional ways of calling arguments by name called [Kwargs](#Kwargs)\n",
    "* Variables defined with the `global` keyword are not local - but global in scope\n",
    "    * [See the Scope section](#Scope)"
   ]
  },
  {
   "cell_type": "markdown",
   "id": "03dd1ee8-2703-447b-9922-a95e41f03ae7",
   "metadata": {},
   "source": [
    "## Function DocStrings\n",
    "\n",
    "Unlike JSDocs, where the descriptions of functions are only available in the source code, and are written in comments before the function.\n",
    "\n",
    "```\n",
    "// JavaScript\n",
    "/**\n",
    " * Doubles a value\n",
    " * @param val {Number} - number to update\n",
    " * @returns {Number} - val doubled\n",
    " **/\n",
    "function doubleValue(val) {\n",
    "    return val * 2\n",
    "}\n",
    "```\n",
    "\n",
    "Python uses the first string found within a function definition (comments beforehand are ignored), and that value is stored in the `__doc__` property of the function."
   ]
  },
  {
   "cell_type": "code",
   "execution_count": 164,
   "id": "3d3daabb-55d8-4eef-9c54-2d454d123b65",
   "metadata": {},
   "outputs": [
    {
     "data": {
      "text/plain": [
       "46"
      ]
     },
     "execution_count": 164,
     "metadata": {},
     "output_type": "execute_result"
    }
   ],
   "source": [
    "def doubleVal(val : float):\n",
    "    \"\"\"\n",
    "    Doubles a value\n",
    "    :param: val {Number} - number to update\n",
    "    :returns: {Number} - val doubled\n",
    "    \"\"\"\n",
    "    return val * 2\n",
    "\n",
    "doubleVal(23)"
   ]
  },
  {
   "cell_type": "markdown",
   "id": "d971f048-c14a-4c7e-b9a3-b3ba896fa327",
   "metadata": {},
   "source": [
    "You can get the help information actually within the code through the [help() command](https://docs.python.org/3/library/functions.html#help)"
   ]
  },
  {
   "cell_type": "code",
   "execution_count": 165,
   "id": "94318996-9ed6-4f14-b49d-713f60c798a3",
   "metadata": {},
   "outputs": [
    {
     "name": "stdout",
     "output_type": "stream",
     "text": [
      "Help on function doubleVal in module __main__:\n",
      "\n",
      "doubleVal(val: float)\n",
      "    Doubles a value\n",
      "    :param: val {Number} - number to update\n",
      "    :returns: {Number} - val doubled\n",
      "\n"
     ]
    }
   ],
   "source": [
    "help(doubleVal)"
   ]
  },
  {
   "cell_type": "markdown",
   "id": "cbd85d9b-53ce-4a05-b32c-7430e0e0a5c4",
   "metadata": {},
   "source": [
    "Or through the `__doc__` property\n",
    "\n",
    "**Although this is less preferred as `__` properties are considered `internal`**"
   ]
  },
  {
   "cell_type": "code",
   "execution_count": 166,
   "id": "055e6f6b-a603-4253-acf6-e8e0e215059a",
   "metadata": {},
   "outputs": [
    {
     "name": "stdout",
     "output_type": "stream",
     "text": [
      "\n",
      "    Doubles a value\n",
      "    :param: val {Number} - number to update\n",
      "    :returns: {Number} - val doubled\n",
      "    \n"
     ]
    }
   ],
   "source": [
    "print(doubleVal.__doc__)"
   ]
  },
  {
   "cell_type": "markdown",
   "id": "9557beb6-81d7-466b-a243-593bd0f661c7",
   "metadata": {},
   "source": [
    "## Help on Python Libraries\n",
    "\n",
    "Note, `help()` works on standard Python libraries and namespaces as-well\n",
    "\n",
    "```\n",
    "help(sys)\n",
    "```"
   ]
  },
  {
   "cell_type": "markdown",
   "id": "9954ca5a-8c3d-41a8-8bbd-dda656ea1f64",
   "metadata": {},
   "source": [
    "## Function Argument Types\n",
    "\n",
    "Although it is mostly for information and not checked without a [Linting](#Linting) program, it is best practice since [Pep 484](https://www.python.org/dev/peps/pep-0484/) to include types for your function arguments.\n",
    "\n",
    "This is similar to TypeScript, rather than JavaScript, but it allows you to describe the types of arguments expected within a function.\n",
    "\n",
    "`def functionName( argument : type, argument: type, ...):`"
   ]
  },
  {
   "cell_type": "code",
   "execution_count": 167,
   "id": "ea425c21-259b-49cb-87c8-f406a6a00bf1",
   "metadata": {},
   "outputs": [
    {
     "data": {
      "text/plain": [
       "46"
      ]
     },
     "execution_count": 167,
     "metadata": {},
     "output_type": "execute_result"
    }
   ],
   "source": [
    "def doubleVal(val : float):\n",
    "    \"\"\"\n",
    "    Doubles a value\n",
    "    :param: val {Number} - number to update\n",
    "    :returns: {Number} - val doubled\n",
    "    \"\"\"\n",
    "    return val * 2\n",
    "\n",
    "doubleVal(23)"
   ]
  },
  {
   "cell_type": "markdown",
   "id": "a6bd9bcd-8841-46df-af13-6383875fdfac",
   "metadata": {},
   "source": [
    "See the [Dynamically Typed](#Dynamically-Typed) section for more."
   ]
  },
  {
   "cell_type": "code",
   "execution_count": 168,
   "id": "1154794c-79e9-464c-a728-62b9145f8227",
   "metadata": {},
   "outputs": [
    {
     "data": {
      "text/plain": [
       "20.0"
      ]
     },
     "execution_count": 168,
     "metadata": {},
     "output_type": "execute_result"
    }
   ],
   "source": [
    "def multipleVal(val : float, coefficient : float = 2.0):\n",
    "    return val * coefficient\n",
    "\n",
    "multipleVal(10)"
   ]
  },
  {
   "cell_type": "markdown",
   "id": "14b13ae2-8eae-4c06-b6dd-fd8204c23b46",
   "metadata": {},
   "source": [
    "## Arguments\n",
    "\n",
    "Arguments for Functions can either be [Positional](https://docs.python.org/3/glossary.html#term-argument) or [keyword](https://docs.python.org/3/glossary.html#term-argument)\n",
    "                                                   \n",
    "[Note that Python distinguishes between Parameters - the keyword name in a function defintion, and Arguments - the values sent](https://docs.python.org/3/faq/programming.html#faq-argument-vs-parameter)\n",
    "\n",
    "In Python, the name of the parameter can be set directly using `parameter=value` in a function definition.\n",
    "\n",
    "This is called a `keyword argument` - commonly called [Kwargs](#Kwargs)\n",
    "\n",
    "If an argument is set by the order they are sent by, then it is positional."
   ]
  },
  {
   "cell_type": "markdown",
   "id": "09b3d66c-99b4-4ecc-9b22-99f239a16d64",
   "metadata": {},
   "source": [
    "## Kwargs\n",
    "\n",
    "Kwargs are calling an [Argument](#Arguments) by the name of the parameter."
   ]
  },
  {
   "cell_type": "code",
   "execution_count": 169,
   "id": "6a4e5e69-1977-4aa6-8f01-35b5735e545f",
   "metadata": {},
   "outputs": [
    {
     "name": "stdout",
     "output_type": "stream",
     "text": [
      "John shouted into a cave: Yodelayheehoo! Yodelayheehoo! Yodelayheehoo! Yodelayheehoo! \n",
      "Billy shouted into a cave: Echo! Echo! Echo! Echo! \n"
     ]
    }
   ],
   "source": [
    "# Python function\n",
    "def shoutIntoCave(name: str = 'Billy', message: str = 'YodelYodel', echoCount: int = 4):\n",
    "    # DocType Strings similar to JSDoc\n",
    "    \"\"\"\n",
    "    First string undeclared in the function acts as documentation\n",
    "    :param: name (str) - whom is doing the shouting\n",
    "    :param: message (str) - the message they were shouting\n",
    "    :param: echoCount (int) - the number of times they heard an echo\n",
    "    \"\"\"\n",
    "    \n",
    "    # see f-strings / templates below for alternatives\n",
    "    resultMessage = name + \" shouted into a cave: \" + (message + \"! \") * echoCount\n",
    "    \n",
    "    # this line can also be omitted, but best practice to include a return for clarity\n",
    "    return resultMessage\n",
    "\n",
    "# this is not indented so the function scope is closed\n",
    "print(shoutIntoCave(\"John\", \"Yodelayheehoo\", 4)) # John shouted into a cave: Yodelayheehoo! Yodelayheehoo! Yodelayheehoo! Yodelayheehoo! \n",
    "print(shoutIntoCave(message=\"Echo\"))             # Billy shouted into a cave: Echo! Echo! Echo! Echo! "
   ]
  },
  {
   "cell_type": "markdown",
   "id": "1683d675-5e72-4186-916d-96d599d61b04",
   "metadata": {},
   "source": [
    "## Rest Parameters\n",
    "\n",
    "Note that you can use Rest parameters to specify an arbitrary number of arguments, similar to javascript functions `...rest` operator."
   ]
  },
  {
   "cell_type": "code",
   "execution_count": 170,
   "id": "3e5703eb-411f-4726-8a78-6271e1e9ecb6",
   "metadata": {},
   "outputs": [
    {
     "data": {
      "text/plain": [
       "('a', 'b', 'rest1,rest2,rest3,rest4', 'sent by keyword')"
      ]
     },
     "execution_count": 170,
     "metadata": {},
     "output_type": "execute_result"
    }
   ],
   "source": [
    "def foo(a, b, *rest, availableOnlyByKwarg):\n",
    "    return (a, b, ','.join(rest), availableOnlyByKwarg)\n",
    "\n",
    "foo('a', 'b', 'rest1', 'rest2', 'rest3', 'rest4', availableOnlyByKwarg='sent by keyword')"
   ]
  },
  {
   "cell_type": "markdown",
   "id": "b33e352b-f006-4868-8481-769f1153769f",
   "metadata": {},
   "source": [
    "## Default Parameters\n",
    "\n",
    "Default Parameters are very similar to JavaScript"
   ]
  },
  {
   "cell_type": "markdown",
   "id": "ef622170-1769-4947-b753-d7eac2174eaf",
   "metadata": {},
   "source": [
    "## Lambda Functions\n",
    "\n",
    "**TLDR; Lambda functions are like JavaScript arrow functions, but more restricted**\n",
    "\n",
    "Like JavaScript:\n",
    "\n",
    "* Lambda Functions are defined on a single line\n",
    "* Lambda Functions must be assigned to be called\n",
    "\n",
    "Unlike JavaScript:\n",
    "\n",
    "* Lambda Functions do not support all python syntax and don't support multiple lines of code"
   ]
  },
  {
   "cell_type": "code",
   "execution_count": 171,
   "id": "6305068e-df0e-4551-aa5e-e3839a333abd",
   "metadata": {},
   "outputs": [
    {
     "data": {
      "text/plain": [
       "222"
      ]
     },
     "execution_count": 171,
     "metadata": {},
     "output_type": "execute_result"
    }
   ],
   "source": [
    "doubleFn = lambda val: val * 2\n",
    "doubleFn(111)"
   ]
  },
  {
   "cell_type": "markdown",
   "id": "06d17881-78c4-484d-9cf8-01609dd6adc7",
   "metadata": {},
   "source": [
    "Lambdas can support multiple arguments:"
   ]
  },
  {
   "cell_type": "code",
   "execution_count": 172,
   "id": "8bdb62c8-8cea-4393-becc-829a4856510e",
   "metadata": {},
   "outputs": [
    {
     "data": {
      "text/plain": [
       "'Paul says to John: Way to go Yoko...'"
      ]
     },
     "execution_count": 172,
     "metadata": {},
     "output_type": "execute_result"
    }
   ],
   "source": [
    "saySomething = lambda fromPerson, toPerson, message = 'hello' : f'{fromPerson} says to {toPerson}: {message}'\n",
    "saySomething('Paul', 'John', 'Way to go Yoko...')"
   ]
  },
  {
   "cell_type": "markdown",
   "id": "be2bee47-50a5-4cc8-a2b4-7c83a29d5ba3",
   "metadata": {},
   "source": [
    "[See here for more on Lambda Functions](https://docs.python.org/3/reference/expressions.html#lambda)"
   ]
  },
  {
   "cell_type": "markdown",
   "id": "062a5043-1d4c-466b-8c37-15d59999d836",
   "metadata": {},
   "source": [
    "## Passing Functions as Arguments\n",
    "\n",
    "Functions can be defined and passed as arguments.\n",
    "\n",
    "(This includes `def` defined functions, and [Lambda functions](#Lambda))"
   ]
  },
  {
   "cell_type": "code",
   "execution_count": 173,
   "id": "e0a9304e-ba77-4dc4-9b0f-38b687868f4c",
   "metadata": {},
   "outputs": [
    {
     "data": {
      "text/plain": [
       "[2, 4, 6, 8]"
      ]
     },
     "execution_count": 173,
     "metadata": {},
     "output_type": "execute_result"
    }
   ],
   "source": [
    "def double(val):\n",
    "    return val * 2\n",
    "\n",
    "def doSomething(f, l):\n",
    "    return [f(x) for x in l]\n",
    "\n",
    "doSomething(double, [1,2,3,4])"
   ]
  },
  {
   "cell_type": "markdown",
   "id": "0c7acb29-9f6f-448d-a874-45c5ec4af583",
   "metadata": {},
   "source": [
    "## Memoize\n",
    "\n",
    "[Memoize](https://scotch.io/tutorials/understanding-memoization-in-javascript) simply means that we can remember the value provided for a given input.\n",
    "\n",
    "This means that if we ever ask with that same input again, we don't have to run the same complex calculation - we just give the answer we gave before.\n",
    "\n",
    "```\n",
    "// JavaScript\n",
    "function fibonacci(n,memo) {\n",
    "    memo = memo || {}\n",
    "    if (memo[n]) {\n",
    "        return memo[n]\n",
    "    }\n",
    "    if (n <= 1) {\n",
    "        return 1\n",
    "    }\n",
    "    return memo[n] = fibonacci(n - 1, memo) + fibonacci(n - 2, memo)\n",
    "}\n",
    "```\n",
    "\n",
    "Python instead supports the [@cache](https://docs.python.org/3/library/functools.html#functools.cache) declaration.\n",
    "\n",
    "This automatically will remember the previous values provided:"
   ]
  },
  {
   "cell_type": "raw",
   "id": "75646349-5415-4b6f-bd96-7196b56dfa48",
   "metadata": {},
   "source": [
    "# available in Python 3.8+\n",
    "\n",
    "@cache\n",
    "def memoizeFactorial(n):\n",
    "    return n * memoizeFactorial(n-1) if n else 1"
   ]
  },
  {
   "cell_type": "raw",
   "id": "1a2e2ecd-20e5-47f6-91de-d3c7ff3f0553",
   "metadata": {},
   "source": [
    ">>> factorial(10)      # no previously cached result, makes 11 recursive calls\n",
    "3628800\n",
    ">>> factorial(5)       # just looks up cached value result\n",
    "120\n",
    ">>> factorial(12)      # makes two new recursive calls, the other 10 are cached\n",
    "479001600"
   ]
  },
  {
   "cell_type": "markdown",
   "id": "31e16182-bfbc-4cbf-b19c-8bd52802e95b",
   "metadata": {},
   "source": [
    "<br /><br /><br /><br /><br /><br /><br /><br /><br /><br /><br /><br /><br /><br /><br /><br /><br /><br /><br /><br /><br /><br /><br /><br /><hr />\n",
    "<div style='height:20px;width:100%;background-color:#d6eeff'>&nbsp;</div>"
   ]
  },
  {
   "cell_type": "markdown",
   "id": "0b25b092-b9cc-4226-a80c-699422fe1b70",
   "metadata": {},
   "source": [
    "# Loops"
   ]
  },
  {
   "cell_type": "markdown",
   "id": "f4fbf8ac-37cb-4e63-8c56-5467575e2ac7",
   "metadata": {},
   "source": [
    "## For In Loops\n",
    "\n",
    "**TLDR; python for in list works very similar to JavaScript, and typically works closely with the Python specific [Range](#Range)**"
   ]
  },
  {
   "cell_type": "code",
   "execution_count": 174,
   "id": "f3cdd8eb-081a-43db-b50c-71ef6988a9b1",
   "metadata": {
    "tags": []
   },
   "outputs": [
    {
     "data": {
      "text/plain": [
       "['apple', 'orange', 'pear', 'orange']"
      ]
     },
     "execution_count": 174,
     "metadata": {},
     "output_type": "execute_result"
    }
   ],
   "source": [
    "list1"
   ]
  },
  {
   "cell_type": "code",
   "execution_count": 175,
   "id": "de22f36f-fff9-4735-a085-abf45a6b814d",
   "metadata": {
    "tags": []
   },
   "outputs": [
    {
     "name": "stdout",
     "output_type": "stream",
     "text": [
      "apple\n",
      "orange\n",
      "pear\n",
      "orange\n"
     ]
    }
   ],
   "source": [
    "for fruit in list1:\n",
    "    print(fruit)"
   ]
  },
  {
   "cell_type": "markdown",
   "id": "3bc3e658-85a8-485a-b92f-75d090f2a893",
   "metadata": {},
   "source": [
    "### Range\n",
    "\n",
    "As mentioned, there is no equivalent of javascript's for i loops:\n",
    "\n",
    "```\n",
    "// javascript\n",
    "for (let i = 0; i < 10; i++) {\n",
    "    console.log(i);\n",
    "}\n",
    "```\n",
    "\n",
    "Instead, Python uses the [range](https://docs.python.org/3/tutorial/controlflow.html?highlight=range#the-range-function) function.\n",
    "\n",
    "**NOTE: this creates a long list IN MEMORY, unlike a [Generator](#Generator)**\n",
    "\n",
    "If you are simply going from 0 to a max number, the default `range(max)` will work"
   ]
  },
  {
   "cell_type": "code",
   "execution_count": 176,
   "id": "6d747a94-4bd9-42bd-8cbd-7d3b86d65055",
   "metadata": {
    "tags": []
   },
   "outputs": [
    {
     "name": "stdout",
     "output_type": "stream",
     "text": [
      "0\n",
      "1\n",
      "2\n",
      "3\n",
      "4\n"
     ]
    }
   ],
   "source": [
    "for exampleNumber in range(5):\n",
    "    print(exampleNumber)"
   ]
  },
  {
   "cell_type": "markdown",
   "id": "7eb3704b-0e4f-4d28-89b0-9046b606e710",
   "metadata": {
    "tags": []
   },
   "source": [
    "Otherwise, you can print with a starting number, ending number and increment\n",
    "\n",
    "ex: range(start, endExclusive, incrementation)"
   ]
  },
  {
   "cell_type": "code",
   "execution_count": 177,
   "id": "2c7d8d8a-d8a1-4653-82dd-03ab95742598",
   "metadata": {
    "tags": []
   },
   "outputs": [
    {
     "name": "stdout",
     "output_type": "stream",
     "text": [
      "10\n",
      "15\n",
      "20\n",
      "25\n",
      "30\n",
      "35\n"
     ]
    }
   ],
   "source": [
    "# print from 5 to just before 11, skipping by 5s\n",
    "for exampleNumber in range(10, 40, 5):\n",
    "    print(exampleNumber)"
   ]
  },
  {
   "cell_type": "markdown",
   "id": "bfc7375d-cce3-4b59-883d-b74d6694d6d4",
   "metadata": {
    "tags": []
   },
   "source": [
    "Note that only the first number is required"
   ]
  },
  {
   "cell_type": "markdown",
   "id": "22633a71-d96c-4899-baa5-7cc998fa9cbb",
   "metadata": {
    "tags": []
   },
   "source": [
    "## Break / Continue are the Same\n",
    "\n",
    "... But should you really be using it? Hrm?"
   ]
  },
  {
   "cell_type": "code",
   "execution_count": 178,
   "id": "bc9c96d1-b9bc-4ac3-834b-8c43c4828ca0",
   "metadata": {
    "tags": []
   },
   "outputs": [
    {
     "name": "stdout",
     "output_type": "stream",
     "text": [
      "2 is an even number\n",
      "3 is an odd number\n",
      "4 is an even number\n",
      "5 is an odd number\n",
      "6 is an even number\n",
      "7 is an odd number\n",
      "8 is an even number\n",
      "9 is an odd number\n"
     ]
    }
   ],
   "source": [
    "for num in range(2,10):\n",
    "    if num % 2 == 0:\n",
    "        print(f\"{num} is an even number\")\n",
    "        continue\n",
    "    print(f\"{num} is an odd number\")"
   ]
  },
  {
   "cell_type": "markdown",
   "id": "56ef662a-63d6-493c-8f70-224263841d4b",
   "metadata": {},
   "source": [
    "## Iterators\n",
    "\n",
    "**TLDR; Avoid temptation of using lists vs iterators, as it helps the application be more performant and use less memory**\n",
    "\n",
    "A BIG difference in Python 3.0 is how Iterators are handled, such as Ranges or Files.\n",
    "\n",
    "Previously generating a Range(1000) would create an in memory list of all 1000 values from 0-999, but that meant you could access an index - say myRange[23] to get the 23rd number.\n",
    "\n",
    "This can have big memory implications, especially for working with large sets of number or files.\n",
    "\n",
    "With Python 3.0+, now [Range](#Range), [File](#File), [Map](#Map) and others do not need to load everything into memory."
   ]
  },
  {
   "cell_type": "markdown",
   "id": "2c9be3e6-f84d-4a4c-877d-fd352d9524eb",
   "metadata": {},
   "source": [
    "## Generator\n",
    "\n",
    "Generators are very similar to JavaScript.\n",
    "\n",
    "They are a function that when called returns an iterator.\n",
    "\n",
    "**NOTE: Where Possible this can be a massive savings in memory, as it does not store all possible values in memory.**\n",
    "\n",
    "(See [Functions](#Functions) section for more)"
   ]
  },
  {
   "cell_type": "code",
   "execution_count": 179,
   "id": "e62498e0-8484-4a55-87ba-85570a96685c",
   "metadata": {},
   "outputs": [],
   "source": [
    "# Generator that returns every even number in a range\n",
    "def evenRange(start, end):\n",
    "    num = start\n",
    "    while num < end:\n",
    "        if num % 2 == 0:\n",
    "            yield num\n",
    "        num += 1\n",
    "    return end\n",
    "\n",
    "evenIterator = evenRange(0, 10)"
   ]
  },
  {
   "cell_type": "markdown",
   "id": "57a9fe8f-fd6c-47a0-9b02-61620a106411",
   "metadata": {},
   "source": [
    "Likely accessible through a `for in`:"
   ]
  },
  {
   "cell_type": "code",
   "execution_count": 180,
   "id": "ce88995f-8f77-487c-851f-4e4b9dacf0f4",
   "metadata": {},
   "outputs": [
    {
     "name": "stdout",
     "output_type": "stream",
     "text": [
      "0\n",
      "2\n",
      "4\n",
      "6\n",
      "8\n"
     ]
    }
   ],
   "source": [
    "for evenNumber in evenRange(0,10):\n",
    "    print(evenNumber)"
   ]
  },
  {
   "cell_type": "markdown",
   "id": "f57177b3-918b-472c-a588-5591d4ac2afa",
   "metadata": {},
   "source": [
    "## No hasNext in Python\n",
    "\n",
    "Unfortunately, [there is no `hasNext()` function in Python](https://stackoverflow.com/questions/1966591/hasnext-in-python-iterators).\n",
    "\n",
    "There are two options:\n",
    "\n",
    "The standard way to tell a loop is done is by catching the [StopIteration Exception](https://docs.python.org/3/library/exceptions.html#StopIteration)"
   ]
  },
  {
   "cell_type": "code",
   "execution_count": 181,
   "id": "a7b9a924-2abf-47d7-8764-3389f8f7b7b0",
   "metadata": {},
   "outputs": [
    {
     "name": "stdout",
     "output_type": "stream",
     "text": [
      "0\n",
      "2\n",
      "4\n",
      "6\n",
      "8\n"
     ]
    }
   ],
   "source": [
    "evenIterator = evenRange(0,10)\n",
    "\n",
    "try:\n",
    "    while True:\n",
    "        print(next(evenIterator))\n",
    "except StopIteration:\n",
    "    pass"
   ]
  },
  {
   "cell_type": "markdown",
   "id": "7fb3037f-1cc6-483b-91cc-fcc1bfd5aeed",
   "metadata": {},
   "source": [
    "Or conversely, calling [next()](https://docs.python.org/3/library/functions.html#next) and checking for a default value - passed as the second argument.\n",
    "\n",
    "```\n",
    "next(iterator, defaultValue)\n",
    "```"
   ]
  },
  {
   "cell_type": "code",
   "execution_count": 182,
   "id": "ba1b27d1-cbeb-457a-b36f-495b3aa758e4",
   "metadata": {},
   "outputs": [
    {
     "name": "stdout",
     "output_type": "stream",
     "text": [
      "0\n",
      "2\n",
      "4\n",
      "6\n",
      "8\n"
     ]
    }
   ],
   "source": [
    "evenIterator = evenRange(0,10)\n",
    "\n",
    "while ((evenIteratorVal := next(evenIterator, None)) is not None):\n",
    "    print(evenIteratorVal)\n",
    "\n",
    "# print(next(evenIterator, None)) # 0\n",
    "# print(next(evenIterator, None)) # 2\n",
    "# print(next(evenIterator, None)) # 4\n",
    "# print(next(evenIterator, None)) # 6\n",
    "# print(next(evenIterator, None)) # 8\n",
    "# print(next(evenIterator, None)) # None"
   ]
  },
  {
   "cell_type": "markdown",
   "id": "79d2825d-afeb-421a-9014-12944e88d378",
   "metadata": {},
   "source": [
    "## Python Comprehensions\n",
    "\n",
    "**TLDR; Complications are something specific to Python to allow a single line for loop with conditionals**\n",
    "\n",
    "[Python Complications](https://docs.python.org/3/tutorial/datastructures.html#list-comprehensions) can be thought of one way to provide [JavaScript Map type functionality](https://developer.mozilla.org/en-US/docs/Web/JavaScript/Reference/Global_Objects/Map)\n",
    "   \n",
    "It iterates over values in an array and returns a new array with updated values."
   ]
  },
  {
   "cell_type": "code",
   "execution_count": 183,
   "id": "7e1c8b1d-4fb9-4034-bd8b-02c2c8276b3a",
   "metadata": {},
   "outputs": [],
   "source": [
    "valuesToMap = [1,2,3,4]"
   ]
  },
  {
   "cell_type": "code",
   "execution_count": 184,
   "id": "94d1f0ae-2c71-4508-9240-34a8438769ba",
   "metadata": {},
   "outputs": [
    {
     "data": {
      "text/plain": [
       "[2, 4, 6, 8]"
      ]
     },
     "execution_count": 184,
     "metadata": {},
     "output_type": "execute_result"
    }
   ],
   "source": [
    "# for loop version of map\n",
    "mapForResults = []\n",
    "for x in valuesToMap:\n",
    "    mapForResults.append(x * 2)\n",
    "mapForResults"
   ]
  },
  {
   "cell_type": "code",
   "execution_count": 185,
   "id": "8323909f-b4c7-43f2-98cb-daf378351034",
   "metadata": {},
   "outputs": [
    {
     "data": {
      "text/plain": [
       "[2, 4, 6, 8]"
      ]
     },
     "execution_count": 185,
     "metadata": {},
     "output_type": "execute_result"
    }
   ],
   "source": [
    "# comprehension version\n",
    "[x*2 for x in valuesToMap]"
   ]
  },
  {
   "cell_type": "markdown",
   "id": "0d27beba-3644-4289-90a2-1aee69482ee2",
   "metadata": {},
   "source": [
    "Comprehensions can also take multiple lists at the same time"
   ]
  },
  {
   "cell_type": "code",
   "execution_count": 186,
   "id": "e51d110c-a490-4fbf-afed-5106e2d661f2",
   "metadata": {},
   "outputs": [
    {
     "data": {
      "text/plain": [
       "[(1, 11),\n",
       " (1, 12),\n",
       " (1, 13),\n",
       " (1, 14),\n",
       " (2, 11),\n",
       " (2, 12),\n",
       " (2, 13),\n",
       " (2, 14),\n",
       " (3, 11),\n",
       " (3, 12),\n",
       " (3, 13),\n",
       " (3, 14),\n",
       " (4, 11),\n",
       " (4, 12),\n",
       " (4, 13),\n",
       " (4, 14)]"
      ]
     },
     "execution_count": 186,
     "metadata": {},
     "output_type": "execute_result"
    }
   ],
   "source": [
    "[(x,y) for x in [1,2,3,4] for y in [11,12,13,14]]"
   ]
  },
  {
   "cell_type": "markdown",
   "id": "0deabf33-00c9-4958-92d3-edb3fec1d8b0",
   "metadata": {},
   "source": [
    "## Map\n",
    "\n",
    "**Python does support Map functions similar to JavaScript, and other options with Numpy**\n",
    "\n",
    "This uses [the built-in Map function](https://docs.python.org/3/library/functions.html#map)\n",
    "\n",
    "**One Big Change though - is that Map returns an Iterator - not a list - as of Python 3**"
   ]
  },
  {
   "cell_type": "code",
   "execution_count": 187,
   "id": "e31d05be-deca-4e87-978b-d9d4175b6abd",
   "metadata": {},
   "outputs": [
    {
     "name": "stdout",
     "output_type": "stream",
     "text": [
      "2\n",
      "4\n",
      "6\n",
      "8\n"
     ]
    }
   ],
   "source": [
    "mapTarget = [1,2,3,4]\n",
    "mapFn = lambda val: val * 2\n",
    "\n",
    "for someValue in map(mapFn, mapTarget):\n",
    "    print(someValue)"
   ]
  },
  {
   "cell_type": "markdown",
   "id": "41711ebc-3ff7-4b2e-8a21-1a865b78d306",
   "metadata": {},
   "source": [
    "To get a list, simply wrap the result in the `list()` constructor.\n",
    "\n",
    "However, note that this may not be as efficient since it must put all values into memory at once.\n",
    "\n",
    "[Consider using the Iterator instead](#Iterator)"
   ]
  },
  {
   "cell_type": "code",
   "execution_count": 188,
   "id": "7ec9ad04-9409-4482-8392-39537348b344",
   "metadata": {},
   "outputs": [
    {
     "data": {
      "text/plain": [
       "[2, 4, 6, 8]"
      ]
     },
     "execution_count": 188,
     "metadata": {},
     "output_type": "execute_result"
    }
   ],
   "source": [
    "list(map(mapFn, mapTarget))"
   ]
  },
  {
   "cell_type": "markdown",
   "id": "6cdc643f-2ec9-483e-9860-a55f97853e1f",
   "metadata": {},
   "source": [
    "### Mapping multiple lists at once\n",
    "\n",
    "You can also zip multiple lists of the same size through map"
   ]
  },
  {
   "cell_type": "code",
   "execution_count": 189,
   "id": "5a82fd7a-058e-454f-8705-cb1f8693a6ef",
   "metadata": {},
   "outputs": [
    {
     "name": "stdout",
     "output_type": "stream",
     "text": [
      "[6, 8, 10, 12]\n"
     ]
    }
   ],
   "source": [
    "print(list(map(\n",
    "    lambda x, y: x + y,\n",
    "    [1,2,3,4],\n",
    "    [5,6,7,8]\n",
    ")))"
   ]
  },
  {
   "cell_type": "markdown",
   "id": "35f73604-0e1f-4c04-84c1-a63f4f2e369b",
   "metadata": {},
   "source": [
    "This is very similar to the [Python Comprehensions](#Python-Comprehensions) example above.\n",
    "\n",
    "However, map computes against each pair.\n",
    "\n",
    "Comprehensions return across each possible combination."
   ]
  },
  {
   "cell_type": "code",
   "execution_count": 190,
   "id": "b8f87be6-26a2-4abe-a0a8-123a28e4067b",
   "metadata": {},
   "outputs": [
    {
     "data": {
      "text/plain": [
       "[6, 7, 8, 9, 7, 8, 9, 10, 8, 9, 10, 11, 9, 10, 11, 12]"
      ]
     },
     "execution_count": 190,
     "metadata": {},
     "output_type": "execute_result"
    }
   ],
   "source": [
    "[(x + y) for x in [1,2,3,4] for y in [5,6,7,8]]"
   ]
  },
  {
   "cell_type": "markdown",
   "id": "c484c39d-0469-4647-a23c-aefb5e906b05",
   "metadata": {},
   "source": [
    "## Filter\n",
    "\n",
    "Python supports the [filter function](https://docs.python.org/3/library/functions.html#filter), but as a global method - like Map:\n",
    "\n",
    "```\n",
    "filter( function, iteratable )\n",
    "```"
   ]
  },
  {
   "cell_type": "code",
   "execution_count": 191,
   "id": "f54ba8cf-9477-4f2a-ae2b-86c8dcba9675",
   "metadata": {},
   "outputs": [
    {
     "data": {
      "text/plain": [
       "[11, 12, 13, 14, 15, 16, 17, 18, 19]"
      ]
     },
     "execution_count": 191,
     "metadata": {},
     "output_type": "execute_result"
    }
   ],
   "source": [
    "list( \\\n",
    "    filter(lambda val: val > 10, range(20)) \\\n",
    ")"
   ]
  },
  {
   "cell_type": "markdown",
   "id": "f7758733-bb30-4dd3-9b68-4715060adf9c",
   "metadata": {},
   "source": [
    "## Reduce\n",
    "\n",
    "[JavaScript Reduce](https://developer.mozilla.org/en-US/docs/Web/JavaScript/Reference/Global_Objects/Array/Reduce) allows you to iterate through each item in a collection while passing a value along each time.\n",
    "\n",
    "This is great to be able to boil down a collection into a single value, such as a String representation, or a sum of values, etc.\n",
    "\n",
    "```\n",
    "//JavaScript\n",
    "const myCollection = [1,2,3,4];\n",
    "const reducer = (previousValue, currentValue) = previousValue + currentValue;\n",
    "const sum = myCollection.reduce(reducer);\n",
    "console.log(`the sum of ${myCollection} is: ${sum}`); // the sum of [1,2,3,4] is 10\n",
    "```\n",
    "\n",
    "Python has [functools.reduce](https://docs.python.org/3/library/functools.html#functools.reduce) that behaves very similarly.\n",
    "\n",
    "**Note: Python requires the [functools](https://docs.python.org/3/library/functools.html) library**\n",
    "\n",
    "```\n",
    "import functools\n",
    "```\n",
    "\n",
    "To use, specify a function or lambda function, the list to iterate within and an optional initial value.\n",
    "\n",
    "`functools.reduce(reductionFunction, listToReduce, initialValue)`"
   ]
  },
  {
   "cell_type": "code",
   "execution_count": 192,
   "id": "60f70d6b-43a2-4ded-a2be-36a337dfdacf",
   "metadata": {},
   "outputs": [
    {
     "data": {
      "text/plain": [
       "10"
      ]
     },
     "execution_count": 192,
     "metadata": {},
     "output_type": "execute_result"
    }
   ],
   "source": [
    "listToReduce = [1,2,3,4]\n",
    "reducer = lambda previousValue, currentValue: previousValue + currentValue\n",
    "functools.reduce(reducer, listToReduce, 0)"
   ]
  },
  {
   "cell_type": "raw",
   "id": "ff3f499e-6b64-4dde-86ed-02363dc7199e",
   "metadata": {},
   "source": [
    "----\n",
    "\n",
    "# Math\n",
    "\n",
    "Python has a Math Library - but you need to import it\n",
    "\n",
    "`import math`\n",
    "\n",
    "[See all Math methods](https://www.w3schools.com/python/module_math.asp)"
   ]
  },
  {
   "cell_type": "markdown",
   "id": "8b8ca492-b351-4f38-8b9a-1e8a9f29dbe3",
   "metadata": {},
   "source": [
    "## Chaining Map / Filter / Reduce\n",
    "\n",
    "In JavaScript, it is very frequent that we chain `map`, `filter`, etc statements.\n",
    "\n",
    "If you can use a foreign library, consider [github.com/EntilZha/PyFunctional](https://github.com/EntilZha/PyFunctional)\n",
    "or [https://github.com/serkanyersen/underscore.py](https://github.com/serkanyersen/underscore.py)\n",
    "\n",
    "Alternatively, you can make your own custom library extending the `list` class:"
   ]
  },
  {
   "cell_type": "code",
   "execution_count": 193,
   "id": "3c0c0558-59f5-4ae7-9894-8940ac995ec6",
   "metadata": {},
   "outputs": [],
   "source": [
    "class CustomList(list):\n",
    "    \"Custom List implementation allowing for chainable map, filter and reduce methods\"\n",
    "    \n",
    "    def __init__(self, l):\n",
    "        list.__init__(self,l)\n",
    "    \n",
    "    def map(self, f):\n",
    "        return CustomList(map(f, self[:]))\n",
    "    \n",
    "    def filter(self, f):\n",
    "        return CustomList(filter(f, self[:]))"
   ]
  },
  {
   "cell_type": "code",
   "execution_count": 194,
   "id": "c0c2c562-91a2-49bf-b36a-264666bbaf26",
   "metadata": {},
   "outputs": [
    {
     "data": {
      "text/plain": [
       "[3, 5, 7, 9]"
      ]
     },
     "execution_count": 194,
     "metadata": {},
     "output_type": "execute_result"
    }
   ],
   "source": [
    "CustomList([1,2,3,4]) \\\n",
    "    .map(lambda val: val * 2) \\\n",
    "    .map(lambda val: val + 1)"
   ]
  },
  {
   "cell_type": "markdown",
   "id": "2d3db09c-a39c-4e00-a6cd-cdb8f7dfcade",
   "metadata": {},
   "source": [
    "<br /><br /><br /><br /><br /><br /><br /><br /><br /><br /><br /><br /><br /><br /><br /><br /><br /><br /><br /><br /><br /><br /><br /><br /><hr />\n",
    "<div style='height:20px;width:100%;background-color:#d6eeff'>&nbsp;</div>"
   ]
  },
  {
   "cell_type": "markdown",
   "id": "34e0c193-7282-484e-a423-677958feb3b5",
   "metadata": {},
   "source": [
    "# Object Oriented Programming\n",
    "\n",
    "[Python Class Definition documentation](https://docs.python.org/3/tutorial/classes.html)\n",
    "\n",
    "There are quite a few aspects to Python Classes, with nuances that deserve their own discussion.\n",
    "\n",
    "Python Classes:\n",
    "\n",
    "* Support [Direct Multiple Inheritance](https://docs.python.org/3/tutorial/classes.html#inheritance) instead of [JavaScript Prototype Chains](https://developer.mozilla.org/en-US/docs/Web/JavaScript/Inheritance_and_the_prototype_chain)\n",
    "* Pass the reference to `self` or `this` to each function invocation\n",
    "* Have a constructor method `__init__`"
   ]
  },
  {
   "cell_type": "code",
   "execution_count": 195,
   "id": "a4eb9853-0c70-477b-8493-220d88fa37bd",
   "metadata": {},
   "outputs": [],
   "source": [
    "# class ClassName(parentClass, parentClass, etc.)\n",
    "class Thing(object):\n",
    "    # DocType describing the class, accessible through help(Thing)\n",
    "    \"\"\"\n",
    "    A Noun or something that exists\n",
    "    \"\"\"\n",
    "    \n",
    "    # Constructor\n",
    "    def __init__(self, name, sound):\n",
    "        self.name = name\n",
    "        self.__sound = sound\n",
    "        self.__privateStr = f\"{name}-{sound}\"\n",
    "    \n",
    "    def makeSound(self):\n",
    "        print(f\"{self.name}:{self.__sound}\")\n",
    "\n",
    "    # getter - but onl because of `property` call\n",
    "    def get_sound(self):\n",
    "        return(self.__sound)\n",
    "    \n",
    "    # setter - but only because of `property` call\n",
    "    def set_sound(self, sound):\n",
    "        self.__sound = sound\n",
    "    \n",
    "    # actually makes the getter/setter\n",
    "    # comment out and setters will not work\n",
    "    sound = property(get_sound, set_sound)\n",
    "    \n",
    "bailey = Thing('dog', 'woof!')\n",
    "lucy = Thing('cat', 'merau!')"
   ]
  },
  {
   "cell_type": "code",
   "execution_count": 196,
   "id": "49b4d249-95b8-4aec-97f0-40f964afcd8a",
   "metadata": {},
   "outputs": [
    {
     "name": "stdout",
     "output_type": "stream",
     "text": [
      "dog:woof!\n"
     ]
    }
   ],
   "source": [
    "bailey.makeSound()"
   ]
  },
  {
   "cell_type": "code",
   "execution_count": 197,
   "id": "d28d50ac-a5ef-43f6-9a23-8ec29800fbcc",
   "metadata": {},
   "outputs": [
    {
     "name": "stdout",
     "output_type": "stream",
     "text": [
      "cat:merau!\n"
     ]
    }
   ],
   "source": [
    "lucy.makeSound()"
   ]
  },
  {
   "cell_type": "code",
   "execution_count": 198,
   "id": "1767e035-aa0b-4a6d-a583-47398a9a1bea",
   "metadata": {},
   "outputs": [
    {
     "name": "stdout",
     "output_type": "stream",
     "text": [
      "woof!\n"
     ]
    }
   ],
   "source": [
    "# found because it is a getter / setter\n",
    "try:\n",
    "    print(bailey.sound)\n",
    "except BaseException:\n",
    "    printError()"
   ]
  },
  {
   "cell_type": "code",
   "execution_count": 199,
   "id": "d42d1125-a431-4e72-a82a-0e96b9bf6f64",
   "metadata": {},
   "outputs": [
    {
     "name": "stdout",
     "output_type": "stream",
     "text": [
      "dog\n"
     ]
    }
   ],
   "source": [
    "# found because it is a public (no `__` prefix) attribute\n",
    "try:\n",
    "    print(bailey.name)\n",
    "except BaseException:\n",
    "    printError()"
   ]
  },
  {
   "cell_type": "code",
   "execution_count": 200,
   "id": "017aa76a-cf56-4695-a590-880192948a7f",
   "metadata": {},
   "outputs": [
    {
     "data": {
      "text/html": [
       "\n",
       "<div><pre style='background-color:rgb(255,221,221);'>\n",
       "---------------------------------------------------------------------------\n",
       "<span style='color:rgb(231,92,88);'>ErrorType: AttributeError</span>\n",
       "Message: 'Thing' object has no attribute '__privateStr'\n",
       "Stack trace:\n",
       "['File: <ipython-input-200-a1a046bdec44>, Line: 3, Func: <module>, Message: print(bailey.__privateStr)']\n",
       "---------------------------------------------------------------------------\n",
       "</pre></div>\n"
      ],
      "text/plain": [
       "<IPython.core.display.HTML object>"
      ]
     },
     "metadata": {},
     "output_type": "display_data"
    }
   ],
   "source": [
    "# not found because marked private - `__` and no getter setter defined\n",
    "try:\n",
    "    print(bailey.__privateStr)\n",
    "except BaseException:\n",
    "    printError()"
   ]
  },
  {
   "cell_type": "code",
   "execution_count": 201,
   "id": "f4ed1c54-8746-46de-9897-c7e711aff51c",
   "metadata": {},
   "outputs": [
    {
     "data": {
      "text/plain": [
       "True"
      ]
     },
     "execution_count": 201,
     "metadata": {},
     "output_type": "execute_result"
    }
   ],
   "source": [
    "isinstance(bailey, Thing)"
   ]
  },
  {
   "cell_type": "markdown",
   "id": "756af2fd-c552-4611-ab2e-2b7395e58ea4",
   "metadata": {},
   "source": [
    "## Inheritance\n",
    "\n",
    "Accomplished by sending the parent class in the definition."
   ]
  },
  {
   "cell_type": "code",
   "execution_count": 202,
   "id": "e6dbf361-b727-48ee-a497-30fc333726c9",
   "metadata": {},
   "outputs": [],
   "source": [
    "class Dog(Thing):\n",
    "    def __init__(self, sound):\n",
    "        # available with Python 3\n",
    "        super().__init__('Dog', sound)\n",
    "        # alternatively:\n",
    "        # Thing.__init__(self, 'Dog', sound)\n",
    "\n",
    "sebastien = Dog('Aroo!')"
   ]
  },
  {
   "cell_type": "code",
   "execution_count": 203,
   "id": "40ceab3a-2275-4e1f-9c55-8a34638a0d73",
   "metadata": {},
   "outputs": [
    {
     "name": "stdout",
     "output_type": "stream",
     "text": [
      "Dog:Aroo!\n"
     ]
    }
   ],
   "source": [
    "sebastien.makeSound()"
   ]
  },
  {
   "cell_type": "code",
   "execution_count": 204,
   "id": "86b1e3de-0854-47d4-b37a-9647fb396548",
   "metadata": {},
   "outputs": [
    {
     "data": {
      "text/plain": [
       "True"
      ]
     },
     "execution_count": 204,
     "metadata": {},
     "output_type": "execute_result"
    }
   ],
   "source": [
    "isinstance(sebastien, Thing)"
   ]
  },
  {
   "cell_type": "code",
   "execution_count": 205,
   "id": "093a21b4-5b1a-4c42-b4c1-53f4f5758caa",
   "metadata": {},
   "outputs": [
    {
     "data": {
      "text/plain": [
       "True"
      ]
     },
     "execution_count": 205,
     "metadata": {},
     "output_type": "execute_result"
    }
   ],
   "source": [
    "isinstance(sebastien, Dog)"
   ]
  },
  {
   "cell_type": "code",
   "execution_count": 206,
   "id": "3c440403-6646-4453-b3c0-6183e697d2cc",
   "metadata": {},
   "outputs": [
    {
     "data": {
      "text/plain": [
       "False"
      ]
     },
     "execution_count": 206,
     "metadata": {},
     "output_type": "execute_result"
    }
   ],
   "source": [
    "isinstance(bailey, Dog)"
   ]
  },
  {
   "cell_type": "markdown",
   "id": "9ec69f8a-65ea-49c8-a6c8-bd41acf6d092",
   "metadata": {},
   "source": [
    "## Multiple Inheritance\n",
    "\n",
    "Multiple Inheritance is available - pass multiple parent classes in the class definition."
   ]
  },
  {
   "cell_type": "code",
   "execution_count": 207,
   "id": "10a3dad9-6b8e-4cd0-829d-3143bb8ea57b",
   "metadata": {},
   "outputs": [
    {
     "name": "stdout",
     "output_type": "stream",
     "text": [
      "Initialize:A\n",
      "Initialize:B\n",
      "Do the a Dance!\n",
      "Singing like b!\n"
     ]
    }
   ],
   "source": [
    "class A(object):\n",
    "    def __init__(self):\n",
    "        print('Initialize:A')\n",
    "        self.__aVal = 'a';\n",
    "    \n",
    "    def doA(self):\n",
    "        print(f'Do the {self.__aVal} Dance!')\n",
    "\n",
    "class B(object):\n",
    "    def __init__(self):\n",
    "        print('Initialize:B')\n",
    "        self.__bVal = 'b'\n",
    "        \n",
    "    def doB(self):\n",
    "        print(f'Singing like {self.__bVal}!')\n",
    "\n",
    "class AB(A,B):\n",
    "    def __init__(self):\n",
    "        # @TODO - cannot get this to call both A and B\n",
    "        # super().__init__()\n",
    "        A.__init__(self)\n",
    "        B.__init__(self)\n",
    "\n",
    "abInst = AB()\n",
    "\n",
    "abInst.doA()\n",
    "abInst.doB()"
   ]
  },
  {
   "cell_type": "markdown",
   "id": "183f9aa2-158c-44df-9341-54ffc1281057",
   "metadata": {},
   "source": [
    "## Python Namespaces\n",
    "\n",
    "NameSpaces are collections of modules and functions, and are typically defined as dictionaries - but transparently to the end user.\n",
    "\n",
    "Namespaces are created on module definition and are never deleted / they last until the last interpreter quits.\n",
    "\n",
    "For now, they are simply used to access a module through an `import`.\n",
    "\n",
    "[For more, please see Python Scopes and Namespaces](https://docs.python.org/3/tutorial/classes.html#python-scopes-and-namespaces)"
   ]
  },
  {
   "cell_type": "markdown",
   "id": "c643a6b2-31f5-4a0f-9167-043bfc659c88",
   "metadata": {},
   "source": [
    "## Importing Modules\n",
    "\n",
    "You do not have to define classes to separate logic.\n",
    "\n",
    "Defining functions in another file can then be `import`ed within another page, just as this library has.\n",
    "\n",
    "Note - the path to access that file may depend on the operating system and relative path.\n",
    "\n",
    "It is recommended you follow a process similar to the following:"
   ]
  },
  {
   "cell_type": "raw",
   "id": "8a340b5c-1fc1-4dcc-ad51-f087b052988d",
   "metadata": {},
   "source": [
    "# lets us load local files\n",
    "## gives information about the current operating system\n",
    "import os\n",
    "## System Utilities\n",
    "import sys\n",
    "\n",
    "# specify the path of the FOLDER to add to the path\n",
    "module_path = os.path.abspath(os.path.join('./path/to/FOLDER'))\n",
    "if module_path not in sys.path:\n",
    "    sys.path.append(module_path)\n",
    "\n",
    "# import FILE_NAME\n",
    "import util"
   ]
  },
  {
   "cell_type": "markdown",
   "id": "ca7ae9cb-2327-45cc-b2d9-bca4337783bf",
   "metadata": {},
   "source": [
    "For example, see the [Libraries Imported section](#Libraries-Imported) at the top of this notebook."
   ]
  },
  {
   "cell_type": "markdown",
   "id": "859f0343-bd3e-47bb-b822-0f5b0ad84516",
   "metadata": {},
   "source": [
    "## JavaDoc / Help"
   ]
  },
  {
   "cell_type": "markdown",
   "id": "47fbffb3-38e5-4a3c-83b9-733c46fefb83",
   "metadata": {},
   "source": [
    "TLDR; - Look at [reST or ReStructuredText](https://docutils.sourceforge.io/rst.html)\n",
    "as this is closest to JavaDoc / JavaScriptDoc formats, but are used by the [Sphynx - python documentation generator](https://www.sphinx-doc.org/en/master/)"
   ]
  },
  {
   "cell_type": "markdown",
   "id": "f6db0e4a-1476-4111-a2ec-3bbe1eeb6b7c",
   "metadata": {},
   "source": [
    "Note that you can asking for help on any function through the `help()` function.`"
   ]
  },
  {
   "cell_type": "code",
   "execution_count": 208,
   "id": "37796ab2-31b1-4532-9398-c6c0d205b057",
   "metadata": {
    "scrolled": true,
    "tags": []
   },
   "outputs": [
    {
     "name": "stdout",
     "output_type": "stream",
     "text": [
      "Help on built-in function len in module builtins:\n",
      "\n",
      "len(obj, /)\n",
      "    Return the number of items in a container.\n",
      "\n"
     ]
    }
   ],
   "source": [
    "help(len)"
   ]
  },
  {
   "cell_type": "markdown",
   "id": "e7c60442-e303-4bfb-8723-d2a59f39dc01",
   "metadata": {},
   "source": [
    "To allow for support for your custom functions and methods, the first string you put within a function is used."
   ]
  },
  {
   "cell_type": "code",
   "execution_count": 209,
   "id": "c8ebab15-6ad8-4e1b-adf6-9716c8b89f3c",
   "metadata": {},
   "outputs": [],
   "source": [
    "def someCustomFunction():\n",
    "    \"\"\"Replaces template placeholder with values.\n",
    "    \n",
    "    :param timestamp: formatted date to display\n",
    "    :param priority: priority number\n",
    "    :param priority_name: priority name\n",
    "    :param message: message to display\n",
    "    :returns: formatted string\n",
    "    \"\"\"\n",
    "    return 'Some value to be provided'"
   ]
  },
  {
   "cell_type": "code",
   "execution_count": 210,
   "id": "b9503f6a-8f5e-4508-816e-1b1ef2da22cc",
   "metadata": {},
   "outputs": [
    {
     "name": "stdout",
     "output_type": "stream",
     "text": [
      "Help on function someCustomFunction in module __main__:\n",
      "\n",
      "someCustomFunction()\n",
      "    Replaces template placeholder with values.\n",
      "    \n",
      "    :param timestamp: formatted date to display\n",
      "    :param priority: priority number\n",
      "    :param priority_name: priority name\n",
      "    :param message: message to display\n",
      "    :returns: formatted string\n",
      "\n"
     ]
    }
   ],
   "source": [
    "help(someCustomFunction)"
   ]
  },
  {
   "cell_type": "code",
   "execution_count": 211,
   "id": "fd2c2172-6fa8-461c-8b08-1819b36a2c15",
   "metadata": {},
   "outputs": [
    {
     "data": {
      "text/plain": [
       "'Some value to be provided'"
      ]
     },
     "execution_count": 211,
     "metadata": {},
     "output_type": "execute_result"
    }
   ],
   "source": [
    "someCustomFunction()"
   ]
  },
  {
   "cell_type": "markdown",
   "id": "fd977d7d-426a-4800-8d4c-3643bf486104",
   "metadata": {},
   "source": [
    "**Note: Python will always be dynamically typed, but with Pep484, parameter type hints are now supported**"
   ]
  },
  {
   "cell_type": "code",
   "execution_count": 212,
   "id": "d7a390d2-269c-4ff8-b3af-d9b4e7ab4f8e",
   "metadata": {},
   "outputs": [
    {
     "data": {
      "text/plain": [
       "'Echo! Echo! Echo! Echo! '"
      ]
     },
     "execution_count": 212,
     "metadata": {},
     "output_type": "execute_result"
    }
   ],
   "source": [
    "# parameter: type, ...\n",
    "def string_repeater(string: str, count:int = 4 ):\n",
    "    return string * count\n",
    "\n",
    "string_repeater('Echo! ', 4)"
   ]
  },
  {
   "cell_type": "markdown",
   "id": "ca1def48-0835-409f-a866-0c4a7f58a0a2",
   "metadata": {},
   "source": [
    "See the [Dynamically Typed](#Dynamically-Typed) section for more"
   ]
  },
  {
   "cell_type": "markdown",
   "id": "743c92d5-8a2b-4f85-a707-0248b717996d",
   "metadata": {},
   "source": [
    "## Special Method Names\n",
    "\n",
    "### constructors\n",
    "\n",
    "Python looks for a specific method called [__init__(...)](https://docs.python.org/3/reference/datamodel.html#object.__init__) when creating a new instance of a class.\n",
    "\n",
    "### Inherited Constructor\n",
    "\n",
    "Python has a special method that it looks for on the parent class called [__new__()](https://docs.python.org/3/reference/datamodel.html#object.__new__)\n",
    "\n",
    "### Getters / Setters\n",
    "\n",
    "Python requires a special function to provide getter / setter functionality: [property()](https://docs.python.org/3/library/functions.html#property)"
   ]
  },
  {
   "cell_type": "code",
   "execution_count": 213,
   "id": "62fc75d8-0607-4e83-8800-1e3f05e23e91",
   "metadata": {},
   "outputs": [
    {
     "name": "stdout",
     "output_type": "stream",
     "text": [
      "setter method called\n",
      "getter method called\n",
      "10\n"
     ]
    }
   ],
   "source": [
    "class GetterSetterObj:\n",
    "     def __init__(self):\n",
    "          self._age = 0\n",
    "       \n",
    "     # function to get value of _age\n",
    "     def get_age(self):\n",
    "         print(\"getter method called\")\n",
    "         return self._age\n",
    "       \n",
    "     # function to set value of _age\n",
    "     def set_age(self, a):\n",
    "         print(\"setter method called\")\n",
    "         self._age = a\n",
    "  \n",
    "     # function to delete _age attribute\n",
    "     def del_age(self):\n",
    "         del self._age\n",
    "     \n",
    "     # Then say that those methods are properties and use the naming convention\n",
    "     age = property(get_age, set_age, del_age) \n",
    "  \n",
    "mark = GetterSetterObj()\n",
    "  \n",
    "mark.age = 10\n",
    "  \n",
    "print(mark.age)"
   ]
  },
  {
   "cell_type": "markdown",
   "id": "e7335f4a-6b38-457e-ae3b-a217e109c7a0",
   "metadata": {},
   "source": [
    "### Destructors\n",
    "\n",
    "[\\_\\_del\\_\\_(self)](https://docs.python.org/3/reference/datamodel.html#object.__del__)\n",
    "\n",
    "### String Represtation\n",
    "\n",
    "[\\_\\_repr\\_\\_(self)](https://docs.python.org/3/reference/datamodel.html#object.__repr__)\n",
    "is the 'official' string representation of the object\n",
    "\n",
    "[\\_\\_str\\_\\_(self)](https://docs.python.org/3/reference/datamodel.html#object.__str__)\n",
    "is the 'informal' string representation used in format and print\n",
    "\n",
    "### Generator / Iterator support\n",
    "\n",
    "[Full list here](https://docs.python.org/3/reference/expressions.html#generator-iterator-methods)\n",
    "\n",
    "[\\_\\_next\\_\\_()]() - method called by the global `next()` function to get the next value. [StopIteration Exception Thrown](https://docs.python.org/3/library/exceptions.html#StopIteration) if none left.\n",
    "\n",
    "### Byte string representation (serialize)\n",
    "\n",
    "[\\_\\_bytes\\_\\_(self)](https://docs.python.org/3/reference/datamodel.html#object.__bytes__)\n",
    "Called by bytes to compute a byte-string representation of an object. This should return a bytes object.\\\n",
    "\n",
    "### Formatted String Literal\n",
    "\n",
    "[\\_\\_format\\_\\_(self)](https://docs.python.org/3/reference/datamodel.html#object.__format__)\n",
    "\n",
    "### Hash to support Sets\n",
    "\n",
    "[\\_\\_set\\_\\_(self)](https://docs.python.org/3/reference/datamodel.html#object.__hash__)\n",
    "Called by built-in function hash() and for operations on members of hashed collections including set, frozenset, and dict.\n",
    "\n",
    "It should return an integer.\n",
    "\n",
    "### Boolean or Truthy Support\n",
    "\n",
    "[\\_\\_bool\\_\\_(self)](https://docs.python.org/3/reference/datamodel.html#object.__bool__)\n",
    "Allows for truthy statements, like `if (instance): ...`\n",
    "\n",
    "### Collection Operator Support\n",
    "\n",
    "[\\_\\_contains\\_\\_(self)](https://docs.python.org/3/reference/expressions.html#membership-test-operations) - allows for `in` support, like `'apple' in myCollectionInstance`\n",
    "\n",
    "[\\_\\_getitem\\_\\_(self)](https://docs.python.org/3/reference/expressions.html#subscriptions) - allows for bracket `[]` support, like: `myCollectionInstance['apple']`\n",
    "\n",
    "## Custom Operator Support\n",
    "\n",
    "Python supports overloading operators to work with Objects, so for example we can support the addition operator `+` on custom object instances:\n",
    "\n",
    "```\n",
    "balance = customDebitInstance + customCreditInstance\n",
    "print(balance) # 22.23\n",
    "```\n",
    "\n",
    "| Operator | Implementation Method    | Example    |\n",
    "|----------|--------------------------|------------|\n",
    "| +        | __add__                  | myObj + 23 |\n",
    "| -        | __sub__                  | myObj - 23 |\n",
    "| *        | __mul__ __rmul__         | myObj * 4  |\n",
    "| /        | __floordiv__ __truediv__ | myObj / 2  |\n",
    "| %        | __mod__                  | myObj % 2  |\n",
    "| <<       | __lshift__               | myObj << 2 |\n",
    "| >>       | __rshift__               | myObj >> 2 |\n",
    "| &        | __and__ __rand__         | myObj & 2  |\n",
    "| \\|       | __or__ __ror__           | myObj \\| 2 |\n",
    "| ^        | __xor__ __rxor__         | myObj ^ 2d |\n",
    "| <        | __lt__                   | myObj < 2  |\n",
    "| <=       | __le__                   | myObj <= 2 |\n",
    "| =        | __eq__                   | myObj == 2 |\n",
    "| !=       | __ne__                   | myObj != 2 |\n",
    "| >        | __gt__                   | myObj > 2  |\n",
    "| >=       | __te__                   | myObj >= 2 |\n",
    "\n",
    "For more, see the [Expressions page](https://docs.python.org/3/reference/expressions.html#value-comparisons)\n",
    "or the [Basic Customization page](https://docs.python.org/3/reference/datamodel.html#basic-customization)\n",
    "\n",
    "[Or RealPython's Function Overloading page](https://realpython.com/operator-function-overloading/)"
   ]
  },
  {
   "cell_type": "markdown",
   "id": "8d39009c-ec40-4b6f-a18f-aaf4ce00c24c",
   "metadata": {},
   "source": [
    "## Object.Keys\n",
    "\n",
    "Python does not have an Object.key() method, but it does support iterating over the properties of an object"
   ]
  },
  {
   "cell_type": "code",
   "execution_count": 214,
   "id": "314b2a3c-2550-4a89-9122-063595316fed",
   "metadata": {},
   "outputs": [],
   "source": [
    "class ObjectWithAttributes(object):\n",
    "    foo = 1\n",
    "    bar = 'hello'\n",
    "    def someFunction(self):\n",
    "        return 'result'\n",
    "\n",
    "instanceOfObjectWithAttributes = ObjectWithAttributes()"
   ]
  },
  {
   "cell_type": "markdown",
   "id": "4b9cff10-3989-4b6c-abd6-46ba89526789",
   "metadata": {},
   "source": [
    "Use the `dir` method to get the attributes on the object.`"
   ]
  },
  {
   "cell_type": "code",
   "execution_count": 215,
   "id": "d31acf05-4eed-4eb0-be73-749ae98226dd",
   "metadata": {},
   "outputs": [
    {
     "data": {
      "text/plain": [
       "['__class__',\n",
       " '__delattr__',\n",
       " '__dict__',\n",
       " '__dir__',\n",
       " '__doc__',\n",
       " '__eq__',\n",
       " '__format__',\n",
       " '__ge__',\n",
       " '__getattribute__',\n",
       " '__gt__',\n",
       " '__hash__',\n",
       " '__init__',\n",
       " '__init_subclass__',\n",
       " '__le__',\n",
       " '__lt__',\n",
       " '__module__',\n",
       " '__ne__',\n",
       " '__new__',\n",
       " '__reduce__',\n",
       " '__reduce_ex__',\n",
       " '__repr__',\n",
       " '__setattr__',\n",
       " '__sizeof__',\n",
       " '__str__',\n",
       " '__subclasshook__',\n",
       " '__weakref__',\n",
       " 'bar',\n",
       " 'foo',\n",
       " 'someFunction']"
      ]
     },
     "execution_count": 215,
     "metadata": {},
     "output_type": "execute_result"
    }
   ],
   "source": [
    "dir(instanceOfObjectWithAttributes)"
   ]
  },
  {
   "cell_type": "markdown",
   "id": "12117548-500c-4c48-b135-f251c8e07b87",
   "metadata": {},
   "source": [
    "<br /><br /><br /><br /><br /><br /><br /><br /><br /><br /><br /><br /><br /><br /><br /><br /><br /><br /><br /><br /><br /><br /><br /><br /><hr />\n",
    "<div style='height:20px;width:100%;background-color:#d6eeff'>&nbsp;</div>"
   ]
  },
  {
   "cell_type": "markdown",
   "id": "35087f8e-4e7d-4bbb-b3bc-23b19db0b652",
   "metadata": {},
   "source": [
    "# Tools"
   ]
  },
  {
   "cell_type": "markdown",
   "id": "5a96c275-0fc7-401f-8804-5f18b5d98302",
   "metadata": {},
   "source": [
    "# Python Editors / IDEs\n",
    "\n",
    "There are a number of places you can run Python, such as this one - a Jupyter Lab Notebook.\n",
    "\n",
    "[List of Editors from Real Python](https://realpython.com/python-ides-code-editors-guide/)\n",
    "[Python.org's list of IDEs](https://wiki.python.org/moin/IntegratedDevelopmentEnvironments)"
   ]
  },
  {
   "cell_type": "markdown",
   "id": "9511feca-7c7c-43ba-91ab-8da3412bb199",
   "metadata": {},
   "source": [
    "## PyCharm\n",
    "\n",
    "[PyCharm](https://www.jetbrains.com/pycharm/) is a brilliant IDE dedicated for Python by JetBrains.\n",
    "\n",
    "It does require a purchase to use, but it works very well."
   ]
  },
  {
   "cell_type": "markdown",
   "id": "ae599704-c159-4743-87f4-dc865804f2a2",
   "metadata": {},
   "source": [
    "# Type Checker / Linting\n",
    "\n",
    "* Linting is where you are validating the syntax of the file (and possibly style of the code)\n",
    "* Static Typing is where you define the types of variables at definition, and they cannot change.\n",
    "\n",
    "The most common tool for checking syntax in JavaScript is [ESLint](https://eslint.org)\n",
    "The most common tool for checking static typing JavaScript is [TypeScript](https://www.typescriptlang.org/)\n",
    "\n",
    "Python has other options:\n",
    "\n",
    "| Linter      | Category            | Description                                                                  |\n",
    "|-------------|---------------------|------------------------------------------------------------------------------|\n",
    "| Pylint      | Logical & Stylistic | Checks for errors, tries to enforce a coding standard, looks for code smells |\n",
    "| Flake8      | Logical & Stylistic | Checks for errors, tries to enforce a coding standard, looks for code smells |\n",
    "| PyFlakes    | Logical             | Analyzes programs and detects various errors                                 |\n",
    "| Bandit      | Security / Logical  | Analyzes code to find common security issues                                 |\n",
    "| MyPy        | Logical             | Checks for optionally-enforced static types                                  |\n",
    "| pycodestyle | Stylistic           | Checks against some of the style conventions in PEP 8                        |\n",
    "| pydocstyle  | Stylistic           | Checks compliance with Python docstring conventions                          |\n",
    "\n",
    "[More about each can be found here](https://realpython.com/python-code-quality/)\n",
    "\n",
    "[You can also run Linters within Jupyter Notebooks through nbQA](https://github.com/nbQA-dev/nbQA)"
   ]
  },
  {
   "cell_type": "markdown",
   "id": "ace15ed5-eced-4085-88dd-bd0ca298df28",
   "metadata": {},
   "source": [
    "## Dynamically Typed\n",
    "\n",
    "[JavaScript and Python are both Dynamically Typed languages](https://realpython.com/python-type-checking/) - where the interpreters do type checking as code runs, and variables can allow for nearly any value.\n",
    "\n",
    "JavaScript can allow any value into any variable.\n",
    "\n",
    "```\n",
    "#JavaScript\n",
    "let myName = 'John';\n",
    "myName = 23; // No error\n",
    "```\n",
    "\n",
    "[Python will always remain a dynamically typed language](https://www.python.org/dev/peps/pep-0484/#non-goals).\n",
    "\n",
    "[Pep484](https://www.python.org/dev/peps/pep-0484/) introduced type hints, so you can specify the type it should be, however it isn't enforced without [Linters](#Linters)"
   ]
  },
  {
   "cell_type": "code",
   "execution_count": 216,
   "id": "c0ad6945-2d5e-49bc-99a8-50fe5e6844b6",
   "metadata": {},
   "outputs": [
    {
     "data": {
      "text/plain": [
       "'Echo! Echo! Echo! Echo! '"
      ]
     },
     "execution_count": 216,
     "metadata": {},
     "output_type": "execute_result"
    }
   ],
   "source": [
    "# parameter: type, ...\n",
    "def string_repeat(string: str, count:int = 4 ):\n",
    "    spacer : str = '! '\n",
    "    return (string + spacer) * count\n",
    "\n",
    "string_repeat('Echo', 4)"
   ]
  },
  {
   "cell_type": "markdown",
   "id": "d104d1d2-b385-4ba0-8703-35507d81217e",
   "metadata": {},
   "source": [
    "In [terms of style](https://realpython.com/python-pep8/), [PEP 8](https://www.python.org/dev/peps/pep-0008/#other-recommendations) recommends the following:\n",
    "\n",
    "* Use normal rules for colons, that is, no space before and one space after a colon: text: str.\n",
    "* Use spaces around the = sign when combining an argument annotation with a default value: align: bool = True.\n",
    "* Use spaces around the -> arrow: def headline(...) -> str."
   ]
  },
  {
   "cell_type": "markdown",
   "id": "23a48e68-be7b-4b16-98a6-e9ae86b3f5af",
   "metadata": {},
   "source": [
    "See the [JavaDoc / Help section](#JavaDoc-/-Help) section for more"
   ]
  },
  {
   "cell_type": "markdown",
   "id": "c6ba2091-6b1b-4c69-8c24-c1295527dd4a",
   "metadata": {},
   "source": [
    "### MyPy\n",
    "\n",
    "Python has [MyPy](http://mypy-lang.org/) that checks for optionally enforced static types.\n",
    "\n",
    "Given the following code:\n",
    "\n",
    "```\n",
    "# Python\n",
    "# headlines.py\n",
    "\n",
    "def headline(text: str, align: bool = True) -> str:\n",
    "    if align:\n",
    "        return f\"{text.title()}\\n{'-' * len(text)}\"\n",
    "    else:\n",
    "        return f\" {text.title()} \".center(50, \"o\")\n",
    "\n",
    "print(headline(\"python type checking\"))\n",
    "print(headline(\"use mypy\", align=\"center\"))\n",
    "```\n",
    "\n",
    "Running mypy gives the following:\n",
    "```\n",
    "$ mypy headlines.py\n",
    "headlines.py:10: error: Argument \"align\" to \"headline\" has incompatible\n",
    "                        type \"str\"; expected \"bool\"\n",
    "```\n",
    "\n"
   ]
  },
  {
   "cell_type": "code",
   "execution_count": 217,
   "id": "d30ab899-32a9-487f-896d-aa8987a55678",
   "metadata": {},
   "outputs": [
    {
     "data": {
      "text/plain": [
       "'unsafeVariable=23'"
      ]
     },
     "execution_count": 217,
     "metadata": {},
     "output_type": "execute_result"
    }
   ],
   "source": [
    "unsafeVariable = 'John'\n",
    "unsafeVariable = 23 # no error\n",
    "f'{unsafeVariable=}'"
   ]
  },
  {
   "cell_type": "markdown",
   "id": "74879c5a-5492-4f93-a389-3769bb89bfe5",
   "metadata": {},
   "source": [
    "## nbQA\n",
    "\n",
    "[nbQA](https://github.com/nbQA-dev/nbQA) allows running isort, pyupgrade, mypy, pylint, flake8 and more on Jupyter Notebooks."
   ]
  },
  {
   "cell_type": "markdown",
   "id": "651f9945-6174-4a90-bf42-ee5d217e3d5f",
   "metadata": {},
   "source": [
    "### Pylint\n",
    "\n",
    "[PyLint](https://pylint.org/) is a stylistic and logic linter.\n",
    "\n",
    "It supports docstring support out of the box.\n",
    "\n",
    "Similar to [Flake8](#Flake8)"
   ]
  },
  {
   "cell_type": "markdown",
   "id": "66808e7b-cb4a-4d35-a83e-7a3a701a7e0a",
   "metadata": {},
   "source": [
    "### Flake8\n",
    "\n",
    "[Flake8](https://flake8.pycqa.org/en/latest/#) is the closer side to eslint - it does both logical and stylistic linting.\n",
    "\n",
    "Note that it also supports plugins, like [flake8-docstrings](https://pypi.org/project/flake8-docstrings/) to support pydocstyle support for checking docstrings.\n",
    "\n",
    "Similar to [Pylint](#Pylint)"
   ]
  },
  {
   "cell_type": "markdown",
   "id": "5b7474b5-201a-4abe-a33a-ec642199ac73",
   "metadata": {},
   "source": [
    "### Bandit\n",
    "\n",
    "[Bandit](https://github.com/PyCQA/bandit) is a security linter from PyCQA.\n",
    "\n",
    "Bandit is a tool designed to find common security issues in Python code. To do this Bandit processes each file, builds an AST from it, and runs appropriate plugins against the AST nodes. Once Bandit has finished scanning all the files it generates a report."
   ]
  },
  {
   "cell_type": "markdown",
   "id": "7de514f7-3882-46ec-b676-311c52a0ce18",
   "metadata": {},
   "source": [
    "### Pyflakes\n",
    "\n",
    "Pyflakes makes a simple promise: it will never complain about style, and it will try very, very hard to never emit false positives.\n",
    "    \n",
    "Pyflakes is also faster than [Pylint](#Pylint). This is largely because Pyflakes only examines the syntax tree of each file individually. As a consequence, Pyflakes is more limited in the types of things it can check.\n",
    "\n",
    "If you like Pyflakes but also want stylistic checks, you want [Flake8](#Flake8), which combines Pyflakes with style checks against PEP 8 and adds per-project configuration ability."
   ]
  },
  {
   "cell_type": "markdown",
   "id": "78fbceca-695a-4027-8241-360a608cf02d",
   "metadata": {},
   "source": [
    "### Pydocstyle\n",
    "\n",
    "[Pydocstyle](https://github.com/PyCQA/pydocstyle) is a static analysis tool for checking compliance with Python docstring conventions.\n",
    "\n",
    "pydocstyle supports most of PEP 257 out of the box, but it should not be considered a reference implementation.\n",
    "\n",
    "pydocstyle supports Python 3.6, 3.7, 3.8 and 3.9."
   ]
  },
  {
   "cell_type": "markdown",
   "id": "f522191d-01ca-451a-88f4-9359f575d660",
   "metadata": {},
   "source": [
    "JavaScript has [TypeScript - a language of its own](https://www.valentinog.com/blog/typescript/) that compiles to JavaScript.\n"
   ]
  },
  {
   "cell_type": "markdown",
   "id": "78e7d16f-ca9c-4611-af0f-606a222428b7",
   "metadata": {},
   "source": [
    "(Note that [Babel](https://babeljs.io/) is a transpiler that can do something similar, but works more with shims and polyfills to fix gaps in JavaScript implementations and doesn't handle type handling)\n",
    "\n",
    "([Webpack])"
   ]
  },
  {
   "cell_type": "markdown",
   "id": "2df0369b-c70b-49b4-b870-807cda79aecb",
   "metadata": {},
   "source": [
    "<br /><br /><br /><br /><br /><br /><br /><br /><br /><br /><br /><br /><br /><br /><br /><br /><br /><br /><br /><br /><br /><br /><br /><br /><hr />\n",
    "<div style='height:20px;width:100%;background-color:#d6eeff'>&nbsp;</div>"
   ]
  },
  {
   "cell_type": "markdown",
   "id": "31c9736c-97b5-4251-9630-a73839d6fed7",
   "metadata": {},
   "source": [
    "# Package Manager\n",
    "\n",
    "**TLDR; Similar to npm / yarn / etc. Python has package managers like [conda](#Conda), [poetry](#Poetry) and [pip](#PyPi-and-Pip-similar-to-Npm).<br /> Poetry and Conda both handle environments better, while Conda handles everything - including python versions**\n",
    "\n",
    "One of the great things about working with NodeJS is the wide variety of packages available from package managers. ([It also can be a bit scary too](https://qz.com/646467/how-one-programmer-broke-the-internet-by-deleting-a-tiny-piece-of-code/))\n",
    "\n",
    "Similar to [npm](https://www.npmjs.com/), there are two main concepts:\n",
    "\n",
    "* Respository - where the packages are listed and provided through APIs (ex: npmjs.com)\n",
    "* Package Manager - the program run on your machine that does the installing (ex: npm/yarn)\n",
    "* Environment Manager - program on your machine that manages versions of Python (ex: nvm)\n",
    "\n",
    "For Python, similar to JavaScript, some terms can be confusing because they can mean one or even all three.\n",
    "\n",
    "* Repositories\n",
    "    * [PyPI](#PyPI) - the Python Packaging Authority's recommended store for modules.\n",
    "    * [Conda Channels](#Conda-Channels) - Individual respositories for Anaconda packages.\n",
    "* Package manager\n",
    "    * [Pip](#Pip) - is the standard Package Manager for Python tied with PyPI\n",
    "    * [Poetry](#Poetry) - Package Manager specifically for Python\n",
    "    * [Conda](#Conda) - Multi-Language Package Manager for Anaconda\n",
    "* Environment Manager\n",
    "    * [Conda](#Conda) - Creates python 'environments' of specific python version and global packages\n",
    "    * [Pyenv](#Pyenv) - Python installation manager to install and run multiple python versions.\n",
    "\n",
    "    \n",
    "| Feature \\ Package Manager               | npm | pip | poetry         | Anaconda         |\n",
    "|-----------------------------------------|-----|-----|----------------|------------------|\n",
    "| Access to main repo (i.e. Pypi/npm)     | ✓   | ✓   | ✓              | ✓                |\n",
    "| Record top level dependencies           | ✓   | ✗   | pyproject.toml | environment.yaml |\n",
    "| Record dependency changes automatically | ✓   | ✗   | ✓              | ✗                |\n",
    "| Lock versions of all dependencies       | ✓   | ✓   | poetry.lock    | environment.yaml |\n",
    "| Install interpreter versions            | nvm | ✗   | ✗ use pyenv    | ✓                |\n",
    "| Switch between interpreter versions     | nvm | ✗   | ✓              | ✓                |\n",
    "| Direct publishing                       | ✓   | ✗   | ✓              | ✓                |\n",
    "| Run project scripts                     | ✓   | ✗   | ✓              | ✗                |\n",
    "| Local package development               | ✓   | ✓   | ✓              | ✓                |\n",
    "\n",
    "**Note on differences:** Anaconda is great for getting started and it handles nearly everything.  However, it is language agnostic - and this can be helpful and difficult at times as it isn't specific to python.\n",
    "\n",
    "Poetry is the closest to `npm` from a more literal sense, in that it manages dependencies very well and also updates as dependencies are updated. `pyproject.toml` is closest to `package.json` in that it is automatically generated and updated.\n",
    "\n",
    "Poetry also forces you to the best practice of creating a new environment for each project, instead of allowing for environment reuse and potential trouble if one changes and everything breaks.\n",
    "\n",
    "Anaconda and Pip instead only support saving the output in a file, and can be out of date if you are not careful.\n",
    "    \n",
    "[See here fore modern approaches to dependency management](https://realpython.com/pipenv-guide/)"
   ]
  },
  {
   "cell_type": "markdown",
   "id": "ac6f8c4a-ae8e-424b-be01-21a0ee590194",
   "metadata": {},
   "source": [
    "<br /><br /><br /><br /><br /><br /><hr />\n",
    "\n",
    "## PyPI\n",
    "\n",
    "**TLDR- PyPI can be thought of as npmjs.com for python - the main repository for Python packages**\n",
    "\n",
    "[The Python Package Index or PyPI](https://pypi.org/) is a repository of hundreds of thousands of Python Projects and is the Python Packaging Authority's recommended store for modules.\n",
    "\n",
    "This is the default repository for python packages for many package managers, including [Pip](#Pip) and [Poetry](#Poetry) - that search and install from PyPI.\n",
    "\n",
    "![Screenshot of PyPI](img/PyPI.png)"
   ]
  },
  {
   "cell_type": "markdown",
   "id": "9c2b5a7f-37ef-40c2-8dd1-b017fb349243",
   "metadata": {},
   "source": [
    "<br /><br /><br /><br /><br /><br /><hr />\n",
    "\n",
    "\n",
    "## Pip\n",
    "\n",
    "**TLDR; Pip is the default package manager for python, but with some things to be desired**\n",
    "\n",
    "[Pip is a package installer for Python](https://pypi.org/project/pip/) and you can use it to install packages from the PyPi or other indexes.\n",
    "\n",
    "(This is very similar to how [npmjs.com](https://docs.npmjs.com/about-npm) is the repository and [npm](https://www.npmjs.com/package/npm) is the package installer for node modules.  You can even use `pip install pip` similar to how you can use `npm instal npm`)\n",
    "\n",
    "### Listing Pip Packages\n",
    "\n",
    "There are two commands to list packages, so you can install them again elsewhere:\n",
    "\n",
    "* `pip list` - lists ALL installed packages - regardless if installed by pip\n",
    "* `pip freeze` - lists the packages installed by pip **(recommended)**\n",
    "\n",
    "To store packages you have installed for your project, run:"
   ]
  },
  {
   "cell_type": "raw",
   "id": "6e67640c-dcf0-4bb0-ad03-280045930a9c",
   "metadata": {},
   "source": [
    "pip freeze > requirements.txt\n",
    "\n",
    "#or \n",
    "\n",
    "python -m pip freeze > requirements.txt"
   ]
  },
  {
   "cell_type": "markdown",
   "id": "0ec74895-804d-4b7a-b6bd-fe70401d38c9",
   "metadata": {},
   "source": [
    "This will store the results from `pip freeze` into a file called requirements.txt, that you can typically install with any python package manager."
   ]
  },
  {
   "cell_type": "raw",
   "id": "42029520-8cde-42af-b10c-994db164301b",
   "metadata": {},
   "source": [
    "$ pip freeze\n",
    "docutils==0.11\n",
    "Jinja2==2.7.2\n",
    "MarkupSafe==0.19\n",
    "Pygments==1.6\n",
    "Sphinx==1.2.2"
   ]
  },
  {
   "cell_type": "markdown",
   "id": "86dd3f0e-6f5f-4f1c-a808-5ec59bf50785",
   "metadata": {},
   "source": [
    "### Searching for Packages with Pip\n",
    "\n",
    "Search for packages with pip using `pip search [options] <query>`"
   ]
  },
  {
   "cell_type": "raw",
   "id": "caf5ffbb-9050-4ec3-be5c-4bc07e2bbb4a",
   "metadata": {},
   "source": [
    "pip search numpy"
   ]
  },
  {
   "cell_type": "markdown",
   "id": "7ff37fd8-dbfb-4a09-9081-404aedfffbcf",
   "metadata": {},
   "source": [
    "### Installing Packages with Pip\n",
    "\n",
    "Pip allows for installing packages either one at a time or multiple ones together."
   ]
  },
  {
   "cell_type": "raw",
   "id": "004d1217-3f7f-471a-9e88-849f8caeaa22",
   "metadata": {},
   "source": [
    "pip install numpy\n",
    "# or at a specific version\n",
    "pip install SomePackage==1.0.4\n",
    "# or multiple at a time\n",
    "pip install numpy pandas"
   ]
  },
  {
   "cell_type": "markdown",
   "id": "52e0575a-d3ff-42c2-aba3-8f63ef7f030f",
   "metadata": {},
   "source": [
    "Note that you can have pip automatically update the requirements file through the `-e path/to/project` argument ([see here for more](https://pip.pypa.io/en/stable/cli/pip_install/#local-project-installs))"
   ]
  },
  {
   "cell_type": "markdown",
   "id": "d2559965-e816-463c-a25f-c6cadf3ab60c",
   "metadata": {},
   "source": [
    "### Installing Pip packages from requirements.txt\n",
    "\n",
    "You can then install the packages through:"
   ]
  },
  {
   "cell_type": "raw",
   "id": "88884129-6fc3-48ed-9be1-91b82532c868",
   "metadata": {},
   "source": [
    "# requirements.txt\n",
    "ProjectA\n",
    "ProjectB<1.3"
   ]
  },
  {
   "cell_type": "raw",
   "id": "286dcae7-6834-45e0-837a-fc7786c0b80f",
   "metadata": {},
   "source": [
    "$ pip install -r requirements.txt"
   ]
  },
  {
   "cell_type": "markdown",
   "id": "60206be0-17fc-4456-b461-5c6cdff3cc53",
   "metadata": {},
   "source": [
    "<br /><br /><br /><br /><br /><br /><hr />\n",
    "\n",
    "## Poetry\n",
    "\n",
    "**TLDR; closest to npm and automatically manages a pyproject.yaml file - similar to package.json**\n",
    "\n",
    "[Poetry](https://python-poetry.org/) is a package manager and dependency manager.\n",
    "\n",
    "For more [see the poetry basic-usage and poetry documentation here](https://python-poetry.org/docs/basic-usage/)\n",
    "\n",
    "### Poetry and PyEnv\n",
    "\n",
    "Poetry can switch between versions of installed python versions (such as 2.7 and 3.8), but note that it does not manage or install them for you.\n",
    "\n",
    "Poetry's recommended solution for managing python versions (unlike conda that can also manage this for you) is through the brilliant [pyenv - python version manager](https://github.com/pyenv/pyenv) - allowing pyenv to be considered similar to `nvm`"
   ]
  },
  {
   "cell_type": "raw",
   "id": "24a76370-067b-4b61-8488-097b6e2c0609",
   "metadata": {},
   "source": [
    "pyenv install 2.7.15\n",
    "pyenv local 2.7.15  # Activate Python 2.7 for the current project\n",
    "poetry install"
   ]
  },
  {
   "cell_type": "markdown",
   "id": "709ae004-e086-4f26-9cc0-cea7d3ffe945",
   "metadata": {},
   "source": [
    "You can then use that environment through the poetry command line"
   ]
  },
  {
   "cell_type": "raw",
   "id": "7f084b0f-1be1-4278-9ab6-db86d674fd85",
   "metadata": {},
   "source": [
    "# all of the following are essentially equivalent\n",
    "poetry env use /full/path/to/python\n",
    "poetry env use python3.7             # if already in your path\n",
    "poetry env use 3.7                   # if already in your path"
   ]
  },
  {
   "cell_type": "markdown",
   "id": "f72ea4c4-1e58-4bee-ac9f-18947850247b",
   "metadata": {},
   "source": [
    "### Poetry Create Project\n",
    "\n",
    "Similar to `npm init -y` you can use `poetry new ...` to initialize a new project"
   ]
  },
  {
   "cell_type": "raw",
   "id": "1e9b9220-90ab-41e6-9716-9343545fb3a0",
   "metadata": {},
   "source": [
    "poetry new poetry-demo"
   ]
  },
  {
   "cell_type": "markdown",
   "id": "3ff76538-3839-46e5-ab03-d287b4c83cf5",
   "metadata": {},
   "source": [
    "This will create a set of files for your project:"
   ]
  },
  {
   "cell_type": "raw",
   "id": "fe999c19-f27e-42e2-90e1-bf92bb28bca6",
   "metadata": {},
   "source": [
    "poetry-demo\n",
    "├── pyproject.toml\n",
    "├── README.rst\n",
    "├── poetry_demo\n",
    "│   └── __init__.py\n",
    "└── tests\n",
    "    ├── __init__.py\n",
    "    └── test_poetry_demo.py"
   ]
  },
  {
   "cell_type": "markdown",
   "id": "ffb2ee9e-e917-4776-9567-7f3054bf3443",
   "metadata": {},
   "source": [
    "### Poetry pyproject.toml similar to project.json\n",
    "\n",
    "The `pyproject.toml` is the most important here and it is similar to `project.json` from node.\n",
    "\n",
    "**Note it is in [toml](https://toml.io/en/) instead of yaml or json**"
   ]
  },
  {
   "cell_type": "raw",
   "id": "e67bd436-77d3-4aea-82ab-27c8ff735b33",
   "metadata": {},
   "source": [
    "[tool.poetry]\n",
    "name = \"poetry-demo\"\n",
    "version = \"0.1.0\"\n",
    "description = \"\"\n",
    "authors = [\"Sébastien Eustace <sebastien@eustace.io>\"]\n",
    "\n",
    "[tool.poetry.dependencies]\n",
    "python = \"*\"\n",
    "\n",
    "[tool.poetry.dev-dependencies]\n",
    "pytest = \"^3.4\""
   ]
  },
  {
   "cell_type": "markdown",
   "id": "ed7c1262-fa67-419b-8368-a4806ffd5d29",
   "metadata": {},
   "source": [
    "### Install Packages from Poetry Project Definition\n",
    "\n",
    "To install the dependencies and initialize the project (similar to `npm install`, use `poetry init`)"
   ]
  },
  {
   "cell_type": "raw",
   "id": "2c863147-c211-49bb-98a4-a6fbd6b3499d",
   "metadata": {},
   "source": [
    "cd pre-existing-project\n",
    "poetry install"
   ]
  },
  {
   "cell_type": "markdown",
   "id": "65bc7e6f-0217-4505-85ad-c41a2d12e6da",
   "metadata": {},
   "source": [
    "This will install all the dependencies within `pyproject.toml`, but will use the exact versions listed in `poetry.lock` automatically - to ensure consistent versions.\n",
    "\n",
    "This means that the packages and dependencies are installed, but you may not have the latest version of those packages - by design."
   ]
  },
  {
   "cell_type": "markdown",
   "id": "24f41e29-bd70-4a9f-bd06-53c6f6fbb6e0",
   "metadata": {},
   "source": [
    "### Installing Packages in Poetry\n",
    "\n",
    "You can add dependencies to the `pyproject.toml` file directly within the `tool.poetry.dependencies` section.\n",
    "\n",
    "However, it is recommended you use the command line tool through the `add` command, as this automatically updates the `pyproject.toml` with the latest dependencies."
   ]
  },
  {
   "cell_type": "raw",
   "id": "c3ac9245-7ce5-4726-a65c-8eee0211579c",
   "metadata": {},
   "source": [
    "poetry add pendulum"
   ]
  },
  {
   "cell_type": "markdown",
   "id": "7ba42fda-eae2-4603-a267-178e564f7c30",
   "metadata": {},
   "source": [
    "### Running Scripts within Poetry\n",
    "\n",
    "Similar to npm, you can define scripts within your `pyproject.toml` under the `tool.poetry.scripts` section:"
   ]
  },
  {
   "cell_type": "raw",
   "id": "fbd41327-5673-40b2-9eea-c762be5d0120",
   "metadata": {},
   "source": [
    "[tool.poetry.scripts]\n",
    "my-script = \"my_module:main\""
   ]
  },
  {
   "cell_type": "markdown",
   "id": "d21f1a04-ccfc-468a-b78a-283d35012579",
   "metadata": {},
   "source": [
    "You can execute it like so:"
   ]
  },
  {
   "cell_type": "raw",
   "id": "348f5e85-f7e7-4935-a908-4434973a3585",
   "metadata": {},
   "source": [
    "poetry run my-script"
   ]
  },
  {
   "cell_type": "markdown",
   "id": "4ff16abd-8127-4b5c-9bc5-c25a1ce5bf77",
   "metadata": {},
   "source": [
    "For more, [please see the Poetry run command](https://python-poetry.org/docs/cli/#run)"
   ]
  },
  {
   "cell_type": "markdown",
   "id": "0f05358f-f5fe-4032-a131-29eec78e1402",
   "metadata": {},
   "source": [
    "### Exporting Poetry Project Dependencies\n",
    "\n",
    "Note that unlike Pip or Conda, the dependencies within `pyproject.toml` is automatically updated during install through `poetry install`\n",
    "\n",
    "When the install has finished, it writes all the packages and their exact versions to `poetry.lock` file, for those specific versions.\n",
    "\n",
    "You should commit `poetry.lock` to version control - so everyone has the same versions."
   ]
  },
  {
   "cell_type": "markdown",
   "id": "615b70ca-08a5-4083-805b-36b779ef474c",
   "metadata": {},
   "source": [
    "<br /><br /><br /><br /><br /><br /><hr />\n",
    "\n",
    "## Conda\n",
    "\n",
    "**TLDR; conda handles lots of things - like npm + nvm combined,<br />\n",
    "but can be a bit slow <br />\n",
    "and does not automatically update the environment.yaml file**\n",
    "\n",
    "`Conda` is a slightly confusing term, because it can mean both `a command line tool` - for installing packages, and `a python package` - or the package you installed and can then use in your code.\n",
    "\n",
    "**Note that Anaconda/Conda can work with many languages, and not just Python.**\n",
    "\n",
    "([See here for more](https://ealizadeh.com/blog/guide-to-python-env-pkg-dependency-using-conda-poetry))\n",
    "\n",
    "[Conda Cheat Sheet](https://conda.io/projects/conda/en/latest/user-guide/cheatsheet.html)\n",
    "\n",
    "\n",
    "\n",
    "### Installing Anaconda vs Miniconda\n",
    "\n",
    "Conda as a tool is an environment manager AND a package manager, it means you can use it to create an environment (say Python 3.8) and the packages it should use (such as pandas, numpy, etc)\n",
    "\n",
    "Please note that there is also different size installations, which basically define which packages come pre-installed:\n",
    "* [anaconda](https://docs.anaconda.com/anaconda/packages/pkg-docs/) - includes many libraries that are helpful in data science\n",
    "* [miniconda](https://docs.conda.io/en/latest/miniconda.html) and as a minimal installer for conda that does not include the additional anaconda libraries\n",
    "\n",
    "Note that miniconda can also install the anaconda libraries later by running `conda install anaconda`\n"
   ]
  },
  {
   "cell_type": "markdown",
   "id": "b47cab8a-a7dc-4d50-92a4-372da4f6a80d",
   "metadata": {},
   "source": [
    "### Conda Create Environment\n",
    "\n",
    "Unlike `npm init`, you create an environment that is available system wide.\n",
    "\n",
    "You can create a new environment through:"
   ]
  },
  {
   "cell_type": "raw",
   "id": "51b90b40-adde-4853-80b6-be85f731b001",
   "metadata": {},
   "source": [
    "#create a new environment called snowflakes and install the pandas and numpy packages\n",
    "conda create --name snowflakes python=3.9 pandas numpy"
   ]
  },
  {
   "cell_type": "markdown",
   "id": "54b5e8d8-f726-4e98-b28b-4bb25fecc9d9",
   "metadata": {},
   "source": [
    "You can see the environments available through:"
   ]
  },
  {
   "cell_type": "raw",
   "id": "6c04a0f9-3c2e-47c6-b951-349d24367503",
   "metadata": {},
   "source": [
    "$ conda info --envs\n",
    "# or\n",
    "$ conda env list\n",
    "\n",
    "# gives\n",
    "\n",
    "conda environments:\n",
    "myenv                 /home/username/miniconda/envs/myenv\n",
    "snowflakes            /home/username/miniconda/envs/snowflakes\n",
    "bunnies               /home/username/miniconda/envs/bunnies"
   ]
  },
  {
   "cell_type": "markdown",
   "id": "f05ec74c-c1e1-4121-8ac2-5cbb4b648e4d",
   "metadata": {},
   "source": [
    "Lastly, you can activate an environment through `conda activate`"
   ]
  },
  {
   "cell_type": "raw",
   "id": "e691f5b5-1ab6-4b0a-948b-a356dac837b5",
   "metadata": {},
   "source": [
    "conda activate snowflakes"
   ]
  },
  {
   "cell_type": "markdown",
   "id": "f3b0e0cb-a4ab-46e0-abcd-02f02e690da5",
   "metadata": {},
   "source": [
    "### Install Packages from Conda Environment Definition\n",
    "\n",
    "You can create a conda environment through `conda env create` command\n",
    "\n",
    "This will create a fresh conda environment, and specify:\n",
    "\n",
    "* channels - which package collection to search for when searching for packages (order is important)\n",
    "* dependencies - which python environment and modules to use."
   ]
  },
  {
   "cell_type": "raw",
   "id": "8878ad1f-db0d-4ced-ae44-4856dd7c3986",
   "metadata": {},
   "source": [
    "name: stats2\n",
    "channels:\n",
    "  - javascript\n",
    "dependencies:\n",
    "  - python=3.6   # or 2.7\n",
    "  - bokeh=0.9.2\n",
    "  - numpy=1.9.*\n",
    "  - nodejs=0.10.*\n",
    "  - flask\n",
    "  - pip:\n",
    "    - Flask-Testing"
   ]
  },
  {
   "cell_type": "markdown",
   "id": "6612b80d-63e6-416d-83a8-3da73445f22c",
   "metadata": {},
   "source": [
    "Note that unlike Poetry, this does not create a folder structure for your project."
   ]
  },
  {
   "cell_type": "markdown",
   "id": "37ae9475-11ec-4648-9d1c-5a8e8a9bfa7b",
   "metadata": {},
   "source": [
    "### Conda Channels\n",
    "\n",
    "Each [Conda Channels](https://conda.io/projects/conda/en/latest/user-guide/concepts/channels.html) is its own separate repository.\n",
    "\n",
    "Many packages are available in the default (Anaconda) channel, but some may be in others - like [Conda Forge](#Installing-conda-forge-packages)\n",
    "\n",
    "You can search for specific package (such as numpy) in the default channel through:"
   ]
  },
  {
   "cell_type": "raw",
   "id": "4f335731-1695-414b-856d-a76b31f1cd81",
   "metadata": {},
   "source": [
    "conda search numpy"
   ]
  },
  {
   "cell_type": "markdown",
   "id": "ac5b67b4-5ee5-4150-93ae-f4227df36e41",
   "metadata": {},
   "source": [
    "### Installing Packages in Conda\n",
    "\n",
    "You can install a specific version once the package name is found:"
   ]
  },
  {
   "cell_type": "raw",
   "id": "91f7fdd3-b05f-4235-b644-2371e8648403",
   "metadata": {},
   "source": [
    "conda install scipy\n",
    "# or specify specific version similar to npm\n",
    "conda install scipy=0.15.0\n",
    "# or install multiple packages at the same time\n",
    "conda install scipy curl"
   ]
  },
  {
   "cell_type": "markdown",
   "id": "04553475-0703-446a-bcd1-21f93981ef6d",
   "metadata": {},
   "source": [
    "### Installing conda-forge packages\n",
    "\n",
    "If a package is not available by default (ex: from the Anaconda channel), you may be able to install the package via [conda-forge](https://conda-forge.org/docs/user/introduction.html)"
   ]
  },
  {
   "cell_type": "raw",
   "id": "d05629fe-31ad-4b8b-8dc1-e70a0293b49a",
   "metadata": {},
   "source": [
    "conda search scipy --channel conda-forge\n",
    "\n",
    "# note you can also send multiple channels - and the order is respected during search\n",
    "conda search scipy --channel conda-forge --channel bioconda"
   ]
  },
  {
   "cell_type": "markdown",
   "id": "22e1bf12-8400-4daa-9eab-ac6cc7daba01",
   "metadata": {},
   "source": [
    "Running the following will always add conda-forge to the list of default channels, so `--channel` argument is no longer needed, it will always be checked in fallback."
   ]
  },
  {
   "cell_type": "raw",
   "id": "b75c0ad7-d968-47e3-b26e-c24f77511588",
   "metadata": {},
   "source": [
    "conda config --add channels conda-forge"
   ]
  },
  {
   "cell_type": "markdown",
   "id": "828b57c1-4058-457e-ae0b-31bfdcc2ff80",
   "metadata": {},
   "source": [
    "Searching will then also find packages in conda-forge channels."
   ]
  },
  {
   "cell_type": "raw",
   "id": "7c1e39ff-07f7-4ea2-8d48-319c040ada6d",
   "metadata": {},
   "source": [
    "conda search scipy"
   ]
  },
  {
   "cell_type": "markdown",
   "id": "8e5a0466-a05f-492d-80a5-47666f625696",
   "metadata": {},
   "source": [
    "### Pip with Conda\n",
    "\n",
    "If you still cannot find the package, try installing it with [pip](#PyPi-and-Pip-similar-to-Npm)\n",
    "\n",
    "You can install pip through:"
   ]
  },
  {
   "cell_type": "raw",
   "id": "bb08e9de-a0bc-4626-ac2b-f262bc617d2b",
   "metadata": {},
   "source": [
    "conda install pip\n",
    "\n",
    "# or install in a specific environment \n",
    "\n",
    "conda install -n myenv pip\n",
    "conda activate myenf\n",
    "pip ..."
   ]
  },
  {
   "cell_type": "markdown",
   "id": "af2a0a16-b5c4-4001-9b5e-797b831e255b",
   "metadata": {},
   "source": [
    "* If using pip with conda, install with conda as much as possible before pip\n",
    "* DO NOT USE `--user` argument / use user specific installs."
   ]
  },
  {
   "cell_type": "markdown",
   "id": "4534d328-fa1f-4788-90db-9921939e273d",
   "metadata": {},
   "source": [
    "### Poetry with Conda\n",
    "\n",
    "[There is an article of someone using Poetry on top of Conda](https://ealizadeh.com/blog/guide-to-python-env-pkg-dependency-using-conda-poetry)\n",
    "\n",
    "@TODO"
   ]
  },
  {
   "cell_type": "markdown",
   "id": "6509c52e-4d1c-4d7f-9ab4-bba2a65091cd",
   "metadata": {},
   "source": [
    "### npm Install for Conda environment\n",
    "\n",
    "Similar to `npm install` - you can create an environment (with python and packages listed) through:"
   ]
  },
  {
   "cell_type": "raw",
   "id": "ef739a33-c330-4c07-b0d4-1a4a084f738f",
   "metadata": {},
   "source": [
    "conda env create --file /path/to/envfile.yml"
   ]
  },
  {
   "cell_type": "markdown",
   "id": "5a4d18e8-f59b-4d6b-a203-dea2195f5ddc",
   "metadata": {},
   "source": [
    "**Note that Conda does not do package dependencies well, [Poetry](#Poetry) does this much better**"
   ]
  },
  {
   "cell_type": "markdown",
   "id": "b14a2336-ad1c-4d4d-aede-1b04d25ac62a",
   "metadata": {},
   "source": [
    "### Exporting a Conda Environment\n",
    "\n",
    "To see the list of packages installed use:"
   ]
  },
  {
   "cell_type": "raw",
   "id": "efb038b1-4d02-4722-b1f9-7b918dab2235",
   "metadata": {},
   "source": [
    "conda list"
   ]
  },
  {
   "cell_type": "markdown",
   "id": "fc69fca8-27e8-4863-8a6b-67721ca206cd",
   "metadata": {},
   "source": [
    "To export to a package to a structure others can use to install, use either:"
   ]
  },
  {
   "cell_type": "raw",
   "id": "a539a2a5-0279-4f92-b1cc-0021b8e4a87f",
   "metadata": {},
   "source": [
    "# NOTE - this will include only packages you explicitly installed\n",
    "conda env export --from-history > environment.yaml\n",
    "\n",
    "# alternatively, this will install ALL packages\n",
    "conda env export > environment.yaml"
   ]
  },
  {
   "cell_type": "markdown",
   "id": "038cf02c-8be4-4598-8a72-dcf47605e81b",
   "metadata": {},
   "source": [
    "<br /><br /><br /><br /><br /><br /><hr />\n",
    "\n",
    "## pipx\n",
    "\n",
    "**TLDR; pipx is similar to npx**\n",
    "\n",
    "[pipx](https://github.com/pypa/pipx#overview-what-is-pipx) is a command line tool to help with running applications (rather than modules that you import).\n",
    "\n",
    "(This can be similar to [homebrew](https://brew.sh/) or [npx](https://www.npmjs.com/package/npx) - where the programs we install are ones we would run - like [Flake8](#Flake8) for linting)\n",
    "\n",
    "ex:\n",
    "\n",
    "```\n",
    "pipx run cowsay mooo\n",
    "# pipx will then get latest package and then run temporarily\n",
    "# with argument of mooo\n",
    "```"
   ]
  },
  {
   "cell_type": "markdown",
   "id": "804ad90c-156d-4000-8e0f-c3a8aa1c4085",
   "metadata": {},
   "source": [
    "![demo of pipx](img/pipx_demo.gif)"
   ]
  },
  {
   "cell_type": "markdown",
   "id": "403737a1-1d21-4fc1-87f3-c49b03dd1c1a",
   "metadata": {},
   "source": [
    "<br /><br /><br /><br /><br /><br /><hr />\n",
    "\n",
    "## PyEnv\n",
    "\n",
    "**TLDR; similar to nvm - to easily install and manage versions of python**\n",
    "\n",
    "pyenv lets you easily switch between multiple versions of Python. It's simple, unobtrusive, and follows the UNIX tradition of single-purpose tools that do one thing well.\n",
    "\n",
    "Note that this is not needed with [Conda](#Conda)\n",
    "\n",
    "![Screenshot of PyEnv](img/pyenv.png)"
   ]
  },
  {
   "cell_type": "markdown",
   "id": "cf4f88ee-51ae-4683-9b94-5349f3c9622c",
   "metadata": {},
   "source": [
    "<br /><br /><br /><br /><br /><br /><br /><br /><br /><br /><br /><br /><br /><br /><br /><br /><br /><br /><br /><br /><br /><br /><br /><br /><hr />\n",
    "<div style='height:20px;width:100%;background-color:#d6eeff'>&nbsp;</div>"
   ]
  },
  {
   "cell_type": "markdown",
   "id": "e8e0551c-e588-4569-b4d4-4276609972ce",
   "metadata": {},
   "source": [
    "# File Reading / Writing\n",
    "\n",
    "**TLDR; Reading and Writing Files is much simpler with Python than with Nodejs**\n",
    "\n",
    "[For more, please see Reading and Writing Files in the Python docs](https://docs.python.org/3/tutorial/inputoutput.html#reading-and-writing-files)"
   ]
  },
  {
   "cell_type": "markdown",
   "id": "d9f0a667-bdd2-45bf-b8de-ab35b28cea13",
   "metadata": {},
   "source": [
    "### os.path\n",
    "\n",
    "**TLDR; think of `os.path` similar to the [nodejs path library](https://nodejs.org/api/path.html)**\n",
    "\n",
    "Use `os.path.join(...)` to join paths and include slashes as necessary to generate a file path.\n",
    "\n",
    "Other common commands:\n",
    "\n",
    "* isdir(path) - whether the path is a directory\n",
    "* isfile(path) - whether the path is a file\n",
    "* exists(path) - whether the file exists)\n",
    "* dirname(path) - returns the directory name of a path\n",
    "* basename(path) - returns the name of the file of a path"
   ]
  },
  {
   "cell_type": "code",
   "execution_count": 218,
   "id": "b8f57def-f6f4-42bb-a9f2-78b2921bff82",
   "metadata": {},
   "outputs": [],
   "source": [
    "peopleCsvPath = os.path.join('./data/people.csv')"
   ]
  },
  {
   "cell_type": "code",
   "execution_count": 219,
   "id": "068a379e-464e-43dc-9684-f392f6b10a04",
   "metadata": {},
   "outputs": [
    {
     "data": {
      "text/plain": [
       "'./data'"
      ]
     },
     "execution_count": 219,
     "metadata": {},
     "output_type": "execute_result"
    }
   ],
   "source": [
    "os.path.dirname(peopleCsvPath)"
   ]
  },
  {
   "cell_type": "code",
   "execution_count": 220,
   "id": "9cd81d13-ebd7-4966-a502-9596009d3514",
   "metadata": {},
   "outputs": [
    {
     "data": {
      "text/plain": [
       "'people.csv'"
      ]
     },
     "execution_count": 220,
     "metadata": {},
     "output_type": "execute_result"
    }
   ],
   "source": [
    "os.path.basename(peopleCsvPath)"
   ]
  },
  {
   "cell_type": "code",
   "execution_count": 221,
   "id": "d7f9e5de-c952-4102-8e63-a7ffd15f6978",
   "metadata": {},
   "outputs": [
    {
     "data": {
      "text/plain": [
       "True"
      ]
     },
     "execution_count": 221,
     "metadata": {},
     "output_type": "execute_result"
    }
   ],
   "source": [
    "os.path.exists(peopleCsvPath)"
   ]
  },
  {
   "cell_type": "markdown",
   "id": "373018f9-0a96-472f-a689-fd08f90de912",
   "metadata": {},
   "source": [
    "## Use With for Files\n",
    "\n",
    "Working with Files is best done with the `with` command.  Once the `with` command scope has finished, the file is guaranteed to be closed.\n",
    "\n",
    "If not using the `with` command, you should call `fileInstance.close()` to close the file and immediately release resources.\n",
    "\n",
    "(Not using `with` or `close` when writing can mean things are not completely written to disk, even if it exits successfully)"
   ]
  },
  {
   "cell_type": "code",
   "execution_count": 222,
   "id": "dd8d2b54-8a17-482e-b0d5-5537a2eacff9",
   "metadata": {},
   "outputs": [
    {
     "name": "stdout",
     "output_type": "stream",
     "text": [
      "id,first_name,last_name,email,gender,ip_address\n",
      "1,Phillipe,Castano,pcastano0@virginia.edu,Bigender,13.234.76.97\n",
      "2,Aggy,Sainte Paul,asaintepaul1@slashdot.org,Bigender,229.30.233.138\n",
      "3,Devin,Stapford,dstapford2@cpanel.net,Non-binary,36.123.86.249\n",
      "4,Blondy,Pozzi,bpozzi3@comcast.net,Male,36.139.229.209\n",
      "5,Lois,Elfe,lelfe4@moonfruit.com,Polygender,62.51.58.77\n",
      "\n"
     ]
    }
   ],
   "source": [
    "with open(peopleCsvPath) as f:\n",
    "    file_contents = f.read()\n",
    "\n",
    "print(file_contents)"
   ]
  },
  {
   "cell_type": "markdown",
   "id": "e9c2da3c-a01e-4ff3-9f32-811826d15081",
   "metadata": {},
   "source": [
    "## Writing Files\n",
    "\n",
    "Use `f.write(contents)` to write to a file:"
   ]
  },
  {
   "cell_type": "raw",
   "id": "6d1325d0-8c50-4c8e-866f-48468571ad8b",
   "metadata": {},
   "source": [
    "with open(os.path.join('./data/people.txt', 'w')):\n",
    "    f.write(file_contents)"
   ]
  },
  {
   "cell_type": "markdown",
   "id": "07900011-a265-4b61-974b-3c819160c851",
   "metadata": {},
   "source": [
    "## shutil\n",
    "\n",
    "**TLDR; shutil provides utility methods for copying, moving and deleting files**\n",
    "\n",
    "* [shutil.copyfileobj](https://docs.python.org/3/library/shutil.html#shutil.copyfileobj) - copy the contents of a file object to another file object\n",
    "* [shutil.copyfile](https://docs.python.org/3/library/shutil.html#shutil.copyfile) - copy the contents of the file (no metadata) to a target path\n",
    "* [shutil.copy](https://docs.python.org/3/library/shutil.html#shutil.copy) - copy the file of path to another path\n",
    "* [shutil.copy2](https://docs.python.org/3/library/shutil.html#shutil.copy2) - copy the file and metadata of path to another path\n",
    "* [shutil.copytree](https://docs.python.org/3/library/shutil.html#shutil.copytree) - recursively copies the entire tree to a directory\n",
    "* [shutil.rmtree](https://docs.python.org/3/library/shutil.html#shutil.rmtree) - deletes an entire folder directory tree\n",
    "* [shutil.move](https://docs.python.org/3/library/shutil.html#shutil.move) - moves a file to another location"
   ]
  },
  {
   "cell_type": "markdown",
   "id": "9f168cd6-6ac8-45a1-9266-1d55b6408603",
   "metadata": {},
   "source": [
    "For further reading:\n",
    "    \n",
    "* [Python Input and Output](https://docs.python.org/3/tutorial/inputoutput.html)\n",
    "\n",
    "* [Python File Operation](https://www.programiz.com/python-programming/file-operation)\n",
    "\n",
    "* [Python shutil](https://docs.python.org/3/library/shutil.html)"
   ]
  }
 ],
 "metadata": {
  "kernelspec": {
   "display_name": "Python 3",
   "language": "python",
   "name": "python3"
  },
  "language_info": {
   "codemirror_mode": {
    "name": "ipython",
    "version": 3
   },
   "file_extension": ".py",
   "mimetype": "text/x-python",
   "name": "python",
   "nbconvert_exporter": "python",
   "pygments_lexer": "ipython3",
   "version": "3.8.8"
  }
 },
 "nbformat": 4,
 "nbformat_minor": 5
}
