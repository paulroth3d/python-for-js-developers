{
 "cells": [
  {
   "cell_type": "markdown",
   "id": "cc14d3f7-469e-459b-b9ee-d89705a9ec4f",
   "metadata": {},
   "source": [
    "# Python and NodeJS Libraries\n",
    "\n",
    "If you know a Python library, is there a NodeJS library that could be used for somthing similar?\n",
    "\n",
    "Or vice versa?\n",
    "\n",
    "[Library](https://github.com/prothSFDC/modern-javascript-python-translation/blob/main/README.md)"
   ]
  },
  {
   "cell_type": "markdown",
   "id": "3e4704aa-49fd-4183-b6e7-aa6c96e790f6",
   "metadata": {},
   "source": [
    "# DataFrames\n",
    "\n",
    "@TODO"
   ]
  },
  {
   "cell_type": "markdown",
   "id": "51339e6d-68b4-4da5-a6cc-91c1a46b99b8",
   "metadata": {},
   "source": [
    "# Array Calculations\n",
    "\n",
    "(Like Numpy)\n",
    "\n",
    "@TODO"
   ]
  },
  {
   "cell_type": "markdown",
   "id": "a793bb7e-db35-43ba-8253-523b5b23a383",
   "metadata": {},
   "source": [
    "# Thread Management\n",
    "\n",
    "@TODO"
   ]
  }
 ],
 "metadata": {
  "kernelspec": {
   "display_name": "Python 3",
   "language": "python",
   "name": "python3"
  },
  "language_info": {
   "codemirror_mode": {
    "name": "ipython",
    "version": 3
   },
   "file_extension": ".py",
   "mimetype": "text/x-python",
   "name": "python",
   "nbconvert_exporter": "python",
   "pygments_lexer": "ipython3",
   "version": "3.8.8"
  }
 },
 "nbformat": 4,
 "nbformat_minor": 5
}
