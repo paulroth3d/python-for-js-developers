{
 "cells": [
  {
   "cell_type": "markdown",
   "id": "516654dd-c2e6-47c2-b587-795b7cd3b55c",
   "metadata": {},
   "source": [
    "# Python for JavaScript String Formatting\n",
    "\n",
    "String Formatting within Python can be quite detailed.\n",
    "\n",
    "Note that formatting within the different types do have some cross-over, but can be thought of as very different.\n",
    "\n",
    "* [F-Strings] are newer and are generally easier to include - but are more limited in flexibility\n",
    "* [String.Format()] method is the older version that gives more flexibility, but generally involve a bit more work."
   ]
  },
  {
   "cell_type": "code",
   "execution_count": 13,
   "id": "d949cfe4-330c-4cca-94f3-d0fd4f4a023d",
   "metadata": {
    "tags": []
   },
   "outputs": [],
   "source": [
    "import decimal\n",
    "import datetime\n",
    "from string import Template\n",
    "import re"
   ]
  },
  {
   "cell_type": "markdown",
   "id": "155c18db-4aa2-4ebe-b593-e5e2e4a2b9bc",
   "metadata": {},
   "source": [
    "# F-Strings\n",
    "\n",
    "[Formatted String Literals (f-strings)](https://docs.python.org/3/tutorial/inputoutput.html#tut-f-strings) are a string with an `f` or an `F` prefixing before the opening quotation.\n",
    "\n",
    "[Additional notes on string formats found here](https://docs.python.org/3/reference/lexical_analysis.html#f-strings)\n",
    "\n",
    "Inside the string, any variables can be used between an opening and closing curly-brace (`{` or `}`)"
   ]
  },
  {
   "cell_type": "code",
   "execution_count": 2,
   "id": "25fcbed3-79eb-44cc-aeaf-a904cb11292e",
   "metadata": {},
   "outputs": [
    {
     "name": "stdout",
     "output_type": "stream",
     "text": [
      "The year is 2016 and something is wrong\n"
     ]
    }
   ],
   "source": [
    "year=2016\n",
    "event='something is wrong'\n",
    "print(f'The year is {year} and {event}')"
   ]
  },
  {
   "cell_type": "code",
   "execution_count": 3,
   "id": "68234904-c1c1-43a7-817b-db5192f61d15",
   "metadata": {},
   "outputs": [
    {
     "name": "stdout",
     "output_type": "stream",
     "text": [
      "He said his name is 'Fred'.\n",
      "He said his name is 'Fred'.\n",
      "result:      12.35\n",
      "January 27, 2017\n",
      "today=January 27, 2017\n",
      "0x400\n",
      " foo = 'bar'\n",
      "line = \"The mill's closed\"\n",
      "line = The mill's closed   \n",
      "line = \"The mill's closed\" \n"
     ]
    }
   ],
   "source": [
    "def demoFStrings():\n",
    "    name = \"Fred\"\n",
    "    print(f\"He said his name is {name!r}.\" )\n",
    "    # \"He said his name is 'Fred'.\"\n",
    "    print(f\"He said his name is {repr(name)}.\" )  # repr() is equivalent to !r\n",
    "    # \"He said his name is 'Fred'.\"\n",
    "    \n",
    "    width = 10\n",
    "    precision = 4\n",
    "    value = decimal.Decimal(\"12.34567\")\n",
    "    print( f\"result: {value:{width}.{precision}}\" )  # nested fields\n",
    "    # 'result:      12.35'\n",
    "    \n",
    "    today = datetime.datetime(year=2017, month=1, day=27)\n",
    "    print( f\"{today:%B %d, %Y}\" )  # using date format specifier\n",
    "    # 'January 27, 2017'\n",
    "    print( f\"{today=:%B %d, %Y}\" ) # using date format specifier and debugging\n",
    "    # 'today=January 27, 2017'\n",
    "    \n",
    "    number = 1024\n",
    "    print( f\"{number:#0x}\" )  # using integer format specifier\n",
    "    # '0x400'\n",
    "    \n",
    "    foo = \"bar\"\n",
    "    print( f\"{ foo = }\" ) # preserves whitespace\n",
    "    \" foo = 'bar'\"\n",
    "    line = \"The mill's closed\"\n",
    "    print( f\"{line = }\" )\n",
    "    # 'line = \"The mill\\'s closed\"'\n",
    "    print( f\"{line = :20}\" )\n",
    "    # \"line = The mill's closed   \"\n",
    "    print( f\"{line = !r:20}\" )\n",
    "    # 'line = \"The mill\\'s closed\" '\n",
    "\n",
    "demoFStrings()\n"
   ]
  },
  {
   "cell_type": "markdown",
   "id": "fe4ee653-0df0-4be9-a325-4b40ee823771",
   "metadata": {},
   "source": [
    "# Str.Format\n",
    "\n",
    "[str.format()](https://docs.python.org/3/library/stdtypes.html#str.format) methods on strings are more manual, but you can provide additional formatting directives.\n",
    "\n",
    "String Formatting allows for a number of additional options:\n",
    "               \n",
    "* Minimum Width / Fill characters\n",
    "* left / right / center alignment\n",
    "* number signing (ex: + or -)\n",
    "* grouping options\n",
    "* precision\n",
    "\n",
    "[See here for more on the different types of options](https://docs.python.org/3/library/string.html#format-string-syntax)\n"
   ]
  },
  {
   "cell_type": "code",
   "execution_count": 4,
   "id": "65b75a15-f4e3-4888-87a9-5d61507d5288",
   "metadata": {},
   "outputs": [
    {
     "name": "stdout",
     "output_type": "stream",
     "text": [
      "a, b, c\n",
      "a, b, c\n",
      "c, b, a\n",
      "c, b, a\n"
     ]
    }
   ],
   "source": [
    "print('{0}, {1}, {2}'.format('a', 'b', 'c'))\n",
    "# 'a, b, c'\n",
    "print('{}, {}, {}'.format('a', 'b', 'c'))  # 3.1+ only\n",
    "# 'a, b, c'\n",
    "print('{2}, {1}, {0}'.format('a', 'b', 'c'))\n",
    "# 'c, b, a'\n",
    "print('{2}, {1}, {0}'.format(*'abc'))      # unpacking argument sequence\n",
    "# 'c, b, a'"
   ]
  },
  {
   "cell_type": "code",
   "execution_count": 5,
   "id": "8c6e882b-12df-4d80-b58c-144ded6d0e08",
   "metadata": {},
   "outputs": [
    {
     "name": "stdout",
     "output_type": "stream",
     "text": [
      "left aligned                  \n",
      "                 right aligned\n",
      "           centered           \n",
      "***********centered***********\n"
     ]
    }
   ],
   "source": [
    "print('{:<30}'.format('left aligned'))\n",
    "# 'left aligned                  '\n",
    "print('{:>30}'.format('right aligned'))\n",
    "# '                 right aligned'\n",
    "print('{:^30}'.format('centered'))\n",
    "# '           centered           '\n",
    "print('{:*^30}'.format('centered'))  # use '*' as a fill char\n",
    "# '***********centered***********'"
   ]
  },
  {
   "cell_type": "code",
   "execution_count": 6,
   "id": "0179caa1-2ac2-4ef0-9243-a1cfeb75ea61",
   "metadata": {},
   "outputs": [
    {
     "name": "stdout",
     "output_type": "stream",
     "text": [
      "+3.140000; -3.140000\n",
      " 3.140000; -3.140000\n",
      "3.140000; -3.140000\n"
     ]
    }
   ],
   "source": [
    "print('{:+f}; {:+f}'.format(3.14, -3.14))  # show it always\n",
    "# '+3.140000; -3.140000'\n",
    "print('{: f}; {: f}'.format(3.14, -3.14))  # show a space for positive numbers\n",
    "# ' 3.140000; -3.140000'\n",
    "print('{:-f}; {:-f}'.format(3.14, -3.14))  # show only the minus -- same as '{:f}; {:f}'\n",
    "# '3.140000; -3.140000'"
   ]
  },
  {
   "cell_type": "code",
   "execution_count": 7,
   "id": "e0d1e3a1-e4d3-4552-ac14-0ee773de6b15",
   "metadata": {},
   "outputs": [
    {
     "name": "stdout",
     "output_type": "stream",
     "text": [
      "1,234,567,890\n"
     ]
    }
   ],
   "source": [
    "print('{:,}'.format(1234567890))\n",
    "# '1,234,567,890'"
   ]
  },
  {
   "cell_type": "code",
   "execution_count": 8,
   "id": "e9368bc1-a30c-4224-a029-e82bc932c05c",
   "metadata": {},
   "outputs": [
    {
     "name": "stdout",
     "output_type": "stream",
     "text": [
      "Correct answers: 86.36%\n"
     ]
    }
   ],
   "source": [
    "points = 19\n",
    "total = 22\n",
    "print('Correct answers: {:.2%}'.format(points/total))\n",
    "# 'Correct answers: 86.36%'"
   ]
  },
  {
   "cell_type": "markdown",
   "id": "0c8bf06d-ec7a-4551-86f4-3770eccb96f8",
   "metadata": {},
   "source": [
    "# Templates\n",
    "\n",
    "Template strings provide for simpler string substitutions, and primarily is helpful for internationalization (i18n)\n",
    "\n",
    "Template strings support $-based substitutions, using the following rules:\n",
    "\n",
    "* `$$` is an escape; it is replaced with a single `$`.\n",
    "\n",
    "* `$identifier` names a substitution placeholder matching a mapping key of `\"identifier\"`. By default, `\"identifier\"` is restricted to any case-insensitive ASCII alphanumeric string (including underscores) that starts with an underscore or ASCII letter. The first non-identifier character after the $ character terminates this placeholder specification.\n",
    "\n",
    "* `${identifier}` is equivalent to `$identifier`. It is required when valid identifier characters follow the placeholder but are not part of the placeholder, such as `\"${noun}ification\"`.\n",
    "\n",
    "[More available here](https://docs.python.org/3/library/string.html#template-strings)"
   ]
  },
  {
   "cell_type": "code",
   "execution_count": 12,
   "id": "5915b6c1-ea2a-4384-b70b-c90d91db5cf7",
   "metadata": {},
   "outputs": [
    {
     "name": "stdout",
     "output_type": "stream",
     "text": [
      "tim likes kung pao\n",
      "Give tim $100\n"
     ]
    }
   ],
   "source": [
    "s = Template('$who likes $what')\n",
    "print(s.substitute(who='tim', what='kung pao'))\n",
    "# 'tim likes kung pao'\n",
    "\n",
    "d = dict(who='tim')\n",
    "print(Template('Give $who $$100').substitute(d))"
   ]
  },
  {
   "cell_type": "markdown",
   "id": "a82ef7c9-75a2-4f4c-8095-839c14379845",
   "metadata": {},
   "source": [
    "# Regular Expressions\n",
    "\n",
    "Regular expressions are not built in, and require an import - unlike in JavaScript, where they can be used out of the box through slash notation.\n",
    "\n",
    "ex:\n",
    "\n",
    "```\n",
    "# python\n",
    "import re\n",
    "p = re.compile(r'[a-z]+')\n",
    "p.match('tally')\n",
    "```\n",
    "\n",
    "```\n",
    "# javascript\n",
    "console.log(\"tally\".match(/[a-z]+/i))\n",
    "```\n",
    "\n",
    "[See here for more](https://docs.python.org/3/howto/regex.html)\n",
    "\n",
    "| Method/Attribute | Purpose                                                                    |\n",
    "|------------------|----------------------------------------------------------------------------|\n",
    "| match()          | Determine if the RE matches at the beginning of the string.                |\n",
    "| search()         | Scan through a string, looking for any location where this RE matches.     |\n",
    "| findall()        | Find all substrings where the RE matches, and returns them as a list.      |\n",
    "| finditer()       | Find all substrings where the RE matches, and returns them as an iterator. |\n"
   ]
  },
  {
   "cell_type": "code",
   "execution_count": 54,
   "id": "05aa0ed4-5946-427e-993f-4e5d437a0dd8",
   "metadata": {},
   "outputs": [],
   "source": [
    "longstr = \"\"\"\n",
    "label: 'john', value: '1'\n",
    "label: 'jane', value: '2'\n",
    "label: 'jon', value: '3'\n",
    "label: 'jayne', value: '4'\n",
    "\"\"\"\n",
    "\n",
    "p = re.compile(r\"value:\\s*'(\\d)'\")\n",
    "# p = re.compile(r'[a-z]+')"
   ]
  },
  {
   "cell_type": "code",
   "execution_count": 40,
   "id": "06a25dc3-efee-431a-bb0e-ed421ddc013c",
   "metadata": {},
   "outputs": [
    {
     "data": {
      "text/plain": [
       "re.compile(r'label', re.UNICODE)"
      ]
     },
     "execution_count": 40,
     "metadata": {},
     "output_type": "execute_result"
    }
   ],
   "source": [
    "p"
   ]
  },
  {
   "cell_type": "code",
   "execution_count": 31,
   "id": "b5eefaaf-252c-49bd-bbb9-6571452b6744",
   "metadata": {},
   "outputs": [
    {
     "data": {
      "text/plain": [
       "\"\\nlabel: 'john', value: '1'\\nlabel: 'jane', value: '2'\\nlabel: 'jon', value: '3'\\nlabel: 'jayne', value: '4'\\n\""
      ]
     },
     "execution_count": 31,
     "metadata": {},
     "output_type": "execute_result"
    }
   ],
   "source": [
    "longstr"
   ]
  },
  {
   "cell_type": "code",
   "execution_count": 55,
   "id": "b71e7b7d-d959-408a-86de-d5cfcb3a93e0",
   "metadata": {},
   "outputs": [
    {
     "name": "stdout",
     "output_type": "stream",
     "text": [
      "['1', '2', '3', '4']\n"
     ]
    }
   ],
   "source": [
    "print(p.findall(longstr))"
   ]
  },
  {
   "cell_type": "markdown",
   "id": "e5c938bc-6bd2-4945-b414-f8b7d6a5897c",
   "metadata": {},
   "source": [
    "## Backslash Hell\n",
    "\n",
    "**TLDR; r'\\w+' or sending a `raw-string` avoids duplicate backslashes**\n",
    "\n",
    "Note that there is [a similar Backslash plague found in Java, but not in JavaScript](https://docs.python.org/3/howto/regex.html#the-backslash-plague)\n",
    "\n",
    "Backslashes `\\` indicate that the following character must be escaped.\n",
    "\n",
    "ex: we want `\\w` we must send `\\\\w`\n",
    "                                                                                     \n",
    "If you want a literal backslash, you must have another backslash to escape it:\n",
    "\n",
    "ex: we want `\\\\section`, we must send `\\\\\\\\section` (a backslash for each)\n",
    "                                                                                     \n",
    "**To Fix this** send the string in a `raw` string notation, by prefixing the string with an `r`\n",
    "\n",
    "| Regular String | Raw string   |\n",
    "|----------------|--------------|\n",
    "| \"ab*\"          | r\"ab*\"       |\n",
    "| \"\\\\\\\\section\"  | r\"\\\\section\" |\n",
    "| \"\\\\w+\\\\s+\\\\1\"  | r\"\\w+\\s+\\1\"  |"
   ]
  },
  {
   "cell_type": "markdown",
   "id": "4adbeeab-5fee-4471-9412-6df620d5f603",
   "metadata": {},
   "source": [
    "# Common Methods"
   ]
  },
  {
   "cell_type": "code",
   "execution_count": 9,
   "id": "6cd8d8cd-4ab9-46c0-a90b-147df5447abf",
   "metadata": {},
   "outputs": [
    {
     "ename": "AttributeError",
     "evalue": "'str' object has no attribute 'substitute'",
     "output_type": "error",
     "traceback": [
      "\u001b[0;31m---------------------------------------------------------------------------\u001b[0m",
      "\u001b[0;31mAttributeError\u001b[0m                            Traceback (most recent call last)",
      "\u001b[0;32m<ipython-input-9-19043587e1f5>\u001b[0m in \u001b[0;36m<module>\u001b[0;34m\u001b[0m\n\u001b[0;32m----> 1\u001b[0;31m \u001b[0;34m'my name is NAME'\u001b[0m\u001b[0;34m.\u001b[0m\u001b[0msubstitute\u001b[0m\u001b[0;34m(\u001b[0m\u001b[0;34m{\u001b[0m\u001b[0mNAME\u001b[0m\u001b[0;34m:\u001b[0m\u001b[0;34m'John'\u001b[0m\u001b[0;34m}\u001b[0m\u001b[0;34m)\u001b[0m\u001b[0;34m\u001b[0m\u001b[0;34m\u001b[0m\u001b[0m\n\u001b[0m",
      "\u001b[0;31mAttributeError\u001b[0m: 'str' object has no attribute 'substitute'"
     ]
    }
   ],
   "source": [
    "'my name is NAME'.substitute({NAME:'John'})"
   ]
  },
  {
   "cell_type": "code",
   "execution_count": null,
   "id": "8a277882-80eb-4a02-9dcb-109d47c76a5f",
   "metadata": {},
   "outputs": [],
   "source": [
    "string"
   ]
  }
 ],
 "metadata": {
  "kernelspec": {
   "display_name": "Python 3",
   "language": "python",
   "name": "python3"
  },
  "language_info": {
   "codemirror_mode": {
    "name": "ipython",
    "version": 3
   },
   "file_extension": ".py",
   "mimetype": "text/x-python",
   "name": "python",
   "nbconvert_exporter": "python",
   "pygments_lexer": "ipython3",
   "version": "3.8.8"
  }
 },
 "nbformat": 4,
 "nbformat_minor": 5
}
