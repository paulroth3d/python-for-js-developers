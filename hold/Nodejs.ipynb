{
 "cells": [
  {
   "cell_type": "markdown",
   "id": "5fbe2f76-73a4-4836-a1ab-63ebfd703c31",
   "metadata": {},
   "source": [
    "# Python for NodeJS Developers\n"
   ]
  },
  {
   "cell_type": "markdown",
   "id": "5e249713-735e-40f0-b2d7-74305895df74",
   "metadata": {},
   "source": [
    "# Load Files\n",
    "\n",
    "@TODO"
   ]
  },
  {
   "cell_type": "markdown",
   "id": "3fab9d39-52b0-4077-b5af-c19b90ae1016",
   "metadata": {},
   "source": [
    "# Web Server\n",
    "\n",
    "@TODO"
   ]
  },
  {
   "cell_type": "markdown",
   "id": "043f063d-0614-458c-978d-3638ae766df2",
   "metadata": {},
   "source": [
    "# Threading\n",
    "\n",
    "@TODO"
   ]
  },
  {
   "cell_type": "markdown",
   "id": "60a19da7-8de0-4d3b-88d2-03afa9ae193c",
   "metadata": {},
   "source": [
    "# Object Streaming\n",
    "\n",
    "@TODO"
   ]
  }
 ],
 "metadata": {
  "kernelspec": {
   "display_name": "Python 3",
   "language": "python",
   "name": "python3"
  },
  "language_info": {
   "codemirror_mode": {
    "name": "ipython",
    "version": 3
   },
   "file_extension": ".py",
   "mimetype": "text/x-python",
   "name": "python",
   "nbconvert_exporter": "python",
   "pygments_lexer": "ipython3",
   "version": "3.8.8"
  }
 },
 "nbformat": 4,
 "nbformat_minor": 5
}
